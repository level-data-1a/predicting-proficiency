{
 "cells": [
  {
   "cell_type": "code",
   "execution_count": 1,
   "metadata": {},
   "outputs": [],
   "source": [
    "import pandas as pd\n",
    "import numpy as np\n",
    "import json\n",
    "import os\n",
    "import seaborn as sns\n",
    "import matplotlib.pyplot as plt"
   ]
  },
  {
   "cell_type": "markdown",
   "metadata": {},
   "source": [
    "# **New Data**"
   ]
  },
  {
   "cell_type": "code",
   "execution_count": 2,
   "metadata": {},
   "outputs": [
    {
     "name": "stderr",
     "output_type": "stream",
     "text": [
      "/var/folders/xs/50kmp8g92x99q2dxvv031c980000gn/T/ipykernel_95224/713448464.py:14: DtypeWarning: Columns (4) have mixed types. Specify dtype option on import or set low_memory=False.\n",
      "  courseSectionsRosters_df = pd.read_csv(filename_fifth, header = 0)\n"
     ]
    }
   ],
   "source": [
    "filename = os.path.join(os.getcwd(), \"data/processed\", \"a_courseSections_2024-08-29.csv\")\n",
    "courseSections_df = pd.read_csv(filename, header = 0)\n",
    "\n",
    "filename_second = os.path.join(os.getcwd(), \"data/processed\", \"a_scores_2024-09-11.csv\")\n",
    "scores_df = pd.read_csv(filename_second, header = 0)\n",
    "\n",
    "filename_third = os.path.join(os.getcwd(), \"data/processed\", \"a_vendorUsage_2024-09-11.csv\")\n",
    "vendorUsage_df = pd.read_csv(filename_third, header = 0)\n",
    "\n",
    "filename_fourth = os.path.join(os.getcwd(), \"data/processed\", \"a_benchmarks_2024-09-11.csv\")\n",
    "benchmarks_df = pd.read_csv(filename_fourth, header = 0)\n",
    "\n",
    "filename_fifth = os.path.join(os.getcwd(), \"data/processed\", \"a_courseSectionRosters_2024-08-29.csv\")\n",
    "courseSectionsRosters_df = pd.read_csv(filename_fifth, header = 0)\n",
    "\n",
    "filename_sixth = os.path.join(os.getcwd(), \"data/processed\", \"a_schools_2024-08-29.csv\")\n",
    "schools_df = pd.read_csv(filename_sixth, header = 0)"
   ]
  },
  {
   "cell_type": "code",
   "execution_count": 3,
   "metadata": {},
   "outputs": [
    {
     "data": {
      "text/html": [
       "<div>\n",
       "<style scoped>\n",
       "    .dataframe tbody tr th:only-of-type {\n",
       "        vertical-align: middle;\n",
       "    }\n",
       "\n",
       "    .dataframe tbody tr th {\n",
       "        vertical-align: top;\n",
       "    }\n",
       "\n",
       "    .dataframe thead th {\n",
       "        text-align: right;\n",
       "    }\n",
       "</style>\n",
       "<table border=\"1\" class=\"dataframe\">\n",
       "  <thead>\n",
       "    <tr style=\"text-align: right;\">\n",
       "      <th></th>\n",
       "      <th>id</th>\n",
       "      <th>vanityId</th>\n",
       "      <th>year</th>\n",
       "      <th>schoolId</th>\n",
       "    </tr>\n",
       "  </thead>\n",
       "  <tbody>\n",
       "    <tr>\n",
       "      <th>0</th>\n",
       "      <td>40388</td>\n",
       "      <td>PE 4</td>\n",
       "      <td>2015</td>\n",
       "      <td>222</td>\n",
       "    </tr>\n",
       "    <tr>\n",
       "      <th>1</th>\n",
       "      <td>40389</td>\n",
       "      <td>READING 4</td>\n",
       "      <td>2015</td>\n",
       "      <td>222</td>\n",
       "    </tr>\n",
       "    <tr>\n",
       "      <th>2</th>\n",
       "      <td>40390</td>\n",
       "      <td>HmroomPK6</td>\n",
       "      <td>2015</td>\n",
       "      <td>222</td>\n",
       "    </tr>\n",
       "    <tr>\n",
       "      <th>3</th>\n",
       "      <td>40391</td>\n",
       "      <td>LANGUAGE 4</td>\n",
       "      <td>2015</td>\n",
       "      <td>222</td>\n",
       "    </tr>\n",
       "    <tr>\n",
       "      <th>4</th>\n",
       "      <td>40392</td>\n",
       "      <td>SCIENCE 4</td>\n",
       "      <td>2015</td>\n",
       "      <td>222</td>\n",
       "    </tr>\n",
       "    <tr>\n",
       "      <th>5</th>\n",
       "      <td>40393</td>\n",
       "      <td>MATH 4</td>\n",
       "      <td>2015</td>\n",
       "      <td>222</td>\n",
       "    </tr>\n",
       "    <tr>\n",
       "      <th>6</th>\n",
       "      <td>40394</td>\n",
       "      <td>SOC ST 4</td>\n",
       "      <td>2015</td>\n",
       "      <td>222</td>\n",
       "    </tr>\n",
       "    <tr>\n",
       "      <th>7</th>\n",
       "      <td>40395</td>\n",
       "      <td>HmroomPK6</td>\n",
       "      <td>2015</td>\n",
       "      <td>222</td>\n",
       "    </tr>\n",
       "    <tr>\n",
       "      <th>8</th>\n",
       "      <td>40396</td>\n",
       "      <td>READING 4</td>\n",
       "      <td>2015</td>\n",
       "      <td>222</td>\n",
       "    </tr>\n",
       "    <tr>\n",
       "      <th>9</th>\n",
       "      <td>40397</td>\n",
       "      <td>MATH 4</td>\n",
       "      <td>2015</td>\n",
       "      <td>222</td>\n",
       "    </tr>\n",
       "  </tbody>\n",
       "</table>\n",
       "</div>"
      ],
      "text/plain": [
       "      id    vanityId  year  schoolId\n",
       "0  40388        PE 4  2015       222\n",
       "1  40389   READING 4  2015       222\n",
       "2  40390   HmroomPK6  2015       222\n",
       "3  40391  LANGUAGE 4  2015       222\n",
       "4  40392   SCIENCE 4  2015       222\n",
       "5  40393      MATH 4  2015       222\n",
       "6  40394    SOC ST 4  2015       222\n",
       "7  40395   HmroomPK6  2015       222\n",
       "8  40396   READING 4  2015       222\n",
       "9  40397      MATH 4  2015       222"
      ]
     },
     "execution_count": 3,
     "metadata": {},
     "output_type": "execute_result"
    }
   ],
   "source": [
    "courseSections_df.head(10)"
   ]
  },
  {
   "cell_type": "code",
   "execution_count": 4,
   "metadata": {},
   "outputs": [
    {
     "data": {
      "text/html": [
       "<div>\n",
       "<style scoped>\n",
       "    .dataframe tbody tr th:only-of-type {\n",
       "        vertical-align: middle;\n",
       "    }\n",
       "\n",
       "    .dataframe tbody tr th {\n",
       "        vertical-align: top;\n",
       "    }\n",
       "\n",
       "    .dataframe thead th {\n",
       "        text-align: right;\n",
       "    }\n",
       "</style>\n",
       "<table border=\"1\" class=\"dataframe\">\n",
       "  <thead>\n",
       "    <tr style=\"text-align: right;\">\n",
       "      <th></th>\n",
       "      <th>id</th>\n",
       "      <th>vanityId</th>\n",
       "      <th>year</th>\n",
       "      <th>schoolId</th>\n",
       "    </tr>\n",
       "  </thead>\n",
       "  <tbody>\n",
       "    <tr>\n",
       "      <th>8250</th>\n",
       "      <td>39975</td>\n",
       "      <td>MathGrade 4</td>\n",
       "      <td>2015</td>\n",
       "      <td>232</td>\n",
       "    </tr>\n",
       "  </tbody>\n",
       "</table>\n",
       "</div>"
      ],
      "text/plain": [
       "         id     vanityId  year  schoolId\n",
       "8250  39975  MathGrade 4  2015       232"
      ]
     },
     "execution_count": 4,
     "metadata": {},
     "output_type": "execute_result"
    }
   ],
   "source": [
    "row = courseSections_df.loc[courseSections_df['id'] == 39975]\n",
    "row"
   ]
  },
  {
   "cell_type": "code",
   "execution_count": 5,
   "metadata": {},
   "outputs": [
    {
     "data": {
      "text/plain": [
       "(17662, 4)"
      ]
     },
     "execution_count": 5,
     "metadata": {},
     "output_type": "execute_result"
    }
   ],
   "source": [
    "courseSections_df.shape"
   ]
  },
  {
   "cell_type": "code",
   "execution_count": 6,
   "metadata": {},
   "outputs": [
    {
     "data": {
      "text/plain": [
       "array([222, 223, 224, 226, 227, 228, 229, 231, 232, 233, 234, 235, 236,\n",
       "       237, 247, 248, 249])"
      ]
     },
     "execution_count": 6,
     "metadata": {},
     "output_type": "execute_result"
    }
   ],
   "source": [
    "courseSections_df.schoolId.unique()"
   ]
  },
  {
   "cell_type": "code",
   "execution_count": 7,
   "metadata": {},
   "outputs": [
    {
     "data": {
      "text/plain": [
       "1047"
      ]
     },
     "execution_count": 7,
     "metadata": {},
     "output_type": "execute_result"
    }
   ],
   "source": [
    "courseSections_df.vanityId.nunique()"
   ]
  },
  {
   "cell_type": "code",
   "execution_count": 8,
   "metadata": {},
   "outputs": [
    {
     "data": {
      "text/plain": [
       "17662"
      ]
     },
     "execution_count": 8,
     "metadata": {},
     "output_type": "execute_result"
    }
   ],
   "source": [
    "courseSections_df.id.nunique()"
   ]
  },
  {
   "cell_type": "code",
   "execution_count": 9,
   "metadata": {},
   "outputs": [
    {
     "name": "stdout",
     "output_type": "stream",
     "text": [
      "id          0\n",
      "vanityId    0\n",
      "year        0\n",
      "schoolId    0\n",
      "dtype: int64\n"
     ]
    }
   ],
   "source": [
    "print(courseSections_df.isnull().sum())"
   ]
  },
  {
   "cell_type": "code",
   "execution_count": 10,
   "metadata": {},
   "outputs": [
    {
     "data": {
      "text/plain": [
       "id          False\n",
       "vanityId    False\n",
       "year        False\n",
       "schoolId    False\n",
       "dtype: bool"
      ]
     },
     "execution_count": 10,
     "metadata": {},
     "output_type": "execute_result"
    }
   ],
   "source": [
    "courseSections_df.isna().sum() > 0"
   ]
  },
  {
   "cell_type": "code",
   "execution_count": 11,
   "metadata": {},
   "outputs": [
    {
     "data": {
      "text/html": [
       "<div>\n",
       "<style scoped>\n",
       "    .dataframe tbody tr th:only-of-type {\n",
       "        vertical-align: middle;\n",
       "    }\n",
       "\n",
       "    .dataframe tbody tr th {\n",
       "        vertical-align: top;\n",
       "    }\n",
       "\n",
       "    .dataframe thead th {\n",
       "        text-align: right;\n",
       "    }\n",
       "</style>\n",
       "<table border=\"1\" class=\"dataframe\">\n",
       "  <thead>\n",
       "    <tr style=\"text-align: right;\">\n",
       "      <th></th>\n",
       "      <th>id</th>\n",
       "      <th>courseSectionId</th>\n",
       "      <th>studentId</th>\n",
       "      <th>studentLevel</th>\n",
       "      <th>ticket</th>\n",
       "    </tr>\n",
       "  </thead>\n",
       "  <tbody>\n",
       "    <tr>\n",
       "      <th>0</th>\n",
       "      <td>1047696</td>\n",
       "      <td>39975</td>\n",
       "      <td>45333</td>\n",
       "      <td>4</td>\n",
       "      <td>NaN</td>\n",
       "    </tr>\n",
       "    <tr>\n",
       "      <th>1</th>\n",
       "      <td>1047704</td>\n",
       "      <td>39975</td>\n",
       "      <td>56116</td>\n",
       "      <td>4</td>\n",
       "      <td>NaN</td>\n",
       "    </tr>\n",
       "    <tr>\n",
       "      <th>2</th>\n",
       "      <td>1047706</td>\n",
       "      <td>39975</td>\n",
       "      <td>45345</td>\n",
       "      <td>4</td>\n",
       "      <td>NaN</td>\n",
       "    </tr>\n",
       "    <tr>\n",
       "      <th>3</th>\n",
       "      <td>1047715</td>\n",
       "      <td>39975</td>\n",
       "      <td>45400</td>\n",
       "      <td>4</td>\n",
       "      <td>NaN</td>\n",
       "    </tr>\n",
       "    <tr>\n",
       "      <th>4</th>\n",
       "      <td>1047729</td>\n",
       "      <td>39975</td>\n",
       "      <td>45413</td>\n",
       "      <td>4</td>\n",
       "      <td>NaN</td>\n",
       "    </tr>\n",
       "    <tr>\n",
       "      <th>5</th>\n",
       "      <td>1047738</td>\n",
       "      <td>39975</td>\n",
       "      <td>45429</td>\n",
       "      <td>4</td>\n",
       "      <td>NaN</td>\n",
       "    </tr>\n",
       "    <tr>\n",
       "      <th>6</th>\n",
       "      <td>1047740</td>\n",
       "      <td>39975</td>\n",
       "      <td>56118</td>\n",
       "      <td>4</td>\n",
       "      <td>NaN</td>\n",
       "    </tr>\n",
       "    <tr>\n",
       "      <th>7</th>\n",
       "      <td>1047746</td>\n",
       "      <td>39975</td>\n",
       "      <td>45438</td>\n",
       "      <td>4</td>\n",
       "      <td>NaN</td>\n",
       "    </tr>\n",
       "    <tr>\n",
       "      <th>8</th>\n",
       "      <td>1047751</td>\n",
       "      <td>39975</td>\n",
       "      <td>45444</td>\n",
       "      <td>4</td>\n",
       "      <td>NaN</td>\n",
       "    </tr>\n",
       "    <tr>\n",
       "      <th>9</th>\n",
       "      <td>1047752</td>\n",
       "      <td>39975</td>\n",
       "      <td>45445</td>\n",
       "      <td>4</td>\n",
       "      <td>NaN</td>\n",
       "    </tr>\n",
       "  </tbody>\n",
       "</table>\n",
       "</div>"
      ],
      "text/plain": [
       "        id  courseSectionId  studentId  studentLevel ticket\n",
       "0  1047696            39975      45333             4    NaN\n",
       "1  1047704            39975      56116             4    NaN\n",
       "2  1047706            39975      45345             4    NaN\n",
       "3  1047715            39975      45400             4    NaN\n",
       "4  1047729            39975      45413             4    NaN\n",
       "5  1047738            39975      45429             4    NaN\n",
       "6  1047740            39975      56118             4    NaN\n",
       "7  1047746            39975      45438             4    NaN\n",
       "8  1047751            39975      45444             4    NaN\n",
       "9  1047752            39975      45445             4    NaN"
      ]
     },
     "execution_count": 11,
     "metadata": {},
     "output_type": "execute_result"
    }
   ],
   "source": [
    "courseSectionsRosters_df.head(10)"
   ]
  },
  {
   "cell_type": "code",
   "execution_count": 12,
   "metadata": {},
   "outputs": [
    {
     "data": {
      "text/plain": [
       "17659"
      ]
     },
     "execution_count": 12,
     "metadata": {},
     "output_type": "execute_result"
    }
   ],
   "source": [
    "courseSectionsRosters_df.courseSectionId.nunique()"
   ]
  },
  {
   "cell_type": "code",
   "execution_count": 13,
   "metadata": {},
   "outputs": [
    {
     "name": "stdout",
     "output_type": "stream",
     "text": [
      "<class 'list'>\n"
     ]
    }
   ],
   "source": [
    "print(type(list(courseSectionsRosters_df.courseSectionId)))"
   ]
  },
  {
   "cell_type": "code",
   "execution_count": 14,
   "metadata": {},
   "outputs": [
    {
     "name": "stdout",
     "output_type": "stream",
     "text": [
      "True\n"
     ]
    }
   ],
   "source": [
    "print(courseSectionsRosters_df['courseSectionId'].isin(courseSections_df['id']).all())"
   ]
  },
  {
   "cell_type": "markdown",
   "metadata": {},
   "source": [
    "Merge courseSections and courseSectionsRosters by id - all courseSectionRosters courseSectionId values are in courseSections. "
   ]
  },
  {
   "cell_type": "code",
   "execution_count": 15,
   "metadata": {},
   "outputs": [
    {
     "name": "stdout",
     "output_type": "stream",
     "text": [
      "40388\n",
      "40389\n",
      "40390\n",
      "40391\n",
      "40392\n",
      "40393\n",
      "40394\n",
      "40395\n",
      "40396\n",
      "40397\n",
      "40398\n",
      "11\n"
     ]
    }
   ],
   "source": [
    "count = 0\n",
    "id_array = []\n",
    "courseSectionsIds = list(courseSections_df.id)\n",
    "courseSectionRostersIds = list(courseSectionsRosters_df.courseSectionId)\n",
    "for id in courseSectionsIds:\n",
    "    if id in courseSectionRostersIds:\n",
    "        id_array.append(id)\n",
    "        print(id)\n",
    "    if count == 10:\n",
    "        break\n",
    "    count += 1\n",
    "\n",
    "print(len(id_array))"
   ]
  },
  {
   "cell_type": "code",
   "execution_count": 16,
   "metadata": {},
   "outputs": [
    {
     "data": {
      "text/html": [
       "<div>\n",
       "<style scoped>\n",
       "    .dataframe tbody tr th:only-of-type {\n",
       "        vertical-align: middle;\n",
       "    }\n",
       "\n",
       "    .dataframe tbody tr th {\n",
       "        vertical-align: top;\n",
       "    }\n",
       "\n",
       "    .dataframe thead th {\n",
       "        text-align: right;\n",
       "    }\n",
       "</style>\n",
       "<table border=\"1\" class=\"dataframe\">\n",
       "  <thead>\n",
       "    <tr style=\"text-align: right;\">\n",
       "      <th></th>\n",
       "      <th>studentId</th>\n",
       "      <th>studentLevel</th>\n",
       "      <th>year</th>\n",
       "      <th>measurementTypeId</th>\n",
       "      <th>subgroup_specialEd</th>\n",
       "      <th>subgroup_lunchStatus</th>\n",
       "      <th>subgroup_gender</th>\n",
       "      <th>subgroup_ethnicity</th>\n",
       "      <th>subgroup_ell</th>\n",
       "      <th>subgroup_bottom25</th>\n",
       "      <th>...</th>\n",
       "      <th>value_starReading</th>\n",
       "      <th>value_starMath</th>\n",
       "      <th>value_ScienceMilestones</th>\n",
       "      <th>value_LEAPScience</th>\n",
       "      <th>value_SocialMilestones</th>\n",
       "      <th>value_gcaInfo</th>\n",
       "      <th>value_gcaNar</th>\n",
       "      <th>value_gcaOpin</th>\n",
       "      <th>value_aimsWebMath</th>\n",
       "      <th>value_aimsWebReading</th>\n",
       "    </tr>\n",
       "  </thead>\n",
       "  <tbody>\n",
       "    <tr>\n",
       "      <th>0</th>\n",
       "      <td>44774</td>\n",
       "      <td>9</td>\n",
       "      <td>2018</td>\n",
       "      <td>6</td>\n",
       "      <td>0</td>\n",
       "      <td>0</td>\n",
       "      <td>0</td>\n",
       "      <td>0</td>\n",
       "      <td>0</td>\n",
       "      <td>0</td>\n",
       "      <td>...</td>\n",
       "      <td>0</td>\n",
       "      <td>0</td>\n",
       "      <td>0</td>\n",
       "      <td>0</td>\n",
       "      <td>0</td>\n",
       "      <td>0</td>\n",
       "      <td>0</td>\n",
       "      <td>0</td>\n",
       "      <td>0</td>\n",
       "      <td>0</td>\n",
       "    </tr>\n",
       "    <tr>\n",
       "      <th>1</th>\n",
       "      <td>44774</td>\n",
       "      <td>8</td>\n",
       "      <td>2017</td>\n",
       "      <td>6</td>\n",
       "      <td>0</td>\n",
       "      <td>0</td>\n",
       "      <td>0</td>\n",
       "      <td>0</td>\n",
       "      <td>0</td>\n",
       "      <td>0</td>\n",
       "      <td>...</td>\n",
       "      <td>0</td>\n",
       "      <td>0</td>\n",
       "      <td>0</td>\n",
       "      <td>0</td>\n",
       "      <td>0</td>\n",
       "      <td>0</td>\n",
       "      <td>0</td>\n",
       "      <td>0</td>\n",
       "      <td>0</td>\n",
       "      <td>0</td>\n",
       "    </tr>\n",
       "    <tr>\n",
       "      <th>2</th>\n",
       "      <td>44774</td>\n",
       "      <td>8</td>\n",
       "      <td>2017</td>\n",
       "      <td>4</td>\n",
       "      <td>0</td>\n",
       "      <td>0</td>\n",
       "      <td>0</td>\n",
       "      <td>0</td>\n",
       "      <td>0</td>\n",
       "      <td>0</td>\n",
       "      <td>...</td>\n",
       "      <td>0</td>\n",
       "      <td>0</td>\n",
       "      <td>0</td>\n",
       "      <td>0</td>\n",
       "      <td>0</td>\n",
       "      <td>0</td>\n",
       "      <td>0</td>\n",
       "      <td>0</td>\n",
       "      <td>0</td>\n",
       "      <td>0</td>\n",
       "    </tr>\n",
       "    <tr>\n",
       "      <th>3</th>\n",
       "      <td>44775</td>\n",
       "      <td>8</td>\n",
       "      <td>2017</td>\n",
       "      <td>4</td>\n",
       "      <td>0</td>\n",
       "      <td>0</td>\n",
       "      <td>0</td>\n",
       "      <td>0</td>\n",
       "      <td>0</td>\n",
       "      <td>0</td>\n",
       "      <td>...</td>\n",
       "      <td>0</td>\n",
       "      <td>0</td>\n",
       "      <td>0</td>\n",
       "      <td>0</td>\n",
       "      <td>0</td>\n",
       "      <td>0</td>\n",
       "      <td>0</td>\n",
       "      <td>0</td>\n",
       "      <td>0</td>\n",
       "      <td>0</td>\n",
       "    </tr>\n",
       "    <tr>\n",
       "      <th>4</th>\n",
       "      <td>44775</td>\n",
       "      <td>8</td>\n",
       "      <td>2017</td>\n",
       "      <td>6</td>\n",
       "      <td>0</td>\n",
       "      <td>0</td>\n",
       "      <td>0</td>\n",
       "      <td>0</td>\n",
       "      <td>0</td>\n",
       "      <td>0</td>\n",
       "      <td>...</td>\n",
       "      <td>0</td>\n",
       "      <td>0</td>\n",
       "      <td>0</td>\n",
       "      <td>0</td>\n",
       "      <td>0</td>\n",
       "      <td>0</td>\n",
       "      <td>0</td>\n",
       "      <td>0</td>\n",
       "      <td>0</td>\n",
       "      <td>0</td>\n",
       "    </tr>\n",
       "    <tr>\n",
       "      <th>5</th>\n",
       "      <td>44775</td>\n",
       "      <td>9</td>\n",
       "      <td>2018</td>\n",
       "      <td>6</td>\n",
       "      <td>0</td>\n",
       "      <td>0</td>\n",
       "      <td>0</td>\n",
       "      <td>0</td>\n",
       "      <td>0</td>\n",
       "      <td>0</td>\n",
       "      <td>...</td>\n",
       "      <td>0</td>\n",
       "      <td>0</td>\n",
       "      <td>0</td>\n",
       "      <td>0</td>\n",
       "      <td>0</td>\n",
       "      <td>0</td>\n",
       "      <td>0</td>\n",
       "      <td>0</td>\n",
       "      <td>0</td>\n",
       "      <td>0</td>\n",
       "    </tr>\n",
       "    <tr>\n",
       "      <th>6</th>\n",
       "      <td>44776</td>\n",
       "      <td>9</td>\n",
       "      <td>2018</td>\n",
       "      <td>6</td>\n",
       "      <td>0</td>\n",
       "      <td>0</td>\n",
       "      <td>0</td>\n",
       "      <td>0</td>\n",
       "      <td>0</td>\n",
       "      <td>0</td>\n",
       "      <td>...</td>\n",
       "      <td>0</td>\n",
       "      <td>0</td>\n",
       "      <td>0</td>\n",
       "      <td>0</td>\n",
       "      <td>0</td>\n",
       "      <td>0</td>\n",
       "      <td>0</td>\n",
       "      <td>0</td>\n",
       "      <td>0</td>\n",
       "      <td>0</td>\n",
       "    </tr>\n",
       "    <tr>\n",
       "      <th>7</th>\n",
       "      <td>44776</td>\n",
       "      <td>8</td>\n",
       "      <td>2017</td>\n",
       "      <td>6</td>\n",
       "      <td>0</td>\n",
       "      <td>0</td>\n",
       "      <td>0</td>\n",
       "      <td>0</td>\n",
       "      <td>0</td>\n",
       "      <td>0</td>\n",
       "      <td>...</td>\n",
       "      <td>0</td>\n",
       "      <td>0</td>\n",
       "      <td>0</td>\n",
       "      <td>0</td>\n",
       "      <td>0</td>\n",
       "      <td>0</td>\n",
       "      <td>0</td>\n",
       "      <td>0</td>\n",
       "      <td>0</td>\n",
       "      <td>0</td>\n",
       "    </tr>\n",
       "    <tr>\n",
       "      <th>8</th>\n",
       "      <td>44776</td>\n",
       "      <td>8</td>\n",
       "      <td>2017</td>\n",
       "      <td>4</td>\n",
       "      <td>0</td>\n",
       "      <td>0</td>\n",
       "      <td>0</td>\n",
       "      <td>0</td>\n",
       "      <td>0</td>\n",
       "      <td>0</td>\n",
       "      <td>...</td>\n",
       "      <td>0</td>\n",
       "      <td>0</td>\n",
       "      <td>0</td>\n",
       "      <td>0</td>\n",
       "      <td>0</td>\n",
       "      <td>0</td>\n",
       "      <td>0</td>\n",
       "      <td>0</td>\n",
       "      <td>0</td>\n",
       "      <td>0</td>\n",
       "    </tr>\n",
       "    <tr>\n",
       "      <th>9</th>\n",
       "      <td>44777</td>\n",
       "      <td>6</td>\n",
       "      <td>2017</td>\n",
       "      <td>4</td>\n",
       "      <td>0</td>\n",
       "      <td>0</td>\n",
       "      <td>0</td>\n",
       "      <td>0</td>\n",
       "      <td>0</td>\n",
       "      <td>1</td>\n",
       "      <td>...</td>\n",
       "      <td>0</td>\n",
       "      <td>0</td>\n",
       "      <td>0</td>\n",
       "      <td>0</td>\n",
       "      <td>0</td>\n",
       "      <td>0</td>\n",
       "      <td>0</td>\n",
       "      <td>0</td>\n",
       "      <td>0</td>\n",
       "      <td>0</td>\n",
       "    </tr>\n",
       "  </tbody>\n",
       "</table>\n",
       "<p>10 rows × 69 columns</p>\n",
       "</div>"
      ],
      "text/plain": [
       "   studentId  studentLevel  year  measurementTypeId  subgroup_specialEd  \\\n",
       "0      44774             9  2018                  6                   0   \n",
       "1      44774             8  2017                  6                   0   \n",
       "2      44774             8  2017                  4                   0   \n",
       "3      44775             8  2017                  4                   0   \n",
       "4      44775             8  2017                  6                   0   \n",
       "5      44775             9  2018                  6                   0   \n",
       "6      44776             9  2018                  6                   0   \n",
       "7      44776             8  2017                  6                   0   \n",
       "8      44776             8  2017                  4                   0   \n",
       "9      44777             6  2017                  4                   0   \n",
       "\n",
       "   subgroup_lunchStatus  subgroup_gender  subgroup_ethnicity  subgroup_ell  \\\n",
       "0                     0                0                   0             0   \n",
       "1                     0                0                   0             0   \n",
       "2                     0                0                   0             0   \n",
       "3                     0                0                   0             0   \n",
       "4                     0                0                   0             0   \n",
       "5                     0                0                   0             0   \n",
       "6                     0                0                   0             0   \n",
       "7                     0                0                   0             0   \n",
       "8                     0                0                   0             0   \n",
       "9                     0                0                   0             0   \n",
       "\n",
       "   subgroup_bottom25  ...  value_starReading  value_starMath  \\\n",
       "0                  0  ...                  0               0   \n",
       "1                  0  ...                  0               0   \n",
       "2                  0  ...                  0               0   \n",
       "3                  0  ...                  0               0   \n",
       "4                  0  ...                  0               0   \n",
       "5                  0  ...                  0               0   \n",
       "6                  0  ...                  0               0   \n",
       "7                  0  ...                  0               0   \n",
       "8                  0  ...                  0               0   \n",
       "9                  1  ...                  0               0   \n",
       "\n",
       "   value_ScienceMilestones  value_LEAPScience  value_SocialMilestones  \\\n",
       "0                        0                  0                       0   \n",
       "1                        0                  0                       0   \n",
       "2                        0                  0                       0   \n",
       "3                        0                  0                       0   \n",
       "4                        0                  0                       0   \n",
       "5                        0                  0                       0   \n",
       "6                        0                  0                       0   \n",
       "7                        0                  0                       0   \n",
       "8                        0                  0                       0   \n",
       "9                        0                  0                       0   \n",
       "\n",
       "   value_gcaInfo  value_gcaNar  value_gcaOpin  value_aimsWebMath  \\\n",
       "0              0             0              0                  0   \n",
       "1              0             0              0                  0   \n",
       "2              0             0              0                  0   \n",
       "3              0             0              0                  0   \n",
       "4              0             0              0                  0   \n",
       "5              0             0              0                  0   \n",
       "6              0             0              0                  0   \n",
       "7              0             0              0                  0   \n",
       "8              0             0              0                  0   \n",
       "9              0             0              0                  0   \n",
       "\n",
       "   value_aimsWebReading  \n",
       "0                     0  \n",
       "1                     0  \n",
       "2                     0  \n",
       "3                     0  \n",
       "4                     0  \n",
       "5                     0  \n",
       "6                     0  \n",
       "7                     0  \n",
       "8                     0  \n",
       "9                     0  \n",
       "\n",
       "[10 rows x 69 columns]"
      ]
     },
     "execution_count": 16,
     "metadata": {},
     "output_type": "execute_result"
    }
   ],
   "source": [
    "scores_df.head(10)"
   ]
  },
  {
   "cell_type": "markdown",
   "metadata": {},
   "source": [
    "I have a dataframe called scores_df with a studentId column and a studentLevel column. How do I find how many duplicate studentId values there are in scores_df that have at least two different studentLevel data corresponding with it? So to clarify, if studentId 44 has a studentLevel value of 9 and another studentLevel value of 8, it would be counted. "
   ]
  },
  {
   "cell_type": "code",
   "execution_count": 17,
   "metadata": {},
   "outputs": [
    {
     "name": "stdout",
     "output_type": "stream",
     "text": [
      "57528\n"
     ]
    }
   ],
   "source": [
    "# Group by studentId and aggregate unique studentLevel counts\n",
    "duplicate_levels = (\n",
    "    scores_df.groupby('studentId')['studentLevel'].nunique()  # Count unique studentLevel values for each studentId\n",
    ")\n",
    "\n",
    "# Filter for studentIds with at least 2 different studentLevels\n",
    "duplicate_student_ids = duplicate_levels[duplicate_levels >= 2]\n",
    "\n",
    "# Count how many studentIds meet the criteria\n",
    "count_of_duplicates = duplicate_student_ids.count()\n",
    "\n",
    "print(count_of_duplicates)\n"
   ]
  },
  {
   "cell_type": "code",
   "execution_count": null,
   "metadata": {},
   "outputs": [],
   "source": []
  },
  {
   "cell_type": "code",
   "execution_count": 18,
   "metadata": {},
   "outputs": [
    {
     "data": {
      "text/plain": [
       "Index(['studentId', 'studentLevel', 'year', 'measurementTypeId',\n",
       "       'subgroup_specialEd', 'subgroup_lunchStatus', 'subgroup_gender',\n",
       "       'subgroup_ethnicity', 'subgroup_ell', 'subgroup_bottom25',\n",
       "       'value_actMathScore', 'value_actEnglishScore', 'value_actReadingScore',\n",
       "       'value_actScienceScore', 'value_actCompositeScore', 'value_nweaMath',\n",
       "       'value_nweaReading', 'value_nweaEnglish', 'value_iReadyMath',\n",
       "       'value_iReadyReading', 'value_actMasteryComposite',\n",
       "       'value_actMasteryReading', 'value_actMasteryMath',\n",
       "       'value_actMasteryScience', 'value_actMasteryEnglish', 'value_nweaELA',\n",
       "       'value_scantronMath', 'value_scantronReading', 'value_mapMath',\n",
       "       'value_mapEnglish', 'value_mapReading', 'value_mapRLA',\n",
       "       'value_scantronScience', 'value_scantronLanguage',\n",
       "       'value_ReadingFoundations', 'value_scantronAlgebra', 'value_eocMath',\n",
       "       'value_actELAScore', 'value_mapScience', 'value_LeapELAScale',\n",
       "       'value_LeapMathScale', 'value_LeapALScale', 'value_LeapE2Scale',\n",
       "       'value_LeapGmScale', 'value_LeapBlScale', 'value_LeapE3Scale',\n",
       "       'value_LeapUsScale', 'value_E1Scale', 'value_UsEsScale',\n",
       "       'value_accessReadingScale', 'value_accessReadingProficiency',\n",
       "       'value_accessCompositeScale', 'value_accesscompositeProficiency',\n",
       "       'value_dibelsReading', 'value_mapHistory', 'value_LEAPSocSci',\n",
       "       'value_scantronGeometry', 'value_MathMilestones', 'value_ELAMilestones',\n",
       "       'value_starReading', 'value_starMath', 'value_ScienceMilestones',\n",
       "       'value_LEAPScience', 'value_SocialMilestones', 'value_gcaInfo',\n",
       "       'value_gcaNar', 'value_gcaOpin', 'value_aimsWebMath',\n",
       "       'value_aimsWebReading'],\n",
       "      dtype='object')"
      ]
     },
     "execution_count": 18,
     "metadata": {},
     "output_type": "execute_result"
    }
   ],
   "source": [
    "scores_df.columns"
   ]
  },
  {
   "cell_type": "code",
   "execution_count": 19,
   "metadata": {},
   "outputs": [
    {
     "data": {
      "text/plain": [
       "(303750, 69)"
      ]
     },
     "execution_count": 19,
     "metadata": {},
     "output_type": "execute_result"
    }
   ],
   "source": [
    "scores_df.shape"
   ]
  },
  {
   "cell_type": "code",
   "execution_count": 20,
   "metadata": {},
   "outputs": [
    {
     "data": {
      "text/plain": [
       "125223"
      ]
     },
     "execution_count": 20,
     "metadata": {},
     "output_type": "execute_result"
    }
   ],
   "source": [
    "scores_df.studentId.nunique()"
   ]
  },
  {
   "cell_type": "code",
   "execution_count": null,
   "metadata": {},
   "outputs": [],
   "source": []
  },
  {
   "cell_type": "markdown",
   "metadata": {},
   "source": [
    "Is there a way to find which student ID belongs at which school?"
   ]
  },
  {
   "cell_type": "code",
   "execution_count": 21,
   "metadata": {},
   "outputs": [
    {
     "data": {
      "text/html": [
       "<div>\n",
       "<style scoped>\n",
       "    .dataframe tbody tr th:only-of-type {\n",
       "        vertical-align: middle;\n",
       "    }\n",
       "\n",
       "    .dataframe tbody tr th {\n",
       "        vertical-align: top;\n",
       "    }\n",
       "\n",
       "    .dataframe thead th {\n",
       "        text-align: right;\n",
       "    }\n",
       "</style>\n",
       "<table border=\"1\" class=\"dataframe\">\n",
       "  <thead>\n",
       "    <tr style=\"text-align: right;\">\n",
       "      <th></th>\n",
       "      <th>districtId</th>\n",
       "      <th>year</th>\n",
       "      <th>level</th>\n",
       "      <th>dataSource</th>\n",
       "      <th>value</th>\n",
       "    </tr>\n",
       "  </thead>\n",
       "  <tbody>\n",
       "    <tr>\n",
       "      <th>0</th>\n",
       "      <td>45</td>\n",
       "      <td>2017</td>\n",
       "      <td>3</td>\n",
       "      <td>value_scantronMath</td>\n",
       "      <td>2356.0</td>\n",
       "    </tr>\n",
       "    <tr>\n",
       "      <th>1</th>\n",
       "      <td>45</td>\n",
       "      <td>2017</td>\n",
       "      <td>3</td>\n",
       "      <td>value_scantronReading</td>\n",
       "      <td>2563.0</td>\n",
       "    </tr>\n",
       "    <tr>\n",
       "      <th>2</th>\n",
       "      <td>45</td>\n",
       "      <td>2017</td>\n",
       "      <td>4</td>\n",
       "      <td>value_scantronMath</td>\n",
       "      <td>2493.0</td>\n",
       "    </tr>\n",
       "    <tr>\n",
       "      <th>3</th>\n",
       "      <td>45</td>\n",
       "      <td>2017</td>\n",
       "      <td>4</td>\n",
       "      <td>value_scantronReading</td>\n",
       "      <td>2674.0</td>\n",
       "    </tr>\n",
       "    <tr>\n",
       "      <th>4</th>\n",
       "      <td>45</td>\n",
       "      <td>2017</td>\n",
       "      <td>5</td>\n",
       "      <td>value_scantronMath</td>\n",
       "      <td>2584.0</td>\n",
       "    </tr>\n",
       "    <tr>\n",
       "      <th>5</th>\n",
       "      <td>45</td>\n",
       "      <td>2017</td>\n",
       "      <td>5</td>\n",
       "      <td>value_scantronReading</td>\n",
       "      <td>2841.0</td>\n",
       "    </tr>\n",
       "    <tr>\n",
       "      <th>6</th>\n",
       "      <td>45</td>\n",
       "      <td>2017</td>\n",
       "      <td>6</td>\n",
       "      <td>value_scantronMath</td>\n",
       "      <td>2675.0</td>\n",
       "    </tr>\n",
       "    <tr>\n",
       "      <th>7</th>\n",
       "      <td>45</td>\n",
       "      <td>2017</td>\n",
       "      <td>6</td>\n",
       "      <td>value_scantronReading</td>\n",
       "      <td>2897.0</td>\n",
       "    </tr>\n",
       "    <tr>\n",
       "      <th>8</th>\n",
       "      <td>45</td>\n",
       "      <td>2017</td>\n",
       "      <td>7</td>\n",
       "      <td>value_scantronMath</td>\n",
       "      <td>2766.0</td>\n",
       "    </tr>\n",
       "    <tr>\n",
       "      <th>9</th>\n",
       "      <td>45</td>\n",
       "      <td>2017</td>\n",
       "      <td>7</td>\n",
       "      <td>value_scantronReading</td>\n",
       "      <td>3008.0</td>\n",
       "    </tr>\n",
       "    <tr>\n",
       "      <th>10</th>\n",
       "      <td>45</td>\n",
       "      <td>2017</td>\n",
       "      <td>8</td>\n",
       "      <td>value_scantronMath</td>\n",
       "      <td>2823.0</td>\n",
       "    </tr>\n",
       "    <tr>\n",
       "      <th>11</th>\n",
       "      <td>45</td>\n",
       "      <td>2017</td>\n",
       "      <td>8</td>\n",
       "      <td>value_scantronReading</td>\n",
       "      <td>3063.0</td>\n",
       "    </tr>\n",
       "    <tr>\n",
       "      <th>12</th>\n",
       "      <td>45</td>\n",
       "      <td>2017</td>\n",
       "      <td>11</td>\n",
       "      <td>value_actCompositeScore</td>\n",
       "      <td>19.5</td>\n",
       "    </tr>\n",
       "    <tr>\n",
       "      <th>13</th>\n",
       "      <td>45</td>\n",
       "      <td>2018</td>\n",
       "      <td>3</td>\n",
       "      <td>value_scantronMath</td>\n",
       "      <td>2364.0</td>\n",
       "    </tr>\n",
       "    <tr>\n",
       "      <th>14</th>\n",
       "      <td>45</td>\n",
       "      <td>2018</td>\n",
       "      <td>3</td>\n",
       "      <td>value_scantronReading</td>\n",
       "      <td>2518.0</td>\n",
       "    </tr>\n",
       "    <tr>\n",
       "      <th>15</th>\n",
       "      <td>45</td>\n",
       "      <td>2018</td>\n",
       "      <td>3</td>\n",
       "      <td>value_aspireReadingScaleScore</td>\n",
       "      <td>250.0</td>\n",
       "    </tr>\n",
       "    <tr>\n",
       "      <th>16</th>\n",
       "      <td>45</td>\n",
       "      <td>2018</td>\n",
       "      <td>3</td>\n",
       "      <td>value_starMath</td>\n",
       "      <td>1900.0</td>\n",
       "    </tr>\n",
       "    <tr>\n",
       "      <th>17</th>\n",
       "      <td>45</td>\n",
       "      <td>2018</td>\n",
       "      <td>4</td>\n",
       "      <td>value_scantronMath</td>\n",
       "      <td>2488.0</td>\n",
       "    </tr>\n",
       "    <tr>\n",
       "      <th>18</th>\n",
       "      <td>45</td>\n",
       "      <td>2018</td>\n",
       "      <td>4</td>\n",
       "      <td>value_scantronReading</td>\n",
       "      <td>2678.0</td>\n",
       "    </tr>\n",
       "    <tr>\n",
       "      <th>19</th>\n",
       "      <td>45</td>\n",
       "      <td>2018</td>\n",
       "      <td>4</td>\n",
       "      <td>value_aspireReadingScaleScore</td>\n",
       "      <td>260.0</td>\n",
       "    </tr>\n",
       "    <tr>\n",
       "      <th>20</th>\n",
       "      <td>45</td>\n",
       "      <td>2018</td>\n",
       "      <td>4</td>\n",
       "      <td>value_starMath</td>\n",
       "      <td>2488.0</td>\n",
       "    </tr>\n",
       "    <tr>\n",
       "      <th>21</th>\n",
       "      <td>45</td>\n",
       "      <td>2018</td>\n",
       "      <td>5</td>\n",
       "      <td>value_scantronMath</td>\n",
       "      <td>2589.0</td>\n",
       "    </tr>\n",
       "    <tr>\n",
       "      <th>22</th>\n",
       "      <td>45</td>\n",
       "      <td>2018</td>\n",
       "      <td>5</td>\n",
       "      <td>value_scantronReading</td>\n",
       "      <td>2798.0</td>\n",
       "    </tr>\n",
       "    <tr>\n",
       "      <th>23</th>\n",
       "      <td>45</td>\n",
       "      <td>2018</td>\n",
       "      <td>5</td>\n",
       "      <td>value_aspireReadingScaleScore</td>\n",
       "      <td>270.0</td>\n",
       "    </tr>\n",
       "    <tr>\n",
       "      <th>24</th>\n",
       "      <td>45</td>\n",
       "      <td>2018</td>\n",
       "      <td>5</td>\n",
       "      <td>value_starMath</td>\n",
       "      <td>2589.0</td>\n",
       "    </tr>\n",
       "    <tr>\n",
       "      <th>25</th>\n",
       "      <td>45</td>\n",
       "      <td>2018</td>\n",
       "      <td>6</td>\n",
       "      <td>value_scantronMath</td>\n",
       "      <td>2667.0</td>\n",
       "    </tr>\n",
       "    <tr>\n",
       "      <th>26</th>\n",
       "      <td>45</td>\n",
       "      <td>2018</td>\n",
       "      <td>6</td>\n",
       "      <td>value_scantronReading</td>\n",
       "      <td>2883.0</td>\n",
       "    </tr>\n",
       "    <tr>\n",
       "      <th>27</th>\n",
       "      <td>45</td>\n",
       "      <td>2018</td>\n",
       "      <td>6</td>\n",
       "      <td>value_aspireReadingScaleScore</td>\n",
       "      <td>275.0</td>\n",
       "    </tr>\n",
       "    <tr>\n",
       "      <th>28</th>\n",
       "      <td>45</td>\n",
       "      <td>2018</td>\n",
       "      <td>6</td>\n",
       "      <td>value_starMath</td>\n",
       "      <td>2667.0</td>\n",
       "    </tr>\n",
       "    <tr>\n",
       "      <th>29</th>\n",
       "      <td>45</td>\n",
       "      <td>2018</td>\n",
       "      <td>7</td>\n",
       "      <td>value_scantronMath</td>\n",
       "      <td>2743.0</td>\n",
       "    </tr>\n",
       "    <tr>\n",
       "      <th>30</th>\n",
       "      <td>45</td>\n",
       "      <td>2018</td>\n",
       "      <td>7</td>\n",
       "      <td>value_scantronReading</td>\n",
       "      <td>2954.0</td>\n",
       "    </tr>\n",
       "    <tr>\n",
       "      <th>31</th>\n",
       "      <td>45</td>\n",
       "      <td>2018</td>\n",
       "      <td>7</td>\n",
       "      <td>value_aspireReadingScaleScore</td>\n",
       "      <td>280.0</td>\n",
       "    </tr>\n",
       "    <tr>\n",
       "      <th>32</th>\n",
       "      <td>45</td>\n",
       "      <td>2018</td>\n",
       "      <td>7</td>\n",
       "      <td>value_starMath</td>\n",
       "      <td>2743.0</td>\n",
       "    </tr>\n",
       "    <tr>\n",
       "      <th>33</th>\n",
       "      <td>45</td>\n",
       "      <td>2018</td>\n",
       "      <td>8</td>\n",
       "      <td>value_scantronMath</td>\n",
       "      <td>2788.0</td>\n",
       "    </tr>\n",
       "    <tr>\n",
       "      <th>34</th>\n",
       "      <td>45</td>\n",
       "      <td>2018</td>\n",
       "      <td>8</td>\n",
       "      <td>value_scantronReading</td>\n",
       "      <td>3019.0</td>\n",
       "    </tr>\n",
       "    <tr>\n",
       "      <th>35</th>\n",
       "      <td>45</td>\n",
       "      <td>2018</td>\n",
       "      <td>8</td>\n",
       "      <td>value_aspireReadingScaleScore</td>\n",
       "      <td>290.0</td>\n",
       "    </tr>\n",
       "    <tr>\n",
       "      <th>36</th>\n",
       "      <td>45</td>\n",
       "      <td>2018</td>\n",
       "      <td>8</td>\n",
       "      <td>value_starMath</td>\n",
       "      <td>2788.0</td>\n",
       "    </tr>\n",
       "    <tr>\n",
       "      <th>37</th>\n",
       "      <td>45</td>\n",
       "      <td>2018</td>\n",
       "      <td>11</td>\n",
       "      <td>value_actCompositeScore</td>\n",
       "      <td>19.1</td>\n",
       "    </tr>\n",
       "    <tr>\n",
       "      <th>38</th>\n",
       "      <td>45</td>\n",
       "      <td>2018</td>\n",
       "      <td>11</td>\n",
       "      <td>value_actMathScore</td>\n",
       "      <td>17.0</td>\n",
       "    </tr>\n",
       "    <tr>\n",
       "      <th>39</th>\n",
       "      <td>45</td>\n",
       "      <td>2018</td>\n",
       "      <td>11</td>\n",
       "      <td>value_actReadingScore</td>\n",
       "      <td>18.0</td>\n",
       "    </tr>\n",
       "    <tr>\n",
       "      <th>40</th>\n",
       "      <td>45</td>\n",
       "      <td>2018</td>\n",
       "      <td>11</td>\n",
       "      <td>value_actEnglishScore</td>\n",
       "      <td>18.0</td>\n",
       "    </tr>\n",
       "    <tr>\n",
       "      <th>41</th>\n",
       "      <td>45</td>\n",
       "      <td>2018</td>\n",
       "      <td>11</td>\n",
       "      <td>value_actScienceScore</td>\n",
       "      <td>18.0</td>\n",
       "    </tr>\n",
       "  </tbody>\n",
       "</table>\n",
       "</div>"
      ],
      "text/plain": [
       "    districtId  year  level                     dataSource   value\n",
       "0           45  2017      3             value_scantronMath  2356.0\n",
       "1           45  2017      3          value_scantronReading  2563.0\n",
       "2           45  2017      4             value_scantronMath  2493.0\n",
       "3           45  2017      4          value_scantronReading  2674.0\n",
       "4           45  2017      5             value_scantronMath  2584.0\n",
       "5           45  2017      5          value_scantronReading  2841.0\n",
       "6           45  2017      6             value_scantronMath  2675.0\n",
       "7           45  2017      6          value_scantronReading  2897.0\n",
       "8           45  2017      7             value_scantronMath  2766.0\n",
       "9           45  2017      7          value_scantronReading  3008.0\n",
       "10          45  2017      8             value_scantronMath  2823.0\n",
       "11          45  2017      8          value_scantronReading  3063.0\n",
       "12          45  2017     11        value_actCompositeScore    19.5\n",
       "13          45  2018      3             value_scantronMath  2364.0\n",
       "14          45  2018      3          value_scantronReading  2518.0\n",
       "15          45  2018      3  value_aspireReadingScaleScore   250.0\n",
       "16          45  2018      3                 value_starMath  1900.0\n",
       "17          45  2018      4             value_scantronMath  2488.0\n",
       "18          45  2018      4          value_scantronReading  2678.0\n",
       "19          45  2018      4  value_aspireReadingScaleScore   260.0\n",
       "20          45  2018      4                 value_starMath  2488.0\n",
       "21          45  2018      5             value_scantronMath  2589.0\n",
       "22          45  2018      5          value_scantronReading  2798.0\n",
       "23          45  2018      5  value_aspireReadingScaleScore   270.0\n",
       "24          45  2018      5                 value_starMath  2589.0\n",
       "25          45  2018      6             value_scantronMath  2667.0\n",
       "26          45  2018      6          value_scantronReading  2883.0\n",
       "27          45  2018      6  value_aspireReadingScaleScore   275.0\n",
       "28          45  2018      6                 value_starMath  2667.0\n",
       "29          45  2018      7             value_scantronMath  2743.0\n",
       "30          45  2018      7          value_scantronReading  2954.0\n",
       "31          45  2018      7  value_aspireReadingScaleScore   280.0\n",
       "32          45  2018      7                 value_starMath  2743.0\n",
       "33          45  2018      8             value_scantronMath  2788.0\n",
       "34          45  2018      8          value_scantronReading  3019.0\n",
       "35          45  2018      8  value_aspireReadingScaleScore   290.0\n",
       "36          45  2018      8                 value_starMath  2788.0\n",
       "37          45  2018     11        value_actCompositeScore    19.1\n",
       "38          45  2018     11             value_actMathScore    17.0\n",
       "39          45  2018     11          value_actReadingScore    18.0\n",
       "40          45  2018     11          value_actEnglishScore    18.0\n",
       "41          45  2018     11          value_actScienceScore    18.0"
      ]
     },
     "execution_count": 21,
     "metadata": {},
     "output_type": "execute_result"
    }
   ],
   "source": [
    "benchmarks_df"
   ]
  },
  {
   "cell_type": "code",
   "execution_count": 22,
   "metadata": {},
   "outputs": [
    {
     "data": {
      "text/plain": [
       "array(['value_scantronMath', 'value_scantronReading',\n",
       "       'value_actCompositeScore', 'value_aspireReadingScaleScore',\n",
       "       'value_starMath', 'value_actMathScore', 'value_actReadingScore',\n",
       "       'value_actEnglishScore', 'value_actScienceScore'], dtype=object)"
      ]
     },
     "execution_count": 22,
     "metadata": {},
     "output_type": "execute_result"
    }
   ],
   "source": [
    "testTypes = benchmarks_df.dataSource.unique()\n",
    "testTypes"
   ]
  },
  {
   "cell_type": "code",
   "execution_count": 23,
   "metadata": {},
   "outputs": [
    {
     "data": {
      "image/png": "[encoded data removed]",
      "text/plain": [
       "<Figure size 1000x600 with 1 Axes>"
      ]
     },
     "metadata": {},
     "output_type": "display_data"
    }
   ],
   "source": [
    "plt.figure(figsize=(10, 6))\n",
    "sns.countplot(data=scores_df, x='studentLevel', order=scores_df['studentLevel'].value_counts().index)\n",
    "\n",
    "plt.title('Grade Level Distibution', fontsize=16)\n",
    "plt.xlabel('Grade Level', fontsize=14)\n",
    "plt.ylabel('Number of Students', fontsize=14)\n",
    "\n",
    "plt.show()"
   ]
  },
  {
   "cell_type": "code",
   "execution_count": 24,
   "metadata": {},
   "outputs": [
    {
     "data": {
      "image/png": "[encoded data removed]",
      "text/plain": [
       "<Figure size 1000x600 with 1 Axes>"
      ]
     },
     "metadata": {},
     "output_type": "display_data"
    }
   ],
   "source": [
    "plt.figure(figsize=(10, 6))\n",
    "\n",
    "# Sort the unique student levels in ascending order\n",
    "order = sorted(scores_df['studentLevel'].unique())\n",
    "\n",
    "sns.countplot(data=scores_df, x='studentLevel', order=order)\n",
    "\n",
    "plt.title('Grade Level Distribution', fontsize=16)\n",
    "plt.xlabel('Grade Level', fontsize=14)\n",
    "plt.ylabel('Number of Students', fontsize=14)\n",
    "\n",
    "plt.show()"
   ]
  },
  {
   "cell_type": "code",
   "execution_count": 25,
   "metadata": {},
   "outputs": [
    {
     "data": {
      "image/png": "[encoded data removed]",
      "text/plain": [
       "<Figure size 1000x600 with 1 Axes>"
      ]
     },
     "metadata": {},
     "output_type": "display_data"
    }
   ],
   "source": [
    "plt.figure(figsize=(10, 6))\n",
    "sns.countplot(data=scores_df, x='year', order=scores_df['year'].value_counts().index)\n",
    "\n",
    "plt.title('Year Distribution', fontsize=16)\n",
    "plt.xlabel('Year', fontsize=14)\n",
    "plt.ylabel('Number of Students Represented', fontsize=14)\n",
    "\n",
    "plt.show()"
   ]
  },
  {
   "cell_type": "code",
   "execution_count": 26,
   "metadata": {},
   "outputs": [
    {
     "name": "stdout",
     "output_type": "stream",
     "text": [
      "Total Duplicates:  82751\n"
     ]
    }
   ],
   "source": [
    "student_counts = scores_df['studentId'].value_counts()\n",
    "\n",
    "duplicate_students = student_counts[student_counts > 1]\n",
    "\n",
    "total_dupes = duplicate_students.count()\n",
    "\n",
    "print(\"Total Duplicates: \", total_dupes)"
   ]
  },
  {
   "cell_type": "code",
   "execution_count": 27,
   "metadata": {},
   "outputs": [
    {
     "data": {
      "image/png": "[encoded data removed]",
      "text/plain": [
       "<Figure size 1000x600 with 1 Axes>"
      ]
     },
     "metadata": {},
     "output_type": "display_data"
    }
   ],
   "source": [
    "\n",
    "duplicate_student_ids = duplicate_students.index\n",
    "duplicated_entries = scores_df[scores_df['studentId'].isin(duplicate_student_ids)]\n",
    "\n",
    "\n",
    "plt.figure(figsize=(10, 6))\n",
    "sns.countplot(data=duplicated_entries, x='studentLevel', order=sorted(duplicated_entries['studentLevel'].unique()))\n",
    "\n",
    "plt.title('Grade Level Distribution for Duplicated Student IDs', fontsize=16)\n",
    "plt.xlabel('Grade Level', fontsize=14)\n",
    "plt.ylabel('Number of Students', fontsize=14)\n",
    "\n",
    "plt.show()"
   ]
  },
  {
   "cell_type": "code",
   "execution_count": 28,
   "metadata": {},
   "outputs": [
    {
     "data": {
      "text/html": [
       "<div>\n",
       "<style scoped>\n",
       "    .dataframe tbody tr th:only-of-type {\n",
       "        vertical-align: middle;\n",
       "    }\n",
       "\n",
       "    .dataframe tbody tr th {\n",
       "        vertical-align: top;\n",
       "    }\n",
       "\n",
       "    .dataframe thead th {\n",
       "        text-align: right;\n",
       "    }\n",
       "</style>\n",
       "<table border=\"1\" class=\"dataframe\">\n",
       "  <thead>\n",
       "    <tr style=\"text-align: right;\">\n",
       "      <th></th>\n",
       "      <th>id</th>\n",
       "      <th>vendorId</th>\n",
       "      <th>studentId</th>\n",
       "      <th>active</th>\n",
       "      <th>year</th>\n",
       "      <th>usageTypeId</th>\n",
       "      <th>weeklyUsageMinutes</th>\n",
       "    </tr>\n",
       "  </thead>\n",
       "  <tbody>\n",
       "    <tr>\n",
       "      <th>0</th>\n",
       "      <td>11890</td>\n",
       "      <td>72609</td>\n",
       "      <td>44777</td>\n",
       "      <td>0</td>\n",
       "      <td>2018</td>\n",
       "      <td>1</td>\n",
       "      <td>0</td>\n",
       "    </tr>\n",
       "    <tr>\n",
       "      <th>1</th>\n",
       "      <td>11891</td>\n",
       "      <td>72609</td>\n",
       "      <td>44783</td>\n",
       "      <td>0</td>\n",
       "      <td>2018</td>\n",
       "      <td>1</td>\n",
       "      <td>0</td>\n",
       "    </tr>\n",
       "    <tr>\n",
       "      <th>2</th>\n",
       "      <td>11892</td>\n",
       "      <td>72609</td>\n",
       "      <td>44784</td>\n",
       "      <td>0</td>\n",
       "      <td>2018</td>\n",
       "      <td>1</td>\n",
       "      <td>0</td>\n",
       "    </tr>\n",
       "    <tr>\n",
       "      <th>3</th>\n",
       "      <td>11893</td>\n",
       "      <td>72609</td>\n",
       "      <td>44807</td>\n",
       "      <td>0</td>\n",
       "      <td>2018</td>\n",
       "      <td>1</td>\n",
       "      <td>0</td>\n",
       "    </tr>\n",
       "    <tr>\n",
       "      <th>4</th>\n",
       "      <td>11894</td>\n",
       "      <td>72609</td>\n",
       "      <td>44809</td>\n",
       "      <td>0</td>\n",
       "      <td>2018</td>\n",
       "      <td>1</td>\n",
       "      <td>0</td>\n",
       "    </tr>\n",
       "    <tr>\n",
       "      <th>5</th>\n",
       "      <td>11895</td>\n",
       "      <td>72609</td>\n",
       "      <td>44810</td>\n",
       "      <td>0</td>\n",
       "      <td>2018</td>\n",
       "      <td>1</td>\n",
       "      <td>0</td>\n",
       "    </tr>\n",
       "    <tr>\n",
       "      <th>6</th>\n",
       "      <td>11896</td>\n",
       "      <td>72609</td>\n",
       "      <td>44811</td>\n",
       "      <td>0</td>\n",
       "      <td>2018</td>\n",
       "      <td>1</td>\n",
       "      <td>0</td>\n",
       "    </tr>\n",
       "    <tr>\n",
       "      <th>7</th>\n",
       "      <td>11897</td>\n",
       "      <td>72609</td>\n",
       "      <td>44812</td>\n",
       "      <td>0</td>\n",
       "      <td>2018</td>\n",
       "      <td>1</td>\n",
       "      <td>0</td>\n",
       "    </tr>\n",
       "    <tr>\n",
       "      <th>8</th>\n",
       "      <td>11898</td>\n",
       "      <td>72609</td>\n",
       "      <td>44813</td>\n",
       "      <td>0</td>\n",
       "      <td>2018</td>\n",
       "      <td>1</td>\n",
       "      <td>0</td>\n",
       "    </tr>\n",
       "    <tr>\n",
       "      <th>9</th>\n",
       "      <td>11899</td>\n",
       "      <td>72609</td>\n",
       "      <td>44814</td>\n",
       "      <td>0</td>\n",
       "      <td>2018</td>\n",
       "      <td>1</td>\n",
       "      <td>0</td>\n",
       "    </tr>\n",
       "  </tbody>\n",
       "</table>\n",
       "</div>"
      ],
      "text/plain": [
       "      id  vendorId  studentId  active  year  usageTypeId  weeklyUsageMinutes\n",
       "0  11890     72609      44777       0  2018            1                   0\n",
       "1  11891     72609      44783       0  2018            1                   0\n",
       "2  11892     72609      44784       0  2018            1                   0\n",
       "3  11893     72609      44807       0  2018            1                   0\n",
       "4  11894     72609      44809       0  2018            1                   0\n",
       "5  11895     72609      44810       0  2018            1                   0\n",
       "6  11896     72609      44811       0  2018            1                   0\n",
       "7  11897     72609      44812       0  2018            1                   0\n",
       "8  11898     72609      44813       0  2018            1                   0\n",
       "9  11899     72609      44814       0  2018            1                   0"
      ]
     },
     "execution_count": 28,
     "metadata": {},
     "output_type": "execute_result"
    }
   ],
   "source": [
    "vendorUsage_df.head(10)"
   ]
  },
  {
   "cell_type": "code",
   "execution_count": 29,
   "metadata": {},
   "outputs": [
    {
     "data": {
      "text/plain": [
       "(158007, 7)"
      ]
     },
     "execution_count": 29,
     "metadata": {},
     "output_type": "execute_result"
    }
   ],
   "source": [
    "vendorUsage_df.shape"
   ]
  },
  {
   "cell_type": "code",
   "execution_count": 30,
   "metadata": {},
   "outputs": [
    {
     "data": {
      "text/plain": [
       "array([ 1,  2,  3,  5,  6,  4, 10, 11, 12,  7,  8,  9, 14])"
      ]
     },
     "execution_count": 30,
     "metadata": {},
     "output_type": "execute_result"
    }
   ],
   "source": [
    "vendorUsage_df.usageTypeId.unique()"
   ]
  },
  {
   "cell_type": "code",
   "execution_count": 31,
   "metadata": {},
   "outputs": [
    {
     "data": {
      "text/plain": [
       "23"
      ]
     },
     "execution_count": 31,
     "metadata": {},
     "output_type": "execute_result"
    }
   ],
   "source": [
    "vendorUsage_df.vendorId.nunique()"
   ]
  },
  {
   "cell_type": "code",
   "execution_count": 32,
   "metadata": {},
   "outputs": [],
   "source": [
    "cleanedVendorUsage_df = vendorUsage_df[vendorUsage_df['active'] != 0]"
   ]
  },
  {
   "cell_type": "code",
   "execution_count": 33,
   "metadata": {},
   "outputs": [
    {
     "data": {
      "text/html": [
       "<div>\n",
       "<style scoped>\n",
       "    .dataframe tbody tr th:only-of-type {\n",
       "        vertical-align: middle;\n",
       "    }\n",
       "\n",
       "    .dataframe tbody tr th {\n",
       "        vertical-align: top;\n",
       "    }\n",
       "\n",
       "    .dataframe thead th {\n",
       "        text-align: right;\n",
       "    }\n",
       "</style>\n",
       "<table border=\"1\" class=\"dataframe\">\n",
       "  <thead>\n",
       "    <tr style=\"text-align: right;\">\n",
       "      <th></th>\n",
       "      <th>id</th>\n",
       "      <th>name</th>\n",
       "      <th>districtId</th>\n",
       "      <th>costCenter</th>\n",
       "      <th>abbreviation</th>\n",
       "      <th>acqRequestSelectable</th>\n",
       "      <th>oneRoster_sourcedId</th>\n",
       "      <th>oneRoster_ticketId</th>\n",
       "    </tr>\n",
       "  </thead>\n",
       "  <tbody>\n",
       "    <tr>\n",
       "      <th>0</th>\n",
       "      <td>222</td>\n",
       "      <td>Elementary A</td>\n",
       "      <td>45</td>\n",
       "      <td>5</td>\n",
       "      <td>EES</td>\n",
       "      <td>1</td>\n",
       "      <td>NaN</td>\n",
       "      <td>0</td>\n",
       "    </tr>\n",
       "    <tr>\n",
       "      <th>1</th>\n",
       "      <td>223</td>\n",
       "      <td>Middle School A</td>\n",
       "      <td>45</td>\n",
       "      <td>8</td>\n",
       "      <td>EMS</td>\n",
       "      <td>1</td>\n",
       "      <td>NaN</td>\n",
       "      <td>0</td>\n",
       "    </tr>\n",
       "    <tr>\n",
       "      <th>2</th>\n",
       "      <td>224</td>\n",
       "      <td>High School A</td>\n",
       "      <td>45</td>\n",
       "      <td>10</td>\n",
       "      <td>ECHS</td>\n",
       "      <td>1</td>\n",
       "      <td>NaN</td>\n",
       "      <td>0</td>\n",
       "    </tr>\n",
       "    <tr>\n",
       "      <th>3</th>\n",
       "      <td>225</td>\n",
       "      <td>Junior High B</td>\n",
       "      <td>45</td>\n",
       "      <td>12</td>\n",
       "      <td>ECJH</td>\n",
       "      <td>1</td>\n",
       "      <td>NaN</td>\n",
       "      <td>0</td>\n",
       "    </tr>\n",
       "    <tr>\n",
       "      <th>4</th>\n",
       "      <td>226</td>\n",
       "      <td>Elementary School B</td>\n",
       "      <td>45</td>\n",
       "      <td>18</td>\n",
       "      <td>HES</td>\n",
       "      <td>1</td>\n",
       "      <td>NaN</td>\n",
       "      <td>0</td>\n",
       "    </tr>\n",
       "    <tr>\n",
       "      <th>5</th>\n",
       "      <td>227</td>\n",
       "      <td>Middle School C</td>\n",
       "      <td>45</td>\n",
       "      <td>19</td>\n",
       "      <td>HMS</td>\n",
       "      <td>1</td>\n",
       "      <td>NaN</td>\n",
       "      <td>0</td>\n",
       "    </tr>\n",
       "    <tr>\n",
       "      <th>6</th>\n",
       "      <td>228</td>\n",
       "      <td>High School B</td>\n",
       "      <td>45</td>\n",
       "      <td>20</td>\n",
       "      <td>HHS</td>\n",
       "      <td>1</td>\n",
       "      <td>NaN</td>\n",
       "      <td>0</td>\n",
       "    </tr>\n",
       "    <tr>\n",
       "      <th>7</th>\n",
       "      <td>229</td>\n",
       "      <td>Middle School D</td>\n",
       "      <td>45</td>\n",
       "      <td>23</td>\n",
       "      <td>MJH</td>\n",
       "      <td>1</td>\n",
       "      <td>NaN</td>\n",
       "      <td>0</td>\n",
       "    </tr>\n",
       "    <tr>\n",
       "      <th>8</th>\n",
       "      <td>230</td>\n",
       "      <td>Elementary School C</td>\n",
       "      <td>45</td>\n",
       "      <td>30</td>\n",
       "      <td>RSE</td>\n",
       "      <td>1</td>\n",
       "      <td>NaN</td>\n",
       "      <td>0</td>\n",
       "    </tr>\n",
       "    <tr>\n",
       "      <th>9</th>\n",
       "      <td>231</td>\n",
       "      <td>Elementary School D</td>\n",
       "      <td>45</td>\n",
       "      <td>35</td>\n",
       "      <td>CES</td>\n",
       "      <td>1</td>\n",
       "      <td>NaN</td>\n",
       "      <td>0</td>\n",
       "    </tr>\n",
       "  </tbody>\n",
       "</table>\n",
       "</div>"
      ],
      "text/plain": [
       "    id                 name  districtId  costCenter abbreviation  \\\n",
       "0  222         Elementary A          45           5          EES   \n",
       "1  223      Middle School A          45           8          EMS   \n",
       "2  224        High School A          45          10         ECHS   \n",
       "3  225        Junior High B          45          12         ECJH   \n",
       "4  226  Elementary School B          45          18          HES   \n",
       "5  227      Middle School C          45          19          HMS   \n",
       "6  228        High School B          45          20          HHS   \n",
       "7  229      Middle School D          45          23          MJH   \n",
       "8  230  Elementary School C          45          30          RSE   \n",
       "9  231  Elementary School D          45          35          CES   \n",
       "\n",
       "   acqRequestSelectable  oneRoster_sourcedId  oneRoster_ticketId  \n",
       "0                     1                  NaN                   0  \n",
       "1                     1                  NaN                   0  \n",
       "2                     1                  NaN                   0  \n",
       "3                     1                  NaN                   0  \n",
       "4                     1                  NaN                   0  \n",
       "5                     1                  NaN                   0  \n",
       "6                     1                  NaN                   0  \n",
       "7                     1                  NaN                   0  \n",
       "8                     1                  NaN                   0  \n",
       "9                     1                  NaN                   0  "
      ]
     },
     "execution_count": 33,
     "metadata": {},
     "output_type": "execute_result"
    }
   ],
   "source": [
    "schools_df.head(10)"
   ]
  },
  {
   "cell_type": "code",
   "execution_count": 34,
   "metadata": {},
   "outputs": [
    {
     "data": {
      "text/html": [
       "<div>\n",
       "<style scoped>\n",
       "    .dataframe tbody tr th:only-of-type {\n",
       "        vertical-align: middle;\n",
       "    }\n",
       "\n",
       "    .dataframe tbody tr th {\n",
       "        vertical-align: top;\n",
       "    }\n",
       "\n",
       "    .dataframe thead th {\n",
       "        text-align: right;\n",
       "    }\n",
       "</style>\n",
       "<table border=\"1\" class=\"dataframe\">\n",
       "  <thead>\n",
       "    <tr style=\"text-align: right;\">\n",
       "      <th></th>\n",
       "      <th>districtId</th>\n",
       "      <th>year</th>\n",
       "      <th>level</th>\n",
       "      <th>dataSource</th>\n",
       "      <th>value</th>\n",
       "    </tr>\n",
       "  </thead>\n",
       "  <tbody>\n",
       "    <tr>\n",
       "      <th>0</th>\n",
       "      <td>45</td>\n",
       "      <td>2017</td>\n",
       "      <td>3</td>\n",
       "      <td>value_scantronMath</td>\n",
       "      <td>2356.0</td>\n",
       "    </tr>\n",
       "    <tr>\n",
       "      <th>1</th>\n",
       "      <td>45</td>\n",
       "      <td>2017</td>\n",
       "      <td>3</td>\n",
       "      <td>value_scantronReading</td>\n",
       "      <td>2563.0</td>\n",
       "    </tr>\n",
       "    <tr>\n",
       "      <th>2</th>\n",
       "      <td>45</td>\n",
       "      <td>2017</td>\n",
       "      <td>4</td>\n",
       "      <td>value_scantronMath</td>\n",
       "      <td>2493.0</td>\n",
       "    </tr>\n",
       "    <tr>\n",
       "      <th>3</th>\n",
       "      <td>45</td>\n",
       "      <td>2017</td>\n",
       "      <td>4</td>\n",
       "      <td>value_scantronReading</td>\n",
       "      <td>2674.0</td>\n",
       "    </tr>\n",
       "    <tr>\n",
       "      <th>4</th>\n",
       "      <td>45</td>\n",
       "      <td>2017</td>\n",
       "      <td>5</td>\n",
       "      <td>value_scantronMath</td>\n",
       "      <td>2584.0</td>\n",
       "    </tr>\n",
       "    <tr>\n",
       "      <th>5</th>\n",
       "      <td>45</td>\n",
       "      <td>2017</td>\n",
       "      <td>5</td>\n",
       "      <td>value_scantronReading</td>\n",
       "      <td>2841.0</td>\n",
       "    </tr>\n",
       "    <tr>\n",
       "      <th>6</th>\n",
       "      <td>45</td>\n",
       "      <td>2017</td>\n",
       "      <td>6</td>\n",
       "      <td>value_scantronMath</td>\n",
       "      <td>2675.0</td>\n",
       "    </tr>\n",
       "    <tr>\n",
       "      <th>7</th>\n",
       "      <td>45</td>\n",
       "      <td>2017</td>\n",
       "      <td>6</td>\n",
       "      <td>value_scantronReading</td>\n",
       "      <td>2897.0</td>\n",
       "    </tr>\n",
       "    <tr>\n",
       "      <th>8</th>\n",
       "      <td>45</td>\n",
       "      <td>2017</td>\n",
       "      <td>7</td>\n",
       "      <td>value_scantronMath</td>\n",
       "      <td>2766.0</td>\n",
       "    </tr>\n",
       "    <tr>\n",
       "      <th>9</th>\n",
       "      <td>45</td>\n",
       "      <td>2017</td>\n",
       "      <td>7</td>\n",
       "      <td>value_scantronReading</td>\n",
       "      <td>3008.0</td>\n",
       "    </tr>\n",
       "  </tbody>\n",
       "</table>\n",
       "</div>"
      ],
      "text/plain": [
       "   districtId  year  level             dataSource   value\n",
       "0          45  2017      3     value_scantronMath  2356.0\n",
       "1          45  2017      3  value_scantronReading  2563.0\n",
       "2          45  2017      4     value_scantronMath  2493.0\n",
       "3          45  2017      4  value_scantronReading  2674.0\n",
       "4          45  2017      5     value_scantronMath  2584.0\n",
       "5          45  2017      5  value_scantronReading  2841.0\n",
       "6          45  2017      6     value_scantronMath  2675.0\n",
       "7          45  2017      6  value_scantronReading  2897.0\n",
       "8          45  2017      7     value_scantronMath  2766.0\n",
       "9          45  2017      7  value_scantronReading  3008.0"
      ]
     },
     "execution_count": 34,
     "metadata": {},
     "output_type": "execute_result"
    }
   ],
   "source": [
    "benchmarks_df.head(10)"
   ]
  },
  {
   "cell_type": "markdown",
   "metadata": {},
   "source": [
    "Checking connections between dataframes"
   ]
  },
  {
   "cell_type": "code",
   "execution_count": 35,
   "metadata": {},
   "outputs": [
    {
     "name": "stdout",
     "output_type": "stream",
     "text": [
      "484714\n"
     ]
    }
   ],
   "source": [
    "print(courseSectionsRosters_df['studentId'].isin(scores_df['studentId']).sum())"
   ]
  },
  {
   "cell_type": "markdown",
   "metadata": {},
   "source": [
    "How do I create a list of which studentId values show up in scores_df, courseSectionsRosters_df, and vendorUsage_df?"
   ]
  },
  {
   "cell_type": "code",
   "execution_count": 36,
   "metadata": {},
   "outputs": [
    {
     "name": "stdout",
     "output_type": "stream",
     "text": [
      "34316\n"
     ]
    }
   ],
   "source": [
    "print(scores_df['studentId'].isin(courseSectionsRosters_df['studentId']).sum())"
   ]
  },
  {
   "cell_type": "code",
   "execution_count": 37,
   "metadata": {},
   "outputs": [
    {
     "name": "stdout",
     "output_type": "stream",
     "text": [
      "False\n"
     ]
    }
   ],
   "source": [
    "print(vendorUsage_df['studentId'].isin(scores_df['studentId']).all())"
   ]
  },
  {
   "cell_type": "markdown",
   "metadata": {},
   "source": [
    "# **Merging Dataframes**"
   ]
  },
  {
   "cell_type": "markdown",
   "metadata": {},
   "source": [
    "First have to make sure both dataframes have the same column name"
   ]
  },
  {
   "cell_type": "code",
   "execution_count": 38,
   "metadata": {},
   "outputs": [
    {
     "data": {
      "text/html": [
       "<div>\n",
       "<style scoped>\n",
       "    .dataframe tbody tr th:only-of-type {\n",
       "        vertical-align: middle;\n",
       "    }\n",
       "\n",
       "    .dataframe tbody tr th {\n",
       "        vertical-align: top;\n",
       "    }\n",
       "\n",
       "    .dataframe thead th {\n",
       "        text-align: right;\n",
       "    }\n",
       "</style>\n",
       "<table border=\"1\" class=\"dataframe\">\n",
       "  <thead>\n",
       "    <tr style=\"text-align: right;\">\n",
       "      <th></th>\n",
       "      <th>id</th>\n",
       "      <th>vanityId</th>\n",
       "      <th>year</th>\n",
       "      <th>schoolId</th>\n",
       "    </tr>\n",
       "  </thead>\n",
       "  <tbody>\n",
       "    <tr>\n",
       "      <th>0</th>\n",
       "      <td>40388</td>\n",
       "      <td>PE 4</td>\n",
       "      <td>2015</td>\n",
       "      <td>222</td>\n",
       "    </tr>\n",
       "    <tr>\n",
       "      <th>1</th>\n",
       "      <td>40389</td>\n",
       "      <td>READING 4</td>\n",
       "      <td>2015</td>\n",
       "      <td>222</td>\n",
       "    </tr>\n",
       "    <tr>\n",
       "      <th>2</th>\n",
       "      <td>40390</td>\n",
       "      <td>HmroomPK6</td>\n",
       "      <td>2015</td>\n",
       "      <td>222</td>\n",
       "    </tr>\n",
       "    <tr>\n",
       "      <th>3</th>\n",
       "      <td>40391</td>\n",
       "      <td>LANGUAGE 4</td>\n",
       "      <td>2015</td>\n",
       "      <td>222</td>\n",
       "    </tr>\n",
       "    <tr>\n",
       "      <th>4</th>\n",
       "      <td>40392</td>\n",
       "      <td>SCIENCE 4</td>\n",
       "      <td>2015</td>\n",
       "      <td>222</td>\n",
       "    </tr>\n",
       "  </tbody>\n",
       "</table>\n",
       "</div>"
      ],
      "text/plain": [
       "      id    vanityId  year  schoolId\n",
       "0  40388        PE 4  2015       222\n",
       "1  40389   READING 4  2015       222\n",
       "2  40390   HmroomPK6  2015       222\n",
       "3  40391  LANGUAGE 4  2015       222\n",
       "4  40392   SCIENCE 4  2015       222"
      ]
     },
     "execution_count": 38,
     "metadata": {},
     "output_type": "execute_result"
    }
   ],
   "source": [
    "copy_courseSections_df = courseSections_df.copy()\n",
    "copy_courseSections_df.head()"
   ]
  },
  {
   "cell_type": "code",
   "execution_count": 39,
   "metadata": {},
   "outputs": [
    {
     "data": {
      "text/html": [
       "<div>\n",
       "<style scoped>\n",
       "    .dataframe tbody tr th:only-of-type {\n",
       "        vertical-align: middle;\n",
       "    }\n",
       "\n",
       "    .dataframe tbody tr th {\n",
       "        vertical-align: top;\n",
       "    }\n",
       "\n",
       "    .dataframe thead th {\n",
       "        text-align: right;\n",
       "    }\n",
       "</style>\n",
       "<table border=\"1\" class=\"dataframe\">\n",
       "  <thead>\n",
       "    <tr style=\"text-align: right;\">\n",
       "      <th></th>\n",
       "      <th>courseSectionId</th>\n",
       "      <th>vanityId</th>\n",
       "      <th>year</th>\n",
       "      <th>schoolId</th>\n",
       "    </tr>\n",
       "  </thead>\n",
       "  <tbody>\n",
       "    <tr>\n",
       "      <th>0</th>\n",
       "      <td>40388</td>\n",
       "      <td>PE 4</td>\n",
       "      <td>2015</td>\n",
       "      <td>222</td>\n",
       "    </tr>\n",
       "    <tr>\n",
       "      <th>1</th>\n",
       "      <td>40389</td>\n",
       "      <td>READING 4</td>\n",
       "      <td>2015</td>\n",
       "      <td>222</td>\n",
       "    </tr>\n",
       "    <tr>\n",
       "      <th>2</th>\n",
       "      <td>40390</td>\n",
       "      <td>HmroomPK6</td>\n",
       "      <td>2015</td>\n",
       "      <td>222</td>\n",
       "    </tr>\n",
       "    <tr>\n",
       "      <th>3</th>\n",
       "      <td>40391</td>\n",
       "      <td>LANGUAGE 4</td>\n",
       "      <td>2015</td>\n",
       "      <td>222</td>\n",
       "    </tr>\n",
       "    <tr>\n",
       "      <th>4</th>\n",
       "      <td>40392</td>\n",
       "      <td>SCIENCE 4</td>\n",
       "      <td>2015</td>\n",
       "      <td>222</td>\n",
       "    </tr>\n",
       "  </tbody>\n",
       "</table>\n",
       "</div>"
      ],
      "text/plain": [
       "   courseSectionId    vanityId  year  schoolId\n",
       "0            40388        PE 4  2015       222\n",
       "1            40389   READING 4  2015       222\n",
       "2            40390   HmroomPK6  2015       222\n",
       "3            40391  LANGUAGE 4  2015       222\n",
       "4            40392   SCIENCE 4  2015       222"
      ]
     },
     "execution_count": 39,
     "metadata": {},
     "output_type": "execute_result"
    }
   ],
   "source": [
    "copy_courseSections_df.rename(columns={'id': 'courseSectionId'}, inplace=True)\n",
    "copy_courseSections_df.head()"
   ]
  },
  {
   "cell_type": "code",
   "execution_count": 40,
   "metadata": {},
   "outputs": [
    {
     "data": {
      "text/plain": [
       "np.True_"
      ]
     },
     "execution_count": 40,
     "metadata": {},
     "output_type": "execute_result"
    }
   ],
   "source": [
    "all_present = courseSectionsRosters_df['courseSectionId'].isin(copy_courseSections_df['courseSectionId']).all()\n",
    "all_present"
   ]
  },
  {
   "cell_type": "code",
   "execution_count": 41,
   "metadata": {},
   "outputs": [
    {
     "data": {
      "text/html": [
       "<div>\n",
       "<style scoped>\n",
       "    .dataframe tbody tr th:only-of-type {\n",
       "        vertical-align: middle;\n",
       "    }\n",
       "\n",
       "    .dataframe tbody tr th {\n",
       "        vertical-align: top;\n",
       "    }\n",
       "\n",
       "    .dataframe thead th {\n",
       "        text-align: right;\n",
       "    }\n",
       "</style>\n",
       "<table border=\"1\" class=\"dataframe\">\n",
       "  <thead>\n",
       "    <tr style=\"text-align: right;\">\n",
       "      <th></th>\n",
       "      <th>id</th>\n",
       "      <th>courseSectionId</th>\n",
       "      <th>studentId</th>\n",
       "      <th>studentLevel</th>\n",
       "      <th>ticket</th>\n",
       "      <th>vanityId</th>\n",
       "      <th>year</th>\n",
       "      <th>schoolId</th>\n",
       "    </tr>\n",
       "  </thead>\n",
       "  <tbody>\n",
       "    <tr>\n",
       "      <th>0</th>\n",
       "      <td>1047696</td>\n",
       "      <td>39975</td>\n",
       "      <td>45333</td>\n",
       "      <td>4</td>\n",
       "      <td>NaN</td>\n",
       "      <td>MathGrade 4</td>\n",
       "      <td>2015</td>\n",
       "      <td>232</td>\n",
       "    </tr>\n",
       "    <tr>\n",
       "      <th>1</th>\n",
       "      <td>1047704</td>\n",
       "      <td>39975</td>\n",
       "      <td>56116</td>\n",
       "      <td>4</td>\n",
       "      <td>NaN</td>\n",
       "      <td>MathGrade 4</td>\n",
       "      <td>2015</td>\n",
       "      <td>232</td>\n",
       "    </tr>\n",
       "    <tr>\n",
       "      <th>2</th>\n",
       "      <td>1047706</td>\n",
       "      <td>39975</td>\n",
       "      <td>45345</td>\n",
       "      <td>4</td>\n",
       "      <td>NaN</td>\n",
       "      <td>MathGrade 4</td>\n",
       "      <td>2015</td>\n",
       "      <td>232</td>\n",
       "    </tr>\n",
       "    <tr>\n",
       "      <th>3</th>\n",
       "      <td>1047715</td>\n",
       "      <td>39975</td>\n",
       "      <td>45400</td>\n",
       "      <td>4</td>\n",
       "      <td>NaN</td>\n",
       "      <td>MathGrade 4</td>\n",
       "      <td>2015</td>\n",
       "      <td>232</td>\n",
       "    </tr>\n",
       "    <tr>\n",
       "      <th>4</th>\n",
       "      <td>1047729</td>\n",
       "      <td>39975</td>\n",
       "      <td>45413</td>\n",
       "      <td>4</td>\n",
       "      <td>NaN</td>\n",
       "      <td>MathGrade 4</td>\n",
       "      <td>2015</td>\n",
       "      <td>232</td>\n",
       "    </tr>\n",
       "  </tbody>\n",
       "</table>\n",
       "</div>"
      ],
      "text/plain": [
       "        id  courseSectionId  studentId  studentLevel ticket     vanityId  \\\n",
       "0  1047696            39975      45333             4    NaN  MathGrade 4   \n",
       "1  1047704            39975      56116             4    NaN  MathGrade 4   \n",
       "2  1047706            39975      45345             4    NaN  MathGrade 4   \n",
       "3  1047715            39975      45400             4    NaN  MathGrade 4   \n",
       "4  1047729            39975      45413             4    NaN  MathGrade 4   \n",
       "\n",
       "   year  schoolId  \n",
       "0  2015       232  \n",
       "1  2015       232  \n",
       "2  2015       232  \n",
       "3  2015       232  \n",
       "4  2015       232  "
      ]
     },
     "execution_count": 41,
     "metadata": {},
     "output_type": "execute_result"
    }
   ],
   "source": [
    "merged_courseSections_df = pd.merge(courseSectionsRosters_df, copy_courseSections_df, how = 'left')\n",
    "merged_courseSections_df.head()"
   ]
  },
  {
   "cell_type": "code",
   "execution_count": 42,
   "metadata": {},
   "outputs": [
    {
     "data": {
      "text/plain": [
       "id                      0\n",
       "courseSectionId         0\n",
       "studentId               0\n",
       "studentLevel            0\n",
       "ticket             610343\n",
       "vanityId                0\n",
       "year                    0\n",
       "schoolId                0\n",
       "dtype: int64"
      ]
     },
     "execution_count": 42,
     "metadata": {},
     "output_type": "execute_result"
    }
   ],
   "source": [
    "missing_values = merged_courseSections_df.isnull().sum()\n",
    "missing_values"
   ]
  },
  {
   "cell_type": "code",
   "execution_count": 43,
   "metadata": {},
   "outputs": [
    {
     "data": {
      "text/plain": [
       "id                 0\n",
       "courseSectionId    0\n",
       "studentId          0\n",
       "studentLevel       0\n",
       "vanityId           0\n",
       "year               0\n",
       "schoolId           0\n",
       "dtype: int64"
      ]
     },
     "execution_count": 43,
     "metadata": {},
     "output_type": "execute_result"
    }
   ],
   "source": [
    "merged_courseSections_df.drop(columns=['ticket'], inplace=True)\n",
    "merged_courseSections_df.isnull().sum()"
   ]
  },
  {
   "cell_type": "markdown",
   "metadata": {},
   "source": [
    "**DFs all together (for easy reference)**"
   ]
  },
  {
   "cell_type": "code",
   "execution_count": 44,
   "metadata": {},
   "outputs": [
    {
     "data": {
      "text/plain": [
       "(612241, 7)"
      ]
     },
     "execution_count": 44,
     "metadata": {},
     "output_type": "execute_result"
    }
   ],
   "source": [
    "merged_courseSections_df.shape"
   ]
  },
  {
   "cell_type": "code",
   "execution_count": 45,
   "metadata": {},
   "outputs": [
    {
     "data": {
      "text/html": [
       "<div>\n",
       "<style scoped>\n",
       "    .dataframe tbody tr th:only-of-type {\n",
       "        vertical-align: middle;\n",
       "    }\n",
       "\n",
       "    .dataframe tbody tr th {\n",
       "        vertical-align: top;\n",
       "    }\n",
       "\n",
       "    .dataframe thead th {\n",
       "        text-align: right;\n",
       "    }\n",
       "</style>\n",
       "<table border=\"1\" class=\"dataframe\">\n",
       "  <thead>\n",
       "    <tr style=\"text-align: right;\">\n",
       "      <th></th>\n",
       "      <th>id</th>\n",
       "      <th>vanityId</th>\n",
       "      <th>year</th>\n",
       "      <th>schoolId</th>\n",
       "    </tr>\n",
       "  </thead>\n",
       "  <tbody>\n",
       "    <tr>\n",
       "      <th>0</th>\n",
       "      <td>40388</td>\n",
       "      <td>PE 4</td>\n",
       "      <td>2015</td>\n",
       "      <td>222</td>\n",
       "    </tr>\n",
       "    <tr>\n",
       "      <th>1</th>\n",
       "      <td>40389</td>\n",
       "      <td>READING 4</td>\n",
       "      <td>2015</td>\n",
       "      <td>222</td>\n",
       "    </tr>\n",
       "    <tr>\n",
       "      <th>2</th>\n",
       "      <td>40390</td>\n",
       "      <td>HmroomPK6</td>\n",
       "      <td>2015</td>\n",
       "      <td>222</td>\n",
       "    </tr>\n",
       "    <tr>\n",
       "      <th>3</th>\n",
       "      <td>40391</td>\n",
       "      <td>LANGUAGE 4</td>\n",
       "      <td>2015</td>\n",
       "      <td>222</td>\n",
       "    </tr>\n",
       "    <tr>\n",
       "      <th>4</th>\n",
       "      <td>40392</td>\n",
       "      <td>SCIENCE 4</td>\n",
       "      <td>2015</td>\n",
       "      <td>222</td>\n",
       "    </tr>\n",
       "  </tbody>\n",
       "</table>\n",
       "</div>"
      ],
      "text/plain": [
       "      id    vanityId  year  schoolId\n",
       "0  40388        PE 4  2015       222\n",
       "1  40389   READING 4  2015       222\n",
       "2  40390   HmroomPK6  2015       222\n",
       "3  40391  LANGUAGE 4  2015       222\n",
       "4  40392   SCIENCE 4  2015       222"
      ]
     },
     "execution_count": 45,
     "metadata": {},
     "output_type": "execute_result"
    }
   ],
   "source": [
    "courseSections_df.head()"
   ]
  },
  {
   "cell_type": "code",
   "execution_count": 46,
   "metadata": {},
   "outputs": [
    {
     "data": {
      "text/plain": [
       "array([222, 223, 224, 226, 227, 228, 229, 231, 232, 233, 234, 235, 236,\n",
       "       237, 247, 248, 249])"
      ]
     },
     "execution_count": 46,
     "metadata": {},
     "output_type": "execute_result"
    }
   ],
   "source": [
    "courseSections_df.schoolId.unique()"
   ]
  },
  {
   "cell_type": "code",
   "execution_count": 47,
   "metadata": {},
   "outputs": [
    {
     "data": {
      "text/html": [
       "<div>\n",
       "<style scoped>\n",
       "    .dataframe tbody tr th:only-of-type {\n",
       "        vertical-align: middle;\n",
       "    }\n",
       "\n",
       "    .dataframe tbody tr th {\n",
       "        vertical-align: top;\n",
       "    }\n",
       "\n",
       "    .dataframe thead th {\n",
       "        text-align: right;\n",
       "    }\n",
       "</style>\n",
       "<table border=\"1\" class=\"dataframe\">\n",
       "  <thead>\n",
       "    <tr style=\"text-align: right;\">\n",
       "      <th></th>\n",
       "      <th>id</th>\n",
       "      <th>courseSectionId</th>\n",
       "      <th>studentId</th>\n",
       "      <th>studentLevel</th>\n",
       "      <th>ticket</th>\n",
       "    </tr>\n",
       "  </thead>\n",
       "  <tbody>\n",
       "    <tr>\n",
       "      <th>0</th>\n",
       "      <td>1047696</td>\n",
       "      <td>39975</td>\n",
       "      <td>45333</td>\n",
       "      <td>4</td>\n",
       "      <td>NaN</td>\n",
       "    </tr>\n",
       "    <tr>\n",
       "      <th>1</th>\n",
       "      <td>1047704</td>\n",
       "      <td>39975</td>\n",
       "      <td>56116</td>\n",
       "      <td>4</td>\n",
       "      <td>NaN</td>\n",
       "    </tr>\n",
       "    <tr>\n",
       "      <th>2</th>\n",
       "      <td>1047706</td>\n",
       "      <td>39975</td>\n",
       "      <td>45345</td>\n",
       "      <td>4</td>\n",
       "      <td>NaN</td>\n",
       "    </tr>\n",
       "    <tr>\n",
       "      <th>3</th>\n",
       "      <td>1047715</td>\n",
       "      <td>39975</td>\n",
       "      <td>45400</td>\n",
       "      <td>4</td>\n",
       "      <td>NaN</td>\n",
       "    </tr>\n",
       "    <tr>\n",
       "      <th>4</th>\n",
       "      <td>1047729</td>\n",
       "      <td>39975</td>\n",
       "      <td>45413</td>\n",
       "      <td>4</td>\n",
       "      <td>NaN</td>\n",
       "    </tr>\n",
       "  </tbody>\n",
       "</table>\n",
       "</div>"
      ],
      "text/plain": [
       "        id  courseSectionId  studentId  studentLevel ticket\n",
       "0  1047696            39975      45333             4    NaN\n",
       "1  1047704            39975      56116             4    NaN\n",
       "2  1047706            39975      45345             4    NaN\n",
       "3  1047715            39975      45400             4    NaN\n",
       "4  1047729            39975      45413             4    NaN"
      ]
     },
     "execution_count": 47,
     "metadata": {},
     "output_type": "execute_result"
    }
   ],
   "source": [
    "courseSectionsRosters_df.head()"
   ]
  },
  {
   "cell_type": "code",
   "execution_count": 48,
   "metadata": {},
   "outputs": [
    {
     "data": {
      "text/html": [
       "<div>\n",
       "<style scoped>\n",
       "    .dataframe tbody tr th:only-of-type {\n",
       "        vertical-align: middle;\n",
       "    }\n",
       "\n",
       "    .dataframe tbody tr th {\n",
       "        vertical-align: top;\n",
       "    }\n",
       "\n",
       "    .dataframe thead th {\n",
       "        text-align: right;\n",
       "    }\n",
       "</style>\n",
       "<table border=\"1\" class=\"dataframe\">\n",
       "  <thead>\n",
       "    <tr style=\"text-align: right;\">\n",
       "      <th></th>\n",
       "      <th>studentId</th>\n",
       "      <th>studentLevel</th>\n",
       "      <th>year</th>\n",
       "      <th>measurementTypeId</th>\n",
       "      <th>subgroup_specialEd</th>\n",
       "      <th>subgroup_lunchStatus</th>\n",
       "      <th>subgroup_gender</th>\n",
       "      <th>subgroup_ethnicity</th>\n",
       "      <th>subgroup_ell</th>\n",
       "      <th>subgroup_bottom25</th>\n",
       "      <th>...</th>\n",
       "      <th>value_starReading</th>\n",
       "      <th>value_starMath</th>\n",
       "      <th>value_ScienceMilestones</th>\n",
       "      <th>value_LEAPScience</th>\n",
       "      <th>value_SocialMilestones</th>\n",
       "      <th>value_gcaInfo</th>\n",
       "      <th>value_gcaNar</th>\n",
       "      <th>value_gcaOpin</th>\n",
       "      <th>value_aimsWebMath</th>\n",
       "      <th>value_aimsWebReading</th>\n",
       "    </tr>\n",
       "  </thead>\n",
       "  <tbody>\n",
       "    <tr>\n",
       "      <th>0</th>\n",
       "      <td>44774</td>\n",
       "      <td>9</td>\n",
       "      <td>2018</td>\n",
       "      <td>6</td>\n",
       "      <td>0</td>\n",
       "      <td>0</td>\n",
       "      <td>0</td>\n",
       "      <td>0</td>\n",
       "      <td>0</td>\n",
       "      <td>0</td>\n",
       "      <td>...</td>\n",
       "      <td>0</td>\n",
       "      <td>0</td>\n",
       "      <td>0</td>\n",
       "      <td>0</td>\n",
       "      <td>0</td>\n",
       "      <td>0</td>\n",
       "      <td>0</td>\n",
       "      <td>0</td>\n",
       "      <td>0</td>\n",
       "      <td>0</td>\n",
       "    </tr>\n",
       "    <tr>\n",
       "      <th>1</th>\n",
       "      <td>44774</td>\n",
       "      <td>8</td>\n",
       "      <td>2017</td>\n",
       "      <td>6</td>\n",
       "      <td>0</td>\n",
       "      <td>0</td>\n",
       "      <td>0</td>\n",
       "      <td>0</td>\n",
       "      <td>0</td>\n",
       "      <td>0</td>\n",
       "      <td>...</td>\n",
       "      <td>0</td>\n",
       "      <td>0</td>\n",
       "      <td>0</td>\n",
       "      <td>0</td>\n",
       "      <td>0</td>\n",
       "      <td>0</td>\n",
       "      <td>0</td>\n",
       "      <td>0</td>\n",
       "      <td>0</td>\n",
       "      <td>0</td>\n",
       "    </tr>\n",
       "    <tr>\n",
       "      <th>2</th>\n",
       "      <td>44774</td>\n",
       "      <td>8</td>\n",
       "      <td>2017</td>\n",
       "      <td>4</td>\n",
       "      <td>0</td>\n",
       "      <td>0</td>\n",
       "      <td>0</td>\n",
       "      <td>0</td>\n",
       "      <td>0</td>\n",
       "      <td>0</td>\n",
       "      <td>...</td>\n",
       "      <td>0</td>\n",
       "      <td>0</td>\n",
       "      <td>0</td>\n",
       "      <td>0</td>\n",
       "      <td>0</td>\n",
       "      <td>0</td>\n",
       "      <td>0</td>\n",
       "      <td>0</td>\n",
       "      <td>0</td>\n",
       "      <td>0</td>\n",
       "    </tr>\n",
       "    <tr>\n",
       "      <th>3</th>\n",
       "      <td>44775</td>\n",
       "      <td>8</td>\n",
       "      <td>2017</td>\n",
       "      <td>4</td>\n",
       "      <td>0</td>\n",
       "      <td>0</td>\n",
       "      <td>0</td>\n",
       "      <td>0</td>\n",
       "      <td>0</td>\n",
       "      <td>0</td>\n",
       "      <td>...</td>\n",
       "      <td>0</td>\n",
       "      <td>0</td>\n",
       "      <td>0</td>\n",
       "      <td>0</td>\n",
       "      <td>0</td>\n",
       "      <td>0</td>\n",
       "      <td>0</td>\n",
       "      <td>0</td>\n",
       "      <td>0</td>\n",
       "      <td>0</td>\n",
       "    </tr>\n",
       "    <tr>\n",
       "      <th>4</th>\n",
       "      <td>44775</td>\n",
       "      <td>8</td>\n",
       "      <td>2017</td>\n",
       "      <td>6</td>\n",
       "      <td>0</td>\n",
       "      <td>0</td>\n",
       "      <td>0</td>\n",
       "      <td>0</td>\n",
       "      <td>0</td>\n",
       "      <td>0</td>\n",
       "      <td>...</td>\n",
       "      <td>0</td>\n",
       "      <td>0</td>\n",
       "      <td>0</td>\n",
       "      <td>0</td>\n",
       "      <td>0</td>\n",
       "      <td>0</td>\n",
       "      <td>0</td>\n",
       "      <td>0</td>\n",
       "      <td>0</td>\n",
       "      <td>0</td>\n",
       "    </tr>\n",
       "  </tbody>\n",
       "</table>\n",
       "<p>5 rows × 69 columns</p>\n",
       "</div>"
      ],
      "text/plain": [
       "   studentId  studentLevel  year  measurementTypeId  subgroup_specialEd  \\\n",
       "0      44774             9  2018                  6                   0   \n",
       "1      44774             8  2017                  6                   0   \n",
       "2      44774             8  2017                  4                   0   \n",
       "3      44775             8  2017                  4                   0   \n",
       "4      44775             8  2017                  6                   0   \n",
       "\n",
       "   subgroup_lunchStatus  subgroup_gender  subgroup_ethnicity  subgroup_ell  \\\n",
       "0                     0                0                   0             0   \n",
       "1                     0                0                   0             0   \n",
       "2                     0                0                   0             0   \n",
       "3                     0                0                   0             0   \n",
       "4                     0                0                   0             0   \n",
       "\n",
       "   subgroup_bottom25  ...  value_starReading  value_starMath  \\\n",
       "0                  0  ...                  0               0   \n",
       "1                  0  ...                  0               0   \n",
       "2                  0  ...                  0               0   \n",
       "3                  0  ...                  0               0   \n",
       "4                  0  ...                  0               0   \n",
       "\n",
       "   value_ScienceMilestones  value_LEAPScience  value_SocialMilestones  \\\n",
       "0                        0                  0                       0   \n",
       "1                        0                  0                       0   \n",
       "2                        0                  0                       0   \n",
       "3                        0                  0                       0   \n",
       "4                        0                  0                       0   \n",
       "\n",
       "   value_gcaInfo  value_gcaNar  value_gcaOpin  value_aimsWebMath  \\\n",
       "0              0             0              0                  0   \n",
       "1              0             0              0                  0   \n",
       "2              0             0              0                  0   \n",
       "3              0             0              0                  0   \n",
       "4              0             0              0                  0   \n",
       "\n",
       "   value_aimsWebReading  \n",
       "0                     0  \n",
       "1                     0  \n",
       "2                     0  \n",
       "3                     0  \n",
       "4                     0  \n",
       "\n",
       "[5 rows x 69 columns]"
      ]
     },
     "execution_count": 48,
     "metadata": {},
     "output_type": "execute_result"
    }
   ],
   "source": [
    "scores_df.head()"
   ]
  },
  {
   "cell_type": "code",
   "execution_count": 49,
   "metadata": {},
   "outputs": [
    {
     "data": {
      "text/plain": [
       "Index(['studentId', 'studentLevel', 'year', 'measurementTypeId',\n",
       "       'subgroup_specialEd', 'subgroup_lunchStatus', 'subgroup_gender',\n",
       "       'subgroup_ethnicity', 'subgroup_ell', 'subgroup_bottom25',\n",
       "       'value_actMathScore', 'value_actEnglishScore', 'value_actReadingScore',\n",
       "       'value_actScienceScore', 'value_actCompositeScore', 'value_nweaMath',\n",
       "       'value_nweaReading', 'value_nweaEnglish', 'value_iReadyMath',\n",
       "       'value_iReadyReading', 'value_actMasteryComposite',\n",
       "       'value_actMasteryReading', 'value_actMasteryMath',\n",
       "       'value_actMasteryScience', 'value_actMasteryEnglish', 'value_nweaELA',\n",
       "       'value_scantronMath', 'value_scantronReading', 'value_mapMath',\n",
       "       'value_mapEnglish', 'value_mapReading', 'value_mapRLA',\n",
       "       'value_scantronScience', 'value_scantronLanguage',\n",
       "       'value_ReadingFoundations', 'value_scantronAlgebra', 'value_eocMath',\n",
       "       'value_actELAScore', 'value_mapScience', 'value_LeapELAScale',\n",
       "       'value_LeapMathScale', 'value_LeapALScale', 'value_LeapE2Scale',\n",
       "       'value_LeapGmScale', 'value_LeapBlScale', 'value_LeapE3Scale',\n",
       "       'value_LeapUsScale', 'value_E1Scale', 'value_UsEsScale',\n",
       "       'value_accessReadingScale', 'value_accessReadingProficiency',\n",
       "       'value_accessCompositeScale', 'value_accesscompositeProficiency',\n",
       "       'value_dibelsReading', 'value_mapHistory', 'value_LEAPSocSci',\n",
       "       'value_scantronGeometry', 'value_MathMilestones', 'value_ELAMilestones',\n",
       "       'value_starReading', 'value_starMath', 'value_ScienceMilestones',\n",
       "       'value_LEAPScience', 'value_SocialMilestones', 'value_gcaInfo',\n",
       "       'value_gcaNar', 'value_gcaOpin', 'value_aimsWebMath',\n",
       "       'value_aimsWebReading'],\n",
       "      dtype='object')"
      ]
     },
     "execution_count": 49,
     "metadata": {},
     "output_type": "execute_result"
    }
   ],
   "source": [
    "scores_df.columns"
   ]
  },
  {
   "cell_type": "code",
   "execution_count": 50,
   "metadata": {},
   "outputs": [
    {
     "data": {
      "text/plain": [
       "Index(['value_nweaEnglish', 'value_mapEnglish', 'value_scantronAlgebra',\n",
       "       'value_eocMath', 'value_scantronGeometry', 'value_LEAPScience',\n",
       "       'value_gcaInfo', 'value_gcaNar', 'value_gcaOpin', 'value_aimsWebMath',\n",
       "       'value_aimsWebReading'],\n",
       "      dtype='object')"
      ]
     },
     "execution_count": 50,
     "metadata": {},
     "output_type": "execute_result"
    }
   ],
   "source": [
    "all_zero_columns = scores_df.columns[(scores_df == 0).all()]\n",
    "all_zero_columns"
   ]
  },
  {
   "cell_type": "code",
   "execution_count": 51,
   "metadata": {},
   "outputs": [
    {
     "data": {
      "text/html": [
       "<div>\n",
       "<style scoped>\n",
       "    .dataframe tbody tr th:only-of-type {\n",
       "        vertical-align: middle;\n",
       "    }\n",
       "\n",
       "    .dataframe tbody tr th {\n",
       "        vertical-align: top;\n",
       "    }\n",
       "\n",
       "    .dataframe thead th {\n",
       "        text-align: right;\n",
       "    }\n",
       "</style>\n",
       "<table border=\"1\" class=\"dataframe\">\n",
       "  <thead>\n",
       "    <tr style=\"text-align: right;\">\n",
       "      <th></th>\n",
       "      <th>id</th>\n",
       "      <th>vendorId</th>\n",
       "      <th>studentId</th>\n",
       "      <th>active</th>\n",
       "      <th>year</th>\n",
       "      <th>usageTypeId</th>\n",
       "      <th>weeklyUsageMinutes</th>\n",
       "    </tr>\n",
       "  </thead>\n",
       "  <tbody>\n",
       "    <tr>\n",
       "      <th>0</th>\n",
       "      <td>11890</td>\n",
       "      <td>72609</td>\n",
       "      <td>44777</td>\n",
       "      <td>0</td>\n",
       "      <td>2018</td>\n",
       "      <td>1</td>\n",
       "      <td>0</td>\n",
       "    </tr>\n",
       "    <tr>\n",
       "      <th>1</th>\n",
       "      <td>11891</td>\n",
       "      <td>72609</td>\n",
       "      <td>44783</td>\n",
       "      <td>0</td>\n",
       "      <td>2018</td>\n",
       "      <td>1</td>\n",
       "      <td>0</td>\n",
       "    </tr>\n",
       "    <tr>\n",
       "      <th>2</th>\n",
       "      <td>11892</td>\n",
       "      <td>72609</td>\n",
       "      <td>44784</td>\n",
       "      <td>0</td>\n",
       "      <td>2018</td>\n",
       "      <td>1</td>\n",
       "      <td>0</td>\n",
       "    </tr>\n",
       "    <tr>\n",
       "      <th>3</th>\n",
       "      <td>11893</td>\n",
       "      <td>72609</td>\n",
       "      <td>44807</td>\n",
       "      <td>0</td>\n",
       "      <td>2018</td>\n",
       "      <td>1</td>\n",
       "      <td>0</td>\n",
       "    </tr>\n",
       "    <tr>\n",
       "      <th>4</th>\n",
       "      <td>11894</td>\n",
       "      <td>72609</td>\n",
       "      <td>44809</td>\n",
       "      <td>0</td>\n",
       "      <td>2018</td>\n",
       "      <td>1</td>\n",
       "      <td>0</td>\n",
       "    </tr>\n",
       "  </tbody>\n",
       "</table>\n",
       "</div>"
      ],
      "text/plain": [
       "      id  vendorId  studentId  active  year  usageTypeId  weeklyUsageMinutes\n",
       "0  11890     72609      44777       0  2018            1                   0\n",
       "1  11891     72609      44783       0  2018            1                   0\n",
       "2  11892     72609      44784       0  2018            1                   0\n",
       "3  11893     72609      44807       0  2018            1                   0\n",
       "4  11894     72609      44809       0  2018            1                   0"
      ]
     },
     "execution_count": 51,
     "metadata": {},
     "output_type": "execute_result"
    }
   ],
   "source": [
    "vendorUsage_df.head()"
   ]
  },
  {
   "cell_type": "code",
   "execution_count": 52,
   "metadata": {},
   "outputs": [
    {
     "data": {
      "text/plain": [
       "array([72609, 11333, 39195, 27172, 61673, 37017, 36130, 62382, 62509,\n",
       "       62508, 37269, 25405, 52447, 52448, 61544,  7273, 63431, 63432,\n",
       "       22410, 63616, 23165,  7035, 11464])"
      ]
     },
     "execution_count": 52,
     "metadata": {},
     "output_type": "execute_result"
    }
   ],
   "source": [
    "vendorUsage_df.vendorId.unique()"
   ]
  },
  {
   "cell_type": "code",
   "execution_count": 53,
   "metadata": {},
   "outputs": [
    {
     "data": {
      "text/plain": [
       "array([ 1,  2,  3,  5,  6,  4, 10, 11, 12,  7,  8,  9, 14])"
      ]
     },
     "execution_count": 53,
     "metadata": {},
     "output_type": "execute_result"
    }
   ],
   "source": [
    "vendorUsage_df.usageTypeId.unique()"
   ]
  },
  {
   "cell_type": "code",
   "execution_count": 54,
   "metadata": {},
   "outputs": [
    {
     "data": {
      "text/plain": [
       "(158007, 7)"
      ]
     },
     "execution_count": 54,
     "metadata": {},
     "output_type": "execute_result"
    }
   ],
   "source": [
    "vendorUsage_df.shape"
   ]
  },
  {
   "cell_type": "code",
   "execution_count": 55,
   "metadata": {},
   "outputs": [
    {
     "data": {
      "text/plain": [
       "44176"
      ]
     },
     "execution_count": 55,
     "metadata": {},
     "output_type": "execute_result"
    }
   ],
   "source": [
    "vendorUsage_df.studentId.nunique()"
   ]
  },
  {
   "cell_type": "code",
   "execution_count": 56,
   "metadata": {},
   "outputs": [
    {
     "data": {
      "text/html": [
       "<div>\n",
       "<style scoped>\n",
       "    .dataframe tbody tr th:only-of-type {\n",
       "        vertical-align: middle;\n",
       "    }\n",
       "\n",
       "    .dataframe tbody tr th {\n",
       "        vertical-align: top;\n",
       "    }\n",
       "\n",
       "    .dataframe thead th {\n",
       "        text-align: right;\n",
       "    }\n",
       "</style>\n",
       "<table border=\"1\" class=\"dataframe\">\n",
       "  <thead>\n",
       "    <tr style=\"text-align: right;\">\n",
       "      <th></th>\n",
       "      <th>districtId</th>\n",
       "      <th>year</th>\n",
       "      <th>level</th>\n",
       "      <th>dataSource</th>\n",
       "      <th>value</th>\n",
       "    </tr>\n",
       "  </thead>\n",
       "  <tbody>\n",
       "    <tr>\n",
       "      <th>0</th>\n",
       "      <td>45</td>\n",
       "      <td>2017</td>\n",
       "      <td>3</td>\n",
       "      <td>value_scantronMath</td>\n",
       "      <td>2356.0</td>\n",
       "    </tr>\n",
       "    <tr>\n",
       "      <th>1</th>\n",
       "      <td>45</td>\n",
       "      <td>2017</td>\n",
       "      <td>3</td>\n",
       "      <td>value_scantronReading</td>\n",
       "      <td>2563.0</td>\n",
       "    </tr>\n",
       "    <tr>\n",
       "      <th>2</th>\n",
       "      <td>45</td>\n",
       "      <td>2017</td>\n",
       "      <td>4</td>\n",
       "      <td>value_scantronMath</td>\n",
       "      <td>2493.0</td>\n",
       "    </tr>\n",
       "    <tr>\n",
       "      <th>3</th>\n",
       "      <td>45</td>\n",
       "      <td>2017</td>\n",
       "      <td>4</td>\n",
       "      <td>value_scantronReading</td>\n",
       "      <td>2674.0</td>\n",
       "    </tr>\n",
       "    <tr>\n",
       "      <th>4</th>\n",
       "      <td>45</td>\n",
       "      <td>2017</td>\n",
       "      <td>5</td>\n",
       "      <td>value_scantronMath</td>\n",
       "      <td>2584.0</td>\n",
       "    </tr>\n",
       "  </tbody>\n",
       "</table>\n",
       "</div>"
      ],
      "text/plain": [
       "   districtId  year  level             dataSource   value\n",
       "0          45  2017      3     value_scantronMath  2356.0\n",
       "1          45  2017      3  value_scantronReading  2563.0\n",
       "2          45  2017      4     value_scantronMath  2493.0\n",
       "3          45  2017      4  value_scantronReading  2674.0\n",
       "4          45  2017      5     value_scantronMath  2584.0"
      ]
     },
     "execution_count": 56,
     "metadata": {},
     "output_type": "execute_result"
    }
   ],
   "source": [
    "benchmarks_df.head()"
   ]
  },
  {
   "cell_type": "code",
   "execution_count": 57,
   "metadata": {},
   "outputs": [
    {
     "data": {
      "text/plain": [
       "array(['value_scantronMath', 'value_scantronReading',\n",
       "       'value_actCompositeScore', 'value_aspireReadingScaleScore',\n",
       "       'value_starMath', 'value_actMathScore', 'value_actReadingScore',\n",
       "       'value_actEnglishScore', 'value_actScienceScore'], dtype=object)"
      ]
     },
     "execution_count": 57,
     "metadata": {},
     "output_type": "execute_result"
    }
   ],
   "source": [
    "benchmarks_df.dataSource.unique()"
   ]
  },
  {
   "cell_type": "code",
   "execution_count": null,
   "metadata": {},
   "outputs": [],
   "source": []
  }
 ],
 "metadata": {
  "kernelspec": {
   "display_name": "Python 3",
   "language": "python",
   "name": "python3"
  },
  "language_info": {
   "codemirror_mode": {
    "name": "ipython",
    "version": 3
   },
   "file_extension": ".py",
   "mimetype": "text/x-python",
   "name": "python",
   "nbconvert_exporter": "python",
   "pygments_lexer": "ipython3",
   "version": "3.9.6"
  }
 },
 "nbformat": 4,
 "nbformat_minor": 2
}
