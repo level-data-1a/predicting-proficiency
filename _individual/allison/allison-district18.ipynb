{
 "cells": [
  {
   "cell_type": "code",
   "execution_count": 1,
   "metadata": {},
   "outputs": [],
   "source": [
    "import pandas as pd\n",
    "import numpy as np\n",
    "import json\n",
    "import seaborn as sns\n",
    "import matplotlib.pyplot as plt\n",
    "import os"
   ]
  },
  {
   "cell_type": "code",
   "execution_count": 29,
   "metadata": {},
   "outputs": [],
   "source": [
    "pd.set_option('display.max_rows', None)\n",
    "pd.set_option('display.max_columns', None)\n",
    "pd.set_option('display.width', None)\n",
    "pd.set_option('display.max_colwidth', None)"
   ]
  },
  {
   "cell_type": "code",
   "execution_count": 2,
   "metadata": {},
   "outputs": [],
   "source": [
    "repo_root = os.path.abspath(os.path.join(os.getcwd(), '..'))\n",
    "data_path = os.path.join(repo_root, 'predicting-proficiency', 'data')"
   ]
  },
  {
   "cell_type": "markdown",
   "metadata": {},
   "source": [
    "# process data"
   ]
  },
  {
   "cell_type": "code",
   "execution_count": 7,
   "metadata": {},
   "outputs": [],
   "source": [
    "file_names = [\n",
    "    ('2024-10-08 District 18 Scores.json', '2023 District 18 Scores.json'),\n",
    "    ('2024-10-08 District 18 Schools.json', 'District 18 Anonymized Schools.json'),\n",
    "    ('2024-10-08 District 18 Student Attributes.json', '2023 District 18 Student Attributes.json'),\n",
    "    ('2024-10-08 District 18 Vendor Student Usage.json', '2023 District 18 Vendor Student Usage'),\n",
    "    ('2024-10-08 Distrcit 18 Vendor Usage Types.json','District 18 Vendor Usage Types.json'),\n",
    "    ('2024-10-15 District 18 Benchmarks.json', 'benchmarksByMeasurement18_202410141332.json')\n",
    "]\n",
    "\n",
    "for old_name, new_name in file_names:\n",
    "    old_path = os.path.join(data_path, 'raw', old_name)\n",
    "    new_path = os.path.join(data_path, 'raw', new_name)\n",
    "    if os.path.exists(old_path) and not os.path.exists(new_path):\n",
    "        os.rename(old_path, new_path)"
   ]
  },
  {
   "cell_type": "code",
   "execution_count": 8,
   "metadata": {},
   "outputs": [
    {
     "data": {
      "text/plain": [
       "[('2024-10-08 District 18 Scores.json', '2023 District 18 Scores.json'),\n",
       " ('2024-10-08 District 18 Schools.json',\n",
       "  'District 18 Anonymized Schools.json'),\n",
       " ('2024-10-08 District 18 Student Attributes.json',\n",
       "  '2023 District 18 Student Attributes.json'),\n",
       " ('2024-10-08 District 18 Vendor Student Usage.json',\n",
       "  '2023 District 18 Vendor Student Usage'),\n",
       " ('2024-10-08 Distrcit 18 Vendor Usage Types.json',\n",
       "  'District 18 Vendor Usage Types.json'),\n",
       " ('2024-10-15 District 18 Benchmarks.json',\n",
       "  'benchmarksByMeasurement18_202410141332.json')]"
      ]
     },
     "execution_count": 8,
     "metadata": {},
     "output_type": "execute_result"
    }
   ],
   "source": [
    "file_names"
   ]
  },
  {
   "cell_type": "code",
   "execution_count": 10,
   "metadata": {},
   "outputs": [],
   "source": [
    "with open('../../data/raw/2023 District 18 Scores.json', 'r') as file:\n",
    "    scores_json = json.loads(file.read())\n",
    "\n",
    "with open('../../data/raw/District 18 Anonymized Schools.json', 'r') as file:\n",
    "    schools_json = json.loads(file.read())\n",
    "\n",
    "with open('../../data/raw/2023 District 18 Student Attributes.json', 'r') as file:\n",
    "    studentAttributes_json = json.loads(file.read())\n",
    "\n",
    "with open('../../data/raw/2023 District 18 Vendor Student Usage.json', 'r') as file:\n",
    "    vendorUsage_json = json.loads(file.read())\n",
    "\n",
    "with open('../../data/raw/District 18 Vendor Usage Types.json', 'r') as file:\n",
    "    vendorUsageTypes_json = json.loads(file.read())\n",
    "\n",
    "with open('../../data/raw/benchmarksByMeasurement_202410141332.json', 'r') as file:\n",
    "    benchmarks_json = json.loads(file.read())"
   ]
  },
  {
   "cell_type": "code",
   "execution_count": 11,
   "metadata": {},
   "outputs": [],
   "source": [
    "scores_data = scores_json[list(scores_json.keys())[0]]\n",
    "scores_df= pd.DataFrame(scores_data)\n",
    "\n",
    "schools_data = schools_json[list(schools_json.keys())[0]]\n",
    "schools_df = pd.DataFrame(schools_data)\n",
    "\n",
    "studentAttributes_data = studentAttributes_json[list(studentAttributes_json.keys())[0]]\n",
    "studentAttributes_df=pd.DataFrame(studentAttributes_data)\n",
    "\n",
    "vendorUsage_data = vendorUsage_json[list(vendorUsage_json.keys())[0]]\n",
    "vendorUsage_df = pd.DataFrame(vendorUsage_data)\n",
    "\n",
    "vendorUsageTypes_data = vendorUsageTypes_json[list(vendorUsageTypes_json.keys())[0]]\n",
    "vendorUsageTypes_df = pd.DataFrame(vendorUsageTypes_data)\n",
    "\n",
    "benchmarks_data = benchmarks_json[list(benchmarks_json.keys())[0]]\n",
    "benchmarks_df = pd.DataFrame(benchmarks_data)\n"
   ]
  },
  {
   "cell_type": "code",
   "execution_count": 16,
   "metadata": {},
   "outputs": [],
   "source": [
    "repo_root = os.path.abspath(os.path.join(os.getcwd(), '../..'))\n",
    "data_path = os.path.join(repo_root, 'data')\n",
    "\n",
    "processed_dir = os.path.join(data_path, 'processed')\n",
    "# if os.path.exists(processed_dir):\n",
    "#     for file in os.listdir(processed_dir):\n",
    "#         file_path = os.path.join(processed_dir, file)\n",
    "#         if os.path.isfile(file_path):\n",
    "#             os.unlink(file_path)\n",
    "\n",
    "os.makedirs(os.path.dirname(data_path), exist_ok=True)\n",
    "scores_df.to_csv(os.path.join(data_path, 'processed', '18_scores_2024-10-08.csv'), index=False)\n",
    "schools_df.to_csv(os.path.join(data_path, 'processed', '18_schools_2024-10-08.csv'), index=False)\n",
    "studentAttributes_df.to_csv(os.path.join(data_path, 'processed', '18_studentAttributes_2024-10-08.csv'), index=False)\n",
    "vendorUsage_df.to_csv(os.path.join(data_path, 'processed', '18_vendorUsage_2024-10-08.csv'), index=False)\n",
    "vendorUsageTypes_df.to_csv(os.path.join(data_path, 'processed', '18_vendorUsageTypes_2024-10-08.csv'), index=False)\n",
    "benchmarks_df.to_csv(os.path.join(data_path, 'processed', '18_benchmark_2024-10-15.csv'), index=False)\n"
   ]
  },
  {
   "cell_type": "markdown",
   "metadata": {},
   "source": [
    "# make dfs"
   ]
  },
  {
   "cell_type": "code",
   "execution_count": 44,
   "metadata": {},
   "outputs": [
    {
     "name": "stderr",
     "output_type": "stream",
     "text": [
      "/var/folders/w3/z8qntdcx62v2qmj6z9fwfhrh0000gp/T/ipykernel_28196/762126148.py:4: DtypeWarning: Columns (3) have mixed types. Specify dtype option on import or set low_memory=False.\n",
      "  scores_df = pd.read_csv(os.path.join(path, '18_scores_2024-10-08.csv'))\n"
     ]
    }
   ],
   "source": [
    "path = '../../data/processed'\n",
    "benchmarks_df = pd.read_csv(os.path.join(path, '18_benchmark_2024-10-15.csv'))\n",
    "schools_df = pd.read_csv(os.path.join(path, '18_schools_2024-10-08.csv'))\n",
    "scores_df = pd.read_csv(os.path.join(path, '18_scores_2024-10-08.csv'))\n",
    "vendorUsage_df = pd.read_csv(os.path.join(path, '18_vendorUsage_2024-10-08.csv'))\n",
    "vendorUsageTypes_df = pd.read_csv(os.path.join(path, '18_vendorUsageTypes_2024-10-08.csv'))"
   ]
  },
  {
   "cell_type": "markdown",
   "metadata": {},
   "source": [
    "## scores"
   ]
  },
  {
   "cell_type": "code",
   "execution_count": 36,
   "metadata": {},
   "outputs": [
    {
     "data": {
      "text/plain": [
       "['id',\n",
       " 'districtId',\n",
       " 'subgroup_TCAPELALevel',\n",
       " 'ticket',\n",
       " 'studentId',\n",
       " 'studentLevel',\n",
       " 'year',\n",
       " 'scoreDate',\n",
       " 'measurementTypeId',\n",
       " 'subgroup_specialEd',\n",
       " 'subgroup_lunchStatus',\n",
       " 'subgroup_gender',\n",
       " 'subgroup_ethnicity',\n",
       " 'subgroup_ell',\n",
       " 'subGroup_bottom25',\n",
       " 'subgroup_TCAPMathLevel']"
      ]
     },
     "execution_count": 36,
     "metadata": {},
     "output_type": "execute_result"
    }
   ],
   "source": [
    "list(col for col in scores_df.columns if 'value_' not in col)"
   ]
  },
  {
   "cell_type": "code",
   "execution_count": 39,
   "metadata": {},
   "outputs": [
    {
     "name": "stdout",
     "output_type": "stream",
     "text": [
      "year\n",
      "2023    132258\n",
      "Name: count, dtype: int64\n",
      "\n",
      "studentLevel\n",
      " 8     16802\n",
      " 6     16039\n",
      " 7     15903\n",
      " 3     15434\n",
      " 2     14925\n",
      " 5     14754\n",
      " 4     14464\n",
      " 9      5409\n",
      " 10     4400\n",
      " 1      4299\n",
      " 11     4082\n",
      " 0      3303\n",
      " 12     2414\n",
      " 62       21\n",
      " 56        6\n",
      " 52        2\n",
      "-1         1\n",
      "Name: count, dtype: int64\n",
      "\n",
      "measurementTypeId\n",
      "4     10503\n",
      "3      9359\n",
      "1      9087\n",
      "2      9079\n",
      "7      8956\n",
      "6      8427\n",
      "9      7778\n",
      "5      7755\n",
      "18     6063\n",
      "14     5965\n",
      "17     5965\n",
      "16     5965\n",
      "15     5965\n",
      "8      5965\n",
      "13     5965\n",
      "12     5965\n",
      "11     5965\n",
      "10     5965\n",
      "40     1566\n",
      "Name: count, dtype: int64\n"
     ]
    }
   ],
   "source": [
    "print(scores_df['year'].value_counts())\n",
    "print()\n",
    "print(scores_df['studentLevel'].value_counts())\n",
    "print()\n",
    "print(scores_df['measurementTypeId'].value_counts())"
   ]
  },
  {
   "cell_type": "markdown",
   "metadata": {},
   "source": [
    "## vendors"
   ]
  },
  {
   "cell_type": "code",
   "execution_count": 22,
   "metadata": {},
   "outputs": [
    {
     "data": {
      "text/html": [
       "<div>\n",
       "<style scoped>\n",
       "    .dataframe tbody tr th:only-of-type {\n",
       "        vertical-align: middle;\n",
       "    }\n",
       "\n",
       "    .dataframe tbody tr th {\n",
       "        vertical-align: top;\n",
       "    }\n",
       "\n",
       "    .dataframe thead th {\n",
       "        text-align: right;\n",
       "    }\n",
       "</style>\n",
       "<table border=\"1\" class=\"dataframe\">\n",
       "  <thead>\n",
       "    <tr style=\"text-align: right;\">\n",
       "      <th></th>\n",
       "      <th>id</th>\n",
       "      <th>name</th>\n",
       "      <th>districtId</th>\n",
       "      <th>usageTypeId</th>\n",
       "      <th>roiBucketType</th>\n",
       "      <th>initiativeId</th>\n",
       "      <th>vendorId</th>\n",
       "      <th>utilBucketType</th>\n",
       "      <th>weeklyUsageMinutes</th>\n",
       "      <th>productId</th>\n",
       "    </tr>\n",
       "  </thead>\n",
       "  <tbody>\n",
       "    <tr>\n",
       "      <th>0</th>\n",
       "      <td>4</td>\n",
       "      <td>IXL Reading Non</td>\n",
       "      <td>18</td>\n",
       "      <td>1</td>\n",
       "      <td>loss</td>\n",
       "      <td>61</td>\n",
       "      <td>72609</td>\n",
       "      <td>nonUser</td>\n",
       "      <td>0</td>\n",
       "      <td>0</td>\n",
       "    </tr>\n",
       "    <tr>\n",
       "      <th>1</th>\n",
       "      <td>5</td>\n",
       "      <td>IXL Reading Partial</td>\n",
       "      <td>18</td>\n",
       "      <td>2</td>\n",
       "      <td>loss</td>\n",
       "      <td>61</td>\n",
       "      <td>72609</td>\n",
       "      <td>partialUser</td>\n",
       "      <td>0</td>\n",
       "      <td>0</td>\n",
       "    </tr>\n",
       "    <tr>\n",
       "      <th>2</th>\n",
       "      <td>6</td>\n",
       "      <td>IXL Reading User</td>\n",
       "      <td>18</td>\n",
       "      <td>3</td>\n",
       "      <td>gain</td>\n",
       "      <td>61</td>\n",
       "      <td>72609</td>\n",
       "      <td>fullUser</td>\n",
       "      <td>0</td>\n",
       "      <td>0</td>\n",
       "    </tr>\n",
       "    <tr>\n",
       "      <th>3</th>\n",
       "      <td>7</td>\n",
       "      <td>IXL Math Non User</td>\n",
       "      <td>18</td>\n",
       "      <td>4</td>\n",
       "      <td>loss</td>\n",
       "      <td>60</td>\n",
       "      <td>11333</td>\n",
       "      <td>nonUser</td>\n",
       "      <td>0</td>\n",
       "      <td>0</td>\n",
       "    </tr>\n",
       "    <tr>\n",
       "      <th>4</th>\n",
       "      <td>8</td>\n",
       "      <td>IXL Math Partial</td>\n",
       "      <td>18</td>\n",
       "      <td>5</td>\n",
       "      <td>loss</td>\n",
       "      <td>60</td>\n",
       "      <td>11333</td>\n",
       "      <td>partialUser</td>\n",
       "      <td>0</td>\n",
       "      <td>0</td>\n",
       "    </tr>\n",
       "    <tr>\n",
       "      <th>...</th>\n",
       "      <td>...</td>\n",
       "      <td>...</td>\n",
       "      <td>...</td>\n",
       "      <td>...</td>\n",
       "      <td>...</td>\n",
       "      <td>...</td>\n",
       "      <td>...</td>\n",
       "      <td>...</td>\n",
       "      <td>...</td>\n",
       "      <td>...</td>\n",
       "    </tr>\n",
       "    <tr>\n",
       "      <th>285</th>\n",
       "      <td>14805</td>\n",
       "      <td>IXL Reading Partial</td>\n",
       "      <td>18</td>\n",
       "      <td>2</td>\n",
       "      <td>loss</td>\n",
       "      <td>4080</td>\n",
       "      <td>72609</td>\n",
       "      <td>partialUser</td>\n",
       "      <td>0</td>\n",
       "      <td>0</td>\n",
       "    </tr>\n",
       "    <tr>\n",
       "      <th>286</th>\n",
       "      <td>14806</td>\n",
       "      <td>IXL Reading User</td>\n",
       "      <td>18</td>\n",
       "      <td>3</td>\n",
       "      <td>gain</td>\n",
       "      <td>4080</td>\n",
       "      <td>72609</td>\n",
       "      <td>fullUser</td>\n",
       "      <td>0</td>\n",
       "      <td>0</td>\n",
       "    </tr>\n",
       "    <tr>\n",
       "      <th>287</th>\n",
       "      <td>14807</td>\n",
       "      <td>IXL Reading Non</td>\n",
       "      <td>18</td>\n",
       "      <td>1</td>\n",
       "      <td>loss</td>\n",
       "      <td>4081</td>\n",
       "      <td>72609</td>\n",
       "      <td>nonUser</td>\n",
       "      <td>0</td>\n",
       "      <td>0</td>\n",
       "    </tr>\n",
       "    <tr>\n",
       "      <th>288</th>\n",
       "      <td>14808</td>\n",
       "      <td>IXL Reading Partial</td>\n",
       "      <td>18</td>\n",
       "      <td>2</td>\n",
       "      <td>loss</td>\n",
       "      <td>4081</td>\n",
       "      <td>72609</td>\n",
       "      <td>partialUser</td>\n",
       "      <td>0</td>\n",
       "      <td>0</td>\n",
       "    </tr>\n",
       "    <tr>\n",
       "      <th>289</th>\n",
       "      <td>14809</td>\n",
       "      <td>IXL Reading User</td>\n",
       "      <td>18</td>\n",
       "      <td>3</td>\n",
       "      <td>gain</td>\n",
       "      <td>4081</td>\n",
       "      <td>72609</td>\n",
       "      <td>fullUser</td>\n",
       "      <td>0</td>\n",
       "      <td>0</td>\n",
       "    </tr>\n",
       "  </tbody>\n",
       "</table>\n",
       "<p>290 rows × 10 columns</p>\n",
       "</div>"
      ],
      "text/plain": [
       "        id                 name  districtId  usageTypeId roiBucketType  \\\n",
       "0        4      IXL Reading Non          18            1          loss   \n",
       "1        5  IXL Reading Partial          18            2          loss   \n",
       "2        6     IXL Reading User          18            3          gain   \n",
       "3        7    IXL Math Non User          18            4          loss   \n",
       "4        8    IXL Math Partial           18            5          loss   \n",
       "..     ...                  ...         ...          ...           ...   \n",
       "285  14805  IXL Reading Partial          18            2          loss   \n",
       "286  14806     IXL Reading User          18            3          gain   \n",
       "287  14807      IXL Reading Non          18            1          loss   \n",
       "288  14808  IXL Reading Partial          18            2          loss   \n",
       "289  14809     IXL Reading User          18            3          gain   \n",
       "\n",
       "     initiativeId  vendorId utilBucketType  weeklyUsageMinutes  productId  \n",
       "0              61     72609        nonUser                   0          0  \n",
       "1              61     72609    partialUser                   0          0  \n",
       "2              61     72609       fullUser                   0          0  \n",
       "3              60     11333        nonUser                   0          0  \n",
       "4              60     11333    partialUser                   0          0  \n",
       "..            ...       ...            ...                 ...        ...  \n",
       "285          4080     72609    partialUser                   0          0  \n",
       "286          4080     72609       fullUser                   0          0  \n",
       "287          4081     72609        nonUser                   0          0  \n",
       "288          4081     72609    partialUser                   0          0  \n",
       "289          4081     72609       fullUser                   0          0  \n",
       "\n",
       "[290 rows x 10 columns]"
      ]
     },
     "execution_count": 22,
     "metadata": {},
     "output_type": "execute_result"
    }
   ],
   "source": [
    "vendorUsageTypes_df"
   ]
  },
  {
   "cell_type": "code",
   "execution_count": 46,
   "metadata": {},
   "outputs": [
    {
     "data": {
      "text/plain": [
       "array(['IXL Reading Non', 'IXL Reading Partial', 'IXL Reading User',\n",
       "       'IXL Math Non User', 'IXL Math Partial ', 'IXL Math User',\n",
       "       'MyOn R User', 'MyOn R Partial User', 'MyOn R Non User',\n",
       "       'Freckle R User', 'Freckle R Partial User', 'Freckle R Non User',\n",
       "       'Freckle M User', 'Freckle M Partial User', 'Freckle M Non User ',\n",
       "       'Freckle Sci User', 'Freckle Sci Partial User',\n",
       "       'Freckle Sci NonUser', 'Freckle SS User', 'Freckle SS PartialUser',\n",
       "       'Freckle SS NonUser', 'IXL Science User', 'IXL Science Non User',\n",
       "       'IXL Science Partial', 'IXL SS User', 'IXL SS Non',\n",
       "       'IXL SS Partial', 'Freckle M Adaptive User',\n",
       "       'Freckle M Adaptive Partial User', 'Freckle M Adaptive Non User',\n",
       "       'Freckle M Target User', 'Freckle M Target Partial User',\n",
       "       'Freckle M Target Non User', 'Beable ELA User',\n",
       "       'Beable ELA Partial User', 'Beable Non User', 'AR User',\n",
       "       'AR Partial User', 'AR Non User', 'Reflex M User',\n",
       "       'Reflex M Partial User', 'Reflex M Non User', 'Frax M User',\n",
       "       'Frax M Partial User', 'Frax M Non User'], dtype=object)"
      ]
     },
     "execution_count": 46,
     "metadata": {},
     "output_type": "execute_result"
    }
   ],
   "source": [
    "vendorUsageTypes_df['name'].unique()"
   ]
  },
  {
   "cell_type": "code",
   "execution_count": 45,
   "metadata": {},
   "outputs": [
    {
     "data": {
      "text/plain": [
       "usageTypeId\n",
       "39    8610\n",
       "1     8165\n",
       "4     8042\n",
       "3     7598\n",
       "6     7568\n",
       "27    6471\n",
       "24    6041\n",
       "42    4427\n",
       "5     4167\n",
       "2     4014\n",
       "37    1683\n",
       "41    1110\n",
       "38     945\n",
       "23     602\n",
       "26     259\n",
       "22     200\n",
       "40     195\n",
       "25     113\n",
       "9      105\n",
       "Name: count, dtype: int64"
      ]
     },
     "execution_count": 45,
     "metadata": {},
     "output_type": "execute_result"
    }
   ],
   "source": [
    "vendorUsage_df['usageTypeId'].value_counts()"
   ]
  }
 ],
 "metadata": {
  "kernelspec": {
   "display_name": "Python 3",
   "language": "python",
   "name": "python3"
  },
  "language_info": {
   "codemirror_mode": {
    "name": "ipython",
    "version": 3
   },
   "file_extension": ".py",
   "mimetype": "text/x-python",
   "name": "python",
   "nbconvert_exporter": "python",
   "pygments_lexer": "ipython3",
   "version": "3.11.4"
  }
 },
 "nbformat": 4,
 "nbformat_minor": 2
}
