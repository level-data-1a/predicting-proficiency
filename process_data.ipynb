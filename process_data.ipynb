{
 "cells": [
  {
   "cell_type": "markdown",
   "metadata": {},
   "source": [
    "# How to use this notebook\n",
    "\n",
    "**Before running this notebook:**\n",
    "<br>\n",
    "Set up the following file structure (namely, the `raw/`, `processed/`, and `archive/` folders within `data/`). Populate `raw/` with the data that we have been given. \n",
    "\n",
    "```\n",
    "data/\n",
    "├── raw/\n",
    "│   ├── district.json\n",
    "│   ├── 2024-09-11_District_A_Benchmarks.json\n",
    "│   ├── 2024-09-11_District_A_Scores.json\n",
    "│   └── ... (future raw data files)\n",
    "├── processed/\n",
    "└── archive/\n",
    "README.md\n",
    "```\n",
    "\n",
    "**When you run this notebook, it will...**\n",
    "- Rename the raw files to follow a consistent format\n",
    "- Pull out each individual table \n",
    "- Save each table as a `.csv` in `/data/processed`\n",
    "\n",
    "All names will be formatted as follows: `[district]_[table]_[date].[extension]`\n",
    "- e.g. `a_all_2024-09-11.json`\n",
    "- e.g. `a_scores_2024-09-11.csv`\n",
    "\n",
    "**After running this notebook:**\n",
    "<br>\n",
    "You can import tables indiviudally by using `pd.read_csv()`.\n"
   ]
  },
  {
   "cell_type": "code",
   "execution_count": 11,
   "metadata": {},
   "outputs": [],
   "source": [
    "import os\n",
    "import json\n",
    "import shutil\n",
    "import pandas as pd"
   ]
  },
  {
   "cell_type": "code",
   "execution_count": 12,
   "metadata": {},
   "outputs": [],
   "source": [
    "repo_root = os.path.abspath(os.path.join(os.getcwd(), '..'))\n",
    "data_path = os.path.join(repo_root, 'predicting-proficiency', 'data')"
   ]
  },
  {
   "cell_type": "markdown",
   "metadata": {},
   "source": [
    "## Renaming files"
   ]
  },
  {
   "cell_type": "code",
   "execution_count": 13,
   "metadata": {},
   "outputs": [],
   "source": [
    "file_names = [\n",
    "    # District 45 / A\n",
    "    ('2024-09-11 District A Benchmarks.json', 'a_benchmarks_2024-09-11.json'),\n",
    "    ('2024-09-11 District A Scores.json', 'a_scores_2024-09-11.json'),\n",
    "    ('2024-09-11 District A Vendor Student Usage.json', 'a_vendorUsage_2024-09-11.json'),\n",
    "    ('district.json', 'a_all_2024-08-29.json'),\n",
    "    ('vendorProducts_202409111049.csv', 'a_vendorKey_2024-09-11.csv'),\n",
    "    ('vendors_202410081500.json', 'a_vendorKey_2024-10-08.csv'),\n",
    "\n",
    "    # District 18\n",
    "    ('2023 District 18 Scores.json', '18_scores_2024-10-08.json'),\n",
    "    ('2023 District 18 Student Attributes.json', '18_studentAttributes_2024-10-08.json'),\n",
    "    ('2023 District 18 Vendor Student Usage.json', '18_vendorUsage_2024-10-08.json'),\n",
    "    ('District 18 Anonymized Schools.json', '18_schools_2024-10-08.json'),\n",
    "    ('District 18 Vendor Usage Types.json', '18_vendorUsageTypes_2024-10-08.json'),\n",
    "    ('benchmarksByMeasurement_202410141332.json', '18_benchmarks_2024-10-08.json'),\n",
    "]\n",
    "\n",
    "for old_name, new_name in file_names:\n",
    "    old_path = os.path.join(data_path, 'raw', old_name)\n",
    "    new_path = os.path.join(data_path, 'raw', new_name)\n",
    "    if os.path.exists(old_path) and not os.path.exists(new_path):\n",
    "        os.rename(old_path, new_path)\n",
    "\n",
    "# shutil.move('data/raw/a_vendorKey_2024-09-11.csv', 'data/archive/a_vendorKey_2024-09-11.csv')"
   ]
  },
  {
   "cell_type": "code",
   "execution_count": 14,
   "metadata": {},
   "outputs": [],
   "source": [
    "# District 45 / A\n",
    "\n",
    "with open('data/raw/a_all_2024-08-29.json', 'r') as file:\n",
    "    data_45 = json.loads(file.read())\n",
    "\n",
    "with open('data/raw/a_scores_2024-09-11.json', 'r') as file:\n",
    "    scores_45_json = json.loads(file.read())\n",
    "\n",
    "with open('data/raw/a_benchmarks_2024-09-11.json', 'r') as file:\n",
    "    benchmarks_45_json = json.loads(file.read())\n",
    "\n",
    "with open('data/raw/a_vendorUsage_2024-09-11.json', 'r') as file:\n",
    "    vendorUsage_45_json = json.loads(file.read())"
   ]
  },
  {
   "cell_type": "code",
   "execution_count": 17,
   "metadata": {},
   "outputs": [],
   "source": [
    "# District 18\n",
    "with open('data/raw/18_scores_2024-10-08.json', 'r') as file:\n",
    "    scores_18_json = json.loads(file.read())\n",
    "\n",
    "with open('data/raw/18_schools_2024-10-08.json', 'r') as file:\n",
    "    schools_18_json = json.loads(file.read())\n",
    "\n",
    "with open('data/raw/18_studentAttributes_2024-10-08.json', 'r') as file:\n",
    "    studentAttributes_18_json = json.loads(file.read())\n",
    "\n",
    "with open('data/raw/18_vendorUsage_2024-10-08.json', 'r') as file:\n",
    "    vendorUsage_18_json = json.loads(file.read())\n",
    "\n",
    "with open('data/raw/18_vendorUsageTypes_2024-10-08.json', 'r') as file:\n",
    "    vendorUsageTypes_18_json = json.loads(file.read())\n",
    "\n",
    "with open('data/raw/18_benchmarks_2024-10-08.json', 'r') as file:\n",
    "    benchmarks_18_json = json.loads(file.read())"
   ]
  },
  {
   "cell_type": "markdown",
   "metadata": {},
   "source": [
    "## Saving .csvs"
   ]
  },
  {
   "cell_type": "code",
   "execution_count": 20,
   "metadata": {},
   "outputs": [],
   "source": [
    "# District 45 / A\n",
    "\n",
    "scores_45_data = scores_45_json[list(scores_45_json.keys())[0]]\n",
    "scores_45_df = pd.DataFrame(scores_45_data)\n",
    "\n",
    "benchmarks_45_df = pd.DataFrame(benchmarks_45_json['benchmarks'])\n",
    "schools_45_df = pd.DataFrame(data_45['schools'])\n",
    "courseSections_45_df = pd.DataFrame(data_45['courseSections'])\n",
    "courseSectionRosters_45_df = pd.DataFrame(data_45['courseSectionRosters'])\n",
    "\n",
    "vendorUsage_45_data = vendorUsage_45_json[list(vendorUsage_45_json.keys())[0]]\n",
    "vendorUsage_45_df = pd.DataFrame(vendorUsage_45_data)\n",
    "\n",
    "# vendorKey_df = pd.read_csv('data/raw/a_vendorKey_2024-10-08.csv')"
   ]
  },
  {
   "cell_type": "code",
   "execution_count": 18,
   "metadata": {},
   "outputs": [],
   "source": [
    "# District 18\n",
    "\n",
    "scores_18_data = scores_18_json[list(scores_18_json.keys())[0]]\n",
    "scores_18_df= pd.DataFrame(scores_18_data)\n",
    "\n",
    "schools_18_data = schools_18_json[list(schools_18_json.keys())[0]]\n",
    "schools_18_df = pd.DataFrame(schools_18_data)\n",
    "\n",
    "studentAttributes_18_data = studentAttributes_18_json[list(studentAttributes_18_json.keys())[0]]\n",
    "studentAttributes_18_df=pd.DataFrame(studentAttributes_18_data)\n",
    "\n",
    "vendorUsage_18_data = vendorUsage_18_json[list(vendorUsage_18_json.keys())[0]]\n",
    "vendorUsage_18_df = pd.DataFrame(vendorUsage_18_data)\n",
    "\n",
    "vendorUsageTypes_18_data = vendorUsageTypes_18_json[list(vendorUsageTypes_18_json.keys())[0]]\n",
    "vendorUsageTypes_18_df = pd.DataFrame(vendorUsageTypes_18_data)\n",
    "\n",
    "benchmarks_18_data = benchmarks_18_json[list(benchmarks_18_json.keys())[0]]\n",
    "benchmarks_18_df = pd.DataFrame(benchmarks_18_data)\n"
   ]
  },
  {
   "cell_type": "code",
   "execution_count": 21,
   "metadata": {},
   "outputs": [],
   "source": [
    "data_path = os.path.join(repo_root, 'predicting-proficiency', 'data')\n",
    "\n",
    "processed_dir = os.path.join(data_path, 'processed')\n",
    "# Delete all files in processed/\n",
    "if os.path.exists(processed_dir):\n",
    "    for file in os.listdir(processed_dir):\n",
    "        file_path = os.path.join(processed_dir, file)\n",
    "        if os.path.isfile(file_path):\n",
    "            os.unlink(file_path)\n",
    "\n",
    "os.makedirs(os.path.dirname(data_path), exist_ok=True)\n",
    "# District 45 / A\n",
    "benchmarks_45_df.to_csv(os.path.join(data_path, 'processed', '45_benchmarks_2024-09-11.csv'), index=False)\n",
    "schools_45_df.to_csv(os.path.join(data_path, 'processed', '45_schools_2024-08-29.csv'), index=False)\n",
    "courseSections_45_df.to_csv(os.path.join(data_path, 'processed', '45_courseSections_2024-08-29.csv'), index=False)\n",
    "courseSectionRosters_45_df.to_csv(os.path.join(data_path, 'processed', '45_courseSectionRosters_2024-08-29.csv'), index=False)\n",
    "scores_45_df.to_csv(os.path.join(data_path, 'processed', '45_scores_2024-09-11.csv'), index=False)\n",
    "vendorUsage_45_df.to_csv(os.path.join(data_path, 'processed', '45_vendorUsage_2024-09-11.csv'), index=False)\n",
    "# District 18\n",
    "scores_18_df.to_csv(os.path.join(data_path, 'processed', '18_scores_2024-10-08.csv'), index=False)\n",
    "schools_18_df.to_csv(os.path.join(data_path, 'processed', '18_schools_2024-10-08.csv'), index=False)\n",
    "studentAttributes_18_df.to_csv(os.path.join(data_path, 'processed', '18_studentAttributes_2024-10-08.csv'), index=False)\n",
    "vendorUsage_18_df.to_csv(os.path.join(data_path, 'processed', '18_vendorUsage_2024-10-08.csv'), index=False)\n",
    "vendorUsageTypes_18_df.to_csv(os.path.join(data_path, 'processed', '18_vendorUsageTypes_2024-10-08.csv'), index=False)\n",
    "benchmarks_18_df.to_csv(os.path.join(data_path, 'processed', '18_benchmarks_2024-10-15.csv'), index=False)"
   ]
  }
 ],
 "metadata": {
  "kernelspec": {
   "display_name": "Python 3",
   "language": "python",
   "name": "python3"
  },
  "language_info": {
   "codemirror_mode": {
    "name": "ipython",
    "version": 3
   },
   "file_extension": ".py",
   "mimetype": "text/x-python",
   "name": "python",
   "nbconvert_exporter": "python",
   "pygments_lexer": "ipython3",
   "version": "3.11.4"
  }
 },
 "nbformat": 4,
 "nbformat_minor": 2
}
