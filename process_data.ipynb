{
 "cells": [
  {
   "cell_type": "markdown",
   "metadata": {},
   "source": [
    "# How to use this notebook\n",
    "\n",
    "**Before running this notebook:**\n",
    "<br>\n",
    "Set up the following file structure (namely, the `raw/`, `processed/`, and `archive/` folders within `data/`). Populate `raw/` with the data that we have been given. \n",
    "\n",
    "```\n",
    "data/\n",
    "├── raw/\n",
    "│   ├── district.json\n",
    "│   ├── 2024-09-11_District_A_Benchmarks.json\n",
    "│   ├── 2024-09-11_District_A_Scores.json\n",
    "│   └── ... (future raw data files)\n",
    "├── processed/\n",
    "└── archive/\n",
    "README.md\n",
    "```\n",
    "\n",
    "**When you run this notebook, it will...**\n",
    "- Rename the raw files to follow a consistent format\n",
    "- Pull out each individual table \n",
    "- Save each table as a `.csv` in `/data/processed`\n",
    "\n",
    "All names will be formatted as follows: `[district]_[table]_[date].[extension]`\n",
    "- e.g. `a_all_2024-09-11.json`\n",
    "- e.g. `a_scores_2024-09-11.csv`\n",
    "\n",
    "**After running this notebook:**\n",
    "<br>\n",
    "You can import tables indiviudally by using `pd.read_csv()`.\n"
   ]
  },
  {
   "cell_type": "code",
   "execution_count": 1,
   "metadata": {},
   "outputs": [],
   "source": [
    "import os\n",
    "import json\n",
    "import shutil\n",
    "import pandas as pd"
   ]
  },
  {
   "cell_type": "code",
   "execution_count": 2,
   "metadata": {},
   "outputs": [],
   "source": [
    "repo_root = os.path.abspath(os.path.join(os.getcwd(), '..'))\n",
    "data_path = os.path.join(repo_root, 'predicting-proficiency', 'data')"
   ]
  },
  {
   "cell_type": "markdown",
   "metadata": {},
   "source": [
    "## Renaming files"
   ]
  },
  {
   "cell_type": "code",
   "execution_count": 3,
   "metadata": {},
   "outputs": [
    {
     "data": {
      "text/plain": [
       "'data/archive/a_vendorKey_2024-09-11.csv'"
      ]
     },
     "execution_count": 3,
     "metadata": {},
     "output_type": "execute_result"
    }
   ],
   "source": [
    "file_names = [\n",
    "    ('2024-09-11 District A Benchmarks.json', 'a_benchmarks_2024-09-11.json'),\n",
    "    ('2024-09-11 District A Scores.json', 'a_scores_2024-09-11.json'),\n",
    "    ('2024-09-11 District A Vendor Student Usage.json', 'a_vendorUsage_2024-09-11.json'),\n",
    "    ('district.json', 'a_all_2024-08-29.json'),\n",
    "    ('vendorProducts_202409111049.csv', 'a_vendorKey_2024-09-11.csv'),\n",
    "    ('vendors_202410081500.json', 'a_vendorKey_2024-10-08.csv')\n",
    "]\n",
    "\n",
    "for old_name, new_name in file_names:\n",
    "    old_path = os.path.join(data_path, 'raw', old_name)\n",
    "    new_path = os.path.join(data_path, 'raw', new_name)\n",
    "    if os.path.exists(old_path) and not os.path.exists(new_path):\n",
    "        os.rename(old_path, new_path)\n",
    "\n",
    "shutil.move('data/raw/a_vendorKey_2024-09-11.csv', 'data/archive/a_vendorKey_2024-09-11.csv')"
   ]
  },
  {
   "cell_type": "code",
   "execution_count": 3,
   "metadata": {},
   "outputs": [],
   "source": [
    "with open('data/raw/a_all_2024-08-29.json', 'r') as file:\n",
    "    data = json.loads(file.read())\n",
    "\n",
    "with open('data/raw/a_scores_2024-09-11.json', 'r') as file:\n",
    "    scores_json = json.loads(file.read())\n",
    "\n",
    "with open('data/raw/a_benchmarks_2024-09-11.json', 'r') as file:\n",
    "    benchmarks_json = json.loads(file.read())\n",
    "\n",
    "with open('data/raw/a_vendorUsage_2024-09-11.json', 'r') as file:\n",
    "    vendorUsage_json = json.loads(file.read())"
   ]
  },
  {
   "cell_type": "markdown",
   "metadata": {},
   "source": [
    "## Saving .csvs"
   ]
  },
  {
   "cell_type": "code",
   "execution_count": 5,
   "metadata": {},
   "outputs": [],
   "source": [
    "scores_data = scores_json[list(scores_json.keys())[0]]\n",
    "scores_df = pd.DataFrame(scores_data)\n",
    "\n",
    "benchmarks_df = pd.DataFrame(benchmarks_json['benchmarks'])\n",
    "schools_df = pd.DataFrame(data['schools'])\n",
    "courseSections_df = pd.DataFrame(data['courseSections'])\n",
    "courseSectionRosters_df = pd.DataFrame(data['courseSectionRosters'])\n",
    "\n",
    "vendorUsage_data = vendorUsage_json[list(vendorUsage_json.keys())[0]]\n",
    "vendorUsage_df = pd.DataFrame(vendorUsage_data)\n",
    "\n",
    "vendorKey_df = pd.read_csv('data/raw/a_vendorKey_2024-10-08.csv')"
   ]
  },
  {
   "cell_type": "code",
   "execution_count": 7,
   "metadata": {},
   "outputs": [],
   "source": [
    "data_path = os.path.join(repo_root, 'predicting-proficiency', 'data')\n",
    "\n",
    "processed_dir = os.path.join(data_path, 'processed')\n",
    "if os.path.exists(processed_dir):\n",
    "    for file in os.listdir(processed_dir):\n",
    "        file_path = os.path.join(processed_dir, file)\n",
    "        if os.path.isfile(file_path):\n",
    "            os.unlink(file_path)\n",
    "\n",
    "os.makedirs(os.path.dirname(data_path), exist_ok=True)\n",
    "benchmarks_df.to_csv(os.path.join(data_path, 'processed', '45_benchmarks_2024-09-11.csv'), index=False)\n",
    "schools_df.to_csv(os.path.join(data_path, 'processed', '45_schools_2024-08-29.csv'), index=False)\n",
    "courseSections_df.to_csv(os.path.join(data_path, 'processed', '45_courseSections_2024-08-29.csv'), index=False)\n",
    "courseSectionRosters_df.to_csv(os.path.join(data_path, 'processed', '45_courseSectionRosters_2024-08-29.csv'), index=False)\n",
    "scores_df.to_csv(os.path.join(data_path, 'processed', '45_scores_2024-09-11.csv'), index=False)\n",
    "vendorUsage_df.to_csv(os.path.join(data_path, 'processed', '45_vendorUsage_2024-09-11.csv'), index=False)"
   ]
  },
  {
   "cell_type": "code",
   "execution_count": null,
   "metadata": {},
   "outputs": [],
   "source": []
  }
 ],
 "metadata": {
  "kernelspec": {
   "display_name": "Python 3",
   "language": "python",
   "name": "python3"
  },
  "language_info": {
   "codemirror_mode": {
    "name": "ipython",
    "version": 3
   },
   "file_extension": ".py",
   "mimetype": "text/x-python",
   "name": "python",
   "nbconvert_exporter": "python",
   "pygments_lexer": "ipython3",
   "version": "3.11.4"
  }
 },
 "nbformat": 4,
 "nbformat_minor": 2
}
