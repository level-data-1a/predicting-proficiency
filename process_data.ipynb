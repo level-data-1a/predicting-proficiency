{
 "cells": [
  {
   "cell_type": "markdown",
   "metadata": {},
   "source": [
    "# How to use this notebook\n",
    "\n",
    "**Before running this notebook:**\n",
    "<br>\n",
    "Set up the following file structure (namely, the `raw/`, `processed/`, and `archive/` folders within `data/`). Populate `raw/` with the data that we have been given. \n",
    "\n",
    "```\n",
    "data/\n",
    "├── raw/\n",
    "│   ├── 2023 District 18 Scores.json\n",
    "│   ├── 2023 District 18 Student Attributes.json\n",
    "│   ├── 2023 District 18 Vendor Student Usage.json\n",
    "│   ├── 2024-09-11 District A Vendor Student Usage.json\n",
    "│   ├── 2024-09-11_District_A_Benchmarks.json\n",
    "│   ├── 2024-09-11_District_A_Scores.json\n",
    "│   ├── benchmarksByMeasurement_202410141332.json\n",
    "│   ├── district.json\n",
    "│   ├── District 18 Anonymized Schools.json\n",
    "│   ├── District 18 Vendor Usage Types.json\n",
    "│   ├── vendorProducts_202409111049.csv\n",
    "│   └── vendors_202410081500.json\n",
    "├── processed/\n",
    "└── archive/\n",
    "README.md\n",
    "```\n",
    "\n",
    "**When you run this notebook, it will...**\n",
    "- Rename the raw files to follow a consistent format\n",
    "- Pull out each individual table \n",
    "- Save each table as a `.csv` in `/data/processed`\n",
    "\n",
    "All names will be formatted as follows: `[district]_[table]_[date].[extension]`\n",
    "- e.g. `a_all_2024-09-11.json`\n",
    "- e.g. `a_scores_2024-09-11.csv`\n",
    "\n",
    "**After running this notebook:**\n",
    "<br>\n",
    "You can import tables indiviudally by using `pd.read_csv()`.\n"
   ]
  },
  {
   "cell_type": "code",
   "execution_count": 11,
   "metadata": {},
   "outputs": [],
   "source": [
    "import os\n",
    "import json\n",
    "import shutil\n",
    "import pandas as pd"
   ]
  },
  {
   "cell_type": "code",
   "execution_count": 12,
   "metadata": {},
   "outputs": [],
   "source": [
    "repo_root = os.path.abspath(os.path.join(os.getcwd(), '..'))\n",
    "data_path = os.path.join(repo_root, 'predicting-proficiency', 'data')"
   ]
  },
  {
   "cell_type": "markdown",
   "metadata": {},
   "source": [
    "## Renaming files"
   ]
  },
  {
   "cell_type": "code",
   "execution_count": 13,
   "metadata": {},
   "outputs": [],
   "source": [
    "file_names = [\n",
    "    # District 45 / A\n",
    "    ('2024-09-11 District A Benchmarks.json', 'a_benchmarks_2024-09-11.json'),\n",
    "    ('2024-09-11 District A Scores.json', 'a_scores_2024-09-11.json'),\n",
    "    ('2024-09-11 District A Vendor Student Usage.json', 'a_vendorUsage_2024-09-11.json'),\n",
    "    ('district.json', 'a_all_2024-08-29.json'),\n",
    "    ('vendorProducts_202409111049.csv', 'a_vendorKey_2024-09-11.csv'),\n",
    "    ('vendors_202410081500.json', 'a_vendorKey_2024-10-08.csv'),\n",
    "\n",
    "    # District 18\n",
    "    ('2023 District 18 Scores.json', '18_scores_2024-10-08.json'),\n",
    "    ('2023 District 18 Student Attributes.json', '18_studentAttributes_2024-10-08.json'),\n",
    "    ('2023 District 18 Vendor Student Usage.json', '18_vendorUsage_2024-10-08.json'),\n",
    "    ('District 18 Anonymized Schools.json', '18_schools_2024-10-08.json'),\n",
    "    ('District 18 Vendor Usage Types.json', '18_vendorUsageTypes_2024-10-08.json'),\n",
    "    ('benchmarksByMeasurement_202410141332.json', '18_benchmarks_2024-10-08.json'),\n",
    "]\n",
    "\n",
    "for old_name, new_name in file_names:\n",
    "    old_path = os.path.join(data_path, 'raw', old_name)\n",
    "    new_path = os.path.join(data_path, 'raw', new_name)\n",
    "    if os.path.exists(old_path) and not os.path.exists(new_path):\n",
    "        os.rename(old_path, new_path)\n",
    "\n",
    "# shutil.move('data/raw/a_vendorKey_2024-09-11.csv', 'data/archive/a_vendorKey_2024-09-11.csv')"
   ]
  },
  {
   "cell_type": "code",
   "execution_count": 14,
   "metadata": {},
   "outputs": [],
   "source": [
    "# District 45 / A\n",
    "\n",
    "with open('data/raw/a_all_2024-08-29.json', 'r') as file:\n",
    "    data_45 = json.loads(file.read())\n",
    "\n",
    "with open('data/raw/a_scores_2024-09-11.json', 'r') as file:\n",
    "    scores_45_json = json.loads(file.read())\n",
    "\n",
    "with open('data/raw/a_benchmarks_2024-09-11.json', 'r') as file:\n",
    "    benchmarks_45_json = json.loads(file.read())\n",
    "\n",
    "with open('data/raw/a_vendorUsage_2024-09-11.json', 'r') as file:\n",
    "    vendorUsage_45_json = json.loads(file.read())"
   ]
  },
  {
   "cell_type": "code",
   "execution_count": 16,
   "metadata": {},
   "outputs": [],
   "source": [
    "# District 18\n",
    "with open('data/raw/18_scores_2024-10-08.json', 'r') as file:\n",
    "    scores_18_json = json.loads(file.read())\n",
    "\n",
    "with open('data/raw/18_schools_2024-10-08.json', 'r') as file:\n",
    "    schools_18_json = json.loads(file.read())\n",
    "\n",
    "with open('data/raw/18_studentAttributes_2024-10-08.json', 'r') as file:\n",
    "    studentAttributes_18_json = json.loads(file.read())\n",
    "\n",
    "with open('data/raw/18_vendorUsage_2024-10-08.json', 'r') as file:\n",
    "    vendorUsage_18_json = json.loads(file.read())\n",
    "\n",
    "with open('data/raw/18_vendorUsageTypes_2024-10-08.json', 'r') as file:\n",
    "    vendorUsageTypes_18_json = json.loads(file.read())\n",
    "\n",
    "with open('data/raw/18_benchmarks_2024-10-08.json', 'r') as file:\n",
    "    benchmarks_18_json = json.loads(file.read())"
   ]
  },
  {
   "cell_type": "markdown",
   "metadata": {},
   "source": [
    "## Saving .csvs"
   ]
  },
  {
   "cell_type": "code",
   "execution_count": 5,
   "metadata": {},
   "outputs": [
    {
     "ename": "FileNotFoundError",
     "evalue": "[Errno 2] No such file or directory: 'data/raw/a_vendorKey_2024-10-08.csv'",
     "output_type": "error",
     "traceback": [
      "\u001b[0;31m---------------------------------------------------------------------------\u001b[0m",
      "\u001b[0;31mFileNotFoundError\u001b[0m                         Traceback (most recent call last)",
      "\u001b[1;32m/Users/mayapatel/LevelData/predicting-proficiency/process_data.ipynb Cell 8\u001b[0m line \u001b[0;36m1\n\u001b[1;32m      <a href='vscode-notebook-cell:/Users/mayapatel/LevelData/predicting-proficiency/process_data.ipynb#X10sZmlsZQ%3D%3D?line=8'>9</a>\u001b[0m vendorUsage_data \u001b[39m=\u001b[39m vendorUsage_json[\u001b[39mlist\u001b[39m(vendorUsage_json\u001b[39m.\u001b[39mkeys())[\u001b[39m0\u001b[39m]]\n\u001b[1;32m     <a href='vscode-notebook-cell:/Users/mayapatel/LevelData/predicting-proficiency/process_data.ipynb#X10sZmlsZQ%3D%3D?line=9'>10</a>\u001b[0m vendorUsage_df \u001b[39m=\u001b[39m pd\u001b[39m.\u001b[39mDataFrame(vendorUsage_data)\n\u001b[0;32m---> <a href='vscode-notebook-cell:/Users/mayapatel/LevelData/predicting-proficiency/process_data.ipynb#X10sZmlsZQ%3D%3D?line=11'>12</a>\u001b[0m vendorKey_df \u001b[39m=\u001b[39m pd\u001b[39m.\u001b[39;49mread_csv(\u001b[39m'\u001b[39;49m\u001b[39mdata/raw/a_vendorKey_2024-10-08.csv\u001b[39;49m\u001b[39m'\u001b[39;49m)\n",
      "File \u001b[0;32m~/Library/Python/3.9/lib/python/site-packages/pandas/io/parsers/readers.py:1026\u001b[0m, in \u001b[0;36mread_csv\u001b[0;34m(filepath_or_buffer, sep, delimiter, header, names, index_col, usecols, dtype, engine, converters, true_values, false_values, skipinitialspace, skiprows, skipfooter, nrows, na_values, keep_default_na, na_filter, verbose, skip_blank_lines, parse_dates, infer_datetime_format, keep_date_col, date_parser, date_format, dayfirst, cache_dates, iterator, chunksize, compression, thousands, decimal, lineterminator, quotechar, quoting, doublequote, escapechar, comment, encoding, encoding_errors, dialect, on_bad_lines, delim_whitespace, low_memory, memory_map, float_precision, storage_options, dtype_backend)\u001b[0m\n\u001b[1;32m   1013\u001b[0m kwds_defaults \u001b[39m=\u001b[39m _refine_defaults_read(\n\u001b[1;32m   1014\u001b[0m     dialect,\n\u001b[1;32m   1015\u001b[0m     delimiter,\n\u001b[0;32m   (...)\u001b[0m\n\u001b[1;32m   1022\u001b[0m     dtype_backend\u001b[39m=\u001b[39mdtype_backend,\n\u001b[1;32m   1023\u001b[0m )\n\u001b[1;32m   1024\u001b[0m kwds\u001b[39m.\u001b[39mupdate(kwds_defaults)\n\u001b[0;32m-> 1026\u001b[0m \u001b[39mreturn\u001b[39;00m _read(filepath_or_buffer, kwds)\n",
      "File \u001b[0;32m~/Library/Python/3.9/lib/python/site-packages/pandas/io/parsers/readers.py:620\u001b[0m, in \u001b[0;36m_read\u001b[0;34m(filepath_or_buffer, kwds)\u001b[0m\n\u001b[1;32m    617\u001b[0m _validate_names(kwds\u001b[39m.\u001b[39mget(\u001b[39m\"\u001b[39m\u001b[39mnames\u001b[39m\u001b[39m\"\u001b[39m, \u001b[39mNone\u001b[39;00m))\n\u001b[1;32m    619\u001b[0m \u001b[39m# Create the parser.\u001b[39;00m\n\u001b[0;32m--> 620\u001b[0m parser \u001b[39m=\u001b[39m TextFileReader(filepath_or_buffer, \u001b[39m*\u001b[39;49m\u001b[39m*\u001b[39;49mkwds)\n\u001b[1;32m    622\u001b[0m \u001b[39mif\u001b[39;00m chunksize \u001b[39mor\u001b[39;00m iterator:\n\u001b[1;32m    623\u001b[0m     \u001b[39mreturn\u001b[39;00m parser\n",
      "File \u001b[0;32m~/Library/Python/3.9/lib/python/site-packages/pandas/io/parsers/readers.py:1620\u001b[0m, in \u001b[0;36mTextFileReader.__init__\u001b[0;34m(self, f, engine, **kwds)\u001b[0m\n\u001b[1;32m   1617\u001b[0m     \u001b[39mself\u001b[39m\u001b[39m.\u001b[39moptions[\u001b[39m\"\u001b[39m\u001b[39mhas_index_names\u001b[39m\u001b[39m\"\u001b[39m] \u001b[39m=\u001b[39m kwds[\u001b[39m\"\u001b[39m\u001b[39mhas_index_names\u001b[39m\u001b[39m\"\u001b[39m]\n\u001b[1;32m   1619\u001b[0m \u001b[39mself\u001b[39m\u001b[39m.\u001b[39mhandles: IOHandles \u001b[39m|\u001b[39m \u001b[39mNone\u001b[39;00m \u001b[39m=\u001b[39m \u001b[39mNone\u001b[39;00m\n\u001b[0;32m-> 1620\u001b[0m \u001b[39mself\u001b[39m\u001b[39m.\u001b[39m_engine \u001b[39m=\u001b[39m \u001b[39mself\u001b[39;49m\u001b[39m.\u001b[39;49m_make_engine(f, \u001b[39mself\u001b[39;49m\u001b[39m.\u001b[39;49mengine)\n",
      "File \u001b[0;32m~/Library/Python/3.9/lib/python/site-packages/pandas/io/parsers/readers.py:1880\u001b[0m, in \u001b[0;36mTextFileReader._make_engine\u001b[0;34m(self, f, engine)\u001b[0m\n\u001b[1;32m   1878\u001b[0m     \u001b[39mif\u001b[39;00m \u001b[39m\"\u001b[39m\u001b[39mb\u001b[39m\u001b[39m\"\u001b[39m \u001b[39mnot\u001b[39;00m \u001b[39min\u001b[39;00m mode:\n\u001b[1;32m   1879\u001b[0m         mode \u001b[39m+\u001b[39m\u001b[39m=\u001b[39m \u001b[39m\"\u001b[39m\u001b[39mb\u001b[39m\u001b[39m\"\u001b[39m\n\u001b[0;32m-> 1880\u001b[0m \u001b[39mself\u001b[39m\u001b[39m.\u001b[39mhandles \u001b[39m=\u001b[39m get_handle(\n\u001b[1;32m   1881\u001b[0m     f,\n\u001b[1;32m   1882\u001b[0m     mode,\n\u001b[1;32m   1883\u001b[0m     encoding\u001b[39m=\u001b[39;49m\u001b[39mself\u001b[39;49m\u001b[39m.\u001b[39;49moptions\u001b[39m.\u001b[39;49mget(\u001b[39m\"\u001b[39;49m\u001b[39mencoding\u001b[39;49m\u001b[39m\"\u001b[39;49m, \u001b[39mNone\u001b[39;49;00m),\n\u001b[1;32m   1884\u001b[0m     compression\u001b[39m=\u001b[39;49m\u001b[39mself\u001b[39;49m\u001b[39m.\u001b[39;49moptions\u001b[39m.\u001b[39;49mget(\u001b[39m\"\u001b[39;49m\u001b[39mcompression\u001b[39;49m\u001b[39m\"\u001b[39;49m, \u001b[39mNone\u001b[39;49;00m),\n\u001b[1;32m   1885\u001b[0m     memory_map\u001b[39m=\u001b[39;49m\u001b[39mself\u001b[39;49m\u001b[39m.\u001b[39;49moptions\u001b[39m.\u001b[39;49mget(\u001b[39m\"\u001b[39;49m\u001b[39mmemory_map\u001b[39;49m\u001b[39m\"\u001b[39;49m, \u001b[39mFalse\u001b[39;49;00m),\n\u001b[1;32m   1886\u001b[0m     is_text\u001b[39m=\u001b[39;49mis_text,\n\u001b[1;32m   1887\u001b[0m     errors\u001b[39m=\u001b[39;49m\u001b[39mself\u001b[39;49m\u001b[39m.\u001b[39;49moptions\u001b[39m.\u001b[39;49mget(\u001b[39m\"\u001b[39;49m\u001b[39mencoding_errors\u001b[39;49m\u001b[39m\"\u001b[39;49m, \u001b[39m\"\u001b[39;49m\u001b[39mstrict\u001b[39;49m\u001b[39m\"\u001b[39;49m),\n\u001b[1;32m   1888\u001b[0m     storage_options\u001b[39m=\u001b[39;49m\u001b[39mself\u001b[39;49m\u001b[39m.\u001b[39;49moptions\u001b[39m.\u001b[39;49mget(\u001b[39m\"\u001b[39;49m\u001b[39mstorage_options\u001b[39;49m\u001b[39m\"\u001b[39;49m, \u001b[39mNone\u001b[39;49;00m),\n\u001b[1;32m   1889\u001b[0m )\n\u001b[1;32m   1890\u001b[0m \u001b[39massert\u001b[39;00m \u001b[39mself\u001b[39m\u001b[39m.\u001b[39mhandles \u001b[39mis\u001b[39;00m \u001b[39mnot\u001b[39;00m \u001b[39mNone\u001b[39;00m\n\u001b[1;32m   1891\u001b[0m f \u001b[39m=\u001b[39m \u001b[39mself\u001b[39m\u001b[39m.\u001b[39mhandles\u001b[39m.\u001b[39mhandle\n",
      "File \u001b[0;32m~/Library/Python/3.9/lib/python/site-packages/pandas/io/common.py:873\u001b[0m, in \u001b[0;36mget_handle\u001b[0;34m(path_or_buf, mode, encoding, compression, memory_map, is_text, errors, storage_options)\u001b[0m\n\u001b[1;32m    868\u001b[0m \u001b[39melif\u001b[39;00m \u001b[39misinstance\u001b[39m(handle, \u001b[39mstr\u001b[39m):\n\u001b[1;32m    869\u001b[0m     \u001b[39m# Check whether the filename is to be opened in binary mode.\u001b[39;00m\n\u001b[1;32m    870\u001b[0m     \u001b[39m# Binary mode does not support 'encoding' and 'newline'.\u001b[39;00m\n\u001b[1;32m    871\u001b[0m     \u001b[39mif\u001b[39;00m ioargs\u001b[39m.\u001b[39mencoding \u001b[39mand\u001b[39;00m \u001b[39m\"\u001b[39m\u001b[39mb\u001b[39m\u001b[39m\"\u001b[39m \u001b[39mnot\u001b[39;00m \u001b[39min\u001b[39;00m ioargs\u001b[39m.\u001b[39mmode:\n\u001b[1;32m    872\u001b[0m         \u001b[39m# Encoding\u001b[39;00m\n\u001b[0;32m--> 873\u001b[0m         handle \u001b[39m=\u001b[39m \u001b[39mopen\u001b[39;49m(\n\u001b[1;32m    874\u001b[0m             handle,\n\u001b[1;32m    875\u001b[0m             ioargs\u001b[39m.\u001b[39;49mmode,\n\u001b[1;32m    876\u001b[0m             encoding\u001b[39m=\u001b[39;49mioargs\u001b[39m.\u001b[39;49mencoding,\n\u001b[1;32m    877\u001b[0m             errors\u001b[39m=\u001b[39;49merrors,\n\u001b[1;32m    878\u001b[0m             newline\u001b[39m=\u001b[39;49m\u001b[39m\"\u001b[39;49m\u001b[39m\"\u001b[39;49m,\n\u001b[1;32m    879\u001b[0m         )\n\u001b[1;32m    880\u001b[0m     \u001b[39melse\u001b[39;00m:\n\u001b[1;32m    881\u001b[0m         \u001b[39m# Binary mode\u001b[39;00m\n\u001b[1;32m    882\u001b[0m         handle \u001b[39m=\u001b[39m \u001b[39mopen\u001b[39m(handle, ioargs\u001b[39m.\u001b[39mmode)\n",
      "\u001b[0;31mFileNotFoundError\u001b[0m: [Errno 2] No such file or directory: 'data/raw/a_vendorKey_2024-10-08.csv'"
     ]
    }
   ],
   "source": [
    "# District 45 / A\n",
    "\n",
    "scores_45_data = scores_45_json[list(scores_45_json.keys())[0]]\n",
    "scores_45_df = pd.DataFrame(scores_45_data)\n",
    "\n",
    "benchmarks_45_df = pd.DataFrame(benchmarks_45_json['benchmarks'])\n",
    "schools_45_df = pd.DataFrame(data_45['schools'])\n",
    "courseSections_45_df = pd.DataFrame(data_45['courseSections'])\n",
    "courseSectionRosters_45_df = pd.DataFrame(data_45['courseSectionRosters'])\n",
    "\n",
    "vendorUsage_45_data = vendorUsage_45_json[list(vendorUsage_45_json.keys())[0]]\n",
    "vendorUsage_45_df = pd.DataFrame(vendorUsage_45_data)\n",
    "\n",
    "# vendorKey_df = pd.read_csv('data/raw/a_vendorKey_2024-10-08.csv')"
   ]
  },
  {
   "cell_type": "code",
   "execution_count": 10,
   "metadata": {},
   "outputs": [
    {
     "ename": "NameError",
     "evalue": "name 'scores_18_json' is not defined",
     "output_type": "error",
     "traceback": [
      "\u001b[0;31m---------------------------------------------------------------------------\u001b[0m",
      "\u001b[0;31mNameError\u001b[0m                                 Traceback (most recent call last)",
      "Cell \u001b[0;32mIn[10], line 3\u001b[0m\n\u001b[1;32m      1\u001b[0m \u001b[38;5;66;03m# District 18\u001b[39;00m\n\u001b[0;32m----> 3\u001b[0m scores_18_data \u001b[38;5;241m=\u001b[39m \u001b[43mscores_18_json\u001b[49m[\u001b[38;5;28mlist\u001b[39m(scores_18_json\u001b[38;5;241m.\u001b[39mkeys())[\u001b[38;5;241m0\u001b[39m]]\n\u001b[1;32m      4\u001b[0m scores_18_df\u001b[38;5;241m=\u001b[39m pd\u001b[38;5;241m.\u001b[39mDataFrame(scores_18_data)\n\u001b[1;32m      6\u001b[0m schools_18_data \u001b[38;5;241m=\u001b[39m schools_18_json[\u001b[38;5;28mlist\u001b[39m(schools_18_json\u001b[38;5;241m.\u001b[39mkeys())[\u001b[38;5;241m0\u001b[39m]]\n",
      "\u001b[0;31mNameError\u001b[0m: name 'scores_18_json' is not defined"
     ]
    }
   ],
   "source": [
    "# District 18\n",
    "\n",
    "scores_18_data = scores_18_json[list(scores_18_json.keys())[0]]\n",
    "scores_18_df= pd.DataFrame(scores_18_data)\n",
    "\n",
    "schools_18_data = schools_18_json[list(schools_18_json.keys())[0]]\n",
    "schools_18_df = pd.DataFrame(schools_18_data)\n",
    "\n",
    "studentAttributes_18_data = studentAttributes_18_json[list(studentAttributes_18_json.keys())[0]]\n",
    "studentAttributes_18_df=pd.DataFrame(studentAttributes_18_data)\n",
    "\n",
    "vendorUsage_18_data = vendorUsage_18_json[list(vendorUsage_18_json.keys())[0]]\n",
    "vendorUsage_18_df = pd.DataFrame(vendorUsage_18_data)\n",
    "\n",
    "vendorUsageTypes_18_data = vendorUsageTypes_18_json[list(vendorUsageTypes_18_json.keys())[0]]\n",
    "vendorUsageTypes_18_df = pd.DataFrame(vendorUsageTypes_18_data)\n",
    "\n",
    "benchmarks_18_data = benchmarks_18_json[list(benchmarks_18_json.keys())[0]]\n",
    "benchmarks_18_df = pd.DataFrame(benchmarks_18_data)\n"
   ]
  },
  {
   "cell_type": "code",
   "execution_count": null,
   "metadata": {},
   "outputs": [],
   "source": [
    "data_path = os.path.join(repo_root, 'predicting-proficiency', 'data')\n",
    "\n",
    "processed_dir = os.path.join(data_path, 'processed')\n",
    "# Delete all files in processed/\n",
    "if os.path.exists(processed_dir):\n",
    "    for file in os.listdir(processed_dir):\n",
    "        file_path = os.path.join(processed_dir, file)\n",
    "        if os.path.isfile(file_path):\n",
    "            os.unlink(file_path)\n",
    "\n",
    "os.makedirs(os.path.dirname(data_path), exist_ok=True)\n",
    "# District 45 / A\n",
    "benchmarks_45_df.to_csv(os.path.join(data_path, 'processed', '45_benchmarks_2024-09-11.csv'), index=False)\n",
    "schools_45_df.to_csv(os.path.join(data_path, 'processed', '45_schools_2024-08-29.csv'), index=False)\n",
    "courseSections_45_df.to_csv(os.path.join(data_path, 'processed', '45_courseSections_2024-08-29.csv'), index=False)\n",
    "courseSectionRosters_45_df.to_csv(os.path.join(data_path, 'processed', '45_courseSectionRosters_2024-08-29.csv'), index=False)\n",
    "scores_45_df.to_csv(os.path.join(data_path, 'processed', '45_scores_2024-09-11.csv'), index=False)\n",
    "vendorUsage_45_df.to_csv(os.path.join(data_path, 'processed', '45_vendorUsage_2024-09-11.csv'), index=False)\n",
    "# District 18\n",
    "scores_18_df.to_csv(os.path.join(data_path, 'processed', '18_scores_2024-10-08.csv'), index=False)\n",
    "schools_18_df.to_csv(os.path.join(data_path, 'processed', '18_schools_2024-10-08.csv'), index=False)\n",
    "studentAttributes_18_df.to_csv(os.path.join(data_path, 'processed', '18_studentAttributes_2024-10-08.csv'), index=False)\n",
    "vendorUsage_18_df.to_csv(os.path.join(data_path, 'processed', '18_vendorUsage_2024-10-08.csv'), index=False)\n",
    "vendorUsageTypes_18_df.to_csv(os.path.join(data_path, 'processed', '18_vendorUsageTypes_2024-10-08.csv'), index=False)\n",
    "benchmarks_18_df.to_csv(os.path.join(data_path, 'processed', '18_benchmarks_2024-10-15.csv'), index=False)"
   ]
  },
  {
   "cell_type": "code",
   "execution_count": null,
   "metadata": {},
   "outputs": [],
   "source": []
  }
 ],
 "metadata": {
  "kernelspec": {
   "display_name": "Python 3",
   "language": "python",
   "name": "python3"
  },
  "language_info": {
   "codemirror_mode": {
    "name": "ipython",
    "version": 3
   },
   "file_extension": ".py",
   "mimetype": "text/x-python",
   "name": "python",
   "nbconvert_exporter": "python",
   "pygments_lexer": "ipython3",
   "version": "3.11.4"
  }
 },
 "nbformat": 4,
 "nbformat_minor": 2
}
