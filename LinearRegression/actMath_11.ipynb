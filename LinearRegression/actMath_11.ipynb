{
 "cells": [
  {
   "cell_type": "markdown",
   "metadata": {},
   "source": [
    "# actMath_11\n",
    "- District: 45\n",
    "- Year (Features): 2017\n",
    "- Grades: 11\n",
    "- Values / dataSource: actMath\n",
    "- Features: \\['school_High School A', 'school_High School B', 'school_High School C', 'school_High School D', 'category_MATHEMATICS', 'category_ENGLISH', 'category_SCIENCE', 'category_SOCIAL_STUDIES', 'category_FOREIGN_LANGUAGE', 'category_PERFORMING_ARTS', 'category_VISUAL_ARTS', 'category_TECHNOLOGY',\n",
    " 'category_BUSINESS',\n",
    " 'category_TRADES',\n",
    " 'category_AGRICULTURE',\n",
    " 'category_PHYSICAL_EDUCATION',\n",
    " 'category_HEALTH',\n",
    " 'category_CAREER_PREP',\n",
    " 'category_MILITARY_SCIENCE']\n",
    "- Num features: 19\n",
    "- Label: `proficient_score`\n",
    "- Accuracy: 0.72\n",
    "- F1: 0.67\n",
    "- Other metrics: RMSE 0.22; R^2 0.20\n",
    "- Notes: Dropping vendors from features caused no difference"
   ]
  },
  {
   "cell_type": "code",
   "execution_count": 63,
   "metadata": {},
   "outputs": [],
   "source": [
    "#Import Python Packages\n",
    "import pandas as pd\n",
    "import numpy as np\n",
    "import seaborn as sns\n",
    "import matplotlib.pyplot as plt\n",
    "%matplotlib inline\n",
    "import os\n",
    "pd.options.display.float_format = '{:.2f}'.format\n",
    "from sklearn.linear_model import LinearRegression\n",
    "from sklearn.model_selection import train_test_split\n",
    "from sklearn.metrics import mean_squared_error, r2_score\n",
    "from sklearn.metrics import classification_report, confusion_matrix"
   ]
  },
  {
   "cell_type": "code",
   "execution_count": 64,
   "metadata": {},
   "outputs": [],
   "source": [
    "#Loading the dataframe\n",
    "filename = os.path.join(os.getcwd(), \"..\", \"dataframes\", \"actMath_11_encoded_df.csv\")\n",
    "actMath11_df = pd.read_csv(filename, header = 0)"
   ]
  },
  {
   "cell_type": "code",
   "execution_count": 65,
   "metadata": {},
   "outputs": [
    {
     "data": {
      "image/png": "[encoded data removed]",
      "text/plain": [
       "<Figure size 1000x600 with 1 Axes>"
      ]
     },
     "metadata": {},
     "output_type": "display_data"
    }
   ],
   "source": [
    "plt.figure(figsize=(10, 6))\n",
    "sns.histplot(actMath11_df['proficient_score'], bins=20, kde=False, color='skyblue')  # You can adjust bins as necessary\n",
    "plt.title('Distribution of Proficient Score')\n",
    "plt.xlabel('Proficient Score')\n",
    "plt.ylabel('Count')\n",
    "plt.show()"
   ]
  },
  {
   "cell_type": "code",
   "execution_count": 66,
   "metadata": {},
   "outputs": [
    {
     "data": {
      "text/html": [
       "<div>\n",
       "<style scoped>\n",
       "    .dataframe tbody tr th:only-of-type {\n",
       "        vertical-align: middle;\n",
       "    }\n",
       "\n",
       "    .dataframe tbody tr th {\n",
       "        vertical-align: top;\n",
       "    }\n",
       "\n",
       "    .dataframe thead th {\n",
       "        text-align: right;\n",
       "    }\n",
       "</style>\n",
       "<table border=\"1\" class=\"dataframe\">\n",
       "  <thead>\n",
       "    <tr style=\"text-align: right;\">\n",
       "      <th></th>\n",
       "      <th>studentId</th>\n",
       "      <th>is_proficient</th>\n",
       "      <th>proficient_score</th>\n",
       "      <th>school_High School A</th>\n",
       "      <th>school_High School B</th>\n",
       "      <th>school_High School C</th>\n",
       "      <th>school_High School D</th>\n",
       "      <th>iready_math</th>\n",
       "      <th>iready_reading</th>\n",
       "      <th>bbb_literacy</th>\n",
       "      <th>...</th>\n",
       "      <th>category_PERFORMING_ARTS</th>\n",
       "      <th>category_VISUAL_ARTS</th>\n",
       "      <th>category_TECHNOLOGY</th>\n",
       "      <th>category_BUSINESS</th>\n",
       "      <th>category_TRADES</th>\n",
       "      <th>category_AGRICULTURE</th>\n",
       "      <th>category_PHYSICAL_EDUCATION</th>\n",
       "      <th>category_HEALTH</th>\n",
       "      <th>category_CAREER_PREP</th>\n",
       "      <th>category_MILITARY_SCIENCE</th>\n",
       "    </tr>\n",
       "  </thead>\n",
       "  <tbody>\n",
       "    <tr>\n",
       "      <th>0</th>\n",
       "      <td>45054</td>\n",
       "      <td>0</td>\n",
       "      <td>0.26</td>\n",
       "      <td>1</td>\n",
       "      <td>0</td>\n",
       "      <td>0</td>\n",
       "      <td>0</td>\n",
       "      <td>0</td>\n",
       "      <td>0</td>\n",
       "      <td>0</td>\n",
       "      <td>...</td>\n",
       "      <td>0</td>\n",
       "      <td>0</td>\n",
       "      <td>0</td>\n",
       "      <td>0</td>\n",
       "      <td>1</td>\n",
       "      <td>0</td>\n",
       "      <td>0</td>\n",
       "      <td>0</td>\n",
       "      <td>0</td>\n",
       "      <td>0</td>\n",
       "    </tr>\n",
       "    <tr>\n",
       "      <th>1</th>\n",
       "      <td>45054</td>\n",
       "      <td>0</td>\n",
       "      <td>0.26</td>\n",
       "      <td>1</td>\n",
       "      <td>0</td>\n",
       "      <td>0</td>\n",
       "      <td>0</td>\n",
       "      <td>0</td>\n",
       "      <td>0</td>\n",
       "      <td>0</td>\n",
       "      <td>...</td>\n",
       "      <td>0</td>\n",
       "      <td>0</td>\n",
       "      <td>0</td>\n",
       "      <td>0</td>\n",
       "      <td>1</td>\n",
       "      <td>0</td>\n",
       "      <td>0</td>\n",
       "      <td>0</td>\n",
       "      <td>0</td>\n",
       "      <td>0</td>\n",
       "    </tr>\n",
       "    <tr>\n",
       "      <th>2</th>\n",
       "      <td>45440</td>\n",
       "      <td>0</td>\n",
       "      <td>0.94</td>\n",
       "      <td>0</td>\n",
       "      <td>0</td>\n",
       "      <td>0</td>\n",
       "      <td>0</td>\n",
       "      <td>0</td>\n",
       "      <td>0</td>\n",
       "      <td>0</td>\n",
       "      <td>...</td>\n",
       "      <td>0</td>\n",
       "      <td>0</td>\n",
       "      <td>0</td>\n",
       "      <td>0</td>\n",
       "      <td>0</td>\n",
       "      <td>0</td>\n",
       "      <td>0</td>\n",
       "      <td>0</td>\n",
       "      <td>0</td>\n",
       "      <td>0</td>\n",
       "    </tr>\n",
       "    <tr>\n",
       "      <th>3</th>\n",
       "      <td>45440</td>\n",
       "      <td>0</td>\n",
       "      <td>0.94</td>\n",
       "      <td>0</td>\n",
       "      <td>0</td>\n",
       "      <td>0</td>\n",
       "      <td>0</td>\n",
       "      <td>0</td>\n",
       "      <td>0</td>\n",
       "      <td>0</td>\n",
       "      <td>...</td>\n",
       "      <td>0</td>\n",
       "      <td>0</td>\n",
       "      <td>0</td>\n",
       "      <td>0</td>\n",
       "      <td>0</td>\n",
       "      <td>0</td>\n",
       "      <td>0</td>\n",
       "      <td>0</td>\n",
       "      <td>0</td>\n",
       "      <td>0</td>\n",
       "    </tr>\n",
       "    <tr>\n",
       "      <th>4</th>\n",
       "      <td>45440</td>\n",
       "      <td>0</td>\n",
       "      <td>0.94</td>\n",
       "      <td>0</td>\n",
       "      <td>0</td>\n",
       "      <td>0</td>\n",
       "      <td>0</td>\n",
       "      <td>0</td>\n",
       "      <td>0</td>\n",
       "      <td>0</td>\n",
       "      <td>...</td>\n",
       "      <td>0</td>\n",
       "      <td>0</td>\n",
       "      <td>0</td>\n",
       "      <td>0</td>\n",
       "      <td>0</td>\n",
       "      <td>0</td>\n",
       "      <td>0</td>\n",
       "      <td>0</td>\n",
       "      <td>0</td>\n",
       "      <td>0</td>\n",
       "    </tr>\n",
       "  </tbody>\n",
       "</table>\n",
       "<p>5 rows × 25 columns</p>\n",
       "</div>"
      ],
      "text/plain": [
       "   studentId  is_proficient  proficient_score  school_High School A  \\\n",
       "0      45054              0              0.26                     1   \n",
       "1      45054              0              0.26                     1   \n",
       "2      45440              0              0.94                     0   \n",
       "3      45440              0              0.94                     0   \n",
       "4      45440              0              0.94                     0   \n",
       "\n",
       "   school_High School B  school_High School C  school_High School D  \\\n",
       "0                     0                     0                     0   \n",
       "1                     0                     0                     0   \n",
       "2                     0                     0                     0   \n",
       "3                     0                     0                     0   \n",
       "4                     0                     0                     0   \n",
       "\n",
       "   iready_math  iready_reading  bbb_literacy  ...  category_PERFORMING_ARTS  \\\n",
       "0            0               0             0  ...                         0   \n",
       "1            0               0             0  ...                         0   \n",
       "2            0               0             0  ...                         0   \n",
       "3            0               0             0  ...                         0   \n",
       "4            0               0             0  ...                         0   \n",
       "\n",
       "   category_VISUAL_ARTS  category_TECHNOLOGY  category_BUSINESS  \\\n",
       "0                     0                    0                  0   \n",
       "1                     0                    0                  0   \n",
       "2                     0                    0                  0   \n",
       "3                     0                    0                  0   \n",
       "4                     0                    0                  0   \n",
       "\n",
       "   category_TRADES  category_AGRICULTURE  category_PHYSICAL_EDUCATION  \\\n",
       "0                1                     0                            0   \n",
       "1                1                     0                            0   \n",
       "2                0                     0                            0   \n",
       "3                0                     0                            0   \n",
       "4                0                     0                            0   \n",
       "\n",
       "   category_HEALTH  category_CAREER_PREP  category_MILITARY_SCIENCE  \n",
       "0                0                     0                          0  \n",
       "1                0                     0                          0  \n",
       "2                0                     0                          0  \n",
       "3                0                     0                          0  \n",
       "4                0                     0                          0  \n",
       "\n",
       "[5 rows x 25 columns]"
      ]
     },
     "execution_count": 66,
     "metadata": {},
     "output_type": "execute_result"
    }
   ],
   "source": [
    "actMath11_df[actMath11_df.select_dtypes(include='bool').columns] = actMath11_df.select_dtypes(include='bool').astype(int)\n",
    "\n",
    "actMath11_df.head()"
   ]
  },
  {
   "cell_type": "code",
   "execution_count": 67,
   "metadata": {},
   "outputs": [],
   "source": [
    "#apply log function to make the data more \"evenly distributed\n",
    "#actMath11_df['proficient_score'] = np.log1p(actMath11_df['proficient_score'])"
   ]
  },
  {
   "cell_type": "code",
   "execution_count": 68,
   "metadata": {},
   "outputs": [
    {
     "name": "stdout",
     "output_type": "stream",
     "text": [
      "is_proficient                  0.73\n",
      "category_SOCIAL_STUDIES        0.36\n",
      "category_ENGLISH               0.26\n",
      "category_SCIENCE               0.23\n",
      "category_FOREIGN_LANGUAGE      0.21\n",
      "category_MATHEMATICS           0.16\n",
      "category_PERFORMING_ARTS       0.11\n",
      "school_High School D           0.09\n",
      "school_High School B           0.05\n",
      "category_CAREER_PREP           0.05\n",
      "category_TECHNOLOGY            0.05\n",
      "category_HEALTH                0.04\n",
      "category_MILITARY_SCIENCE      0.03\n",
      "category_PHYSICAL_EDUCATION   -0.01\n",
      "iready_reading                -0.03\n",
      "school_High School A          -0.03\n",
      "category_VISUAL_ARTS          -0.03\n",
      "iready_math                   -0.04\n",
      "school_High School C          -0.04\n",
      "studentId                     -0.04\n",
      "category_AGRICULTURE          -0.06\n",
      "category_BUSINESS             -0.07\n",
      "category_TRADES               -0.10\n",
      "bbb_literacy                    NaN\n",
      "Name: proficient_score, dtype: float64\n"
     ]
    }
   ],
   "source": [
    "# Calculate the correlation matrix for the entire DataFrame\n",
    "correlation_matrix = actMath11_df.corr()\n",
    "\n",
    "# Extract the correlation values for 'proficient_score' and sort them in descending order\n",
    "correlation_with_target = correlation_matrix['proficient_score'].sort_values(ascending=False)\n",
    "\n",
    "# Display the correlations with proficient_score, excluding proficient_score itself\n",
    "print(correlation_with_target.drop('proficient_score'))"
   ]
  },
  {
   "cell_type": "code",
   "execution_count": 76,
   "metadata": {},
   "outputs": [],
   "source": [
    "# features = ['category_SCIENCE', 'category_SOCIAL_STUDIES', 'category_ENGLISH', 'category_MATHEMATICS', 'category_FOREIGN_LANGUAGE']\n",
    "toDrop = ['proficient_score', 'proficient_diff', 'studentId', 'is_proficient', 'bbb_literacy', 'iready_math', 'iready_reading']\n",
    "features = [col for col in actMath11_df.columns if col not in toDrop]"
   ]
  },
  {
   "cell_type": "code",
   "execution_count": 77,
   "metadata": {},
   "outputs": [
    {
     "data": {
      "text/plain": [
       "Index(['studentId', 'is_proficient', 'proficient_score',\n",
       "       'school_High School A', 'school_High School B', 'school_High School C',\n",
       "       'school_High School D', 'iready_math', 'iready_reading', 'bbb_literacy',\n",
       "       'category_MATHEMATICS', 'category_ENGLISH', 'category_SCIENCE',\n",
       "       'category_SOCIAL_STUDIES', 'category_FOREIGN_LANGUAGE',\n",
       "       'category_PERFORMING_ARTS', 'category_VISUAL_ARTS',\n",
       "       'category_TECHNOLOGY', 'category_BUSINESS', 'category_TRADES',\n",
       "       'category_AGRICULTURE', 'category_PHYSICAL_EDUCATION',\n",
       "       'category_HEALTH', 'category_CAREER_PREP', 'category_MILITARY_SCIENCE'],\n",
       "      dtype='object')"
      ]
     },
     "execution_count": 77,
     "metadata": {},
     "output_type": "execute_result"
    }
   ],
   "source": [
    "actMath11_df.columns"
   ]
  },
  {
   "cell_type": "code",
   "execution_count": 83,
   "metadata": {},
   "outputs": [
    {
     "data": {
      "text/plain": [
       "19"
      ]
     },
     "execution_count": 83,
     "metadata": {},
     "output_type": "execute_result"
    }
   ],
   "source": [
    "len(features)"
   ]
  },
  {
   "cell_type": "code",
   "execution_count": 79,
   "metadata": {},
   "outputs": [],
   "source": [
    "#Create labeled examples from the dataset\n",
    "X = actMath11_df[features]\n",
    "y = actMath11_df['proficient_score']"
   ]
  },
  {
   "cell_type": "code",
   "execution_count": 80,
   "metadata": {},
   "outputs": [],
   "source": [
    "#Create training and test datasets\n",
    "X_train, X_test, y_train, y_test = train_test_split(X, y, test_size=0.15, random_state=42)"
   ]
  },
  {
   "cell_type": "code",
   "execution_count": 81,
   "metadata": {},
   "outputs": [
    {
     "name": "stdout",
     "output_type": "stream",
     "text": [
      "threshold= 1.0\n",
      "\n",
      "Classification Report:\n",
      "              precision    recall  f1-score   support\n",
      "\n",
      "       False       0.71      0.91      0.80       234\n",
      "        True       0.76      0.43      0.55       153\n",
      "\n",
      "    accuracy                           0.72       387\n",
      "   macro avg       0.73      0.67      0.67       387\n",
      "weighted avg       0.73      0.72      0.70       387\n",
      "\n",
      "\n",
      "Confusion Matrix:\n",
      "[[213  21]\n",
      " [ 87  66]]\n",
      "\n",
      "Top 10 Most Important Features:\n",
      "                      feature  importance\n",
      "0        school_High School A        0.38\n",
      "1        school_High School B        0.34\n",
      "3        school_High School D        0.27\n",
      "2        school_High School C        0.26\n",
      "5            category_ENGLISH        0.13\n",
      "7     category_SOCIAL_STUDIES        0.08\n",
      "8   category_FOREIGN_LANGUAGE        0.06\n",
      "14       category_AGRICULTURE        0.05\n",
      "16            category_HEALTH        0.05\n",
      "4        category_MATHEMATICS        0.04\n"
     ]
    }
   ],
   "source": [
    "# Create the  LinearRegression model object \n",
    "model = LinearRegression()\n",
    "\n",
    "# Fit the model to the training data \n",
    "model.fit(X_train, y_train)\n",
    "\n",
    "#  Make predictions on the test data \n",
    "prediction = model.predict(X_test)\n",
    "\n",
    "# Should predict >1.0 if proficient, <1.0 if not proficient\n",
    "threshold = 1.0  # ADJUST\n",
    "y_pred_bool = prediction >= threshold\n",
    "y_test_bool = y_test >= threshold\n",
    "\n",
    "print(\"threshold=\", threshold)\n",
    "# Print the classification report\n",
    "print(\"\\nClassification Report:\")\n",
    "print(classification_report(y_test_bool, y_pred_bool))\n",
    "\n",
    "# Print the confusion matrix\n",
    "print(\"\\nConfusion Matrix:\")\n",
    "print(confusion_matrix(y_test_bool, y_pred_bool))\n",
    "\n",
    "# Print the top 10 most important features\n",
    "feature_importance = pd.DataFrame({'feature': X.columns, 'importance': np.abs(model.coef_)})\n",
    "feature_importance = feature_importance.sort_values('importance', ascending=False)\n",
    "print(\"\\nTop 10 Most Important Features:\")\n",
    "print(feature_importance.head(10))"
   ]
  },
  {
   "cell_type": "code",
   "execution_count": 82,
   "metadata": {},
   "outputs": [
    {
     "name": "stdout",
     "output_type": "stream",
     "text": [
      "\n",
      "Model Performance\n",
      "\n",
      "RMSE =   0.22\n",
      " R^2 =   0.20\n"
     ]
    }
   ],
   "source": [
    "# The mean squared error\n",
    "print('\\nModel Performance\\n\\nRMSE =   %.2f'\n",
    "      % np.sqrt(mean_squared_error(y_test, prediction)))\n",
    "# The coefficient of determination: 1 is perfect prediction\n",
    "print(' R^2 =   %.2f'\n",
    "      % r2_score(y_test, prediction))"
   ]
  },
  {
   "cell_type": "code",
   "execution_count": null,
   "metadata": {},
   "outputs": [],
   "source": []
  }
 ],
 "metadata": {
  "kernelspec": {
   "display_name": "Python 3",
   "language": "python",
   "name": "python3"
  },
  "language_info": {
   "codemirror_mode": {
    "name": "ipython",
    "version": 3
   },
   "file_extension": ".py",
   "mimetype": "text/x-python",
   "name": "python",
   "nbconvert_exporter": "python",
   "pygments_lexer": "ipython3",
   "version": "3.9.6"
  }
 },
 "nbformat": 4,
 "nbformat_minor": 2
}
