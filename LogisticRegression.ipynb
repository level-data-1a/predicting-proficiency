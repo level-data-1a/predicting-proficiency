{
 "cells": [
  {
   "cell_type": "code",
   "execution_count": 2,
   "metadata": {},
   "outputs": [],
   "source": [
    "#Import libraries/packages\n",
    "import pandas as pd\n",
    "import numpy as np\n",
    "import os \n",
    "from sklearn.linear_model import LogisticRegression\n",
    "from sklearn.model_selection import train_test_split\n",
    "from sklearn.metrics import log_loss\n",
    "from sklearn.metrics import accuracy_score\n"
   ]
  },
  {
   "cell_type": "code",
   "execution_count": 3,
   "metadata": {},
   "outputs": [],
   "source": [
    "#Loading the dataframe\n",
    "filename = os.path.join(os.getcwd(), \"dataframes\", \"actMath_11_encoded_df.csv\")\n",
    "actMath11_df = pd.read_csv(filename, header = 0)"
   ]
  },
  {
   "cell_type": "code",
   "execution_count": 8,
   "metadata": {},
   "outputs": [
    {
     "data": {
      "text/html": [
       "<div>\n",
       "<style scoped>\n",
       "    .dataframe tbody tr th:only-of-type {\n",
       "        vertical-align: middle;\n",
       "    }\n",
       "\n",
       "    .dataframe tbody tr th {\n",
       "        vertical-align: top;\n",
       "    }\n",
       "\n",
       "    .dataframe thead th {\n",
       "        text-align: right;\n",
       "    }\n",
       "</style>\n",
       "<table border=\"1\" class=\"dataframe\">\n",
       "  <thead>\n",
       "    <tr style=\"text-align: right;\">\n",
       "      <th></th>\n",
       "      <th>studentId</th>\n",
       "      <th>is_proficient</th>\n",
       "      <th>proficient_score</th>\n",
       "      <th>proficient_diff</th>\n",
       "      <th>school_High School A</th>\n",
       "      <th>school_High School B</th>\n",
       "      <th>school_High School C</th>\n",
       "      <th>school_High School D</th>\n",
       "      <th>iready_math</th>\n",
       "      <th>iready_reading</th>\n",
       "      <th>...</th>\n",
       "      <th>category_PERFORMING_ARTS</th>\n",
       "      <th>category_VISUAL_ARTS</th>\n",
       "      <th>category_TECHNOLOGY</th>\n",
       "      <th>category_BUSINESS</th>\n",
       "      <th>category_TRADES</th>\n",
       "      <th>category_AGRICULTURE</th>\n",
       "      <th>category_PHYSICAL_EDUCATION</th>\n",
       "      <th>category_HEALTH</th>\n",
       "      <th>category_CAREER_PREP</th>\n",
       "      <th>category_MILITARY_SCIENCE</th>\n",
       "    </tr>\n",
       "  </thead>\n",
       "  <tbody>\n",
       "    <tr>\n",
       "      <th>0</th>\n",
       "      <td>45054</td>\n",
       "      <td>False</td>\n",
       "      <td>0.529412</td>\n",
       "      <td>-8.0</td>\n",
       "      <td>True</td>\n",
       "      <td>False</td>\n",
       "      <td>False</td>\n",
       "      <td>False</td>\n",
       "      <td>0</td>\n",
       "      <td>0</td>\n",
       "      <td>...</td>\n",
       "      <td>False</td>\n",
       "      <td>False</td>\n",
       "      <td>False</td>\n",
       "      <td>False</td>\n",
       "      <td>True</td>\n",
       "      <td>False</td>\n",
       "      <td>False</td>\n",
       "      <td>False</td>\n",
       "      <td>False</td>\n",
       "      <td>False</td>\n",
       "    </tr>\n",
       "    <tr>\n",
       "      <th>1</th>\n",
       "      <td>45054</td>\n",
       "      <td>False</td>\n",
       "      <td>0.529412</td>\n",
       "      <td>-8.0</td>\n",
       "      <td>True</td>\n",
       "      <td>False</td>\n",
       "      <td>False</td>\n",
       "      <td>False</td>\n",
       "      <td>0</td>\n",
       "      <td>0</td>\n",
       "      <td>...</td>\n",
       "      <td>False</td>\n",
       "      <td>False</td>\n",
       "      <td>False</td>\n",
       "      <td>False</td>\n",
       "      <td>True</td>\n",
       "      <td>False</td>\n",
       "      <td>False</td>\n",
       "      <td>False</td>\n",
       "      <td>False</td>\n",
       "      <td>False</td>\n",
       "    </tr>\n",
       "    <tr>\n",
       "      <th>2</th>\n",
       "      <td>45440</td>\n",
       "      <td>False</td>\n",
       "      <td>0.941176</td>\n",
       "      <td>-1.0</td>\n",
       "      <td>False</td>\n",
       "      <td>False</td>\n",
       "      <td>False</td>\n",
       "      <td>False</td>\n",
       "      <td>0</td>\n",
       "      <td>0</td>\n",
       "      <td>...</td>\n",
       "      <td>False</td>\n",
       "      <td>False</td>\n",
       "      <td>False</td>\n",
       "      <td>False</td>\n",
       "      <td>False</td>\n",
       "      <td>False</td>\n",
       "      <td>False</td>\n",
       "      <td>False</td>\n",
       "      <td>False</td>\n",
       "      <td>False</td>\n",
       "    </tr>\n",
       "    <tr>\n",
       "      <th>3</th>\n",
       "      <td>45440</td>\n",
       "      <td>False</td>\n",
       "      <td>0.941176</td>\n",
       "      <td>-1.0</td>\n",
       "      <td>False</td>\n",
       "      <td>False</td>\n",
       "      <td>False</td>\n",
       "      <td>False</td>\n",
       "      <td>0</td>\n",
       "      <td>0</td>\n",
       "      <td>...</td>\n",
       "      <td>False</td>\n",
       "      <td>False</td>\n",
       "      <td>False</td>\n",
       "      <td>False</td>\n",
       "      <td>False</td>\n",
       "      <td>False</td>\n",
       "      <td>False</td>\n",
       "      <td>False</td>\n",
       "      <td>False</td>\n",
       "      <td>False</td>\n",
       "    </tr>\n",
       "    <tr>\n",
       "      <th>4</th>\n",
       "      <td>45440</td>\n",
       "      <td>False</td>\n",
       "      <td>0.941176</td>\n",
       "      <td>-1.0</td>\n",
       "      <td>False</td>\n",
       "      <td>False</td>\n",
       "      <td>False</td>\n",
       "      <td>False</td>\n",
       "      <td>0</td>\n",
       "      <td>0</td>\n",
       "      <td>...</td>\n",
       "      <td>False</td>\n",
       "      <td>False</td>\n",
       "      <td>False</td>\n",
       "      <td>False</td>\n",
       "      <td>False</td>\n",
       "      <td>False</td>\n",
       "      <td>False</td>\n",
       "      <td>False</td>\n",
       "      <td>False</td>\n",
       "      <td>False</td>\n",
       "    </tr>\n",
       "  </tbody>\n",
       "</table>\n",
       "<p>5 rows × 26 columns</p>\n",
       "</div>"
      ],
      "text/plain": [
       "   studentId  is_proficient  proficient_score  proficient_diff  \\\n",
       "0      45054          False          0.529412             -8.0   \n",
       "1      45054          False          0.529412             -8.0   \n",
       "2      45440          False          0.941176             -1.0   \n",
       "3      45440          False          0.941176             -1.0   \n",
       "4      45440          False          0.941176             -1.0   \n",
       "\n",
       "   school_High School A  school_High School B  school_High School C  \\\n",
       "0                  True                 False                 False   \n",
       "1                  True                 False                 False   \n",
       "2                 False                 False                 False   \n",
       "3                 False                 False                 False   \n",
       "4                 False                 False                 False   \n",
       "\n",
       "   school_High School D  iready_math  iready_reading  ...  \\\n",
       "0                 False            0               0  ...   \n",
       "1                 False            0               0  ...   \n",
       "2                 False            0               0  ...   \n",
       "3                 False            0               0  ...   \n",
       "4                 False            0               0  ...   \n",
       "\n",
       "   category_PERFORMING_ARTS  category_VISUAL_ARTS  category_TECHNOLOGY  \\\n",
       "0                     False                 False                False   \n",
       "1                     False                 False                False   \n",
       "2                     False                 False                False   \n",
       "3                     False                 False                False   \n",
       "4                     False                 False                False   \n",
       "\n",
       "   category_BUSINESS  category_TRADES  category_AGRICULTURE  \\\n",
       "0              False             True                 False   \n",
       "1              False             True                 False   \n",
       "2              False            False                 False   \n",
       "3              False            False                 False   \n",
       "4              False            False                 False   \n",
       "\n",
       "   category_PHYSICAL_EDUCATION  category_HEALTH  category_CAREER_PREP  \\\n",
       "0                        False            False                 False   \n",
       "1                        False            False                 False   \n",
       "2                        False            False                 False   \n",
       "3                        False            False                 False   \n",
       "4                        False            False                 False   \n",
       "\n",
       "   category_MILITARY_SCIENCE  \n",
       "0                      False  \n",
       "1                      False  \n",
       "2                      False  \n",
       "3                      False  \n",
       "4                      False  \n",
       "\n",
       "[5 rows x 26 columns]"
      ]
     },
     "execution_count": 8,
     "metadata": {},
     "output_type": "execute_result"
    }
   ],
   "source": [
    "actMath11_df.head()"
   ]
  },
  {
   "cell_type": "code",
   "execution_count": 10,
   "metadata": {},
   "outputs": [],
   "source": [
    "# Get a list of columns with only True and False values\n",
    "true_false_columns = actMath11_df.columns[actMath11_df.apply(lambda col: col.isin([True, False]).all())]\n",
    "\n",
    "# Convert to a list\n",
    "true_false_columns_list = true_false_columns.tolist()\n",
    "\n",
    "#Make true false 1 and 0\n",
    "actMath11_df[true_false_columns] = actMath11_df[true_false_columns].astype(int)\n"
   ]
  },
  {
   "cell_type": "code",
   "execution_count": 14,
   "metadata": {},
   "outputs": [],
   "source": [
    "feature_list = list(actMath11_df.select_dtypes(include = ['int']).columns)\n",
    "feature_list.remove('is_proficient')"
   ]
  },
  {
   "cell_type": "code",
   "execution_count": 15,
   "metadata": {},
   "outputs": [
    {
     "data": {
      "text/plain": [
       "['studentId',\n",
       " 'school_High School A',\n",
       " 'school_High School B',\n",
       " 'school_High School C',\n",
       " 'school_High School D',\n",
       " 'iready_math',\n",
       " 'iready_reading',\n",
       " 'bbb_literacy',\n",
       " 'category_MATHEMATICS',\n",
       " 'category_ENGLISH',\n",
       " 'category_SCIENCE',\n",
       " 'category_SOCIAL_STUDIES',\n",
       " 'category_FOREIGN_LANGUAGE',\n",
       " 'category_PERFORMING_ARTS',\n",
       " 'category_VISUAL_ARTS',\n",
       " 'category_TECHNOLOGY',\n",
       " 'category_BUSINESS',\n",
       " 'category_TRADES',\n",
       " 'category_AGRICULTURE',\n",
       " 'category_PHYSICAL_EDUCATION',\n",
       " 'category_HEALTH',\n",
       " 'category_CAREER_PREP',\n",
       " 'category_MILITARY_SCIENCE']"
      ]
     },
     "execution_count": 15,
     "metadata": {},
     "output_type": "execute_result"
    }
   ],
   "source": [
    "feature_list"
   ]
  },
  {
   "cell_type": "code",
   "execution_count": 16,
   "metadata": {},
   "outputs": [
    {
     "name": "stdout",
     "output_type": "stream",
     "text": [
      "Number of examples: 3837\n",
      "\n",
      "Number of Features:23\n",
      "['studentId', 'school_High School A', 'school_High School B', 'school_High School C', 'school_High School D', 'iready_math', 'iready_reading', 'bbb_literacy', 'category_MATHEMATICS', 'category_ENGLISH', 'category_SCIENCE', 'category_SOCIAL_STUDIES', 'category_FOREIGN_LANGUAGE', 'category_PERFORMING_ARTS', 'category_VISUAL_ARTS', 'category_TECHNOLOGY', 'category_BUSINESS', 'category_TRADES', 'category_AGRICULTURE', 'category_PHYSICAL_EDUCATION', 'category_HEALTH', 'category_CAREER_PREP', 'category_MILITARY_SCIENCE']\n"
     ]
    }
   ],
   "source": [
    "# YOUR CODE HERE\n",
    "y = actMath11_df['is_proficient']\n",
    "X = actMath11_df[feature_list]\n",
    "\n",
    "print(\"Number of examples: \" + str(X.shape[0]))\n",
    "print(\"\\nNumber of Features:\" + str(X.shape[1]))\n",
    "print(str(list(X.columns)))"
   ]
  },
  {
   "cell_type": "code",
   "execution_count": 17,
   "metadata": {},
   "outputs": [],
   "source": [
    "#Create training and test datasets\n",
    "X_train, X_test, y_train, y_test = train_test_split(X, y, test_size = 0.33, random_state=1234)"
   ]
  },
  {
   "cell_type": "code",
   "execution_count": 18,
   "metadata": {},
   "outputs": [
    {
     "name": "stdout",
     "output_type": "stream",
     "text": [
      "(2570, 23)\n",
      "(1267, 23)\n"
     ]
    }
   ],
   "source": [
    "print(X_train.shape)\n",
    "print(X_test.shape)"
   ]
  },
  {
   "cell_type": "code",
   "execution_count": 19,
   "metadata": {},
   "outputs": [
    {
     "name": "stdout",
     "output_type": "stream",
     "text": [
      "Class Prediction Probabilities: \n",
      " Class: False  Class: True\n",
      "     0.706375     0.293625\n",
      "     0.232794     0.767206\n",
      "     0.144206     0.855794\n",
      "     0.706384     0.293616\n",
      "     0.756646     0.243354\n",
      "Log loss: 0.5703094910147\n",
      "Class labels: [0 1 1 0 0]\n",
      "Accuracy: 0.7198105761641673\n"
     ]
    },
    {
     "name": "stderr",
     "output_type": "stream",
     "text": [
      "/Users/mayapatel/Library/Python/3.9/lib/python/site-packages/sklearn/linear_model/_logistic.py:469: ConvergenceWarning: lbfgs failed to converge (status=1):\n",
      "STOP: TOTAL NO. of ITERATIONS REACHED LIMIT.\n",
      "\n",
      "Increase the number of iterations (max_iter) or scale the data as shown in:\n",
      "    https://scikit-learn.org/stable/modules/preprocessing.html\n",
      "Please also refer to the documentation for alternative solver options:\n",
      "    https://scikit-learn.org/stable/modules/linear_model.html#logistic-regression\n",
      "  n_iter_i = _check_optimize_result(\n"
     ]
    }
   ],
   "source": [
    "# 1. Create the LogisticRegression model object below and assign to variable 'model'\n",
    "model = LogisticRegression()\n",
    "\n",
    "# 2. Fit the model to the training data below\n",
    "model.fit(X_train, y_train)\n",
    "\n",
    "# 3. Make predictions on the test data using the predict_proba() method and assign the \n",
    "# result to the variable 'probability_predictions' below\n",
    "probability_predictions = model.predict_proba(X_test)\n",
    "\n",
    "# print the first 5 probability class predictions\n",
    "df_print = pd.DataFrame(probability_predictions, columns = ['Class: False', 'Class: True'])\n",
    "print('Class Prediction Probabilities: \\n' + df_print[0:5].to_string(index=False))\n",
    "\n",
    "# 4. Compute the log loss on 'probability_predictions' and save the result to the variable\n",
    "# 'l_loss' below\n",
    "l_loss = log_loss(y_test, probability_predictions)\n",
    "print('Log loss: ' + str(l_loss))\n",
    "\n",
    "# 5. Make predictions on the test data using the predict() method and assign the result \n",
    "# to the variable 'class_label_predictions' below\n",
    "class_label_predictions = model.predict(X_test)\n",
    "\n",
    "# print the first 5 class label predictions \n",
    "print('Class labels: ' + str(class_label_predictions[0:5]))\n",
    "\n",
    "# 6.Compute the accuracy score on 'class_label_predictions' and save the result \n",
    "# to the variable 'acc_score' below\n",
    "\n",
    "acc_score = accuracy_score(y_test, class_label_predictions)\n",
    "print('Accuracy: ' + str(acc_score))\n",
    "\n",
    "\n"
   ]
  },
  {
   "cell_type": "code",
   "execution_count": 20,
   "metadata": {},
   "outputs": [],
   "source": [
    "def computeAccuracy(threshold_value):\n",
    "    \n",
    "    labels=[]\n",
    "    for p in probability_predictions[:,0]:\n",
    "        if p >= threshold_value:\n",
    "            labels.append(False)\n",
    "        else:\n",
    "            labels.append(True)\n",
    "    \n",
    "    acc_score = accuracy_score(y_test, labels)\n",
    "    return acc_score"
   ]
  },
  {
   "cell_type": "code",
   "execution_count": 21,
   "metadata": {},
   "outputs": [
    {
     "name": "stdout",
     "output_type": "stream",
     "text": [
      "Threshold value 0.44: Accuracy 0.7198105761641673\n",
      "Threshold value 0.50: Accuracy 0.7198105761641673\n",
      "Threshold value 0.55: Accuracy 0.7182320441988951\n",
      "Threshold value 0.67: Accuracy 0.6921862667719021\n",
      "Threshold value 0.75: Accuracy 0.5295974743488555\n"
     ]
    }
   ],
   "source": [
    "thresholds = [0.44, 0.50, 0.55, 0.67, 0.75]\n",
    "for t in thresholds:\n",
    "    print(\"Threshold value {:.2f}: Accuracy {}\".format(t, str(computeAccuracy(t))))"
   ]
  },
  {
   "cell_type": "code",
   "execution_count": null,
   "metadata": {},
   "outputs": [],
   "source": []
  }
 ],
 "metadata": {
  "kernelspec": {
   "display_name": "Python 3",
   "language": "python",
   "name": "python3"
  },
  "language_info": {
   "codemirror_mode": {
    "name": "ipython",
    "version": 3
   },
   "file_extension": ".py",
   "mimetype": "text/x-python",
   "name": "python",
   "nbconvert_exporter": "python",
   "pygments_lexer": "ipython3",
   "version": "3.9.6"
  }
 },
 "nbformat": 4,
 "nbformat_minor": 2
}
