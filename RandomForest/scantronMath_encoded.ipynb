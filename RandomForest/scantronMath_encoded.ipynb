{
 "cells": [
  {
   "cell_type": "code",
   "execution_count": 31,
   "metadata": {},
   "outputs": [],
   "source": [
    "import pandas as pd\n",
    "import numpy as np\n",
    "import matplotlib.pyplot as plt\n",
    "import seaborn as sns\n",
    "import os\n",
    "\n",
    "from sklearn.model_selection import train_test_split, cross_val_score, GridSearchCV\n",
    "from sklearn.metrics import mean_squared_error, mean_absolute_error, r2_score,classification_report, confusion_matrix,f1_score\n",
    "from sklearn.ensemble import RandomForestRegressor, GradientBoostingRegressor\n"
   ]
  },
  {
   "cell_type": "code",
   "execution_count": 32,
   "metadata": {},
   "outputs": [],
   "source": [
    "filename4 = os.path.join(os.getcwd(),\"dataframes\", \"scantronMath_38_encoded.csv\")\n",
    "scantronMath_38_encoded_df = pd.read_csv(filename4, header = 0)\n"
   ]
  },
  {
   "cell_type": "code",
   "execution_count": 33,
   "metadata": {},
   "outputs": [],
   "source": [
    "pd.set_option('display.max_rows', None)\n",
    "pd.set_option('display.max_columns', None)"
   ]
  },
  {
   "cell_type": "code",
   "execution_count": 34,
   "metadata": {},
   "outputs": [
    {
     "data": {
      "text/html": [
       "<div>\n",
       "<style scoped>\n",
       "    .dataframe tbody tr th:only-of-type {\n",
       "        vertical-align: middle;\n",
       "    }\n",
       "\n",
       "    .dataframe tbody tr th {\n",
       "        vertical-align: top;\n",
       "    }\n",
       "\n",
       "    .dataframe thead th {\n",
       "        text-align: right;\n",
       "    }\n",
       "</style>\n",
       "<table border=\"1\" class=\"dataframe\">\n",
       "  <thead>\n",
       "    <tr style=\"text-align: right;\">\n",
       "      <th></th>\n",
       "      <th>studentId</th>\n",
       "      <th>level</th>\n",
       "      <th>dataSource</th>\n",
       "      <th>is_proficient</th>\n",
       "      <th>proficient_score</th>\n",
       "      <th>school_Elementary A</th>\n",
       "      <th>school_Elementary School B</th>\n",
       "      <th>school_Elementary School E</th>\n",
       "      <th>school_Elementary School F</th>\n",
       "      <th>school_Intermediate School E</th>\n",
       "      <th>school_Middle School A</th>\n",
       "      <th>school_Middle School C</th>\n",
       "      <th>school_Middle School D</th>\n",
       "      <th>school_Middle School F</th>\n",
       "      <th>iready_math</th>\n",
       "      <th>iready_reading</th>\n",
       "      <th>past_proficient_score</th>\n",
       "      <th>subject_math</th>\n",
       "      <th>subject_reading</th>\n",
       "      <th>subject_science</th>\n",
       "      <th>subject_social-studies</th>\n",
       "      <th>subject_music</th>\n",
       "      <th>subject_art</th>\n",
       "      <th>subject_performing-arts</th>\n",
       "      <th>subject_phys-ed</th>\n",
       "      <th>subject_career-prep</th>\n",
       "    </tr>\n",
       "  </thead>\n",
       "  <tbody>\n",
       "    <tr>\n",
       "      <th>0</th>\n",
       "      <td>44777</td>\n",
       "      <td>7</td>\n",
       "      <td>value_scantronMath</td>\n",
       "      <td>False</td>\n",
       "      <td>0.935351</td>\n",
       "      <td>False</td>\n",
       "      <td>False</td>\n",
       "      <td>False</td>\n",
       "      <td>False</td>\n",
       "      <td>False</td>\n",
       "      <td>True</td>\n",
       "      <td>False</td>\n",
       "      <td>False</td>\n",
       "      <td>False</td>\n",
       "      <td>0</td>\n",
       "      <td>0</td>\n",
       "      <td>0.957757</td>\n",
       "      <td>2</td>\n",
       "      <td>2</td>\n",
       "      <td>2</td>\n",
       "      <td>2</td>\n",
       "      <td>1</td>\n",
       "      <td>0</td>\n",
       "      <td>0</td>\n",
       "      <td>0</td>\n",
       "      <td>0</td>\n",
       "    </tr>\n",
       "    <tr>\n",
       "      <th>1</th>\n",
       "      <td>44783</td>\n",
       "      <td>7</td>\n",
       "      <td>value_scantronMath</td>\n",
       "      <td>False</td>\n",
       "      <td>0.974724</td>\n",
       "      <td>False</td>\n",
       "      <td>False</td>\n",
       "      <td>False</td>\n",
       "      <td>False</td>\n",
       "      <td>False</td>\n",
       "      <td>True</td>\n",
       "      <td>False</td>\n",
       "      <td>False</td>\n",
       "      <td>False</td>\n",
       "      <td>0</td>\n",
       "      <td>0</td>\n",
       "      <td>0.949346</td>\n",
       "      <td>2</td>\n",
       "      <td>2</td>\n",
       "      <td>2</td>\n",
       "      <td>1</td>\n",
       "      <td>0</td>\n",
       "      <td>0</td>\n",
       "      <td>0</td>\n",
       "      <td>0</td>\n",
       "      <td>0</td>\n",
       "    </tr>\n",
       "    <tr>\n",
       "      <th>2</th>\n",
       "      <td>44784</td>\n",
       "      <td>6</td>\n",
       "      <td>value_scantronMath</td>\n",
       "      <td>True</td>\n",
       "      <td>1.021622</td>\n",
       "      <td>False</td>\n",
       "      <td>False</td>\n",
       "      <td>False</td>\n",
       "      <td>False</td>\n",
       "      <td>False</td>\n",
       "      <td>True</td>\n",
       "      <td>False</td>\n",
       "      <td>False</td>\n",
       "      <td>False</td>\n",
       "      <td>0</td>\n",
       "      <td>0</td>\n",
       "      <td>0.990132</td>\n",
       "      <td>2</td>\n",
       "      <td>2</td>\n",
       "      <td>2</td>\n",
       "      <td>2</td>\n",
       "      <td>1</td>\n",
       "      <td>0</td>\n",
       "      <td>0</td>\n",
       "      <td>0</td>\n",
       "      <td>0</td>\n",
       "    </tr>\n",
       "    <tr>\n",
       "      <th>3</th>\n",
       "      <td>44807</td>\n",
       "      <td>7</td>\n",
       "      <td>value_scantronMath</td>\n",
       "      <td>True</td>\n",
       "      <td>1.015190</td>\n",
       "      <td>False</td>\n",
       "      <td>False</td>\n",
       "      <td>False</td>\n",
       "      <td>False</td>\n",
       "      <td>False</td>\n",
       "      <td>True</td>\n",
       "      <td>False</td>\n",
       "      <td>False</td>\n",
       "      <td>False</td>\n",
       "      <td>0</td>\n",
       "      <td>0</td>\n",
       "      <td>1.035514</td>\n",
       "      <td>2</td>\n",
       "      <td>2</td>\n",
       "      <td>1</td>\n",
       "      <td>2</td>\n",
       "      <td>0</td>\n",
       "      <td>0</td>\n",
       "      <td>0</td>\n",
       "      <td>0</td>\n",
       "      <td>0</td>\n",
       "    </tr>\n",
       "    <tr>\n",
       "      <th>4</th>\n",
       "      <td>44809</td>\n",
       "      <td>7</td>\n",
       "      <td>value_scantronMath</td>\n",
       "      <td>False</td>\n",
       "      <td>0.921740</td>\n",
       "      <td>False</td>\n",
       "      <td>False</td>\n",
       "      <td>False</td>\n",
       "      <td>False</td>\n",
       "      <td>False</td>\n",
       "      <td>True</td>\n",
       "      <td>False</td>\n",
       "      <td>False</td>\n",
       "      <td>False</td>\n",
       "      <td>0</td>\n",
       "      <td>0</td>\n",
       "      <td>0.934393</td>\n",
       "      <td>2</td>\n",
       "      <td>2</td>\n",
       "      <td>2</td>\n",
       "      <td>2</td>\n",
       "      <td>1</td>\n",
       "      <td>0</td>\n",
       "      <td>0</td>\n",
       "      <td>0</td>\n",
       "      <td>0</td>\n",
       "    </tr>\n",
       "  </tbody>\n",
       "</table>\n",
       "</div>"
      ],
      "text/plain": [
       "   studentId  level          dataSource  is_proficient  proficient_score  \\\n",
       "0      44777      7  value_scantronMath          False          0.935351   \n",
       "1      44783      7  value_scantronMath          False          0.974724   \n",
       "2      44784      6  value_scantronMath           True          1.021622   \n",
       "3      44807      7  value_scantronMath           True          1.015190   \n",
       "4      44809      7  value_scantronMath          False          0.921740   \n",
       "\n",
       "   school_Elementary A  school_Elementary School B  \\\n",
       "0                False                       False   \n",
       "1                False                       False   \n",
       "2                False                       False   \n",
       "3                False                       False   \n",
       "4                False                       False   \n",
       "\n",
       "   school_Elementary School E  school_Elementary School F  \\\n",
       "0                       False                       False   \n",
       "1                       False                       False   \n",
       "2                       False                       False   \n",
       "3                       False                       False   \n",
       "4                       False                       False   \n",
       "\n",
       "   school_Intermediate School E  school_Middle School A  \\\n",
       "0                         False                    True   \n",
       "1                         False                    True   \n",
       "2                         False                    True   \n",
       "3                         False                    True   \n",
       "4                         False                    True   \n",
       "\n",
       "   school_Middle School C  school_Middle School D  school_Middle School F  \\\n",
       "0                   False                   False                   False   \n",
       "1                   False                   False                   False   \n",
       "2                   False                   False                   False   \n",
       "3                   False                   False                   False   \n",
       "4                   False                   False                   False   \n",
       "\n",
       "   iready_math  iready_reading  past_proficient_score  subject_math  \\\n",
       "0            0               0               0.957757             2   \n",
       "1            0               0               0.949346             2   \n",
       "2            0               0               0.990132             2   \n",
       "3            0               0               1.035514             2   \n",
       "4            0               0               0.934393             2   \n",
       "\n",
       "   subject_reading  subject_science  subject_social-studies  subject_music  \\\n",
       "0                2                2                       2              1   \n",
       "1                2                2                       1              0   \n",
       "2                2                2                       2              1   \n",
       "3                2                1                       2              0   \n",
       "4                2                2                       2              1   \n",
       "\n",
       "   subject_art  subject_performing-arts  subject_phys-ed  subject_career-prep  \n",
       "0            0                        0                0                    0  \n",
       "1            0                        0                0                    0  \n",
       "2            0                        0                0                    0  \n",
       "3            0                        0                0                    0  \n",
       "4            0                        0                0                    0  "
      ]
     },
     "execution_count": 34,
     "metadata": {},
     "output_type": "execute_result"
    }
   ],
   "source": [
    "scantronMath_38_encoded_df.head()"
   ]
  },
  {
   "cell_type": "code",
   "execution_count": 35,
   "metadata": {},
   "outputs": [
    {
     "data": {
      "text/plain": [
       "studentId                         int64\n",
       "level                             int64\n",
       "dataSource                       object\n",
       "is_proficient                      bool\n",
       "proficient_score                float64\n",
       "school_Elementary A                bool\n",
       "school_Elementary School B         bool\n",
       "school_Elementary School E         bool\n",
       "school_Elementary School F         bool\n",
       "school_Intermediate School E       bool\n",
       "school_Middle School A             bool\n",
       "school_Middle School C             bool\n",
       "school_Middle School D             bool\n",
       "school_Middle School F             bool\n",
       "iready_math                       int64\n",
       "iready_reading                    int64\n",
       "past_proficient_score           float64\n",
       "subject_math                      int64\n",
       "subject_reading                   int64\n",
       "subject_science                   int64\n",
       "subject_social-studies            int64\n",
       "subject_music                     int64\n",
       "subject_art                       int64\n",
       "subject_performing-arts           int64\n",
       "subject_phys-ed                   int64\n",
       "subject_career-prep               int64\n",
       "dtype: object"
      ]
     },
     "execution_count": 35,
     "metadata": {},
     "output_type": "execute_result"
    }
   ],
   "source": [
    "scantronMath_38_encoded_df.dtypes"
   ]
  },
  {
   "cell_type": "code",
   "execution_count": 36,
   "metadata": {},
   "outputs": [
    {
     "data": {
      "text/plain": [
       "studentId                         int64\n",
       "level                             int64\n",
       "dataSource                       object\n",
       "is_proficient                     int32\n",
       "proficient_score                float64\n",
       "school_Elementary A               int32\n",
       "school_Elementary School B        int32\n",
       "school_Elementary School E        int32\n",
       "school_Elementary School F        int32\n",
       "school_Intermediate School E      int32\n",
       "school_Middle School A            int32\n",
       "school_Middle School C            int32\n",
       "school_Middle School D            int32\n",
       "school_Middle School F            int32\n",
       "iready_math                       int64\n",
       "iready_reading                    int64\n",
       "past_proficient_score           float64\n",
       "subject_math                      int64\n",
       "subject_reading                   int64\n",
       "subject_science                   int64\n",
       "subject_social-studies            int64\n",
       "subject_music                     int64\n",
       "subject_art                       int64\n",
       "subject_performing-arts           int64\n",
       "subject_phys-ed                   int64\n",
       "subject_career-prep               int64\n",
       "dtype: object"
      ]
     },
     "execution_count": 36,
     "metadata": {},
     "output_type": "execute_result"
    }
   ],
   "source": [
    "#turning bools into ints\n",
    "scantronMath_38_encoded_df[scantronMath_38_encoded_df.select_dtypes(include=['bool']).columns] = scantronMath_38_encoded_df.select_dtypes(include=['bool']).astype(int)\n",
    "scantronMath_38_encoded_df.dtypes"
   ]
  },
  {
   "cell_type": "code",
   "execution_count": 37,
   "metadata": {},
   "outputs": [
    {
     "name": "stdout",
     "output_type": "stream",
     "text": [
      "studentId                          0\n",
      "level                              0\n",
      "dataSource                         0\n",
      "is_proficient                      0\n",
      "proficient_score                   0\n",
      "school_Elementary A                0\n",
      "school_Elementary School B         0\n",
      "school_Elementary School E         0\n",
      "school_Elementary School F         0\n",
      "school_Intermediate School E       0\n",
      "school_Middle School A             0\n",
      "school_Middle School C             0\n",
      "school_Middle School D             0\n",
      "school_Middle School F             0\n",
      "iready_math                        0\n",
      "iready_reading                     0\n",
      "past_proficient_score           5422\n",
      "subject_math                       0\n",
      "subject_reading                    0\n",
      "subject_science                    0\n",
      "subject_social-studies             0\n",
      "subject_music                      0\n",
      "subject_art                        0\n",
      "subject_performing-arts            0\n",
      "subject_phys-ed                    0\n",
      "subject_career-prep                0\n",
      "dtype: int64\n"
     ]
    }
   ],
   "source": [
    "print(scantronMath_38_encoded_df.isnull().sum())  "
   ]
  },
  {
   "cell_type": "code",
   "execution_count": 38,
   "metadata": {},
   "outputs": [
    {
     "name": "stdout",
     "output_type": "stream",
     "text": [
      "studentId                       0\n",
      "level                           0\n",
      "dataSource                      0\n",
      "is_proficient                   0\n",
      "proficient_score                0\n",
      "school_Elementary A             0\n",
      "school_Elementary School B      0\n",
      "school_Elementary School E      0\n",
      "school_Elementary School F      0\n",
      "school_Intermediate School E    0\n",
      "school_Middle School A          0\n",
      "school_Middle School C          0\n",
      "school_Middle School D          0\n",
      "school_Middle School F          0\n",
      "iready_math                     0\n",
      "iready_reading                  0\n",
      "past_proficient_score           0\n",
      "subject_math                    0\n",
      "subject_reading                 0\n",
      "subject_science                 0\n",
      "subject_social-studies          0\n",
      "subject_music                   0\n",
      "subject_art                     0\n",
      "subject_performing-arts         0\n",
      "subject_phys-ed                 0\n",
      "subject_career-prep             0\n",
      "dtype: int64\n"
     ]
    }
   ],
   "source": [
    "scantronMath_38_encoded_df = scantronMath_38_encoded_df.dropna(subset=['past_proficient_score'])\n",
    "print(scantronMath_38_encoded_df.isnull().sum())  "
   ]
  },
  {
   "cell_type": "code",
   "execution_count": 39,
   "metadata": {},
   "outputs": [
    {
     "name": "stdout",
     "output_type": "stream",
     "text": [
      "Number of examples: 15149\n",
      "(11361, 21)\n",
      "(3788, 21)\n"
     ]
    }
   ],
   "source": [
    "#training\n",
    "y = scantronMath_38_encoded_df['proficient_score']\n",
    "X= scantronMath_38_encoded_df.drop(['proficient_score', 'is_proficient', 'studentId','dataSource', 'level'], axis=1)\n",
    "print(\"Number of examples: \" + str(X.shape[0]))\n",
    "X_train,X_test, y_train,y_test = train_test_split(X,y, test_size=0.25,stratify= scantronMath_38_encoded_df['is_proficient'], random_state=123)\n",
    "print(X_train.shape)\n",
    "print(X_test.shape)"
   ]
  },
  {
   "cell_type": "code",
   "execution_count": 40,
   "metadata": {},
   "outputs": [],
   "source": [
    "#setting up the param grid, possible hyperparameter for max_depth and n_estimators:The number of trees in the forest.\n",
    "max_depth_values38 = [18,23,32]\n",
    "n_estimators_value38 = [250,300,350]\n",
    "param_grid38 = {'max_depth' : list(max_depth_values38), 'n_estimators' : list(n_estimators_value38)}"
   ]
  },
  {
   "cell_type": "code",
   "execution_count": 41,
   "metadata": {},
   "outputs": [
    {
     "data": {
      "text/plain": [
       "'\\nprint(\"Running Grid Search\")\\nrf_regressor38 = RandomForestRegressor()\\n\\n# will have a 3-fold cross validation \\nrf_grid38 = GridSearchCV(rf_regressor38, param_grid38, cv=3, scoring=\\'neg_root_mean_squared_error\\')\\nrf_grid_search38 = rf_grid38.fit(X_train, y_train)\\n\\nprint(\"Done\")\\nrf_best_params38 = rf_grid_search38.best_params_\\n\\nrf_best_params38\\n'"
      ]
     },
     "execution_count": 41,
     "metadata": {},
     "output_type": "execute_result"
    }
   ],
   "source": [
    "'''\n",
    "print(\"Running Grid Search\")\n",
    "rf_regressor38 = RandomForestRegressor()\n",
    "\n",
    "# will have a 3-fold cross validation \n",
    "rf_grid38 = GridSearchCV(rf_regressor38, param_grid38, cv=3, scoring='neg_root_mean_squared_error')\n",
    "rf_grid_search38 = rf_grid38.fit(X_train, y_train)\n",
    "\n",
    "print(\"Done\")\n",
    "rf_best_params38 = rf_grid_search38.best_params_\n",
    "\n",
    "rf_best_params38\n",
    "'''\n",
    "\n",
    "#{'max_depth': 18, 'n_estimators': 350}"
   ]
  },
  {
   "cell_type": "code",
   "execution_count": 42,
   "metadata": {},
   "outputs": [
    {
     "name": "stdout",
     "output_type": "stream",
     "text": [
      "threshold= 1\n",
      "\n",
      "Classification Report:\n",
      "              precision    recall  f1-score   support\n",
      "\n",
      "       False       0.88      0.90      0.89      2581\n",
      "        True       0.78      0.75      0.76      1207\n",
      "\n",
      "    accuracy                           0.85      3788\n",
      "   macro avg       0.83      0.82      0.83      3788\n",
      "weighted avg       0.85      0.85      0.85      3788\n",
      "\n",
      "[RF] Root Mean Squared Error: 0.0486536276780329\n",
      "[RF] R2: 0.5523632068864386\n"
     ]
    }
   ],
   "source": [
    "rf_model38 = RandomForestRegressor(max_depth=18, n_estimators=350)\n",
    "rf_model38.fit(X_train,y_train)\n",
    "y_rf_pred38 = rf_model38.predict(X_test)\n",
    "rf_rmse = mean_squared_error(y_test, y_rf_pred38, squared=False)\n",
    "rf_r2 = r2_score(y_test, y_rf_pred38)\n",
    "#trying to get f1 and accuracy score \n",
    "threshold = 1\n",
    "y_pred38_bool = y_rf_pred38 >= threshold\n",
    "y_test38_bool = y_test >= threshold\n",
    "\n",
    "print(\"threshold=\", threshold)\n",
    "# Print the classification report\n",
    "print(\"\\nClassification Report:\")\n",
    "print(classification_report(y_test38_bool, y_pred38_bool))\n",
    "\n",
    "print('[RF] Root Mean Squared Error: {0}'.format(rf_rmse))\n",
    "print('[RF] R2: {0}'.format(rf_r2))        "
   ]
  },
  {
   "cell_type": "code",
   "execution_count": 43,
   "metadata": {},
   "outputs": [
    {
     "name": "stdout",
     "output_type": "stream",
     "text": [
      "Micro F1 Score: 0.8534846884899682\n"
     ]
    }
   ],
   "source": [
    "#looking at the micro score\n",
    "micro_f1 = f1_score(y_test38_bool, y_pred38_bool, average='micro')\n",
    "\n",
    "print(\"Micro F1 Score:\", micro_f1)"
   ]
  },
  {
   "cell_type": "code",
   "execution_count": 44,
   "metadata": {},
   "outputs": [
    {
     "name": "stdout",
     "output_type": "stream",
     "text": [
      "Confusion Matrix:\n",
      "[[2333  248]\n",
      " [ 307  900]]\n"
     ]
    },
    {
     "data": {
      "image/png": "[encoded data removed]",
      "text/plain": [
       "<Figure size 640x480 with 2 Axes>"
      ]
     },
     "metadata": {},
     "output_type": "display_data"
    }
   ],
   "source": [
    "cm = confusion_matrix(y_test38_bool, y_pred38_bool)\n",
    "\n",
    "# Print the confusion matrix\n",
    "print(\"Confusion Matrix:\")\n",
    "print(cm)\n",
    "\n",
    "# Optionally, plot the confusion matrix using seaborn heatmap for better visualization\n",
    "sns.heatmap(cm, annot=True, fmt=\"d\", cmap=\"Blues\", xticklabels=[\"Not Proficient\", \"Proficient\"], yticklabels=[\"Not Proficient\", \"Proficient\"])\n",
    "plt.xlabel('Predicted')\n",
    "plt.ylabel('Actual')\n",
    "plt.title('Confusion Matrix')\n",
    "plt.show()"
   ]
  },
  {
   "cell_type": "markdown",
   "metadata": {},
   "source": [
    "Feature Importance"
   ]
  },
  {
   "cell_type": "code",
   "execution_count": 46,
   "metadata": {},
   "outputs": [
    {
     "name": "stdout",
     "output_type": "stream",
     "text": [
      "                         Feature  Importance\n",
      "11         past_proficient_score    0.908753\n",
      "15        subject_social-studies    0.012131\n",
      "2     school_Elementary School E    0.011602\n",
      "7         school_Middle School D    0.008534\n",
      "8         school_Middle School F    0.007027\n",
      "19               subject_phys-ed    0.006811\n",
      "3     school_Elementary School F    0.006421\n",
      "16                 subject_music    0.004729\n",
      "14               subject_science    0.004634\n",
      "6         school_Middle School C    0.004538\n",
      "12                  subject_math    0.004184\n",
      "13               subject_reading    0.004103\n",
      "5         school_Middle School A    0.003848\n",
      "10                iready_reading    0.002897\n",
      "9                    iready_math    0.002272\n",
      "4   school_Intermediate School E    0.002088\n",
      "1     school_Elementary School B    0.001693\n",
      "0            school_Elementary A    0.001690\n",
      "20           subject_career-prep    0.001076\n",
      "17                   subject_art    0.000870\n",
      "18       subject_performing-arts    0.000100\n"
     ]
    }
   ],
   "source": [
    "importances = rf_model38.feature_importances_\n",
    "feature_names = X_train.columns\n",
    "\n",
    "# Combine names and importances, and sort\n",
    "importance_dfRead = pd.DataFrame({'Feature': feature_names, 'Importance': importances})\n",
    "importance_dfRead= importance_dfRead.sort_values(by='Importance', ascending=False)\n",
    "\n",
    "# Display the sorted DataFrame\n",
    "print(importance_dfRead)"
   ]
  }
 ],
 "metadata": {
  "kernelspec": {
   "display_name": "Python 3",
   "language": "python",
   "name": "python3"
  },
  "language_info": {
   "codemirror_mode": {
    "name": "ipython",
    "version": 3
   },
   "file_extension": ".py",
   "mimetype": "text/x-python",
   "name": "python",
   "nbconvert_exporter": "python",
   "pygments_lexer": "ipython3",
   "version": "3.11.3"
  }
 },
 "nbformat": 4,
 "nbformat_minor": 2
}
