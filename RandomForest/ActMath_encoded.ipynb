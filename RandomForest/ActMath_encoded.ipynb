{
 "cells": [
  {
   "cell_type": "code",
   "execution_count": 13,
   "metadata": {},
   "outputs": [],
   "source": [
    "import pandas as pd\n",
    "import numpy as np\n",
    "import matplotlib.pyplot as plt\n",
    "import seaborn as sns\n",
    "import os\n",
    "\n",
    "from sklearn.model_selection import train_test_split, cross_val_score, GridSearchCV\n",
    "from sklearn.metrics import mean_squared_error, mean_absolute_error, r2_score,classification_report, confusion_matrix, f1_score\n",
    "from sklearn.ensemble import RandomForestRegressor, GradientBoostingRegressor\n"
   ]
  },
  {
   "cell_type": "code",
   "execution_count": 14,
   "metadata": {},
   "outputs": [],
   "source": [
    "actMath_11_encoded_df = pd.read_csv('../dataframes/actMath_11_encoded_df.csv')"
   ]
  },
  {
   "cell_type": "markdown",
   "metadata": {},
   "source": [
    "Act Math encoded, label is proficient_score"
   ]
  },
  {
   "cell_type": "code",
   "execution_count": 15,
   "metadata": {},
   "outputs": [
    {
     "data": {
      "text/html": [
       "<div>\n",
       "<style scoped>\n",
       "    .dataframe tbody tr th:only-of-type {\n",
       "        vertical-align: middle;\n",
       "    }\n",
       "\n",
       "    .dataframe tbody tr th {\n",
       "        vertical-align: top;\n",
       "    }\n",
       "\n",
       "    .dataframe thead th {\n",
       "        text-align: right;\n",
       "    }\n",
       "</style>\n",
       "<table border=\"1\" class=\"dataframe\">\n",
       "  <thead>\n",
       "    <tr style=\"text-align: right;\">\n",
       "      <th></th>\n",
       "      <th>studentId</th>\n",
       "      <th>is_proficient</th>\n",
       "      <th>proficient_score</th>\n",
       "      <th>school_High School A</th>\n",
       "      <th>school_High School B</th>\n",
       "      <th>school_High School C</th>\n",
       "      <th>school_High School D</th>\n",
       "      <th>iready_math</th>\n",
       "      <th>iready_reading</th>\n",
       "      <th>bbb_literacy</th>\n",
       "      <th>...</th>\n",
       "      <th>category_PERFORMING_ARTS</th>\n",
       "      <th>category_VISUAL_ARTS</th>\n",
       "      <th>category_TECHNOLOGY</th>\n",
       "      <th>category_BUSINESS</th>\n",
       "      <th>category_TRADES</th>\n",
       "      <th>category_AGRICULTURE</th>\n",
       "      <th>category_PHYSICAL_EDUCATION</th>\n",
       "      <th>category_HEALTH</th>\n",
       "      <th>category_CAREER_PREP</th>\n",
       "      <th>category_MILITARY_SCIENCE</th>\n",
       "    </tr>\n",
       "  </thead>\n",
       "  <tbody>\n",
       "    <tr>\n",
       "      <th>0</th>\n",
       "      <td>45054</td>\n",
       "      <td>False</td>\n",
       "      <td>0.264706</td>\n",
       "      <td>True</td>\n",
       "      <td>False</td>\n",
       "      <td>False</td>\n",
       "      <td>False</td>\n",
       "      <td>0</td>\n",
       "      <td>0</td>\n",
       "      <td>0</td>\n",
       "      <td>...</td>\n",
       "      <td>False</td>\n",
       "      <td>False</td>\n",
       "      <td>False</td>\n",
       "      <td>False</td>\n",
       "      <td>True</td>\n",
       "      <td>False</td>\n",
       "      <td>False</td>\n",
       "      <td>False</td>\n",
       "      <td>False</td>\n",
       "      <td>False</td>\n",
       "    </tr>\n",
       "    <tr>\n",
       "      <th>1</th>\n",
       "      <td>45054</td>\n",
       "      <td>False</td>\n",
       "      <td>0.264706</td>\n",
       "      <td>True</td>\n",
       "      <td>False</td>\n",
       "      <td>False</td>\n",
       "      <td>False</td>\n",
       "      <td>0</td>\n",
       "      <td>0</td>\n",
       "      <td>0</td>\n",
       "      <td>...</td>\n",
       "      <td>False</td>\n",
       "      <td>False</td>\n",
       "      <td>False</td>\n",
       "      <td>False</td>\n",
       "      <td>True</td>\n",
       "      <td>False</td>\n",
       "      <td>False</td>\n",
       "      <td>False</td>\n",
       "      <td>False</td>\n",
       "      <td>False</td>\n",
       "    </tr>\n",
       "    <tr>\n",
       "      <th>2</th>\n",
       "      <td>45440</td>\n",
       "      <td>False</td>\n",
       "      <td>0.941176</td>\n",
       "      <td>False</td>\n",
       "      <td>False</td>\n",
       "      <td>False</td>\n",
       "      <td>False</td>\n",
       "      <td>0</td>\n",
       "      <td>0</td>\n",
       "      <td>0</td>\n",
       "      <td>...</td>\n",
       "      <td>False</td>\n",
       "      <td>False</td>\n",
       "      <td>False</td>\n",
       "      <td>False</td>\n",
       "      <td>False</td>\n",
       "      <td>False</td>\n",
       "      <td>False</td>\n",
       "      <td>False</td>\n",
       "      <td>False</td>\n",
       "      <td>False</td>\n",
       "    </tr>\n",
       "    <tr>\n",
       "      <th>3</th>\n",
       "      <td>45440</td>\n",
       "      <td>False</td>\n",
       "      <td>0.941176</td>\n",
       "      <td>False</td>\n",
       "      <td>False</td>\n",
       "      <td>False</td>\n",
       "      <td>False</td>\n",
       "      <td>0</td>\n",
       "      <td>0</td>\n",
       "      <td>0</td>\n",
       "      <td>...</td>\n",
       "      <td>False</td>\n",
       "      <td>False</td>\n",
       "      <td>False</td>\n",
       "      <td>False</td>\n",
       "      <td>False</td>\n",
       "      <td>False</td>\n",
       "      <td>False</td>\n",
       "      <td>False</td>\n",
       "      <td>False</td>\n",
       "      <td>False</td>\n",
       "    </tr>\n",
       "    <tr>\n",
       "      <th>4</th>\n",
       "      <td>45440</td>\n",
       "      <td>False</td>\n",
       "      <td>0.941176</td>\n",
       "      <td>False</td>\n",
       "      <td>False</td>\n",
       "      <td>False</td>\n",
       "      <td>False</td>\n",
       "      <td>0</td>\n",
       "      <td>0</td>\n",
       "      <td>0</td>\n",
       "      <td>...</td>\n",
       "      <td>False</td>\n",
       "      <td>False</td>\n",
       "      <td>False</td>\n",
       "      <td>False</td>\n",
       "      <td>False</td>\n",
       "      <td>False</td>\n",
       "      <td>False</td>\n",
       "      <td>False</td>\n",
       "      <td>False</td>\n",
       "      <td>False</td>\n",
       "    </tr>\n",
       "  </tbody>\n",
       "</table>\n",
       "<p>5 rows × 25 columns</p>\n",
       "</div>"
      ],
      "text/plain": [
       "   studentId  is_proficient  proficient_score  school_High School A  \\\n",
       "0      45054          False          0.264706                  True   \n",
       "1      45054          False          0.264706                  True   \n",
       "2      45440          False          0.941176                 False   \n",
       "3      45440          False          0.941176                 False   \n",
       "4      45440          False          0.941176                 False   \n",
       "\n",
       "   school_High School B  school_High School C  school_High School D  \\\n",
       "0                 False                 False                 False   \n",
       "1                 False                 False                 False   \n",
       "2                 False                 False                 False   \n",
       "3                 False                 False                 False   \n",
       "4                 False                 False                 False   \n",
       "\n",
       "   iready_math  iready_reading  bbb_literacy  ...  category_PERFORMING_ARTS  \\\n",
       "0            0               0             0  ...                     False   \n",
       "1            0               0             0  ...                     False   \n",
       "2            0               0             0  ...                     False   \n",
       "3            0               0             0  ...                     False   \n",
       "4            0               0             0  ...                     False   \n",
       "\n",
       "   category_VISUAL_ARTS  category_TECHNOLOGY  category_BUSINESS  \\\n",
       "0                 False                False              False   \n",
       "1                 False                False              False   \n",
       "2                 False                False              False   \n",
       "3                 False                False              False   \n",
       "4                 False                False              False   \n",
       "\n",
       "   category_TRADES  category_AGRICULTURE  category_PHYSICAL_EDUCATION  \\\n",
       "0             True                 False                        False   \n",
       "1             True                 False                        False   \n",
       "2            False                 False                        False   \n",
       "3            False                 False                        False   \n",
       "4            False                 False                        False   \n",
       "\n",
       "   category_HEALTH  category_CAREER_PREP  category_MILITARY_SCIENCE  \n",
       "0            False                 False                      False  \n",
       "1            False                 False                      False  \n",
       "2            False                 False                      False  \n",
       "3            False                 False                      False  \n",
       "4            False                 False                      False  \n",
       "\n",
       "[5 rows x 25 columns]"
      ]
     },
     "execution_count": 15,
     "metadata": {},
     "output_type": "execute_result"
    }
   ],
   "source": [
    "actMath_11_encoded_df.head()"
   ]
  },
  {
   "cell_type": "code",
   "execution_count": 16,
   "metadata": {},
   "outputs": [
    {
     "data": {
      "text/plain": [
       "studentId                        int64\n",
       "is_proficient                    int64\n",
       "proficient_score               float64\n",
       "school_High School A             int64\n",
       "school_High School B             int64\n",
       "school_High School C             int64\n",
       "school_High School D             int64\n",
       "iready_math                      int64\n",
       "iready_reading                   int64\n",
       "bbb_literacy                     int64\n",
       "category_MATHEMATICS             int64\n",
       "category_ENGLISH                 int64\n",
       "category_SCIENCE                 int64\n",
       "category_SOCIAL_STUDIES          int64\n",
       "category_FOREIGN_LANGUAGE        int64\n",
       "category_PERFORMING_ARTS         int64\n",
       "category_VISUAL_ARTS             int64\n",
       "category_TECHNOLOGY              int64\n",
       "category_BUSINESS                int64\n",
       "category_TRADES                  int64\n",
       "category_AGRICULTURE             int64\n",
       "category_PHYSICAL_EDUCATION      int64\n",
       "category_HEALTH                  int64\n",
       "category_CAREER_PREP             int64\n",
       "category_MILITARY_SCIENCE        int64\n",
       "dtype: object"
      ]
     },
     "execution_count": 16,
     "metadata": {},
     "output_type": "execute_result"
    }
   ],
   "source": [
    "#turning bools into ints\n",
    "actMath_11_encoded_df[actMath_11_encoded_df.select_dtypes(include=['bool']).columns] = actMath_11_encoded_df.select_dtypes(include=['bool']).astype(int)\n",
    "actMath_11_encoded_df.dtypes"
   ]
  },
  {
   "cell_type": "markdown",
   "metadata": {},
   "source": [
    "Training"
   ]
  },
  {
   "cell_type": "code",
   "execution_count": 17,
   "metadata": {},
   "outputs": [
    {
     "name": "stdout",
     "output_type": "stream",
     "text": [
      "Number of examples: 2580\n",
      "(2064, 22)\n",
      "(516, 22)\n"
     ]
    }
   ],
   "source": [
    "#training\n",
    "y= actMath_11_encoded_df['proficient_score']\n",
    "X= actMath_11_encoded_df.drop(['proficient_score', 'is_proficient', 'studentId'], axis=1)\n",
    "print(\"Number of examples: \" + str(X.shape[0]))\n",
    "X_train,X_test, y_train,y_test = train_test_split(X,y, test_size=0.20,stratify= actMath_11_encoded_df['is_proficient'], random_state=123)\n",
    "print(X_train.shape)\n",
    "print(X_test.shape)"
   ]
  },
  {
   "cell_type": "code",
   "execution_count": null,
   "metadata": {},
   "outputs": [
    {
     "name": "stdout",
     "output_type": "stream",
     "text": [
      "Running Grid Search\n",
      "Done\n"
     ]
    },
    {
     "data": {
      "text/plain": [
       "{'max_depth': 32, 'n_estimators': 350}"
      ]
     },
     "execution_count": 18,
     "metadata": {},
     "output_type": "execute_result"
    }
   ],
   "source": [
    "#hyperparameters\n",
    "'''\n",
    "max_depth_values = [5,18,23,32]\n",
    "n_estimators_value = [100,250,300,350]\n",
    "param_grid = {'max_depth' : list(max_depth_values), 'n_estimators' : list(n_estimators_value)}\n",
    "\n",
    "#Grid Search to find the best hyperparameters \n",
    "\n",
    "print(\"Running Grid Search\")\n",
    "rf_regressor= RandomForestRegressor()\n",
    "\n",
    "# will have a 3-fold cross validation \n",
    "rf_grid = GridSearchCV(rf_regressor, param_grid, cv=3, scoring='neg_root_mean_squared_error')\n",
    "rf_grid_search = rf_grid.fit(X_train, y_train)\n",
    "\n",
    "print(\"Done\")\n",
    "rf_best_params_Math_encoded = rf_grid_search.best_params_\n",
    "\n",
    "rf_best_params_Math_encoded\n",
    "'''\n",
    "\n",
    "#{'max_depth': 32, 'n_estimators': 350}"
   ]
  },
  {
   "cell_type": "code",
   "execution_count": 23,
   "metadata": {},
   "outputs": [
    {
     "name": "stdout",
     "output_type": "stream",
     "text": [
      "Begin Random Forest \n",
      "End\n",
      "threshold= 1\n",
      "\n",
      "Classification Report:\n",
      "              precision    recall  f1-score   support\n",
      "\n",
      "       False       0.78      0.95      0.86       329\n",
      "        True       0.85      0.53      0.65       187\n",
      "\n",
      "    accuracy                           0.80       516\n",
      "   macro avg       0.82      0.74      0.75       516\n",
      "weighted avg       0.81      0.80      0.78       516\n",
      "\n",
      "[RF] Root Mean Squared Error: 0.18817810546085287\n",
      "[RF] R2: 0.3805985929559861\n"
     ]
    },
    {
     "name": "stderr",
     "output_type": "stream",
     "text": [
      "c:\\Users\\lmmag\\AppData\\Local\\Programs\\Python\\Python39\\lib\\site-packages\\sklearn\\metrics\\_regression.py:492: FutureWarning: 'squared' is deprecated in version 1.4 and will be removed in 1.6. To calculate the root mean squared error, use the function'root_mean_squared_error'.\n",
      "  warnings.warn(\n"
     ]
    }
   ],
   "source": [
    "print('Begin Random Forest ')\n",
    "rf_model = RandomForestRegressor(max_depth=32, n_estimators=350)\n",
    "rf_model.fit(X_train,y_train)\n",
    "print('End')\n",
    "\n",
    "y_rf_pred = rf_model.predict(X_test)\n",
    "rf_rmse = mean_squared_error(y_test, y_rf_pred, squared=False)\n",
    "rf_r2= r2_score(y_test, y_rf_pred)\n",
    "\n",
    "#trying to get f1 and accuracy score \n",
    "threshold = 1\n",
    "y_pred_bool = y_rf_pred>= threshold\n",
    "y_test_bool = y_test >= threshold\n",
    "\n",
    "print(\"threshold=\", threshold)\n",
    "# Print the classification report\n",
    "print(\"\\nClassification Report:\")\n",
    "print(classification_report(y_test_bool, y_pred_bool))\n",
    "\n",
    "print('[RF] Root Mean Squared Error: {0}'.format(rf_rmse))\n",
    "print('[RF] R2: {0}'.format(rf_r2))     "
   ]
  },
  {
   "cell_type": "code",
   "execution_count": 24,
   "metadata": {},
   "outputs": [
    {
     "name": "stdout",
     "output_type": "stream",
     "text": [
      "Micro F1 Score: 0.7965116279069767\n"
     ]
    }
   ],
   "source": [
    "#looking at the micro score\n",
    "micro_f1 = f1_score(y_test_bool, y_pred_bool, average='micro')\n",
    "\n",
    "print(\"Micro F1 Score:\", micro_f1)"
   ]
  },
  {
   "cell_type": "code",
   "execution_count": 21,
   "metadata": {},
   "outputs": [
    {
     "name": "stdout",
     "output_type": "stream",
     "text": [
      "Confusion Matrix:\n",
      "[[311  18]\n",
      " [ 88  99]]\n"
     ]
    },
    {
     "data": {
      "image/png": "[encoded data removed]",
      "text/plain": [
       "<Figure size 640x480 with 2 Axes>"
      ]
     },
     "metadata": {},
     "output_type": "display_data"
    }
   ],
   "source": [
    "cm = confusion_matrix(y_test_bool, y_pred_bool)\n",
    "\n",
    "# Print the confusion matrix\n",
    "print(\"Confusion Matrix:\")\n",
    "print(cm)\n",
    "\n",
    "# Optionally, plot the confusion matrix using seaborn heatmap for better visualization\n",
    "sns.heatmap(cm, annot=True, fmt=\"d\", cmap=\"Blues\", xticklabels=[\"Not Proficient\", \"Proficient\"], yticklabels=[\"Not Proficient\", \"Proficient\"])\n",
    "plt.xlabel('Predicted')\n",
    "plt.ylabel('Actual')\n",
    "plt.title('Confusion Matrix')\n",
    "plt.show()"
   ]
  },
  {
   "cell_type": "markdown",
   "metadata": {},
   "source": [
    "Feature Importance"
   ]
  },
  {
   "cell_type": "code",
   "execution_count": 22,
   "metadata": {},
   "outputs": [
    {
     "data": {
      "text/html": [
       "<div>\n",
       "<style scoped>\n",
       "    .dataframe tbody tr th:only-of-type {\n",
       "        vertical-align: middle;\n",
       "    }\n",
       "\n",
       "    .dataframe tbody tr th {\n",
       "        vertical-align: top;\n",
       "    }\n",
       "\n",
       "    .dataframe thead th {\n",
       "        text-align: right;\n",
       "    }\n",
       "</style>\n",
       "<table border=\"1\" class=\"dataframe\">\n",
       "  <thead>\n",
       "    <tr style=\"text-align: right;\">\n",
       "      <th></th>\n",
       "      <th>Feature</th>\n",
       "      <th>Importance</th>\n",
       "    </tr>\n",
       "  </thead>\n",
       "  <tbody>\n",
       "    <tr>\n",
       "      <th>10</th>\n",
       "      <td>category_SOCIAL_STUDIES</td>\n",
       "      <td>0.188458</td>\n",
       "    </tr>\n",
       "    <tr>\n",
       "      <th>8</th>\n",
       "      <td>category_ENGLISH</td>\n",
       "      <td>0.164763</td>\n",
       "    </tr>\n",
       "    <tr>\n",
       "      <th>9</th>\n",
       "      <td>category_SCIENCE</td>\n",
       "      <td>0.087914</td>\n",
       "    </tr>\n",
       "    <tr>\n",
       "      <th>7</th>\n",
       "      <td>category_MATHEMATICS</td>\n",
       "      <td>0.066032</td>\n",
       "    </tr>\n",
       "    <tr>\n",
       "      <th>11</th>\n",
       "      <td>category_FOREIGN_LANGUAGE</td>\n",
       "      <td>0.054697</td>\n",
       "    </tr>\n",
       "    <tr>\n",
       "      <th>18</th>\n",
       "      <td>category_PHYSICAL_EDUCATION</td>\n",
       "      <td>0.054266</td>\n",
       "    </tr>\n",
       "    <tr>\n",
       "      <th>12</th>\n",
       "      <td>category_PERFORMING_ARTS</td>\n",
       "      <td>0.043331</td>\n",
       "    </tr>\n",
       "    <tr>\n",
       "      <th>13</th>\n",
       "      <td>category_VISUAL_ARTS</td>\n",
       "      <td>0.040658</td>\n",
       "    </tr>\n",
       "    <tr>\n",
       "      <th>21</th>\n",
       "      <td>category_MILITARY_SCIENCE</td>\n",
       "      <td>0.035019</td>\n",
       "    </tr>\n",
       "    <tr>\n",
       "      <th>17</th>\n",
       "      <td>category_AGRICULTURE</td>\n",
       "      <td>0.033855</td>\n",
       "    </tr>\n",
       "  </tbody>\n",
       "</table>\n",
       "</div>"
      ],
      "text/plain": [
       "                        Feature  Importance\n",
       "10      category_SOCIAL_STUDIES    0.188458\n",
       "8              category_ENGLISH    0.164763\n",
       "9              category_SCIENCE    0.087914\n",
       "7          category_MATHEMATICS    0.066032\n",
       "11    category_FOREIGN_LANGUAGE    0.054697\n",
       "18  category_PHYSICAL_EDUCATION    0.054266\n",
       "12     category_PERFORMING_ARTS    0.043331\n",
       "13         category_VISUAL_ARTS    0.040658\n",
       "21    category_MILITARY_SCIENCE    0.035019\n",
       "17         category_AGRICULTURE    0.033855"
      ]
     },
     "execution_count": 22,
     "metadata": {},
     "output_type": "execute_result"
    }
   ],
   "source": [
    "#feature importance \n",
    "importances_Math_encoded = rf_model.feature_importances_\n",
    "feature_names_Math_encoded = X_train.columns\n",
    "\n",
    "# Combine names and importances, and sort\n",
    "importance_Math_encoded_df = pd.DataFrame({'Feature': feature_names_Math_encoded, 'Importance': importances_Math_encoded})\n",
    "importance_Math_encoded_df = importance_Math_encoded_df.sort_values(by='Importance', ascending=False)\n",
    "\n",
    "# Display the sorted DataFrame\n",
    "importance_Math_encoded_df.head(10)"
   ]
  }
 ],
 "metadata": {
  "kernelspec": {
   "display_name": "Python 3",
   "language": "python",
   "name": "python3"
  },
  "language_info": {
   "codemirror_mode": {
    "name": "ipython",
    "version": 3
   },
   "file_extension": ".py",
   "mimetype": "text/x-python",
   "name": "python",
   "nbconvert_exporter": "python",
   "pygments_lexer": "ipython3",
   "version": "3.9.0"
  }
 },
 "nbformat": 4,
 "nbformat_minor": 2
}
