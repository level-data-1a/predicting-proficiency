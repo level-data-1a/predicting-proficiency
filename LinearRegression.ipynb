{
 "cells": [
  {
   "cell_type": "code",
   "execution_count": 1,
   "metadata": {},
   "outputs": [],
   "source": [
    "#Import Python Packages\n",
    "import pandas as pd\n",
    "import numpy as np\n",
    "import seaborn as sns\n",
    "import matplotlib.pyplot as plt\n",
    "%matplotlib inline\n",
    "import os\n",
    "pd.options.display.float_format = '{:.2f}'.format\n",
    "from sklearn.linear_model import LinearRegression\n",
    "from sklearn.model_selection import train_test_split\n",
    "from sklearn.metrics import mean_squared_error, r2_score"
   ]
  },
  {
   "cell_type": "markdown",
   "metadata": {},
   "source": [
    "**ACT Math 11**"
   ]
  },
  {
   "cell_type": "code",
   "execution_count": 2,
   "metadata": {},
   "outputs": [],
   "source": [
    "#Loading the dataframe\n",
    "filename = os.path.join(os.getcwd(), \"dataframes\", \"actMath_11_encoded_df.csv\")\n",
    "actMath11_df = pd.read_csv(filename, header = 0)"
   ]
  },
  {
   "cell_type": "code",
   "execution_count": 3,
   "metadata": {},
   "outputs": [
    {
     "data": {
      "text/html": [
       "<div>\n",
       "<style scoped>\n",
       "    .dataframe tbody tr th:only-of-type {\n",
       "        vertical-align: middle;\n",
       "    }\n",
       "\n",
       "    .dataframe tbody tr th {\n",
       "        vertical-align: top;\n",
       "    }\n",
       "\n",
       "    .dataframe thead th {\n",
       "        text-align: right;\n",
       "    }\n",
       "</style>\n",
       "<table border=\"1\" class=\"dataframe\">\n",
       "  <thead>\n",
       "    <tr style=\"text-align: right;\">\n",
       "      <th></th>\n",
       "      <th>studentId</th>\n",
       "      <th>is_proficient</th>\n",
       "      <th>proficient_score</th>\n",
       "      <th>proficient_diff</th>\n",
       "      <th>school_High School A</th>\n",
       "      <th>school_High School B</th>\n",
       "      <th>school_High School C</th>\n",
       "      <th>school_High School D</th>\n",
       "      <th>iready_math</th>\n",
       "      <th>iready_reading</th>\n",
       "      <th>...</th>\n",
       "      <th>category_PERFORMING_ARTS</th>\n",
       "      <th>category_VISUAL_ARTS</th>\n",
       "      <th>category_TECHNOLOGY</th>\n",
       "      <th>category_BUSINESS</th>\n",
       "      <th>category_TRADES</th>\n",
       "      <th>category_AGRICULTURE</th>\n",
       "      <th>category_PHYSICAL_EDUCATION</th>\n",
       "      <th>category_HEALTH</th>\n",
       "      <th>category_CAREER_PREP</th>\n",
       "      <th>category_MILITARY_SCIENCE</th>\n",
       "    </tr>\n",
       "  </thead>\n",
       "  <tbody>\n",
       "    <tr>\n",
       "      <th>0</th>\n",
       "      <td>45054</td>\n",
       "      <td>False</td>\n",
       "      <td>0.53</td>\n",
       "      <td>-8.00</td>\n",
       "      <td>True</td>\n",
       "      <td>False</td>\n",
       "      <td>False</td>\n",
       "      <td>False</td>\n",
       "      <td>0</td>\n",
       "      <td>0</td>\n",
       "      <td>...</td>\n",
       "      <td>False</td>\n",
       "      <td>False</td>\n",
       "      <td>False</td>\n",
       "      <td>False</td>\n",
       "      <td>True</td>\n",
       "      <td>False</td>\n",
       "      <td>False</td>\n",
       "      <td>False</td>\n",
       "      <td>False</td>\n",
       "      <td>False</td>\n",
       "    </tr>\n",
       "    <tr>\n",
       "      <th>1</th>\n",
       "      <td>45054</td>\n",
       "      <td>False</td>\n",
       "      <td>0.53</td>\n",
       "      <td>-8.00</td>\n",
       "      <td>True</td>\n",
       "      <td>False</td>\n",
       "      <td>False</td>\n",
       "      <td>False</td>\n",
       "      <td>0</td>\n",
       "      <td>0</td>\n",
       "      <td>...</td>\n",
       "      <td>False</td>\n",
       "      <td>False</td>\n",
       "      <td>False</td>\n",
       "      <td>False</td>\n",
       "      <td>True</td>\n",
       "      <td>False</td>\n",
       "      <td>False</td>\n",
       "      <td>False</td>\n",
       "      <td>False</td>\n",
       "      <td>False</td>\n",
       "    </tr>\n",
       "    <tr>\n",
       "      <th>2</th>\n",
       "      <td>45440</td>\n",
       "      <td>False</td>\n",
       "      <td>0.94</td>\n",
       "      <td>-1.00</td>\n",
       "      <td>False</td>\n",
       "      <td>False</td>\n",
       "      <td>False</td>\n",
       "      <td>False</td>\n",
       "      <td>0</td>\n",
       "      <td>0</td>\n",
       "      <td>...</td>\n",
       "      <td>False</td>\n",
       "      <td>False</td>\n",
       "      <td>False</td>\n",
       "      <td>False</td>\n",
       "      <td>False</td>\n",
       "      <td>False</td>\n",
       "      <td>False</td>\n",
       "      <td>False</td>\n",
       "      <td>False</td>\n",
       "      <td>False</td>\n",
       "    </tr>\n",
       "    <tr>\n",
       "      <th>3</th>\n",
       "      <td>45440</td>\n",
       "      <td>False</td>\n",
       "      <td>0.94</td>\n",
       "      <td>-1.00</td>\n",
       "      <td>False</td>\n",
       "      <td>False</td>\n",
       "      <td>False</td>\n",
       "      <td>False</td>\n",
       "      <td>0</td>\n",
       "      <td>0</td>\n",
       "      <td>...</td>\n",
       "      <td>False</td>\n",
       "      <td>False</td>\n",
       "      <td>False</td>\n",
       "      <td>False</td>\n",
       "      <td>False</td>\n",
       "      <td>False</td>\n",
       "      <td>False</td>\n",
       "      <td>False</td>\n",
       "      <td>False</td>\n",
       "      <td>False</td>\n",
       "    </tr>\n",
       "    <tr>\n",
       "      <th>4</th>\n",
       "      <td>45440</td>\n",
       "      <td>False</td>\n",
       "      <td>0.94</td>\n",
       "      <td>-1.00</td>\n",
       "      <td>False</td>\n",
       "      <td>False</td>\n",
       "      <td>False</td>\n",
       "      <td>False</td>\n",
       "      <td>0</td>\n",
       "      <td>0</td>\n",
       "      <td>...</td>\n",
       "      <td>False</td>\n",
       "      <td>False</td>\n",
       "      <td>False</td>\n",
       "      <td>False</td>\n",
       "      <td>False</td>\n",
       "      <td>False</td>\n",
       "      <td>False</td>\n",
       "      <td>False</td>\n",
       "      <td>False</td>\n",
       "      <td>False</td>\n",
       "    </tr>\n",
       "  </tbody>\n",
       "</table>\n",
       "<p>5 rows × 26 columns</p>\n",
       "</div>"
      ],
      "text/plain": [
       "   studentId  is_proficient  proficient_score  proficient_diff  \\\n",
       "0      45054          False              0.53            -8.00   \n",
       "1      45054          False              0.53            -8.00   \n",
       "2      45440          False              0.94            -1.00   \n",
       "3      45440          False              0.94            -1.00   \n",
       "4      45440          False              0.94            -1.00   \n",
       "\n",
       "   school_High School A  school_High School B  school_High School C  \\\n",
       "0                  True                 False                 False   \n",
       "1                  True                 False                 False   \n",
       "2                 False                 False                 False   \n",
       "3                 False                 False                 False   \n",
       "4                 False                 False                 False   \n",
       "\n",
       "   school_High School D  iready_math  iready_reading  ...  \\\n",
       "0                 False            0               0  ...   \n",
       "1                 False            0               0  ...   \n",
       "2                 False            0               0  ...   \n",
       "3                 False            0               0  ...   \n",
       "4                 False            0               0  ...   \n",
       "\n",
       "   category_PERFORMING_ARTS  category_VISUAL_ARTS  category_TECHNOLOGY  \\\n",
       "0                     False                 False                False   \n",
       "1                     False                 False                False   \n",
       "2                     False                 False                False   \n",
       "3                     False                 False                False   \n",
       "4                     False                 False                False   \n",
       "\n",
       "   category_BUSINESS  category_TRADES  category_AGRICULTURE  \\\n",
       "0              False             True                 False   \n",
       "1              False             True                 False   \n",
       "2              False            False                 False   \n",
       "3              False            False                 False   \n",
       "4              False            False                 False   \n",
       "\n",
       "   category_PHYSICAL_EDUCATION  category_HEALTH  category_CAREER_PREP  \\\n",
       "0                        False            False                 False   \n",
       "1                        False            False                 False   \n",
       "2                        False            False                 False   \n",
       "3                        False            False                 False   \n",
       "4                        False            False                 False   \n",
       "\n",
       "   category_MILITARY_SCIENCE  \n",
       "0                      False  \n",
       "1                      False  \n",
       "2                      False  \n",
       "3                      False  \n",
       "4                      False  \n",
       "\n",
       "[5 rows x 26 columns]"
      ]
     },
     "execution_count": 3,
     "metadata": {},
     "output_type": "execute_result"
    }
   ],
   "source": [
    "actMath11_df.head()"
   ]
  },
  {
   "cell_type": "code",
   "execution_count": 4,
   "metadata": {},
   "outputs": [
    {
     "data": {
      "text/plain": [
       "Index(['studentId', 'is_proficient', 'proficient_score', 'proficient_diff',\n",
       "       'school_High School A', 'school_High School B', 'school_High School C',\n",
       "       'school_High School D', 'iready_math', 'iready_reading', 'bbb_literacy',\n",
       "       'category_MATHEMATICS', 'category_ENGLISH', 'category_SCIENCE',\n",
       "       'category_SOCIAL_STUDIES', 'category_FOREIGN_LANGUAGE',\n",
       "       'category_PERFORMING_ARTS', 'category_VISUAL_ARTS',\n",
       "       'category_TECHNOLOGY', 'category_BUSINESS', 'category_TRADES',\n",
       "       'category_AGRICULTURE', 'category_PHYSICAL_EDUCATION',\n",
       "       'category_HEALTH', 'category_CAREER_PREP', 'category_MILITARY_SCIENCE'],\n",
       "      dtype='object')"
      ]
     },
     "execution_count": 4,
     "metadata": {},
     "output_type": "execute_result"
    }
   ],
   "source": [
    "actMath11_df.columns"
   ]
  },
  {
   "cell_type": "code",
   "execution_count": 5,
   "metadata": {},
   "outputs": [],
   "source": [
    "#Create labeled examples from the dataset\n",
    "#X = actMath11_df.drop(columns=['is_proficient', 'proficient_score', 'proficient_diff', 'school_High School A', 'school_High School B', 'school_High School C', 'school_High School D'], inplace=False)\n",
    "X = actMath11_df[['category_MATHEMATICS', 'category_ENGLISH', 'category_SCIENCE',\n",
    "       'category_SOCIAL_STUDIES', 'category_FOREIGN_LANGUAGE',\n",
    "       'category_PERFORMING_ARTS', 'category_VISUAL_ARTS',\n",
    "       'category_TECHNOLOGY', 'category_BUSINESS', 'category_TRADES',\n",
    "       'category_AGRICULTURE', 'category_PHYSICAL_EDUCATION',\n",
    "       'category_HEALTH', 'category_CAREER_PREP', 'category_MILITARY_SCIENCE']]\n",
    "y = actMath11_df['proficient_score']"
   ]
  },
  {
   "cell_type": "code",
   "execution_count": 6,
   "metadata": {},
   "outputs": [],
   "source": [
    "#Create training and test datasets\n",
    "X_train, X_test, y_train, y_test = train_test_split(X, y, test_size=0.15, random_state=42)"
   ]
  },
  {
   "cell_type": "code",
   "execution_count": 7,
   "metadata": {},
   "outputs": [],
   "source": [
    "# Create the  LinearRegression model object \n",
    "model = LinearRegression()\n",
    "\n",
    "# Fit the model to the training data \n",
    "model.fit(X_train, y_train)\n",
    "\n",
    "#  Make predictions on the test data \n",
    "prediction = model.predict(X_test)"
   ]
  },
  {
   "cell_type": "code",
   "execution_count": 8,
   "metadata": {},
   "outputs": [
    {
     "name": "stdout",
     "output_type": "stream",
     "text": [
      "\n",
      "Model Performance\n",
      "\n",
      "RMSE =   0.17\n",
      " R^2 =   0.25\n"
     ]
    }
   ],
   "source": [
    "# The mean squared error\n",
    "print('\\nModel Performance\\n\\nRMSE =   %.2f'\n",
    "      % np.sqrt(mean_squared_error(y_test, prediction)))\n",
    "# The coefficient of determination: 1 is perfect prediction\n",
    "print(' R^2 =   %.2f'\n",
    "      % r2_score(y_test, prediction))"
   ]
  },
  {
   "cell_type": "markdown",
   "metadata": {},
   "source": [
    "Model Performance When I included all columns as features:\n",
    "RMSE = 0.17\n",
    "R^2 = 0.25"
   ]
  },
  {
   "cell_type": "markdown",
   "metadata": {},
   "source": [
    "I got the same results above when I use only courses and only schools"
   ]
  },
  {
   "cell_type": "markdown",
   "metadata": {},
   "source": [
    "Model Performance When only using vendors as features:\n",
    "RMSE = 0.19\n",
    "R^2 = -0.00"
   ]
  },
  {
   "cell_type": "markdown",
   "metadata": {},
   "source": []
  }
 ],
 "metadata": {
  "kernelspec": {
   "display_name": "Python 3",
   "language": "python",
   "name": "python3"
  },
  "language_info": {
   "codemirror_mode": {
    "name": "ipython",
    "version": 3
   },
   "file_extension": ".py",
   "mimetype": "text/x-python",
   "name": "python",
   "nbconvert_exporter": "python",
   "pygments_lexer": "ipython3",
   "version": "3.9.6"
  }
 },
 "nbformat": 4,
 "nbformat_minor": 2
}
