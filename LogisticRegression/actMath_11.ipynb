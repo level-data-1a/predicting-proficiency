{
 "cells": [
  {
   "cell_type": "markdown",
   "metadata": {},
   "source": [
    "# actMath_11\n",
    "- District: 45\n",
    "- Year (Features): 2017\n",
    "- Grades: 11\n",
    "- Values / dataSource: actMath\n",
    "- Features: \\[\n",
    " 'school_High School A',\n",
    " 'school_High School B',\n",
    " 'school_High School C',\n",
    " 'school_High School D',\n",
    " 'category_MATHEMATICS',\n",
    " 'category_ENGLISH',\n",
    " 'category_SCIENCE',\n",
    " 'category_SOCIAL_STUDIES',\n",
    " 'category_FOREIGN_LANGUAGE',\n",
    " 'category_PERFORMING_ARTS',\n",
    " 'category_VISUAL_ARTS',\n",
    " 'category_TECHNOLOGY',\n",
    " 'category_BUSINESS',\n",
    " 'category_TRADES',\n",
    " 'category_AGRICULTURE',\n",
    " 'category_PHYSICAL_EDUCATION',\n",
    " 'category_HEALTH',\n",
    " 'category_CAREER_PREP',\n",
    " 'category_MILITARY_SCIENCE']\n",
    "- Num features: 19\n",
    "- Label: `proficient_score`\n",
    "- Accuracy: 0.72\n",
    "- F1: 0.66\n",
    "- Other metrics: Log Loss: 0.57\n",
    "- Notes: Dropping vendors from features caused no difference"
   ]
  },
  {
   "cell_type": "code",
   "execution_count": 1,
   "metadata": {},
   "outputs": [],
   "source": [
    "#Import libraries/packages\n",
    "import pandas as pd\n",
    "import numpy as np\n",
    "import os \n",
    "from sklearn.linear_model import LogisticRegression\n",
    "from sklearn.model_selection import train_test_split\n",
    "from sklearn.metrics import log_loss\n",
    "from sklearn.metrics import accuracy_score\n",
    "from sklearn.metrics import classification_report, confusion_matrix\n"
   ]
  },
  {
   "cell_type": "code",
   "execution_count": 2,
   "metadata": {},
   "outputs": [],
   "source": [
    "#Loading the dataframe\n",
    "filename = os.path.join(os.getcwd(), \"..\", \"dataframes\", \"actMath_11_encoded_df.csv\")\n",
    "actMath11_df = pd.read_csv(filename, header = 0)"
   ]
  },
  {
   "cell_type": "code",
   "execution_count": 3,
   "metadata": {},
   "outputs": [
    {
     "data": {
      "text/html": [
       "<div>\n",
       "<style scoped>\n",
       "    .dataframe tbody tr th:only-of-type {\n",
       "        vertical-align: middle;\n",
       "    }\n",
       "\n",
       "    .dataframe tbody tr th {\n",
       "        vertical-align: top;\n",
       "    }\n",
       "\n",
       "    .dataframe thead th {\n",
       "        text-align: right;\n",
       "    }\n",
       "</style>\n",
       "<table border=\"1\" class=\"dataframe\">\n",
       "  <thead>\n",
       "    <tr style=\"text-align: right;\">\n",
       "      <th></th>\n",
       "      <th>studentId</th>\n",
       "      <th>is_proficient</th>\n",
       "      <th>proficient_score</th>\n",
       "      <th>school_High School A</th>\n",
       "      <th>school_High School B</th>\n",
       "      <th>school_High School C</th>\n",
       "      <th>school_High School D</th>\n",
       "      <th>iready_math</th>\n",
       "      <th>iready_reading</th>\n",
       "      <th>bbb_literacy</th>\n",
       "      <th>...</th>\n",
       "      <th>category_PERFORMING_ARTS</th>\n",
       "      <th>category_VISUAL_ARTS</th>\n",
       "      <th>category_TECHNOLOGY</th>\n",
       "      <th>category_BUSINESS</th>\n",
       "      <th>category_TRADES</th>\n",
       "      <th>category_AGRICULTURE</th>\n",
       "      <th>category_PHYSICAL_EDUCATION</th>\n",
       "      <th>category_HEALTH</th>\n",
       "      <th>category_CAREER_PREP</th>\n",
       "      <th>category_MILITARY_SCIENCE</th>\n",
       "    </tr>\n",
       "  </thead>\n",
       "  <tbody>\n",
       "    <tr>\n",
       "      <th>0</th>\n",
       "      <td>45054</td>\n",
       "      <td>False</td>\n",
       "      <td>0.264706</td>\n",
       "      <td>True</td>\n",
       "      <td>False</td>\n",
       "      <td>False</td>\n",
       "      <td>False</td>\n",
       "      <td>0</td>\n",
       "      <td>0</td>\n",
       "      <td>0</td>\n",
       "      <td>...</td>\n",
       "      <td>False</td>\n",
       "      <td>False</td>\n",
       "      <td>False</td>\n",
       "      <td>False</td>\n",
       "      <td>True</td>\n",
       "      <td>False</td>\n",
       "      <td>False</td>\n",
       "      <td>False</td>\n",
       "      <td>False</td>\n",
       "      <td>False</td>\n",
       "    </tr>\n",
       "    <tr>\n",
       "      <th>1</th>\n",
       "      <td>45054</td>\n",
       "      <td>False</td>\n",
       "      <td>0.264706</td>\n",
       "      <td>True</td>\n",
       "      <td>False</td>\n",
       "      <td>False</td>\n",
       "      <td>False</td>\n",
       "      <td>0</td>\n",
       "      <td>0</td>\n",
       "      <td>0</td>\n",
       "      <td>...</td>\n",
       "      <td>False</td>\n",
       "      <td>False</td>\n",
       "      <td>False</td>\n",
       "      <td>False</td>\n",
       "      <td>True</td>\n",
       "      <td>False</td>\n",
       "      <td>False</td>\n",
       "      <td>False</td>\n",
       "      <td>False</td>\n",
       "      <td>False</td>\n",
       "    </tr>\n",
       "    <tr>\n",
       "      <th>2</th>\n",
       "      <td>45440</td>\n",
       "      <td>False</td>\n",
       "      <td>0.941176</td>\n",
       "      <td>False</td>\n",
       "      <td>False</td>\n",
       "      <td>False</td>\n",
       "      <td>False</td>\n",
       "      <td>0</td>\n",
       "      <td>0</td>\n",
       "      <td>0</td>\n",
       "      <td>...</td>\n",
       "      <td>False</td>\n",
       "      <td>False</td>\n",
       "      <td>False</td>\n",
       "      <td>False</td>\n",
       "      <td>False</td>\n",
       "      <td>False</td>\n",
       "      <td>False</td>\n",
       "      <td>False</td>\n",
       "      <td>False</td>\n",
       "      <td>False</td>\n",
       "    </tr>\n",
       "    <tr>\n",
       "      <th>3</th>\n",
       "      <td>45440</td>\n",
       "      <td>False</td>\n",
       "      <td>0.941176</td>\n",
       "      <td>False</td>\n",
       "      <td>False</td>\n",
       "      <td>False</td>\n",
       "      <td>False</td>\n",
       "      <td>0</td>\n",
       "      <td>0</td>\n",
       "      <td>0</td>\n",
       "      <td>...</td>\n",
       "      <td>False</td>\n",
       "      <td>False</td>\n",
       "      <td>False</td>\n",
       "      <td>False</td>\n",
       "      <td>False</td>\n",
       "      <td>False</td>\n",
       "      <td>False</td>\n",
       "      <td>False</td>\n",
       "      <td>False</td>\n",
       "      <td>False</td>\n",
       "    </tr>\n",
       "    <tr>\n",
       "      <th>4</th>\n",
       "      <td>45440</td>\n",
       "      <td>False</td>\n",
       "      <td>0.941176</td>\n",
       "      <td>False</td>\n",
       "      <td>False</td>\n",
       "      <td>False</td>\n",
       "      <td>False</td>\n",
       "      <td>0</td>\n",
       "      <td>0</td>\n",
       "      <td>0</td>\n",
       "      <td>...</td>\n",
       "      <td>False</td>\n",
       "      <td>False</td>\n",
       "      <td>False</td>\n",
       "      <td>False</td>\n",
       "      <td>False</td>\n",
       "      <td>False</td>\n",
       "      <td>False</td>\n",
       "      <td>False</td>\n",
       "      <td>False</td>\n",
       "      <td>False</td>\n",
       "    </tr>\n",
       "  </tbody>\n",
       "</table>\n",
       "<p>5 rows × 25 columns</p>\n",
       "</div>"
      ],
      "text/plain": [
       "   studentId  is_proficient  proficient_score  school_High School A  \\\n",
       "0      45054          False          0.264706                  True   \n",
       "1      45054          False          0.264706                  True   \n",
       "2      45440          False          0.941176                 False   \n",
       "3      45440          False          0.941176                 False   \n",
       "4      45440          False          0.941176                 False   \n",
       "\n",
       "   school_High School B  school_High School C  school_High School D  \\\n",
       "0                 False                 False                 False   \n",
       "1                 False                 False                 False   \n",
       "2                 False                 False                 False   \n",
       "3                 False                 False                 False   \n",
       "4                 False                 False                 False   \n",
       "\n",
       "   iready_math  iready_reading  bbb_literacy  ...  category_PERFORMING_ARTS  \\\n",
       "0            0               0             0  ...                     False   \n",
       "1            0               0             0  ...                     False   \n",
       "2            0               0             0  ...                     False   \n",
       "3            0               0             0  ...                     False   \n",
       "4            0               0             0  ...                     False   \n",
       "\n",
       "   category_VISUAL_ARTS  category_TECHNOLOGY  category_BUSINESS  \\\n",
       "0                 False                False              False   \n",
       "1                 False                False              False   \n",
       "2                 False                False              False   \n",
       "3                 False                False              False   \n",
       "4                 False                False              False   \n",
       "\n",
       "   category_TRADES  category_AGRICULTURE  category_PHYSICAL_EDUCATION  \\\n",
       "0             True                 False                        False   \n",
       "1             True                 False                        False   \n",
       "2            False                 False                        False   \n",
       "3            False                 False                        False   \n",
       "4            False                 False                        False   \n",
       "\n",
       "   category_HEALTH  category_CAREER_PREP  category_MILITARY_SCIENCE  \n",
       "0            False                 False                      False  \n",
       "1            False                 False                      False  \n",
       "2            False                 False                      False  \n",
       "3            False                 False                      False  \n",
       "4            False                 False                      False  \n",
       "\n",
       "[5 rows x 25 columns]"
      ]
     },
     "execution_count": 3,
     "metadata": {},
     "output_type": "execute_result"
    }
   ],
   "source": [
    "actMath11_df.head()"
   ]
  },
  {
   "cell_type": "code",
   "execution_count": 4,
   "metadata": {},
   "outputs": [],
   "source": [
    "#Get a list of columns with only True and False values\n",
    "true_false_columns = actMath11_df.columns[actMath11_df.apply(lambda col: col.isin([True, False]).all())]\n",
    "\n",
    "#Convert to a list\n",
    "true_false_columns_list = true_false_columns.tolist()\n",
    "\n",
    "#Make true false 1 and 0\n",
    "actMath11_df[true_false_columns] = actMath11_df[true_false_columns].astype(int)\n"
   ]
  },
  {
   "cell_type": "code",
   "execution_count": 5,
   "metadata": {},
   "outputs": [],
   "source": [
    "feature_list = list(actMath11_df.select_dtypes(include = ['int']).columns)\n",
    "feature_list.remove('is_proficient')\n",
    "feature_list.remove('studentId')\n",
    "feature_list.remove('iready_math')\n",
    "feature_list.remove('iready_reading')\n",
    "feature_list.remove('bbb_literacy')"
   ]
  },
  {
   "cell_type": "code",
   "execution_count": 13,
   "metadata": {},
   "outputs": [
    {
     "name": "stdout",
     "output_type": "stream",
     "text": [
      "['school_High School A', 'school_High School B', 'school_High School C', 'school_High School D', 'category_MATHEMATICS', 'category_ENGLISH', 'category_SCIENCE', 'category_SOCIAL_STUDIES', 'category_FOREIGN_LANGUAGE', 'category_PERFORMING_ARTS', 'category_VISUAL_ARTS', 'category_TECHNOLOGY', 'category_BUSINESS', 'category_TRADES', 'category_AGRICULTURE', 'category_PHYSICAL_EDUCATION', 'category_HEALTH', 'category_CAREER_PREP', 'category_MILITARY_SCIENCE']\n"
     ]
    }
   ],
   "source": [
    "print(feature_list)"
   ]
  },
  {
   "cell_type": "code",
   "execution_count": 7,
   "metadata": {},
   "outputs": [
    {
     "name": "stdout",
     "output_type": "stream",
     "text": [
      "Number of examples: 2580\n",
      "\n",
      "Number of Features:19\n",
      "['school_High School A', 'school_High School B', 'school_High School C', 'school_High School D', 'category_MATHEMATICS', 'category_ENGLISH', 'category_SCIENCE', 'category_SOCIAL_STUDIES', 'category_FOREIGN_LANGUAGE', 'category_PERFORMING_ARTS', 'category_VISUAL_ARTS', 'category_TECHNOLOGY', 'category_BUSINESS', 'category_TRADES', 'category_AGRICULTURE', 'category_PHYSICAL_EDUCATION', 'category_HEALTH', 'category_CAREER_PREP', 'category_MILITARY_SCIENCE']\n"
     ]
    }
   ],
   "source": [
    "y = actMath11_df['is_proficient']\n",
    "X = actMath11_df[feature_list]\n",
    "\n",
    "print(\"Number of examples: \" + str(X.shape[0]))\n",
    "print(\"\\nNumber of Features:\" + str(X.shape[1]))\n",
    "print(str(list(X.columns)))"
   ]
  },
  {
   "cell_type": "code",
   "execution_count": 8,
   "metadata": {},
   "outputs": [],
   "source": [
    "#Create training and test datasets\n",
    "X_train, X_test, y_train, y_test = train_test_split(X, y, test_size = 0.33, random_state=1234)"
   ]
  },
  {
   "cell_type": "code",
   "execution_count": 9,
   "metadata": {},
   "outputs": [
    {
     "name": "stdout",
     "output_type": "stream",
     "text": [
      "(1728, 19)\n",
      "(852, 19)\n"
     ]
    }
   ],
   "source": [
    "print(X_train.shape)\n",
    "print(X_test.shape)"
   ]
  },
  {
   "cell_type": "code",
   "execution_count": 10,
   "metadata": {},
   "outputs": [
    {
     "name": "stdout",
     "output_type": "stream",
     "text": [
      "Class Prediction Probabilities: \n",
      " Class: False  Class: True\n",
      "     0.717508     0.282492\n",
      "     0.717508     0.282492\n",
      "     0.394856     0.605144\n",
      "     0.794121     0.205879\n",
      "     0.186605     0.813395\n",
      "Log loss: 0.5744794139655081\n",
      "\n",
      "Classification Report:\n",
      "              precision    recall  f1-score   support\n",
      "\n",
      "           0       0.71      0.92      0.80       526\n",
      "           1       0.76      0.39      0.52       326\n",
      "\n",
      "    accuracy                           0.72       852\n",
      "   macro avg       0.73      0.66      0.66       852\n",
      "weighted avg       0.73      0.72      0.69       852\n",
      "\n",
      "Class labels: [0 0 1 0 1]\n",
      "Accuracy: 0.7194835680751174\n"
     ]
    }
   ],
   "source": [
    "# Create the LogisticRegression model object\n",
    "model = LogisticRegression()\n",
    "\n",
    "# Fit the model to the training data\n",
    "model.fit(X_train, y_train)\n",
    "\n",
    "# Make predictions on the test data\n",
    "probability_predictions = model.predict_proba(X_test)\n",
    "\n",
    "# print the first 5 probability class predictions\n",
    "df_print = pd.DataFrame(probability_predictions, columns = ['Class: False', 'Class: True'])\n",
    "print('Class Prediction Probabilities: \\n' + df_print[0:5].to_string(index=False))\n",
    "\n",
    "# Compute the log loss\n",
    "l_loss = log_loss(y_test, probability_predictions)\n",
    "print('Log loss: ' + str(l_loss))\n",
    "\n",
    "# Make predictions on the test data using the predict() method\n",
    "class_label_predictions = model.predict(X_test)\n",
    "\n",
    "# Print the classification report\n",
    "print(\"\\nClassification Report:\")\n",
    "print(classification_report(y_test, class_label_predictions))\n",
    "\n",
    "# Print the first 5 class label predictions \n",
    "print('Class labels: ' + str(class_label_predictions[0:5]))\n",
    "\n",
    "# Compute the accuracy score on 'class_label_predictions'\n",
    "acc_score = accuracy_score(y_test, class_label_predictions)\n",
    "print('Accuracy: ' + str(acc_score))\n",
    "\n",
    "\n"
   ]
  },
  {
   "cell_type": "code",
   "execution_count": 11,
   "metadata": {},
   "outputs": [],
   "source": [
    "def computeAccuracy(threshold_value):\n",
    "    \n",
    "    labels=[]\n",
    "    for p in probability_predictions[:,0]:\n",
    "        if p >= threshold_value:\n",
    "            labels.append(False)\n",
    "        else:\n",
    "            labels.append(True)\n",
    "    \n",
    "    acc_score = accuracy_score(y_test, labels)\n",
    "    return acc_score"
   ]
  },
  {
   "cell_type": "code",
   "execution_count": 12,
   "metadata": {},
   "outputs": [
    {
     "name": "stdout",
     "output_type": "stream",
     "text": [
      "Threshold value 0.44: Accuracy 0.7230046948356808\n",
      "Threshold value 0.50: Accuracy 0.7194835680751174\n",
      "Threshold value 0.55: Accuracy 0.7206572769953051\n",
      "Threshold value 0.67: Accuracy 0.6960093896713615\n",
      "Threshold value 0.75: Accuracy 0.5446009389671361\n"
     ]
    }
   ],
   "source": [
    "thresholds = [0.44, 0.50, 0.55, 0.67, 0.75]\n",
    "for t in thresholds:\n",
    "    print(\"Threshold value {:.2f}: Accuracy {}\".format(t, str(computeAccuracy(t))))"
   ]
  },
  {
   "cell_type": "code",
   "execution_count": null,
   "metadata": {},
   "outputs": [],
   "source": []
  }
 ],
 "metadata": {
  "kernelspec": {
   "display_name": "Python 3",
   "language": "python",
   "name": "python3"
  },
  "language_info": {
   "codemirror_mode": {
    "name": "ipython",
    "version": 3
   },
   "file_extension": ".py",
   "mimetype": "text/x-python",
   "name": "python",
   "nbconvert_exporter": "python",
   "pygments_lexer": "ipython3",
   "version": "3.9.6"
  }
 },
 "nbformat": 4,
 "nbformat_minor": 2
}
