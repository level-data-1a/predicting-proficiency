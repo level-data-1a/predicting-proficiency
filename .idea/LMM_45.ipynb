{
 "cells": [
  {
   "cell_type": "markdown",
   "metadata": {},
   "source": [
    "Exploring Different Methods to address class imbalance with district 45"
   ]
  },
  {
   "cell_type": "code",
   "execution_count": 2,
   "metadata": {},
   "outputs": [],
   "source": [
    "import pandas as pd\n",
    "import numpy as np\n",
    "import json\n",
    "import seaborn as sns\n",
    "import matplotlib.pyplot as plt\n",
    "import os"
   ]
  },
  {
   "cell_type": "code",
   "execution_count": 3,
   "metadata": {},
   "outputs": [],
   "source": [
    "repo_root = os.path.abspath(os.path.join(os.getcwd(), '..'))\n",
    "data_path = os.path.join(repo_root, 'predicting-proficiency', 'data')"
   ]
  },
  {
   "cell_type": "code",
   "execution_count": 4,
   "metadata": {},
   "outputs": [],
   "source": [
    "file_names = [\n",
    "    ('2024-09-11 District A Benchmarks.json', 'a_benchmarks_2024-09-11.json'),\n",
    "    ('2024-10-15 District A Benchmarks Additional.json', 'benchmarks_additional45.json'),\n",
    "    ('2024-09-11 District A Scores.json', 'a_scores_2024-09-11.json'),\n",
    "    ('2024-09-11 District A Vendor Student Usage.json', 'a_vendorUsage_2024-09-11.json'),\n",
    "    ('district.json', 'a_all_2024-08-29.json'),\n",
    "    ('vendors_202410081500.json', 'a_vendorKey_2024-10-8.json')\n",
    "\n",
    "]\n",
    "\n",
    "for old_name, new_name in file_names:\n",
    "    old_path = os.path.join(data_path, 'raw', old_name)\n",
    "    new_path = os.path.join(data_path, 'raw', new_name)\n",
    "    if os.path.exists(old_path) and not os.path.exists(new_path):\n",
    "        os.rename(old_path, new_path)"
   ]
  },
  {
   "cell_type": "code",
   "execution_count": 5,
   "metadata": {},
   "outputs": [
    {
     "ename": "FileNotFoundError",
     "evalue": "[Errno 2] No such file or directory: 'data/raw/a_all_2024-08-29.json'",
     "output_type": "error",
     "traceback": [
      "\u001b[1;31m---------------------------------------------------------------------------\u001b[0m",
      "\u001b[1;31mFileNotFoundError\u001b[0m                         Traceback (most recent call last)",
      "Cell \u001b[1;32mIn[5], line 1\u001b[0m\n\u001b[1;32m----> 1\u001b[0m \u001b[38;5;28;01mwith\u001b[39;00m \u001b[38;5;28mopen\u001b[39m(\u001b[38;5;124m'\u001b[39m\u001b[38;5;124mdata/raw/a_all_2024-08-29.json\u001b[39m\u001b[38;5;124m'\u001b[39m, \u001b[38;5;124m'\u001b[39m\u001b[38;5;124mr\u001b[39m\u001b[38;5;124m'\u001b[39m) \u001b[38;5;28;01mas\u001b[39;00m file:\n\u001b[0;32m      2\u001b[0m     data \u001b[38;5;241m=\u001b[39m json\u001b[38;5;241m.\u001b[39mloads(file\u001b[38;5;241m.\u001b[39mread())\n\u001b[0;32m      4\u001b[0m \u001b[38;5;28;01mwith\u001b[39;00m \u001b[38;5;28mopen\u001b[39m(\u001b[38;5;124m'\u001b[39m\u001b[38;5;124mdata/raw/a_scores_2024-09-11.json\u001b[39m\u001b[38;5;124m'\u001b[39m, \u001b[38;5;124m'\u001b[39m\u001b[38;5;124mr\u001b[39m\u001b[38;5;124m'\u001b[39m) \u001b[38;5;28;01mas\u001b[39;00m file:\n",
      "File \u001b[1;32mc:\\Users\\lmmag\\anaconda3\\Lib\\site-packages\\IPython\\core\\interactiveshell.py:284\u001b[0m, in \u001b[0;36m_modified_open\u001b[1;34m(file, *args, **kwargs)\u001b[0m\n\u001b[0;32m    277\u001b[0m \u001b[38;5;28;01mif\u001b[39;00m file \u001b[38;5;129;01min\u001b[39;00m {\u001b[38;5;241m0\u001b[39m, \u001b[38;5;241m1\u001b[39m, \u001b[38;5;241m2\u001b[39m}:\n\u001b[0;32m    278\u001b[0m     \u001b[38;5;28;01mraise\u001b[39;00m \u001b[38;5;167;01mValueError\u001b[39;00m(\n\u001b[0;32m    279\u001b[0m         \u001b[38;5;124mf\u001b[39m\u001b[38;5;124m\"\u001b[39m\u001b[38;5;124mIPython won\u001b[39m\u001b[38;5;124m'\u001b[39m\u001b[38;5;124mt let you open fd=\u001b[39m\u001b[38;5;132;01m{\u001b[39;00mfile\u001b[38;5;132;01m}\u001b[39;00m\u001b[38;5;124m by default \u001b[39m\u001b[38;5;124m\"\u001b[39m\n\u001b[0;32m    280\u001b[0m         \u001b[38;5;124m\"\u001b[39m\u001b[38;5;124mas it is likely to crash IPython. If you know what you are doing, \u001b[39m\u001b[38;5;124m\"\u001b[39m\n\u001b[0;32m    281\u001b[0m         \u001b[38;5;124m\"\u001b[39m\u001b[38;5;124myou can use builtins\u001b[39m\u001b[38;5;124m'\u001b[39m\u001b[38;5;124m open.\u001b[39m\u001b[38;5;124m\"\u001b[39m\n\u001b[0;32m    282\u001b[0m     )\n\u001b[1;32m--> 284\u001b[0m \u001b[38;5;28;01mreturn\u001b[39;00m io_open(file, \u001b[38;5;241m*\u001b[39margs, \u001b[38;5;241m*\u001b[39m\u001b[38;5;241m*\u001b[39mkwargs)\n",
      "\u001b[1;31mFileNotFoundError\u001b[0m: [Errno 2] No such file or directory: 'data/raw/a_all_2024-08-29.json'"
     ]
    }
   ],
   "source": [
    "with open('data/raw/a_all_2024-08-29.json', 'r') as file:\n",
    "    data = json.loads(file.read())\n",
    "\n",
    "with open('data/raw/a_scores_2024-09-11.json', 'r') as file:\n",
    "    scores_json = json.loads(file.read())\n",
    "\n",
    "with open('data/raw/a_benchmarks_2024-09-11.json', 'r') as file:\n",
    "    benchmarks_json = json.loads(file.read())\n",
    "\n",
    "with open('data/raw/a_vendorUsage_2024-09-11.json', 'r') as file:\n",
    "    vendorUsage_json = json.loads(file.read())\n",
    "with open('data/raw/vendors_202410081500.json', 'r') as file:\n",
    "    vendorKey_json = json.loads(file.read())\n",
    "\n",
    "    "
   ]
  },
  {
   "cell_type": "code",
   "execution_count": null,
   "metadata": {},
   "outputs": [],
   "source": [
    "scores_data = scores_json[list(scores_json.keys())[0]]\n",
    "scores_df = pd.DataFrame(scores_data)\n",
    "\n",
    "benchmarksAdd_data = benchmarksAdd_json[list(benchmarksAdd_json.keys())[0]]\n",
    "benchmarksAdd_df = pd.DataFrame(benchmarksAdd_data)\n",
    "\n",
    "benchmarks_df = pd.DataFrame(benchmarks_json['benchmarks'])\n",
    "schools_df = pd.DataFrame(data['schools'])\n",
    "courseSections_df = pd.DataFrame(data['courseSections'])\n",
    "courseSectionRosters_df = pd.DataFrame(data['courseSectionRosters'])\n",
    "\n",
    "vendorUsage_data = vendorUsage_json[list(vendorUsage_json.keys())[0]]\n",
    "vendorUsage_df = pd.DataFrame(vendorUsage_data)\n",
    "\n",
    "vendorKey_data = vendorKey_json[list(vendorKey_json.keys())[0]]\n",
    "vendorKey_df = pd.DataFrame(vendorKey_data)"
   ]
  },
  {
   "cell_type": "code",
   "execution_count": null,
   "metadata": {},
   "outputs": [],
   "source": [
    "data_path = os.path.join(repo_root, 'predicting-proficiency', 'data')\n",
    "\n",
    "processed_dir = os.path.join(data_path, 'processed')\n",
    "if os.path.exists(processed_dir):\n",
    "    for file in os.listdir(processed_dir):\n",
    "        file_path = os.path.join(processed_dir, file)\n",
    "        if os.path.isfile(file_path):\n",
    "            os.unlink(file_path)\n",
    "\n",
    "os.makedirs(os.path.dirname(data_path), exist_ok=True)\n",
    "benchmarks_df.to_csv(os.path.join(data_path, 'processed', 'a_benchmarks_2024-09-11.csv'), index=False)\n",
    "schools_df.to_csv(os.path.join(data_path, 'processed', 'a_schools_2024-08-29.csv'), index=False)\n",
    "courseSections_df.to_csv(os.path.join(data_path, 'processed', 'a_courseSections_2024-08-29.csv'), index=False)\n",
    "courseSectionRosters_df.to_csv(os.path.join(data_path, 'processed', 'a_courseSectionRosters_2024-08-29.csv'), index=False)\n",
    "scores_df.to_csv(os.path.join(data_path, 'processed', 'a_scores_2024-09-11.csv'), index=False)\n",
    "vendorUsage_df.to_csv(os.path.join(data_path, 'processed', 'a_vendorUsage_2024-09-11.csv'), index=False)\n",
    "vendorKey_df.to_csv(os.path.join(data_path, 'processed', 'a_vendorKey_2024-10-8.csv'), index=False)\n",
    "benchmarksAdd_df.to_csv(os.path.join(data_path, 'processed', 'a_benchmarks_2024-10-15.csv'), index=False)\n"
   ]
  },
  {
   "cell_type": "code",
   "execution_count": 1,
   "metadata": {},
   "outputs": [
    {
     "ename": "NameError",
     "evalue": "name 'scores_df' is not defined",
     "output_type": "error",
     "traceback": [
      "\u001b[1;31m---------------------------------------------------------------------------\u001b[0m",
      "\u001b[1;31mNameError\u001b[0m                                 Traceback (most recent call last)",
      "Cell \u001b[1;32mIn[1], line 1\u001b[0m\n\u001b[1;32m----> 1\u001b[0m scores_df\u001b[38;5;241m.\u001b[39mhead()\n",
      "\u001b[1;31mNameError\u001b[0m: name 'scores_df' is not defined"
     ]
    }
   ],
   "source": [
    "scores_df.head()"
   ]
  }
 ],
 "metadata": {
  "kernelspec": {
   "display_name": "Python 3",
   "language": "python",
   "name": "python3"
  },
  "language_info": {
   "codemirror_mode": {
    "name": "ipython",
    "version": 3
   },
   "file_extension": ".py",
   "mimetype": "text/x-python",
   "name": "python",
   "nbconvert_exporter": "python",
   "pygments_lexer": "ipython3",
   "version": "3.11.3"
  }
 },
 "nbformat": 4,
 "nbformat_minor": 2
}
