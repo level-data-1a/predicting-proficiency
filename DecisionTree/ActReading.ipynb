{
 "cells": [
  {
   "cell_type": "code",
   "execution_count": 148,
   "metadata": {},
   "outputs": [],
   "source": [
    "import pandas as pd\n",
    "import numpy as np\n",
    "import matplotlib.pyplot as plt\n",
    "import seaborn as sns\n",
    "import os\n",
    "\n",
    "from sklearn.model_selection import train_test_split, cross_val_score, GridSearchCV\n",
    "from sklearn.tree import DecisionTreeRegressor\n",
    "from sklearn.metrics import mean_squared_error, mean_absolute_error, r2_score, classification_report, confusion_matrix, f1_score\n",
    "from sklearn.decomposition import PCA\n",
    "from sklearn.preprocessing import StandardScaler\n"
   ]
  },
  {
   "cell_type": "code",
   "execution_count": 149,
   "metadata": {},
   "outputs": [],
   "source": [
    "\n",
    "actReading_11_df = pd.read_csv('../dataframes/actReading_11.csv')"
   ]
  },
  {
   "cell_type": "code",
   "execution_count": 150,
   "metadata": {},
   "outputs": [
    {
     "data": {
      "text/html": [
       "<div>\n",
       "<style scoped>\n",
       "    .dataframe tbody tr th:only-of-type {\n",
       "        vertical-align: middle;\n",
       "    }\n",
       "\n",
       "    .dataframe tbody tr th {\n",
       "        vertical-align: top;\n",
       "    }\n",
       "\n",
       "    .dataframe thead th {\n",
       "        text-align: right;\n",
       "    }\n",
       "</style>\n",
       "<table border=\"1\" class=\"dataframe\">\n",
       "  <thead>\n",
       "    <tr style=\"text-align: right;\">\n",
       "      <th></th>\n",
       "      <th>studentId</th>\n",
       "      <th>is_proficient</th>\n",
       "      <th>proficient_score</th>\n",
       "      <th>course_ACT Review</th>\n",
       "      <th>course_ACT/WK Rev.</th>\n",
       "      <th>course_ACTReview.5C</th>\n",
       "      <th>course_AG Communica</th>\n",
       "      <th>course_AIDE-ELEM</th>\n",
       "      <th>course_AIDE-LIB</th>\n",
       "      <th>course_ALG I B ACCE</th>\n",
       "      <th>...</th>\n",
       "      <th>course_YearbkII9-12</th>\n",
       "      <th>course_Yearbook9-12</th>\n",
       "      <th>course_YrbkIII9-12</th>\n",
       "      <th>school_High School A</th>\n",
       "      <th>school_High School B</th>\n",
       "      <th>school_High School C</th>\n",
       "      <th>school_High School D</th>\n",
       "      <th>iready_math</th>\n",
       "      <th>iready_reading</th>\n",
       "      <th>bbb_literacy</th>\n",
       "    </tr>\n",
       "  </thead>\n",
       "  <tbody>\n",
       "    <tr>\n",
       "      <th>0</th>\n",
       "      <td>45054</td>\n",
       "      <td>False</td>\n",
       "      <td>0.444444</td>\n",
       "      <td>False</td>\n",
       "      <td>False</td>\n",
       "      <td>False</td>\n",
       "      <td>False</td>\n",
       "      <td>False</td>\n",
       "      <td>False</td>\n",
       "      <td>False</td>\n",
       "      <td>...</td>\n",
       "      <td>False</td>\n",
       "      <td>False</td>\n",
       "      <td>False</td>\n",
       "      <td>True</td>\n",
       "      <td>False</td>\n",
       "      <td>False</td>\n",
       "      <td>False</td>\n",
       "      <td>0</td>\n",
       "      <td>0</td>\n",
       "      <td>0</td>\n",
       "    </tr>\n",
       "    <tr>\n",
       "      <th>1</th>\n",
       "      <td>45054</td>\n",
       "      <td>False</td>\n",
       "      <td>0.444444</td>\n",
       "      <td>False</td>\n",
       "      <td>False</td>\n",
       "      <td>False</td>\n",
       "      <td>False</td>\n",
       "      <td>False</td>\n",
       "      <td>False</td>\n",
       "      <td>False</td>\n",
       "      <td>...</td>\n",
       "      <td>False</td>\n",
       "      <td>False</td>\n",
       "      <td>False</td>\n",
       "      <td>True</td>\n",
       "      <td>False</td>\n",
       "      <td>False</td>\n",
       "      <td>False</td>\n",
       "      <td>0</td>\n",
       "      <td>0</td>\n",
       "      <td>0</td>\n",
       "    </tr>\n",
       "    <tr>\n",
       "      <th>2</th>\n",
       "      <td>45440</td>\n",
       "      <td>True</td>\n",
       "      <td>1.055556</td>\n",
       "      <td>False</td>\n",
       "      <td>False</td>\n",
       "      <td>False</td>\n",
       "      <td>False</td>\n",
       "      <td>False</td>\n",
       "      <td>False</td>\n",
       "      <td>False</td>\n",
       "      <td>...</td>\n",
       "      <td>False</td>\n",
       "      <td>False</td>\n",
       "      <td>False</td>\n",
       "      <td>False</td>\n",
       "      <td>False</td>\n",
       "      <td>False</td>\n",
       "      <td>False</td>\n",
       "      <td>0</td>\n",
       "      <td>0</td>\n",
       "      <td>0</td>\n",
       "    </tr>\n",
       "    <tr>\n",
       "      <th>3</th>\n",
       "      <td>45440</td>\n",
       "      <td>True</td>\n",
       "      <td>1.055556</td>\n",
       "      <td>False</td>\n",
       "      <td>False</td>\n",
       "      <td>False</td>\n",
       "      <td>False</td>\n",
       "      <td>False</td>\n",
       "      <td>False</td>\n",
       "      <td>False</td>\n",
       "      <td>...</td>\n",
       "      <td>False</td>\n",
       "      <td>False</td>\n",
       "      <td>False</td>\n",
       "      <td>False</td>\n",
       "      <td>False</td>\n",
       "      <td>False</td>\n",
       "      <td>False</td>\n",
       "      <td>0</td>\n",
       "      <td>0</td>\n",
       "      <td>0</td>\n",
       "    </tr>\n",
       "    <tr>\n",
       "      <th>4</th>\n",
       "      <td>45440</td>\n",
       "      <td>True</td>\n",
       "      <td>1.055556</td>\n",
       "      <td>False</td>\n",
       "      <td>False</td>\n",
       "      <td>False</td>\n",
       "      <td>False</td>\n",
       "      <td>False</td>\n",
       "      <td>False</td>\n",
       "      <td>False</td>\n",
       "      <td>...</td>\n",
       "      <td>False</td>\n",
       "      <td>False</td>\n",
       "      <td>False</td>\n",
       "      <td>False</td>\n",
       "      <td>False</td>\n",
       "      <td>False</td>\n",
       "      <td>False</td>\n",
       "      <td>0</td>\n",
       "      <td>0</td>\n",
       "      <td>0</td>\n",
       "    </tr>\n",
       "  </tbody>\n",
       "</table>\n",
       "<p>5 rows × 241 columns</p>\n",
       "</div>"
      ],
      "text/plain": [
       "   studentId  is_proficient  proficient_score  course_ACT Review  \\\n",
       "0      45054          False          0.444444              False   \n",
       "1      45054          False          0.444444              False   \n",
       "2      45440           True          1.055556              False   \n",
       "3      45440           True          1.055556              False   \n",
       "4      45440           True          1.055556              False   \n",
       "\n",
       "   course_ACT/WK Rev.  course_ACTReview.5C  course_AG Communica  \\\n",
       "0               False                False                False   \n",
       "1               False                False                False   \n",
       "2               False                False                False   \n",
       "3               False                False                False   \n",
       "4               False                False                False   \n",
       "\n",
       "   course_AIDE-ELEM  course_AIDE-LIB  course_ALG I B ACCE  ...  \\\n",
       "0             False            False                False  ...   \n",
       "1             False            False                False  ...   \n",
       "2             False            False                False  ...   \n",
       "3             False            False                False  ...   \n",
       "4             False            False                False  ...   \n",
       "\n",
       "   course_YearbkII9-12  course_Yearbook9-12  course_YrbkIII9-12  \\\n",
       "0                False                False               False   \n",
       "1                False                False               False   \n",
       "2                False                False               False   \n",
       "3                False                False               False   \n",
       "4                False                False               False   \n",
       "\n",
       "   school_High School A  school_High School B  school_High School C  \\\n",
       "0                  True                 False                 False   \n",
       "1                  True                 False                 False   \n",
       "2                 False                 False                 False   \n",
       "3                 False                 False                 False   \n",
       "4                 False                 False                 False   \n",
       "\n",
       "   school_High School D  iready_math  iready_reading  bbb_literacy  \n",
       "0                 False            0               0             0  \n",
       "1                 False            0               0             0  \n",
       "2                 False            0               0             0  \n",
       "3                 False            0               0             0  \n",
       "4                 False            0               0             0  \n",
       "\n",
       "[5 rows x 241 columns]"
      ]
     },
     "execution_count": 150,
     "metadata": {},
     "output_type": "execute_result"
    }
   ],
   "source": [
    "actReading_11_df.head()"
   ]
  },
  {
   "cell_type": "markdown",
   "metadata": {},
   "source": [
    "#Trying PCA"
   ]
  },
  {
   "cell_type": "code",
   "execution_count": null,
   "metadata": {},
   "outputs": [
    {
     "name": "stdout",
     "output_type": "stream",
     "text": [
      "Number of components needed: 107\n",
      "Cumulative explained variance: 0.800812602966159\n"
     ]
    }
   ],
   "source": [
    "#doing PCA to get the columns that are impacted most by proficient_score label \n",
    "\n",
    "# Initialize scaler and scale the features\n",
    "scaler = StandardScaler()\n",
    "X_scaled = scaler.fit_transform(actReading_11_df.drop(['proficient_score', 'studentId', 'is_proficient'], axis=1))\n",
    "\n",
    "# Perform PCA\n",
    "pca = PCA()  # Initialize PCA without specifying components\n",
    "pca.fit(X_scaled)\n",
    "\n",
    "# Explained variance ratios\n",
    "explained_variance_ratio = pca.explained_variance_ratio_\n",
    "cumulative_sum = 0\n",
    "components = 0\n",
    "\n",
    "for variance in explained_variance_ratio:\n",
    "    cumulative_sum += variance\n",
    "    components += 1\n",
    "    if cumulative_sum >= 0.80:  # Adjust to your threshold (80%)\n",
    "        break\n",
    "\n",
    "print(f\"Number of components needed: {components}\")\n",
    "print(f\"Cumulative explained variance: {cumulative_sum}\")\n",
    "\n",
    "\n"
   ]
  },
  {
   "cell_type": "code",
   "execution_count": 152,
   "metadata": {},
   "outputs": [
    {
     "data": {
      "image/png": "[encoded data removed]",
      "text/plain": [
       "<Figure size 1000x600 with 1 Axes>"
      ]
     },
     "metadata": {},
     "output_type": "display_data"
    },
    {
     "name": "stdout",
     "output_type": "stream",
     "text": [
      "Number of components needed: 107\n"
     ]
    }
   ],
   "source": [
    "pca = PCA()  # Initialize PCA without specifying components\n",
    "pca.fit(X_scaled)\n",
    "\n",
    "# Explained variance ratios\n",
    "explained_variance_ratio = pca.explained_variance_ratio_\n",
    "cumulative_variance = np.cumsum(explained_variance_ratio)\n",
    "\n",
    "# Plotting the explained variance\n",
    "plt.figure(figsize=(10, 6))\n",
    "plt.plot(range(1, len(explained_variance_ratio) + 1), cumulative_variance, marker='o', label='Cumulative Explained Variance')\n",
    "plt.axhline(y=0.85, color='r', linestyle='--', label='80% Variance Threshold')\n",
    "plt.title('Explained Variance by PCA Components')\n",
    "plt.xlabel('Number of Components')\n",
    "plt.ylabel('Cumulative Explained Variance')\n",
    "plt.xticks(range(1, len(explained_variance_ratio) + 1))\n",
    "plt.legend()\n",
    "plt.grid()\n",
    "plt.show()\n",
    "\n",
    "# Calculate the number of components needed to explain at least 80% variance\n",
    "components = np.argmax(cumulative_variance >= 0.80) + 1  # Add 1 to get the count of components\n",
    "print(f\"Number of components needed: {components}\")"
   ]
  },
  {
   "cell_type": "code",
   "execution_count": 153,
   "metadata": {},
   "outputs": [],
   "source": [
    "X_pca = pca.transform(X_scaled)\n",
    "X_pca_df = pd.DataFrame(X_pca, columns=[f'PC{i+1}' for i in range(X_pca.shape[1])])\n",
    "first_108_pcs_df = X_pca_df.iloc[:, :108].copy()\n",
    "#first_108_pcs_df\n"
   ]
  },
  {
   "cell_type": "code",
   "execution_count": 154,
   "metadata": {},
   "outputs": [
    {
     "name": "stdout",
     "output_type": "stream",
     "text": [
      "(238, 238)\n",
      "Index(['studentId', 'is_proficient', 'proficient_score', 'course_ACT Review',\n",
      "       'course_ACT/WK Rev.', 'course_ACTReview.5C', 'course_AG Communica',\n",
      "       'course_AIDE-ELEM', 'course_AIDE-LIB', 'course_ALG I B ACCE',\n",
      "       ...\n",
      "       'course_YearbkII9-12', 'course_Yearbook9-12', 'course_YrbkIII9-12',\n",
      "       'school_High School A', 'school_High School B', 'school_High School C',\n",
      "       'school_High School D', 'iready_math', 'iready_reading',\n",
      "       'bbb_literacy'],\n",
      "      dtype='object', length=241)\n"
     ]
    }
   ],
   "source": [
    "print(pca.components_.shape)\n",
    "print(actReading_11_df.columns)\n",
    "\n",
    "cols_drop = ['studentId', 'is_proficient', 'proficient_score']\n",
    "columns_to_drop = [col for col in cols_drop if col in actReading_11_df.columns]\n",
    "feature_names = actReading_11_df.drop(columns=columns_to_drop).columns"
   ]
  },
  {
   "cell_type": "code",
   "execution_count": 155,
   "metadata": {},
   "outputs": [
    {
     "name": "stdout",
     "output_type": "stream",
     "text": [
      "    Principal Component           Top Feature\n",
      "0                   PC1    course_HEALTH 9-12\n",
      "1                   PC1     course_DRIVERS ED\n",
      "2                   PC1  school_High School B\n",
      "3                   PC1    course_D&TSafetyEd\n",
      "4                   PC1    course_Health 9-12\n",
      "..                  ...                   ...\n",
      "535               PC108     course_Accounting\n",
      "536               PC108   course_Food Nutritn\n",
      "537               PC108   course_Bus Tech App\n",
      "538               PC108      course_Vocal I 1\n",
      "539               PC108   course_AlgEnrichmet\n",
      "\n",
      "[540 rows x 2 columns]\n"
     ]
    }
   ],
   "source": [
    "components = pca.components_[:108]  \n",
    "# Create a DataFrame for feature loadings\n",
    "# Rows correspond to features, and columns correspond to principal components\n",
    "feature_loadings_df = pd.DataFrame(\n",
    "    components.T,  # Transpose to match features as rows\n",
    "    columns=[f'PC{i+1}' for i in range(components.shape[0])],  # PC1, PC2, ..., PC108\n",
    "    index= feature_names  # Feature names\n",
    ")\n",
    "\n",
    "# Initialize a list to store the top features across all principal components\n",
    "all_top_features = []\n",
    "\n",
    "# For each principal component, find the top features\n",
    "for pc in feature_loadings_df.columns:\n",
    "    # Get the absolute values of the loadings and sort them\n",
    "    sorted_features = feature_loadings_df[pc].abs().sort_values(ascending=False)\n",
    "    # Get the top 5 features for the current principal component (adjustable)\n",
    "    top_features = sorted_features.head(5).index.tolist()\n",
    "    # Add the component and its top features to the list\n",
    "    for feature in top_features:\n",
    "        all_top_features.append((pc, feature))\n",
    "\n",
    "# Create a DataFrame to view all top features for each principal component\n",
    "top_features_df = pd.DataFrame(all_top_features, columns=['Principal Component', 'Top Feature'])\n",
    "\n",
    "# Display the DataFrame\n",
    "print(top_features_df)"
   ]
  },
  {
   "cell_type": "code",
   "execution_count": 156,
   "metadata": {},
   "outputs": [
    {
     "data": {
      "image/png": "[encoded data removed]",
      "text/plain": [
       "<Figure size 1000x600 with 1 Axes>"
      ]
     },
     "metadata": {},
     "output_type": "display_data"
    }
   ],
   "source": [
    "# Cumulative Explained Variance\n",
    "cumulative_explained_variance = np.cumsum(explained_variance_ratio)\n",
    "plt.figure(figsize=(10, 6))\n",
    "plt.plot(range(1, len(cumulative_explained_variance) + 1), cumulative_explained_variance, marker='o', linestyle='--')\n",
    "plt.axhline(y=0.80, color='r', linestyle='--', label='80% variance explained')  # Adjust threshold as needed\n",
    "plt.title('Cumulative Explained Variance')\n",
    "plt.xlabel('Number of Principal Components')\n",
    "plt.ylabel('Cumulative Explained Variance')\n",
    "plt.legend()\n",
    "plt.grid(True)\n",
    "plt.show()"
   ]
  },
  {
   "cell_type": "code",
   "execution_count": 157,
   "metadata": {},
   "outputs": [
    {
     "name": "stdout",
     "output_type": "stream",
     "text": [
      "(2062, 108)\n"
     ]
    }
   ],
   "source": [
    "X = first_108_pcs_df  # PCA-transformed features\n",
    "y = actReading_11_df['proficient_score']\n",
    "X_train, X_test, y_train, y_test = train_test_split(X, y, test_size=0.20, random_state=123)\n",
    "print(X_train.shape)"
   ]
  },
  {
   "cell_type": "code",
   "execution_count": 158,
   "metadata": {},
   "outputs": [
    {
     "name": "stdout",
     "output_type": "stream",
     "text": [
      "Running Grid Search\n",
      "Done\n"
     ]
    },
    {
     "data": {
      "text/plain": [
       "{'max_depth': 32, 'min_samples_leaf': 5}"
      ]
     },
     "execution_count": 158,
     "metadata": {},
     "output_type": "execute_result"
    }
   ],
   "source": [
    "#possible hyperparameters\n",
    "max_depth_values= [8,12,25,32]\n",
    "min_samples_leaf_values = [4,5,8,10]\n",
    "param_grid = {'max_depth' : list(max_depth_values), 'min_samples_leaf' : list(min_samples_leaf_values)}\n",
    "\n",
    "\n",
    "#Grid Search to find the best hyperparameters \n",
    "print(\"Running Grid Search\")\n",
    "dt_regressor = DecisionTreeRegressor()\n",
    "\n",
    "# will have a 3-fold cross validation \n",
    "dt_grid = GridSearchCV(dt_regressor, param_grid, cv=3, scoring='neg_root_mean_squared_error')\n",
    "dt_grid_search = dt_grid.fit(X_train, y_train)\n",
    "\n",
    "print(\"Done\")\n",
    "dt_best_params = dt_grid_search.best_params_\n",
    "\n",
    "dt_best_params\n",
    "\n",
    "#{'max_depth': 32, 'min_samples_leaf': 5}"
   ]
  },
  {
   "cell_type": "code",
   "execution_count": 159,
   "metadata": {},
   "outputs": [
    {
     "name": "stdout",
     "output_type": "stream",
     "text": [
      "threshold= 1\n",
      "\n",
      "Classification Report:\n",
      "              precision    recall  f1-score   support\n",
      "\n",
      "       False       0.71      0.94      0.81       281\n",
      "        True       0.89      0.54      0.68       235\n",
      "\n",
      "    accuracy                           0.76       516\n",
      "   macro avg       0.80      0.74      0.74       516\n",
      "weighted avg       0.79      0.76      0.75       516\n",
      "\n",
      "[DT] Root Mean Squared Error: 0.2503642891124397\n",
      "[DT] R2: 0.32403675921919706\n"
     ]
    }
   ],
   "source": [
    "dt_model = DecisionTreeRegressor(max_depth=32, min_samples_leaf=5)\n",
    "dt_model.fit(X_train,y_train)\n",
    "\n",
    "#testing model on the X_test\n",
    "y_dt_pred = dt_model.predict(X_test)\n",
    "dt_rmse = mean_squared_error(y_test,y_dt_pred,squared=False)\n",
    "dt_r2 = r2_score(y_test,y_dt_pred)\n",
    "\n",
    "#trying to get f1 and accuracy score \n",
    "threshold = 1\n",
    "y_pred_bool = y_dt_pred >= threshold\n",
    "y_test_bool = y_test >= threshold\n",
    "\n",
    "print(\"threshold=\", threshold)\n",
    "# Print the classification report\n",
    "print(\"\\nClassification Report:\")\n",
    "print(classification_report(y_test_bool, y_pred_bool))\n",
    "\n",
    "print('[DT] Root Mean Squared Error: {0}'.format(dt_rmse))\n",
    "print('[DT] R2: {0}'.format(dt_r2))"
   ]
  },
  {
   "cell_type": "code",
   "execution_count": 160,
   "metadata": {},
   "outputs": [
    {
     "name": "stdout",
     "output_type": "stream",
     "text": [
      "Micro F1 Score: 0.7616279069767442\n"
     ]
    }
   ],
   "source": [
    "micro_f1 = f1_score(y_test_bool, y_pred_bool, average='micro')\n",
    "\n",
    "print(\"Micro F1 Score:\", micro_f1)"
   ]
  },
  {
   "cell_type": "code",
   "execution_count": 161,
   "metadata": {},
   "outputs": [
    {
     "name": "stdout",
     "output_type": "stream",
     "text": [
      "              PC1           PC2           PC3           PC4           PC5  \\\n",
      "0    1.000000e+00  1.284778e-16 -2.312601e-16  2.312601e-16  1.413256e-16   \n",
      "1   -1.284778e-16  1.000000e+00  7.216450e-16  1.498801e-15  1.221245e-15   \n",
      "2    2.312601e-16 -5.551115e-16  1.000000e+00 -1.226796e-14  5.551115e-15   \n",
      "3   -2.312601e-16 -1.498801e-15  1.160183e-14  1.000000e+00  4.973799e-14   \n",
      "4   -1.413256e-16 -1.110223e-15 -6.217249e-15 -5.010402e-14  1.000000e+00   \n",
      "..            ...           ...           ...           ...           ...   \n",
      "103 -2.087765e-17  1.387779e-17 -1.838807e-16 -9.020562e-17  1.040834e-17   \n",
      "104  4.336127e-17 -6.245005e-17 -1.040834e-16  9.020562e-17  1.110223e-16   \n",
      "105  8.458710e-30 -1.320308e-17 -7.974830e-17 -2.261598e-17  9.290816e-17   \n",
      "106  7.146580e-17  8.326673e-17 -2.775558e-17 -5.551115e-17 -8.326673e-17   \n",
      "107  1.409241e-16 -5.551115e-17 -1.665335e-16 -5.551115e-17 -2.220446e-16   \n",
      "\n",
      "              PC6           PC7           PC8           PC9          PC10  \\\n",
      "0    7.066281e-17  7.387476e-17  8.351059e-17  2.449109e-17  1.027823e-16   \n",
      "1    1.332268e-15  7.216450e-16 -5.551115e-17 -1.110223e-16 -1.804112e-16   \n",
      "2    6.383782e-16  1.665335e-15 -1.498801e-15  3.885781e-16 -1.387779e-16   \n",
      "3    1.609823e-15 -2.803313e-15 -2.844947e-15  4.440892e-16 -8.326673e-16   \n",
      "4   -1.040834e-14 -9.506285e-15  3.136380e-15  6.661338e-16  2.959438e-15   \n",
      "..            ...           ...           ...           ...           ...   \n",
      "103 -1.144917e-16  1.942890e-16  5.898060e-17 -1.179612e-16  1.405126e-16   \n",
      "104 -2.428613e-16  7.632783e-17  3.191891e-16 -3.469447e-17  4.857226e-17   \n",
      "105  2.095153e-16 -4.633545e-17  2.541592e-16  1.912524e-16  8.699975e-17   \n",
      "106 -4.163336e-17  1.665335e-16  2.498002e-16 -2.775558e-16 -1.249001e-16   \n",
      "107 -5.551115e-17 -1.387779e-16  8.049117e-16  1.942890e-16 -4.996004e-16   \n",
      "\n",
      "     ...          PC99         PC100         PC101         PC102  \\\n",
      "0    ...  3.211946e-18  1.300838e-16 -3.492991e-17 -4.978516e-17   \n",
      "1    ...  1.730192e-17 -2.375318e-16 -1.401480e-17 -6.150073e-17   \n",
      "2    ...  9.138427e-18  2.316127e-16  4.913469e-17 -1.750648e-17   \n",
      "3    ... -5.842494e-17 -3.686287e-18 -5.057803e-17 -7.817098e-17   \n",
      "4    ... -1.140310e-16 -1.101549e-16  2.072995e-16  2.797242e-16   \n",
      "..   ...           ...           ...           ...           ...   \n",
      "103  ...  4.996220e-15  3.570061e-15 -2.109597e-14 -7.206041e-15   \n",
      "104  ... -6.457508e-16 -1.817990e-15 -1.125142e-14  6.859097e-15   \n",
      "105  ... -3.124633e-15 -1.208654e-14 -2.367982e-14  1.674606e-14   \n",
      "106  ... -1.352109e-15  1.436351e-14  1.011864e-14  1.003017e-14   \n",
      "107  ... -6.311005e-15  3.400058e-15  2.241610e-14 -7.917278e-15   \n",
      "\n",
      "            PC103         PC104         PC105         PC106         PC107  \\\n",
      "0    1.188420e-16  2.087765e-17 -4.336127e-17  0.000000e+00 -7.146580e-17   \n",
      "1   -1.782666e-17 -2.159606e-17  3.709708e-17  1.320308e-17 -2.177806e-17   \n",
      "2    2.692481e-16  1.865150e-16  5.948543e-17  7.974830e-17 -3.157739e-18   \n",
      "3    8.977194e-17  8.887747e-17 -6.131163e-17  2.261598e-17  1.368805e-16   \n",
      "4   -1.665335e-16 -2.569559e-17 -7.350891e-17 -9.290816e-17  2.081668e-17   \n",
      "..            ...           ...           ...           ...           ...   \n",
      "103 -6.792830e-14  1.000000e+00  5.338265e-14  1.999291e-14 -2.425143e-15   \n",
      "104  1.017936e-14 -5.359081e-14  1.000000e+00 -1.493858e-14 -1.085937e-14   \n",
      "105  9.186911e-15 -1.999059e-14  1.493900e-14  1.000000e+00  5.410637e-14   \n",
      "106 -1.165734e-14  2.442491e-15  1.111611e-14 -5.410638e-14  1.000000e+00   \n",
      "107 -6.661338e-16 -1.205286e-14 -2.393918e-14 -2.772860e-14 -1.160183e-14   \n",
      "\n",
      "            PC108  \n",
      "0   -1.409241e-16  \n",
      "1    2.035360e-16  \n",
      "2    1.171277e-17  \n",
      "3    1.524863e-16  \n",
      "4    1.913346e-16  \n",
      "..            ...  \n",
      "103  1.202857e-14  \n",
      "104  2.396694e-14  \n",
      "105  2.772860e-14  \n",
      "106  1.176836e-14  \n",
      "107  1.000000e+00  \n",
      "\n",
      "[108 rows x 108 columns]\n"
     ]
    }
   ],
   "source": [
    "#feature importance by using PCA\n",
    "pca = PCA(n_components=108)  # You can set the number of components\n",
    "pca.fit(X)  # Fit PCA to your data\n",
    "\n",
    "# Get the loadings (components)\n",
    "loadings = pca.components_\n",
    "\n",
    "# Create a DataFrame to view the loadings more clearly\n",
    "feature_names = X.columns  # If X is a pandas DataFrame with feature names\n",
    "loadings_df = pd.DataFrame(loadings, columns=feature_names)\n",
    "\n",
    "# Show the loadings for each principal component\n",
    "print(loadings_df)"
   ]
  },
  {
   "cell_type": "markdown",
   "metadata": {},
   "source": [
    "Just using columns given to me"
   ]
  },
  {
   "cell_type": "code",
   "execution_count": 162,
   "metadata": {},
   "outputs": [
    {
     "name": "stdout",
     "output_type": "stream",
     "text": [
      "studentId                 int64\n",
      "is_proficient              bool\n",
      "proficient_score        float64\n",
      "course_ACT Review          bool\n",
      "course_ACT/WK Rev.         bool\n",
      "                         ...   \n",
      "school_High School C       bool\n",
      "school_High School D       bool\n",
      "iready_math               int64\n",
      "iready_reading            int64\n",
      "bbb_literacy              int64\n",
      "Length: 241, dtype: object\n"
     ]
    }
   ],
   "source": [
    "print(actReading_11_df.dtypes)"
   ]
  },
  {
   "cell_type": "code",
   "execution_count": 163,
   "metadata": {},
   "outputs": [
    {
     "data": {
      "text/plain": [
       "studentId                 int64\n",
       "is_proficient             int32\n",
       "proficient_score        float64\n",
       "course_ACT Review         int32\n",
       "course_ACT/WK Rev.        int32\n",
       "                         ...   \n",
       "school_High School C      int32\n",
       "school_High School D      int32\n",
       "iready_math               int64\n",
       "iready_reading            int64\n",
       "bbb_literacy              int64\n",
       "Length: 241, dtype: object"
      ]
     },
     "execution_count": 163,
     "metadata": {},
     "output_type": "execute_result"
    }
   ],
   "source": [
    "#changing all bools to ints 0 and 1 for the model\n",
    "actReading_11_df[actReading_11_df.select_dtypes(include=['bool']).columns] = actReading_11_df.select_dtypes(include=['bool']).astype(int)\n",
    "actReading_11_df.dtypes"
   ]
  },
  {
   "cell_type": "code",
   "execution_count": 164,
   "metadata": {},
   "outputs": [
    {
     "name": "stdout",
     "output_type": "stream",
     "text": [
      "min    0.222222\n",
      "max    1.972222\n",
      "Name: proficient_score, dtype: float64\n"
     ]
    }
   ],
   "source": [
    "proficient_score = actReading_11_df['proficient_score'].describe()[['min','max']]\n",
    "print(proficient_score)"
   ]
  },
  {
   "cell_type": "markdown",
   "metadata": {},
   "source": [
    "Training"
   ]
  },
  {
   "cell_type": "code",
   "execution_count": 165,
   "metadata": {},
   "outputs": [
    {
     "name": "stdout",
     "output_type": "stream",
     "text": [
      "Number of examples: 2578\n",
      "(2062, 238)\n",
      "(516, 238)\n"
     ]
    }
   ],
   "source": [
    "#Create Training and Test Data\n",
    "yRead = actReading_11_df['proficient_score']\n",
    "XRead= actReading_11_df.drop(['proficient_score','is_proficient', 'studentId'], axis=1)\n",
    "print(\"Number of examples: \" + str(XRead.shape[0]))\n",
    "\n",
    "X_trainRead,X_testRead, y_trainRead,y_testRead  = train_test_split(XRead,yRead, test_size=0.20,stratify = actReading_11_df['is_proficient'],random_state=123)\n",
    "print(X_trainRead.shape)\n",
    "print(X_testRead.shape)\n",
    "\n",
    "#possible hyperparameters\n",
    "max_depth_valuesRead = [8,12,25,32]\n",
    "min_samples_leaf_valuesRead = [4,5,8,10]\n",
    "param_gridRead = {'max_depth' : list(max_depth_valuesRead), 'min_samples_leaf' : list(min_samples_leaf_valuesRead)}\n"
   ]
  },
  {
   "cell_type": "code",
   "execution_count": 166,
   "metadata": {},
   "outputs": [
    {
     "name": "stdout",
     "output_type": "stream",
     "text": [
      "Running Grid Search\n",
      "Done\n"
     ]
    },
    {
     "data": {
      "text/plain": [
       "{'max_depth': 32, 'min_samples_leaf': 4}"
      ]
     },
     "execution_count": 166,
     "metadata": {},
     "output_type": "execute_result"
    }
   ],
   "source": [
    "#Grid Search to find the best hyperparameters \n",
    "print(\"Running Grid Search\")\n",
    "dt_regressorRead = DecisionTreeRegressor()\n",
    "\n",
    "# will have a 3-fold cross validation \n",
    "dt_gridRead = GridSearchCV(dt_regressorRead, param_gridRead, cv=3, scoring='neg_root_mean_squared_error')\n",
    "dt_grid_searchRead = dt_gridRead.fit(X_trainRead, y_trainRead)\n",
    "\n",
    "print(\"Done\")\n",
    "dt_best_paramsRead = dt_grid_searchRead.best_params_\n",
    "\n",
    "dt_best_paramsRead\n",
    "#{'max_depth': 32, 'min_samples_leaf': 4}\n"
   ]
  },
  {
   "cell_type": "code",
   "execution_count": 167,
   "metadata": {},
   "outputs": [
    {
     "name": "stdout",
     "output_type": "stream",
     "text": [
      "threshold= 1\n",
      "\n",
      "Classification Report:\n",
      "              precision    recall  f1-score   support\n",
      "\n",
      "       False       0.69      0.90      0.78       289\n",
      "        True       0.79      0.47      0.59       227\n",
      "\n",
      "    accuracy                           0.71       516\n",
      "   macro avg       0.74      0.69      0.69       516\n",
      "weighted avg       0.73      0.71      0.70       516\n",
      "\n",
      "[DT] Root Mean Squared Error: 0.2503344415922375\n",
      "[DT] R2: 0.3741857096950486\n"
     ]
    }
   ],
   "source": [
    "dt_modelRead = DecisionTreeRegressor(max_depth=32, min_samples_leaf=4)\n",
    "dt_modelRead.fit(X_trainRead,y_trainRead)\n",
    "\n",
    "#testing model on the X_test\n",
    "y_dt_predRead = dt_modelRead.predict(X_testRead)\n",
    "dt_rmseRead = mean_squared_error(y_testRead,y_dt_predRead,squared=False)\n",
    "dt_r2Read = r2_score(y_testRead,y_dt_predRead)\n",
    "\n",
    "#trying to get f1 and accuracy score \n",
    "threshold = 1\n",
    "y_pred_read_bool = y_dt_predRead >= threshold\n",
    "y_test_read_bool = y_testRead >= threshold\n",
    "\n",
    "print(\"threshold=\", threshold)\n",
    "# Print the classification report\n",
    "print(\"\\nClassification Report:\")\n",
    "print(classification_report(y_test_read_bool, y_pred_read_bool))\n",
    "\n",
    "print('[DT] Root Mean Squared Error: {0}'.format(dt_rmseRead))\n",
    "print('[DT] R2: {0}'.format(dt_r2Read))"
   ]
  },
  {
   "cell_type": "markdown",
   "metadata": {},
   "source": [
    "Based on these metrics, model is having a difficult time with predicting if a student is actaully proficent. we know that most of the students are below proficentcy and that there is a class imbalance. \n"
   ]
  },
  {
   "cell_type": "code",
   "execution_count": 168,
   "metadata": {},
   "outputs": [
    {
     "name": "stdout",
     "output_type": "stream",
     "text": [
      "Micro F1 Score: 0.7131782945736435\n"
     ]
    }
   ],
   "source": [
    "#looking at the micro score\n",
    "micro_f1 = f1_score(y_test_read_bool, y_pred_read_bool, average='micro')\n",
    "\n",
    "print(\"Micro F1 Score:\", micro_f1)"
   ]
  },
  {
   "cell_type": "code",
   "execution_count": 169,
   "metadata": {},
   "outputs": [
    {
     "name": "stdout",
     "output_type": "stream",
     "text": [
      "Confusion Matrix:\n",
      "[[261  28]\n",
      " [120 107]]\n"
     ]
    },
    {
     "data": {
      "image/png": "[encoded data removed]",
      "text/plain": [
       "<Figure size 640x480 with 2 Axes>"
      ]
     },
     "metadata": {},
     "output_type": "display_data"
    }
   ],
   "source": [
    "cm = confusion_matrix(y_test_read_bool, y_pred_read_bool)\n",
    "\n",
    "# Print the confusion matrix\n",
    "print(\"Confusion Matrix:\")\n",
    "print(cm)\n",
    "\n",
    "# Optionally, plot the confusion matrix using seaborn heatmap for better visualization\n",
    "sns.heatmap(cm, annot=True, fmt=\"d\", cmap=\"Blues\", xticklabels=[\"Not Proficient\", \"Proficient\"], yticklabels=[\"Not Proficient\", \"Proficient\"])\n",
    "plt.xlabel('Predicted')\n",
    "plt.ylabel('Actual')\n",
    "plt.title('Confusion Matrix')\n",
    "plt.show()"
   ]
  },
  {
   "cell_type": "code",
   "execution_count": 170,
   "metadata": {},
   "outputs": [],
   "source": [
    "#I am worried about the false positive but it seems low"
   ]
  },
  {
   "cell_type": "markdown",
   "metadata": {},
   "source": [
    "Feature Importance"
   ]
  },
  {
   "cell_type": "code",
   "execution_count": 171,
   "metadata": {},
   "outputs": [
    {
     "name": "stdout",
     "output_type": "stream",
     "text": [
      "                 Feature  Importance\n",
      "76   course_Eng Gr10 Adv    0.339077\n",
      "84     course_Enviro Sci    0.047374\n",
      "158  course_Physical Sci    0.039886\n",
      "177     course_Spanish 1    0.035955\n",
      "220     course_Vocal I 1    0.034079\n",
      "..                   ...         ...\n",
      "100   course_FrenchIACCE    0.000000\n",
      "102      course_GEOM ADV    0.000000\n",
      "103       course_Geo Ess    0.000000\n",
      "106  course_GeometryACCE    0.000000\n",
      "237         bbb_literacy    0.000000\n",
      "\n",
      "[238 rows x 2 columns]\n"
     ]
    }
   ],
   "source": [
    "importances = dt_modelRead.feature_importances_\n",
    "feature_names = X_trainRead.columns\n",
    "\n",
    "# Combine names and importances, and sort\n",
    "importance_dfRead = pd.DataFrame({'Feature': feature_names, 'Importance': importances})\n",
    "importance_dfRead= importance_dfRead.sort_values(by='Importance', ascending=False)\n",
    "\n",
    "# Display the sorted DataFrame\n",
    "print(importance_dfRead)"
   ]
  },
  {
   "cell_type": "code",
   "execution_count": 172,
   "metadata": {},
   "outputs": [
    {
     "data": {
      "text/html": [
       "<div>\n",
       "<style scoped>\n",
       "    .dataframe tbody tr th:only-of-type {\n",
       "        vertical-align: middle;\n",
       "    }\n",
       "\n",
       "    .dataframe tbody tr th {\n",
       "        vertical-align: top;\n",
       "    }\n",
       "\n",
       "    .dataframe thead th {\n",
       "        text-align: right;\n",
       "    }\n",
       "</style>\n",
       "<table border=\"1\" class=\"dataframe\">\n",
       "  <thead>\n",
       "    <tr style=\"text-align: right;\">\n",
       "      <th></th>\n",
       "      <th>Feature</th>\n",
       "      <th>Importance</th>\n",
       "    </tr>\n",
       "  </thead>\n",
       "  <tbody>\n",
       "    <tr>\n",
       "      <th>76</th>\n",
       "      <td>course_Eng Gr10 Adv</td>\n",
       "      <td>0.339077</td>\n",
       "    </tr>\n",
       "    <tr>\n",
       "      <th>84</th>\n",
       "      <td>course_Enviro Sci</td>\n",
       "      <td>0.047374</td>\n",
       "    </tr>\n",
       "    <tr>\n",
       "      <th>158</th>\n",
       "      <td>course_Physical Sci</td>\n",
       "      <td>0.039886</td>\n",
       "    </tr>\n",
       "    <tr>\n",
       "      <th>177</th>\n",
       "      <td>course_Spanish 1</td>\n",
       "      <td>0.035955</td>\n",
       "    </tr>\n",
       "    <tr>\n",
       "      <th>220</th>\n",
       "      <td>course_Vocal I 1</td>\n",
       "      <td>0.034079</td>\n",
       "    </tr>\n",
       "    <tr>\n",
       "      <th>234</th>\n",
       "      <td>school_High School D</td>\n",
       "      <td>0.032065</td>\n",
       "    </tr>\n",
       "    <tr>\n",
       "      <th>29</th>\n",
       "      <td>course_Algebra I B</td>\n",
       "      <td>0.021165</td>\n",
       "    </tr>\n",
       "    <tr>\n",
       "      <th>208</th>\n",
       "      <td>course_VarFBI</td>\n",
       "      <td>0.020025</td>\n",
       "    </tr>\n",
       "    <tr>\n",
       "      <th>24</th>\n",
       "      <td>course_Alg II/Trig</td>\n",
       "      <td>0.018624</td>\n",
       "    </tr>\n",
       "    <tr>\n",
       "      <th>85</th>\n",
       "      <td>course_Ess II:USHis</td>\n",
       "      <td>0.017586</td>\n",
       "    </tr>\n",
       "    <tr>\n",
       "      <th>142</th>\n",
       "      <td>course_Music App</td>\n",
       "      <td>0.016095</td>\n",
       "    </tr>\n",
       "    <tr>\n",
       "      <th>7</th>\n",
       "      <td>course_ALIITRIGH/A</td>\n",
       "      <td>0.014390</td>\n",
       "    </tr>\n",
       "    <tr>\n",
       "      <th>42</th>\n",
       "      <td>course_BandMarch.5C</td>\n",
       "      <td>0.014374</td>\n",
       "    </tr>\n",
       "    <tr>\n",
       "      <th>186</th>\n",
       "      <td>course_Theatre I</td>\n",
       "      <td>0.014296</td>\n",
       "    </tr>\n",
       "    <tr>\n",
       "      <th>111</th>\n",
       "      <td>course_HISTUS1877AC</td>\n",
       "      <td>0.013496</td>\n",
       "    </tr>\n",
       "    <tr>\n",
       "      <th>166</th>\n",
       "      <td>course_Psychology</td>\n",
       "      <td>0.011850</td>\n",
       "    </tr>\n",
       "    <tr>\n",
       "      <th>113</th>\n",
       "      <td>course_Health 9-12</td>\n",
       "      <td>0.011681</td>\n",
       "    </tr>\n",
       "    <tr>\n",
       "      <th>67</th>\n",
       "      <td>course_D&amp;TSafetyEd</td>\n",
       "      <td>0.011158</td>\n",
       "    </tr>\n",
       "    <tr>\n",
       "      <th>101</th>\n",
       "      <td>course_Fund Agrisci</td>\n",
       "      <td>0.010979</td>\n",
       "    </tr>\n",
       "    <tr>\n",
       "      <th>216</th>\n",
       "      <td>course_Vis Arts II</td>\n",
       "      <td>0.010879</td>\n",
       "    </tr>\n",
       "    <tr>\n",
       "      <th>56</th>\n",
       "      <td>course_CareerPrep-B</td>\n",
       "      <td>0.010546</td>\n",
       "    </tr>\n",
       "    <tr>\n",
       "      <th>104</th>\n",
       "      <td>course_Geometry</td>\n",
       "      <td>0.010057</td>\n",
       "    </tr>\n",
       "    <tr>\n",
       "      <th>183</th>\n",
       "      <td>course_StudyHall912</td>\n",
       "      <td>0.009820</td>\n",
       "    </tr>\n",
       "    <tr>\n",
       "      <th>131</th>\n",
       "      <td>course_LIFE PE 9-12</td>\n",
       "      <td>0.009538</td>\n",
       "    </tr>\n",
       "    <tr>\n",
       "      <th>64</th>\n",
       "      <td>course_Credit Recov</td>\n",
       "      <td>0.009527</td>\n",
       "    </tr>\n",
       "    <tr>\n",
       "      <th>117</th>\n",
       "      <td>course_IT Fndamntls</td>\n",
       "      <td>0.009267</td>\n",
       "    </tr>\n",
       "    <tr>\n",
       "      <th>96</th>\n",
       "      <td>course_Food Nutritn</td>\n",
       "      <td>0.008344</td>\n",
       "    </tr>\n",
       "    <tr>\n",
       "      <th>138</th>\n",
       "      <td>course_Mnt Lt Rpr A</td>\n",
       "      <td>0.007901</td>\n",
       "    </tr>\n",
       "    <tr>\n",
       "      <th>209</th>\n",
       "      <td>course_VarFBII</td>\n",
       "      <td>0.006901</td>\n",
       "    </tr>\n",
       "    <tr>\n",
       "      <th>156</th>\n",
       "      <td>course_Phy Sci Adv</td>\n",
       "      <td>0.006854</td>\n",
       "    </tr>\n",
       "    <tr>\n",
       "      <th>46</th>\n",
       "      <td>course_BullBogAdv</td>\n",
       "      <td>0.006845</td>\n",
       "    </tr>\n",
       "    <tr>\n",
       "      <th>147</th>\n",
       "      <td>course_Mustang Advi</td>\n",
       "      <td>0.006514</td>\n",
       "    </tr>\n",
       "    <tr>\n",
       "      <th>109</th>\n",
       "      <td>course_HEALTH 9-12</td>\n",
       "      <td>0.006421</td>\n",
       "    </tr>\n",
       "    <tr>\n",
       "      <th>218</th>\n",
       "      <td>course_VisArtI.5C</td>\n",
       "      <td>0.006325</td>\n",
       "    </tr>\n",
       "    <tr>\n",
       "      <th>125</th>\n",
       "      <td>course_Intro Drftng</td>\n",
       "      <td>0.006215</td>\n",
       "    </tr>\n",
       "    <tr>\n",
       "      <th>110</th>\n",
       "      <td>course_HEALTH ACCES</td>\n",
       "      <td>0.006006</td>\n",
       "    </tr>\n",
       "    <tr>\n",
       "      <th>19</th>\n",
       "      <td>course_Accounting</td>\n",
       "      <td>0.005894</td>\n",
       "    </tr>\n",
       "    <tr>\n",
       "      <th>146</th>\n",
       "      <td>course_MusicalDrama</td>\n",
       "      <td>0.005308</td>\n",
       "    </tr>\n",
       "    <tr>\n",
       "      <th>61</th>\n",
       "      <td>course_ContempIss1C</td>\n",
       "      <td>0.005030</td>\n",
       "    </tr>\n",
       "    <tr>\n",
       "      <th>94</th>\n",
       "      <td>course_Fit/Cond</td>\n",
       "      <td>0.004876</td>\n",
       "    </tr>\n",
       "    <tr>\n",
       "      <th>48</th>\n",
       "      <td>course_Bus Finance</td>\n",
       "      <td>0.004821</td>\n",
       "    </tr>\n",
       "    <tr>\n",
       "      <th>196</th>\n",
       "      <td>course_US His-1877</td>\n",
       "      <td>0.004622</td>\n",
       "    </tr>\n",
       "    <tr>\n",
       "      <th>81</th>\n",
       "      <td>course_English Gr10</td>\n",
       "      <td>0.004397</td>\n",
       "    </tr>\n",
       "    <tr>\n",
       "      <th>55</th>\n",
       "      <td>course_CareerPrep-A</td>\n",
       "      <td>0.004380</td>\n",
       "    </tr>\n",
       "    <tr>\n",
       "      <th>229</th>\n",
       "      <td>course_Yearbook9-12</td>\n",
       "      <td>0.004245</td>\n",
       "    </tr>\n",
       "    <tr>\n",
       "      <th>9</th>\n",
       "      <td>course_ARMY LET II</td>\n",
       "      <td>0.004128</td>\n",
       "    </tr>\n",
       "    <tr>\n",
       "      <th>68</th>\n",
       "      <td>course_DRIVERS ED</td>\n",
       "      <td>0.003887</td>\n",
       "    </tr>\n",
       "    <tr>\n",
       "      <th>235</th>\n",
       "      <td>iready_math</td>\n",
       "      <td>0.003766</td>\n",
       "    </tr>\n",
       "    <tr>\n",
       "      <th>16</th>\n",
       "      <td>course_AcAdv.Footb</td>\n",
       "      <td>0.003666</td>\n",
       "    </tr>\n",
       "    <tr>\n",
       "      <th>151</th>\n",
       "      <td>course_NCCER Wldg2</td>\n",
       "      <td>0.003633</td>\n",
       "    </tr>\n",
       "  </tbody>\n",
       "</table>\n",
       "</div>"
      ],
      "text/plain": [
       "                  Feature  Importance\n",
       "76    course_Eng Gr10 Adv    0.339077\n",
       "84      course_Enviro Sci    0.047374\n",
       "158   course_Physical Sci    0.039886\n",
       "177      course_Spanish 1    0.035955\n",
       "220      course_Vocal I 1    0.034079\n",
       "234  school_High School D    0.032065\n",
       "29     course_Algebra I B    0.021165\n",
       "208         course_VarFBI    0.020025\n",
       "24     course_Alg II/Trig    0.018624\n",
       "85    course_Ess II:USHis    0.017586\n",
       "142      course_Music App    0.016095\n",
       "7      course_ALIITRIGH/A    0.014390\n",
       "42    course_BandMarch.5C    0.014374\n",
       "186      course_Theatre I    0.014296\n",
       "111   course_HISTUS1877AC    0.013496\n",
       "166     course_Psychology    0.011850\n",
       "113    course_Health 9-12    0.011681\n",
       "67     course_D&TSafetyEd    0.011158\n",
       "101   course_Fund Agrisci    0.010979\n",
       "216    course_Vis Arts II    0.010879\n",
       "56    course_CareerPrep-B    0.010546\n",
       "104       course_Geometry    0.010057\n",
       "183   course_StudyHall912    0.009820\n",
       "131   course_LIFE PE 9-12    0.009538\n",
       "64    course_Credit Recov    0.009527\n",
       "117   course_IT Fndamntls    0.009267\n",
       "96    course_Food Nutritn    0.008344\n",
       "138   course_Mnt Lt Rpr A    0.007901\n",
       "209        course_VarFBII    0.006901\n",
       "156    course_Phy Sci Adv    0.006854\n",
       "46      course_BullBogAdv    0.006845\n",
       "147   course_Mustang Advi    0.006514\n",
       "109    course_HEALTH 9-12    0.006421\n",
       "218     course_VisArtI.5C    0.006325\n",
       "125   course_Intro Drftng    0.006215\n",
       "110   course_HEALTH ACCES    0.006006\n",
       "19      course_Accounting    0.005894\n",
       "146   course_MusicalDrama    0.005308\n",
       "61    course_ContempIss1C    0.005030\n",
       "94        course_Fit/Cond    0.004876\n",
       "48     course_Bus Finance    0.004821\n",
       "196    course_US His-1877    0.004622\n",
       "81    course_English Gr10    0.004397\n",
       "55    course_CareerPrep-A    0.004380\n",
       "229   course_Yearbook9-12    0.004245\n",
       "9      course_ARMY LET II    0.004128\n",
       "68      course_DRIVERS ED    0.003887\n",
       "235           iready_math    0.003766\n",
       "16     course_AcAdv.Footb    0.003666\n",
       "151    course_NCCER Wldg2    0.003633"
      ]
     },
     "execution_count": 172,
     "metadata": {},
     "output_type": "execute_result"
    }
   ],
   "source": [
    "importance_dfRead.head(50)"
   ]
  },
  {
   "cell_type": "code",
   "execution_count": 173,
   "metadata": {},
   "outputs": [],
   "source": [
    "top_50_columns = importance_dfRead.columns[:50]\n",
    "\n",
    "# Select the columns by name\n",
    "top_50_columns_df = importance_dfRead[top_50_columns]"
   ]
  }
 ],
 "metadata": {
  "kernelspec": {
   "display_name": "Python 3",
   "language": "python",
   "name": "python3"
  },
  "language_info": {
   "codemirror_mode": {
    "name": "ipython",
    "version": 3
   },
   "file_extension": ".py",
   "mimetype": "text/x-python",
   "name": "python",
   "nbconvert_exporter": "python",
   "pygments_lexer": "ipython3",
   "version": "3.11.3"
  }
 },
 "nbformat": 4,
 "nbformat_minor": 2
}
