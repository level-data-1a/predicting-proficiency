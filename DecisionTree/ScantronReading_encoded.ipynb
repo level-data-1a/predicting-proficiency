{
 "cells": [
  {
   "cell_type": "code",
   "execution_count": 18,
   "metadata": {},
   "outputs": [],
   "source": [
    "import pandas as pd\n",
    "import numpy as np\n",
    "import matplotlib.pyplot as plt\n",
    "import seaborn as sns\n",
    "import os\n",
    "\n",
    "from sklearn.model_selection import train_test_split, cross_val_score, GridSearchCV\n",
    "from sklearn.tree import DecisionTreeRegressor\n",
    "from sklearn.metrics import mean_squared_error, mean_absolute_error, r2_score, classification_report, confusion_matrix, f1_score\n",
    "from sklearn.ensemble import RandomForestRegressor, GradientBoostingRegressor"
   ]
  },
  {
   "cell_type": "code",
   "execution_count": 19,
   "metadata": {},
   "outputs": [],
   "source": [
    "pd.set_option('display.max_rows', None)\n",
    "pd.set_option('display.max_columns', None)\n",
    "scantron_reading38_encoded_df = pd.read_csv('../dataframes/scantronReading_38_encoded.csv')"
   ]
  },
  {
   "cell_type": "markdown",
   "metadata": {},
   "source": [
    "Scantron Reading encoded, label is proficent score"
   ]
  },
  {
   "cell_type": "code",
   "execution_count": 20,
   "metadata": {},
   "outputs": [
    {
     "data": {
      "text/html": [
       "<div>\n",
       "<style scoped>\n",
       "    .dataframe tbody tr th:only-of-type {\n",
       "        vertical-align: middle;\n",
       "    }\n",
       "\n",
       "    .dataframe tbody tr th {\n",
       "        vertical-align: top;\n",
       "    }\n",
       "\n",
       "    .dataframe thead th {\n",
       "        text-align: right;\n",
       "    }\n",
       "</style>\n",
       "<table border=\"1\" class=\"dataframe\">\n",
       "  <thead>\n",
       "    <tr style=\"text-align: right;\">\n",
       "      <th></th>\n",
       "      <th>studentId</th>\n",
       "      <th>level</th>\n",
       "      <th>dataSource</th>\n",
       "      <th>is_proficient</th>\n",
       "      <th>proficient_score</th>\n",
       "      <th>school_Elementary A</th>\n",
       "      <th>school_Elementary School B</th>\n",
       "      <th>school_Elementary School E</th>\n",
       "      <th>school_Elementary School F</th>\n",
       "      <th>school_Intermediate School E</th>\n",
       "      <th>school_Middle School A</th>\n",
       "      <th>school_Middle School C</th>\n",
       "      <th>school_Middle School D</th>\n",
       "      <th>school_Middle School F</th>\n",
       "      <th>iready_math</th>\n",
       "      <th>iready_reading</th>\n",
       "      <th>past_proficient_score</th>\n",
       "      <th>subject_math</th>\n",
       "      <th>subject_reading</th>\n",
       "      <th>subject_science</th>\n",
       "      <th>subject_social-studies</th>\n",
       "      <th>subject_music</th>\n",
       "      <th>subject_art</th>\n",
       "      <th>subject_performing-arts</th>\n",
       "      <th>subject_phys-ed</th>\n",
       "      <th>subject_career-prep</th>\n",
       "    </tr>\n",
       "  </thead>\n",
       "  <tbody>\n",
       "    <tr>\n",
       "      <th>0</th>\n",
       "      <td>44777</td>\n",
       "      <td>7</td>\n",
       "      <td>value_scantronReading</td>\n",
       "      <td>False</td>\n",
       "      <td>0.993342</td>\n",
       "      <td>False</td>\n",
       "      <td>False</td>\n",
       "      <td>False</td>\n",
       "      <td>False</td>\n",
       "      <td>False</td>\n",
       "      <td>True</td>\n",
       "      <td>False</td>\n",
       "      <td>False</td>\n",
       "      <td>False</td>\n",
       "      <td>0</td>\n",
       "      <td>0</td>\n",
       "      <td>0.969279</td>\n",
       "      <td>2</td>\n",
       "      <td>2</td>\n",
       "      <td>2</td>\n",
       "      <td>2</td>\n",
       "      <td>1</td>\n",
       "      <td>0</td>\n",
       "      <td>0</td>\n",
       "      <td>0</td>\n",
       "      <td>0</td>\n",
       "    </tr>\n",
       "    <tr>\n",
       "      <th>1</th>\n",
       "      <td>44783</td>\n",
       "      <td>7</td>\n",
       "      <td>value_scantronReading</td>\n",
       "      <td>False</td>\n",
       "      <td>0.997179</td>\n",
       "      <td>False</td>\n",
       "      <td>False</td>\n",
       "      <td>False</td>\n",
       "      <td>False</td>\n",
       "      <td>False</td>\n",
       "      <td>True</td>\n",
       "      <td>False</td>\n",
       "      <td>False</td>\n",
       "      <td>False</td>\n",
       "      <td>0</td>\n",
       "      <td>0</td>\n",
       "      <td>1.009665</td>\n",
       "      <td>2</td>\n",
       "      <td>2</td>\n",
       "      <td>2</td>\n",
       "      <td>1</td>\n",
       "      <td>0</td>\n",
       "      <td>0</td>\n",
       "      <td>0</td>\n",
       "      <td>0</td>\n",
       "      <td>0</td>\n",
       "    </tr>\n",
       "    <tr>\n",
       "      <th>2</th>\n",
       "      <td>44784</td>\n",
       "      <td>6</td>\n",
       "      <td>value_scantronReading</td>\n",
       "      <td>False</td>\n",
       "      <td>0.947277</td>\n",
       "      <td>False</td>\n",
       "      <td>False</td>\n",
       "      <td>False</td>\n",
       "      <td>False</td>\n",
       "      <td>False</td>\n",
       "      <td>True</td>\n",
       "      <td>False</td>\n",
       "      <td>False</td>\n",
       "      <td>False</td>\n",
       "      <td>0</td>\n",
       "      <td>0</td>\n",
       "      <td>0.934354</td>\n",
       "      <td>2</td>\n",
       "      <td>2</td>\n",
       "      <td>2</td>\n",
       "      <td>2</td>\n",
       "      <td>1</td>\n",
       "      <td>0</td>\n",
       "      <td>0</td>\n",
       "      <td>0</td>\n",
       "      <td>0</td>\n",
       "    </tr>\n",
       "    <tr>\n",
       "      <th>3</th>\n",
       "      <td>44807</td>\n",
       "      <td>7</td>\n",
       "      <td>value_scantronReading</td>\n",
       "      <td>True</td>\n",
       "      <td>1.014669</td>\n",
       "      <td>False</td>\n",
       "      <td>False</td>\n",
       "      <td>False</td>\n",
       "      <td>False</td>\n",
       "      <td>False</td>\n",
       "      <td>True</td>\n",
       "      <td>False</td>\n",
       "      <td>False</td>\n",
       "      <td>False</td>\n",
       "      <td>0</td>\n",
       "      <td>0</td>\n",
       "      <td>1.028650</td>\n",
       "      <td>2</td>\n",
       "      <td>2</td>\n",
       "      <td>1</td>\n",
       "      <td>2</td>\n",
       "      <td>0</td>\n",
       "      <td>0</td>\n",
       "      <td>0</td>\n",
       "      <td>0</td>\n",
       "      <td>0</td>\n",
       "    </tr>\n",
       "    <tr>\n",
       "      <th>4</th>\n",
       "      <td>44809</td>\n",
       "      <td>7</td>\n",
       "      <td>value_scantronReading</td>\n",
       "      <td>False</td>\n",
       "      <td>0.934665</td>\n",
       "      <td>False</td>\n",
       "      <td>False</td>\n",
       "      <td>False</td>\n",
       "      <td>False</td>\n",
       "      <td>False</td>\n",
       "      <td>True</td>\n",
       "      <td>False</td>\n",
       "      <td>False</td>\n",
       "      <td>False</td>\n",
       "      <td>0</td>\n",
       "      <td>0</td>\n",
       "      <td>0.949085</td>\n",
       "      <td>2</td>\n",
       "      <td>2</td>\n",
       "      <td>2</td>\n",
       "      <td>2</td>\n",
       "      <td>1</td>\n",
       "      <td>0</td>\n",
       "      <td>0</td>\n",
       "      <td>0</td>\n",
       "      <td>0</td>\n",
       "    </tr>\n",
       "    <tr>\n",
       "      <th>5</th>\n",
       "      <td>44810</td>\n",
       "      <td>7</td>\n",
       "      <td>value_scantronReading</td>\n",
       "      <td>False</td>\n",
       "      <td>0.924283</td>\n",
       "      <td>False</td>\n",
       "      <td>False</td>\n",
       "      <td>False</td>\n",
       "      <td>False</td>\n",
       "      <td>False</td>\n",
       "      <td>True</td>\n",
       "      <td>False</td>\n",
       "      <td>False</td>\n",
       "      <td>False</td>\n",
       "      <td>0</td>\n",
       "      <td>0</td>\n",
       "      <td>0.915602</td>\n",
       "      <td>2</td>\n",
       "      <td>2</td>\n",
       "      <td>2</td>\n",
       "      <td>2</td>\n",
       "      <td>1</td>\n",
       "      <td>0</td>\n",
       "      <td>0</td>\n",
       "      <td>0</td>\n",
       "      <td>0</td>\n",
       "    </tr>\n",
       "    <tr>\n",
       "      <th>6</th>\n",
       "      <td>44811</td>\n",
       "      <td>7</td>\n",
       "      <td>value_scantronReading</td>\n",
       "      <td>False</td>\n",
       "      <td>0.904988</td>\n",
       "      <td>False</td>\n",
       "      <td>False</td>\n",
       "      <td>False</td>\n",
       "      <td>False</td>\n",
       "      <td>False</td>\n",
       "      <td>True</td>\n",
       "      <td>False</td>\n",
       "      <td>False</td>\n",
       "      <td>False</td>\n",
       "      <td>0</td>\n",
       "      <td>0</td>\n",
       "      <td>0.852261</td>\n",
       "      <td>2</td>\n",
       "      <td>2</td>\n",
       "      <td>1</td>\n",
       "      <td>2</td>\n",
       "      <td>0</td>\n",
       "      <td>0</td>\n",
       "      <td>0</td>\n",
       "      <td>0</td>\n",
       "      <td>0</td>\n",
       "    </tr>\n",
       "    <tr>\n",
       "      <th>7</th>\n",
       "      <td>44812</td>\n",
       "      <td>7</td>\n",
       "      <td>value_scantronReading</td>\n",
       "      <td>False</td>\n",
       "      <td>0.436696</td>\n",
       "      <td>False</td>\n",
       "      <td>False</td>\n",
       "      <td>False</td>\n",
       "      <td>False</td>\n",
       "      <td>False</td>\n",
       "      <td>False</td>\n",
       "      <td>False</td>\n",
       "      <td>False</td>\n",
       "      <td>False</td>\n",
       "      <td>0</td>\n",
       "      <td>0</td>\n",
       "      <td>0.655506</td>\n",
       "      <td>0</td>\n",
       "      <td>0</td>\n",
       "      <td>0</td>\n",
       "      <td>0</td>\n",
       "      <td>0</td>\n",
       "      <td>0</td>\n",
       "      <td>0</td>\n",
       "      <td>0</td>\n",
       "      <td>0</td>\n",
       "    </tr>\n",
       "    <tr>\n",
       "      <th>8</th>\n",
       "      <td>44814</td>\n",
       "      <td>7</td>\n",
       "      <td>value_scantronReading</td>\n",
       "      <td>True</td>\n",
       "      <td>1.012074</td>\n",
       "      <td>False</td>\n",
       "      <td>False</td>\n",
       "      <td>False</td>\n",
       "      <td>False</td>\n",
       "      <td>False</td>\n",
       "      <td>True</td>\n",
       "      <td>False</td>\n",
       "      <td>False</td>\n",
       "      <td>False</td>\n",
       "      <td>0</td>\n",
       "      <td>0</td>\n",
       "      <td>0.998274</td>\n",
       "      <td>2</td>\n",
       "      <td>2</td>\n",
       "      <td>1</td>\n",
       "      <td>2</td>\n",
       "      <td>1</td>\n",
       "      <td>0</td>\n",
       "      <td>0</td>\n",
       "      <td>0</td>\n",
       "      <td>0</td>\n",
       "    </tr>\n",
       "    <tr>\n",
       "      <th>9</th>\n",
       "      <td>44815</td>\n",
       "      <td>6</td>\n",
       "      <td>value_scantronReading</td>\n",
       "      <td>False</td>\n",
       "      <td>0.948086</td>\n",
       "      <td>False</td>\n",
       "      <td>False</td>\n",
       "      <td>False</td>\n",
       "      <td>False</td>\n",
       "      <td>False</td>\n",
       "      <td>True</td>\n",
       "      <td>False</td>\n",
       "      <td>False</td>\n",
       "      <td>False</td>\n",
       "      <td>0</td>\n",
       "      <td>0</td>\n",
       "      <td>0.946146</td>\n",
       "      <td>2</td>\n",
       "      <td>2</td>\n",
       "      <td>2</td>\n",
       "      <td>2</td>\n",
       "      <td>1</td>\n",
       "      <td>0</td>\n",
       "      <td>0</td>\n",
       "      <td>0</td>\n",
       "      <td>0</td>\n",
       "    </tr>\n",
       "  </tbody>\n",
       "</table>\n",
       "</div>"
      ],
      "text/plain": [
       "   studentId  level             dataSource  is_proficient  proficient_score  \\\n",
       "0      44777      7  value_scantronReading          False          0.993342   \n",
       "1      44783      7  value_scantronReading          False          0.997179   \n",
       "2      44784      6  value_scantronReading          False          0.947277   \n",
       "3      44807      7  value_scantronReading           True          1.014669   \n",
       "4      44809      7  value_scantronReading          False          0.934665   \n",
       "5      44810      7  value_scantronReading          False          0.924283   \n",
       "6      44811      7  value_scantronReading          False          0.904988   \n",
       "7      44812      7  value_scantronReading          False          0.436696   \n",
       "8      44814      7  value_scantronReading           True          1.012074   \n",
       "9      44815      6  value_scantronReading          False          0.948086   \n",
       "\n",
       "   school_Elementary A  school_Elementary School B  \\\n",
       "0                False                       False   \n",
       "1                False                       False   \n",
       "2                False                       False   \n",
       "3                False                       False   \n",
       "4                False                       False   \n",
       "5                False                       False   \n",
       "6                False                       False   \n",
       "7                False                       False   \n",
       "8                False                       False   \n",
       "9                False                       False   \n",
       "\n",
       "   school_Elementary School E  school_Elementary School F  \\\n",
       "0                       False                       False   \n",
       "1                       False                       False   \n",
       "2                       False                       False   \n",
       "3                       False                       False   \n",
       "4                       False                       False   \n",
       "5                       False                       False   \n",
       "6                       False                       False   \n",
       "7                       False                       False   \n",
       "8                       False                       False   \n",
       "9                       False                       False   \n",
       "\n",
       "   school_Intermediate School E  school_Middle School A  \\\n",
       "0                         False                    True   \n",
       "1                         False                    True   \n",
       "2                         False                    True   \n",
       "3                         False                    True   \n",
       "4                         False                    True   \n",
       "5                         False                    True   \n",
       "6                         False                    True   \n",
       "7                         False                   False   \n",
       "8                         False                    True   \n",
       "9                         False                    True   \n",
       "\n",
       "   school_Middle School C  school_Middle School D  school_Middle School F  \\\n",
       "0                   False                   False                   False   \n",
       "1                   False                   False                   False   \n",
       "2                   False                   False                   False   \n",
       "3                   False                   False                   False   \n",
       "4                   False                   False                   False   \n",
       "5                   False                   False                   False   \n",
       "6                   False                   False                   False   \n",
       "7                   False                   False                   False   \n",
       "8                   False                   False                   False   \n",
       "9                   False                   False                   False   \n",
       "\n",
       "   iready_math  iready_reading  past_proficient_score  subject_math  \\\n",
       "0            0               0               0.969279             2   \n",
       "1            0               0               1.009665             2   \n",
       "2            0               0               0.934354             2   \n",
       "3            0               0               1.028650             2   \n",
       "4            0               0               0.949085             2   \n",
       "5            0               0               0.915602             2   \n",
       "6            0               0               0.852261             2   \n",
       "7            0               0               0.655506             0   \n",
       "8            0               0               0.998274             2   \n",
       "9            0               0               0.946146             2   \n",
       "\n",
       "   subject_reading  subject_science  subject_social-studies  subject_music  \\\n",
       "0                2                2                       2              1   \n",
       "1                2                2                       1              0   \n",
       "2                2                2                       2              1   \n",
       "3                2                1                       2              0   \n",
       "4                2                2                       2              1   \n",
       "5                2                2                       2              1   \n",
       "6                2                1                       2              0   \n",
       "7                0                0                       0              0   \n",
       "8                2                1                       2              1   \n",
       "9                2                2                       2              1   \n",
       "\n",
       "   subject_art  subject_performing-arts  subject_phys-ed  subject_career-prep  \n",
       "0            0                        0                0                    0  \n",
       "1            0                        0                0                    0  \n",
       "2            0                        0                0                    0  \n",
       "3            0                        0                0                    0  \n",
       "4            0                        0                0                    0  \n",
       "5            0                        0                0                    0  \n",
       "6            0                        0                0                    0  \n",
       "7            0                        0                0                    0  \n",
       "8            0                        0                0                    0  \n",
       "9            0                        0                0                    0  "
      ]
     },
     "execution_count": 20,
     "metadata": {},
     "output_type": "execute_result"
    }
   ],
   "source": [
    "scantron_reading38_encoded_df.head(10)"
   ]
  },
  {
   "cell_type": "code",
   "execution_count": 21,
   "metadata": {},
   "outputs": [
    {
     "data": {
      "text/plain": [
       "studentId                         int64\n",
       "level                             int64\n",
       "dataSource                       object\n",
       "is_proficient                      bool\n",
       "proficient_score                float64\n",
       "school_Elementary A                bool\n",
       "school_Elementary School B         bool\n",
       "school_Elementary School E         bool\n",
       "school_Elementary School F         bool\n",
       "school_Intermediate School E       bool\n",
       "school_Middle School A             bool\n",
       "school_Middle School C             bool\n",
       "school_Middle School D             bool\n",
       "school_Middle School F             bool\n",
       "iready_math                       int64\n",
       "iready_reading                    int64\n",
       "past_proficient_score           float64\n",
       "subject_math                      int64\n",
       "subject_reading                   int64\n",
       "subject_science                   int64\n",
       "subject_social-studies            int64\n",
       "subject_music                     int64\n",
       "subject_art                       int64\n",
       "subject_performing-arts           int64\n",
       "subject_phys-ed                   int64\n",
       "subject_career-prep               int64\n",
       "dtype: object"
      ]
     },
     "execution_count": 21,
     "metadata": {},
     "output_type": "execute_result"
    }
   ],
   "source": [
    "scantron_reading38_encoded_df.dtypes"
   ]
  },
  {
   "cell_type": "code",
   "execution_count": 22,
   "metadata": {},
   "outputs": [
    {
     "data": {
      "text/plain": [
       "studentId                         int64\n",
       "level                             int64\n",
       "dataSource                       object\n",
       "is_proficient                     int64\n",
       "proficient_score                float64\n",
       "school_Elementary A               int64\n",
       "school_Elementary School B        int64\n",
       "school_Elementary School E        int64\n",
       "school_Elementary School F        int64\n",
       "school_Intermediate School E      int64\n",
       "school_Middle School A            int64\n",
       "school_Middle School C            int64\n",
       "school_Middle School D            int64\n",
       "school_Middle School F            int64\n",
       "iready_math                       int64\n",
       "iready_reading                    int64\n",
       "past_proficient_score           float64\n",
       "subject_math                      int64\n",
       "subject_reading                   int64\n",
       "subject_science                   int64\n",
       "subject_social-studies            int64\n",
       "subject_music                     int64\n",
       "subject_art                       int64\n",
       "subject_performing-arts           int64\n",
       "subject_phys-ed                   int64\n",
       "subject_career-prep               int64\n",
       "dtype: object"
      ]
     },
     "execution_count": 22,
     "metadata": {},
     "output_type": "execute_result"
    }
   ],
   "source": [
    "#turning bools in one hot encoded rows to 0 and 1\n",
    "scantron_reading38_encoded_df[scantron_reading38_encoded_df.select_dtypes(include=['bool']).columns] = scantron_reading38_encoded_df.select_dtypes(include=['bool']).astype(int)\n",
    "scantron_reading38_encoded_df.dtypes"
   ]
  },
  {
   "cell_type": "code",
   "execution_count": 23,
   "metadata": {},
   "outputs": [
    {
     "name": "stdout",
     "output_type": "stream",
     "text": [
      "studentId                          0\n",
      "level                              0\n",
      "dataSource                         0\n",
      "is_proficient                      0\n",
      "proficient_score                   0\n",
      "school_Elementary A                0\n",
      "school_Elementary School B         0\n",
      "school_Elementary School E         0\n",
      "school_Elementary School F         0\n",
      "school_Intermediate School E       0\n",
      "school_Middle School A             0\n",
      "school_Middle School C             0\n",
      "school_Middle School D             0\n",
      "school_Middle School F             0\n",
      "iready_math                        0\n",
      "iready_reading                     0\n",
      "past_proficient_score           5280\n",
      "subject_math                       0\n",
      "subject_reading                    0\n",
      "subject_science                    0\n",
      "subject_social-studies             0\n",
      "subject_music                      0\n",
      "subject_art                        0\n",
      "subject_performing-arts            0\n",
      "subject_phys-ed                    0\n",
      "subject_career-prep                0\n",
      "dtype: int64\n"
     ]
    }
   ],
   "source": [
    "print(scantron_reading38_encoded_df.isnull().sum())  "
   ]
  },
  {
   "cell_type": "code",
   "execution_count": 24,
   "metadata": {},
   "outputs": [
    {
     "name": "stdout",
     "output_type": "stream",
     "text": [
      "studentId                       0\n",
      "level                           0\n",
      "dataSource                      0\n",
      "is_proficient                   0\n",
      "proficient_score                0\n",
      "school_Elementary A             0\n",
      "school_Elementary School B      0\n",
      "school_Elementary School E      0\n",
      "school_Elementary School F      0\n",
      "school_Intermediate School E    0\n",
      "school_Middle School A          0\n",
      "school_Middle School C          0\n",
      "school_Middle School D          0\n",
      "school_Middle School F          0\n",
      "iready_math                     0\n",
      "iready_reading                  0\n",
      "past_proficient_score           0\n",
      "subject_math                    0\n",
      "subject_reading                 0\n",
      "subject_science                 0\n",
      "subject_social-studies          0\n",
      "subject_music                   0\n",
      "subject_art                     0\n",
      "subject_performing-arts         0\n",
      "subject_phys-ed                 0\n",
      "subject_career-prep             0\n",
      "dtype: int64\n"
     ]
    }
   ],
   "source": [
    "#dropping rows that are missing past proficient score\n",
    "scantron_reading38_encoded_df = scantron_reading38_encoded_df.dropna(subset=['past_proficient_score'])\n",
    "print(scantron_reading38_encoded_df.isnull().sum()) "
   ]
  },
  {
   "cell_type": "code",
   "execution_count": 25,
   "metadata": {},
   "outputs": [
    {
     "name": "stdout",
     "output_type": "stream",
     "text": [
      "Number of examples: 15180\n",
      "(10626, 21)\n",
      "(4554, 21)\n"
     ]
    }
   ],
   "source": [
    "y_Read38En = scantron_reading38_encoded_df['proficient_score']\n",
    "X_Read38En= scantron_reading38_encoded_df.drop(['proficient_score','is_proficient','studentId','dataSource','level'],  axis=1)\n",
    "print(\"Number of examples: \" + str(X_Read38En.shape[0]))\n",
    "X_train_Read38En,X_test_Read38En, y_train_Read38En,y_test_Read38En = train_test_split(X_Read38En,y_Read38En, test_size=0.30, random_state=123)\n",
    "print(X_train_Read38En.shape)\n",
    "print(X_test_Read38En.shape)"
   ]
  },
  {
   "cell_type": "code",
   "execution_count": 26,
   "metadata": {},
   "outputs": [
    {
     "name": "stdout",
     "output_type": "stream",
     "text": [
      "Running Grid Search\n",
      "Done\n"
     ]
    },
    {
     "data": {
      "text/plain": [
       "{'max_depth': 8, 'min_samples_leaf': 10}"
      ]
     },
     "execution_count": 26,
     "metadata": {},
     "output_type": "execute_result"
    }
   ],
   "source": [
    "#setting up the param grid, possible hyperparameter for max_depth and min_samples_leaf\n",
    "max_depth_values_Read38En = [8,12,25,32]\n",
    "min_samples_leaf_values_Read38En = [4,5,8,10]\n",
    "param_grid_Read38En = {'max_depth' : list(max_depth_values_Read38En), 'min_samples_leaf' : list(min_samples_leaf_values_Read38En)}\n",
    "\n",
    "#Grid Search to find the best hyperparameters \n",
    "print(\"Running Grid Search\")\n",
    "dt_regressor_Read38En = DecisionTreeRegressor()\n",
    "\n",
    "# will have a 3-fold cross validation \n",
    "dt_grid_Read38En = GridSearchCV(dt_regressor_Read38En, param_grid_Read38En, cv=3, scoring='neg_root_mean_squared_error')\n",
    "dt_grid_search_Read38En = dt_grid_Read38En.fit(X_train_Read38En, y_train_Read38En)\n",
    "\n",
    "print(\"Done\")\n",
    "dt_best_params_Read38En = dt_grid_search_Read38En.best_params_\n",
    "\n",
    "dt_best_params_Read38En\n",
    "\n",
    "#{'max_depth': 8, 'min_samples_leaf': 10}\n"
   ]
  },
  {
   "cell_type": "code",
   "execution_count": 27,
   "metadata": {},
   "outputs": [
    {
     "name": "stdout",
     "output_type": "stream",
     "text": [
      "threshold= 1\n",
      "\n",
      "Classification Report:\n",
      "              precision    recall  f1-score   support\n",
      "\n",
      "       False       0.89      0.91      0.90      2782\n",
      "        True       0.85      0.82      0.83      1772\n",
      "\n",
      "    accuracy                           0.87      4554\n",
      "   macro avg       0.87      0.86      0.86      4554\n",
      "weighted avg       0.87      0.87      0.87      4554\n",
      "\n",
      "[DT] Root Mean Squared Error: 0.0701822160720789\n",
      "[DT] R2: 0.6001496523675779\n"
     ]
    },
    {
     "name": "stderr",
     "output_type": "stream",
     "text": [
      "c:\\Users\\lmmag\\AppData\\Local\\Programs\\Python\\Python39\\lib\\site-packages\\sklearn\\metrics\\_regression.py:492: FutureWarning: 'squared' is deprecated in version 1.4 and will be removed in 1.6. To calculate the root mean squared error, use the function'root_mean_squared_error'.\n",
      "  warnings.warn(\n"
     ]
    }
   ],
   "source": [
    "dt_model_Read38En = DecisionTreeRegressor(max_depth=8, min_samples_leaf=10)\n",
    "dt_model_Read38En.fit(X_train_Read38En,y_train_Read38En)\n",
    "\n",
    "#testing model on the X_test\n",
    "y_dt_pred_Read38En = dt_model_Read38En.predict(X_test_Read38En)\n",
    "dt_rmse_Read38En = mean_squared_error(y_test_Read38En,y_dt_pred_Read38En,squared=False)\n",
    "dt_r2_Read38En= r2_score(y_test_Read38En,y_dt_pred_Read38En)\n",
    "\n",
    "#trying to get f1 and accuracy score \n",
    "threshold = 1\n",
    "y_pred_read_bool = y_dt_pred_Read38En >= threshold\n",
    "y_test_read_bool = y_test_Read38En >= threshold\n",
    "\n",
    "print(\"threshold=\", threshold)\n",
    "# Print the classification report\n",
    "print(\"\\nClassification Report:\")\n",
    "print(classification_report(y_test_read_bool, y_pred_read_bool))\n",
    "\n",
    "print('[DT] Root Mean Squared Error: {0}'.format(dt_rmse_Read38En))\n",
    "print('[DT] R2: {0}'.format(dt_r2_Read38En))\n",
    "#extracting from classification report for bar graph\n",
    "report = classification_report(y_test_read_bool, y_pred_read_bool, output_dict=True)\n",
    "\n",
    "# Extract accuracy from the report dictionary\n",
    "accuracy = report['accuracy']\n",
    "\n",
    "# Extract other metrics you want to plot, like precision and recall for the \"True\" class\n",
    "precision_true = report['True']['precision']\n",
    "recall_true = report['True']['recall']"
   ]
  },
  {
   "cell_type": "code",
   "execution_count": 28,
   "metadata": {},
   "outputs": [
    {
     "name": "stdout",
     "output_type": "stream",
     "text": [
      "Micro F1 Score: 0.8722002635046113\n"
     ]
    }
   ],
   "source": [
    "#looking at the micro score\n",
    "micro_f1 = f1_score(y_test_read_bool, y_pred_read_bool, average='micro')\n",
    "\n",
    "print(\"Micro F1 Score:\", micro_f1)"
   ]
  },
  {
   "cell_type": "code",
   "execution_count": 29,
   "metadata": {},
   "outputs": [
    {
     "data": {
      "image/png": "[encoded data removed]",
      "text/plain": [
       "<Figure size 600x400 with 1 Axes>"
      ]
     },
     "metadata": {},
     "output_type": "display_data"
    }
   ],
   "source": [
    "metrics = ['RMSE', 'R2', 'Precision', 'Recall', 'Accuracy', 'Micro F1']\n",
    "values = [dt_rmse_Read38En,dt_r2_Read38En,precision_true,recall_true,accuracy,micro_f1]\n",
    "\n",
    "rounded_values = [round(value, 2) for value in values]\n",
    "\n",
    "# Get a pastel color palette\n",
    "pastel_colors = sns.color_palette(\"pastel\", len(metrics))\n",
    "\n",
    "# Plot the bar chart with pastel colors\n",
    "fig, ax = plt.subplots(figsize=(6, 4))\n",
    "bars = ax.bar(metrics, rounded_values, color=pastel_colors)\n",
    "\n",
    "# Add labels directly on top of bars\n",
    "ax.bar_label(bars, padding=3, fontsize=10)  # padding adds space between bar and label\n",
    "ax.set_ylim(0, 1)  # This will ensure the y-axis goes from 0 to 1\n",
    "\n",
    "# Add labels and title\n",
    "ax.set_xlabel('Metrics')\n",
    "ax.set_ylabel('Scores')\n",
    "ax.set_title('Model Performance')\n",
    "\n",
    "# Display the plot\n",
    "plt.show()"
   ]
  },
  {
   "cell_type": "code",
   "execution_count": 30,
   "metadata": {},
   "outputs": [
    {
     "name": "stdout",
     "output_type": "stream",
     "text": [
      "Confusion Matrix:\n",
      "[[2520  262]\n",
      " [ 320 1452]]\n"
     ]
    },
    {
     "data": {
      "image/png": "[encoded data removed]",
      "text/plain": [
       "<Figure size 640x480 with 2 Axes>"
      ]
     },
     "metadata": {},
     "output_type": "display_data"
    }
   ],
   "source": [
    "cm = confusion_matrix(y_test_read_bool, y_pred_read_bool)\n",
    "\n",
    "# Print the confusion matrix\n",
    "print(\"Confusion Matrix:\")\n",
    "print(cm)\n",
    "\n",
    "# Optionally, plot the confusion matrix using seaborn heatmap for better visualization\n",
    "sns.heatmap(cm, annot=True, fmt=\"d\", cmap=\"Blues\", xticklabels=[\"Not Proficient\", \"Proficient\"], yticklabels=[\"Not Proficient\", \"Proficient\"])\n",
    "plt.xlabel('Predicted')\n",
    "plt.ylabel('Actual')\n",
    "plt.title('Confusion Matrix')\n",
    "plt.show()"
   ]
  },
  {
   "cell_type": "markdown",
   "metadata": {},
   "source": [
    "Feature Importance"
   ]
  },
  {
   "cell_type": "code",
   "execution_count": 31,
   "metadata": {},
   "outputs": [
    {
     "name": "stdout",
     "output_type": "stream",
     "text": [
      "                         Feature  Importance\n",
      "11         past_proficient_score    0.980743\n",
      "15        subject_social-studies    0.009321\n",
      "3     school_Elementary School F    0.002366\n",
      "9                    iready_math    0.001965\n",
      "19               subject_phys-ed    0.001909\n",
      "8         school_Middle School F    0.000992\n",
      "5         school_Middle School A    0.000581\n",
      "7         school_Middle School D    0.000532\n",
      "4   school_Intermediate School E    0.000476\n",
      "2     school_Elementary School E    0.000433\n",
      "14               subject_science    0.000351\n",
      "1     school_Elementary School B    0.000133\n",
      "6         school_Middle School C    0.000119\n",
      "12                  subject_math    0.000080\n",
      "0            school_Elementary A    0.000000\n",
      "10                iready_reading    0.000000\n",
      "13               subject_reading    0.000000\n",
      "16                 subject_music    0.000000\n",
      "17                   subject_art    0.000000\n",
      "18       subject_performing-arts    0.000000\n",
      "20           subject_career-prep    0.000000\n"
     ]
    }
   ],
   "source": [
    "importances = dt_model_Read38En.feature_importances_\n",
    "feature_names = X_train_Read38En.columns\n",
    "\n",
    "# Combine names and importances, and sort\n",
    "importance_dfRead = pd.DataFrame({'Feature': feature_names, 'Importance': importances})\n",
    "importance_dfRead= importance_dfRead.sort_values(by='Importance', ascending=False)\n",
    "\n",
    "# Display the sorted DataFrame\n",
    "print(importance_dfRead)"
   ]
  },
  {
   "cell_type": "code",
   "execution_count": 32,
   "metadata": {},
   "outputs": [
    {
     "data": {
      "text/html": [
       "<div>\n",
       "<style scoped>\n",
       "    .dataframe tbody tr th:only-of-type {\n",
       "        vertical-align: middle;\n",
       "    }\n",
       "\n",
       "    .dataframe tbody tr th {\n",
       "        vertical-align: top;\n",
       "    }\n",
       "\n",
       "    .dataframe thead th {\n",
       "        text-align: right;\n",
       "    }\n",
       "</style>\n",
       "<table border=\"1\" class=\"dataframe\">\n",
       "  <thead>\n",
       "    <tr style=\"text-align: right;\">\n",
       "      <th></th>\n",
       "      <th>Feature</th>\n",
       "      <th>Importance</th>\n",
       "    </tr>\n",
       "  </thead>\n",
       "  <tbody>\n",
       "    <tr>\n",
       "      <th>11</th>\n",
       "      <td>past_proficient_score</td>\n",
       "      <td>0.980743</td>\n",
       "    </tr>\n",
       "    <tr>\n",
       "      <th>15</th>\n",
       "      <td>subject_social-studies</td>\n",
       "      <td>0.009321</td>\n",
       "    </tr>\n",
       "    <tr>\n",
       "      <th>3</th>\n",
       "      <td>school_Elementary School F</td>\n",
       "      <td>0.002366</td>\n",
       "    </tr>\n",
       "    <tr>\n",
       "      <th>9</th>\n",
       "      <td>iready_math</td>\n",
       "      <td>0.001965</td>\n",
       "    </tr>\n",
       "    <tr>\n",
       "      <th>19</th>\n",
       "      <td>subject_phys-ed</td>\n",
       "      <td>0.001909</td>\n",
       "    </tr>\n",
       "    <tr>\n",
       "      <th>8</th>\n",
       "      <td>school_Middle School F</td>\n",
       "      <td>0.000992</td>\n",
       "    </tr>\n",
       "    <tr>\n",
       "      <th>5</th>\n",
       "      <td>school_Middle School A</td>\n",
       "      <td>0.000581</td>\n",
       "    </tr>\n",
       "    <tr>\n",
       "      <th>7</th>\n",
       "      <td>school_Middle School D</td>\n",
       "      <td>0.000532</td>\n",
       "    </tr>\n",
       "    <tr>\n",
       "      <th>4</th>\n",
       "      <td>school_Intermediate School E</td>\n",
       "      <td>0.000476</td>\n",
       "    </tr>\n",
       "    <tr>\n",
       "      <th>2</th>\n",
       "      <td>school_Elementary School E</td>\n",
       "      <td>0.000433</td>\n",
       "    </tr>\n",
       "  </tbody>\n",
       "</table>\n",
       "</div>"
      ],
      "text/plain": [
       "                         Feature  Importance\n",
       "11         past_proficient_score    0.980743\n",
       "15        subject_social-studies    0.009321\n",
       "3     school_Elementary School F    0.002366\n",
       "9                    iready_math    0.001965\n",
       "19               subject_phys-ed    0.001909\n",
       "8         school_Middle School F    0.000992\n",
       "5         school_Middle School A    0.000581\n",
       "7         school_Middle School D    0.000532\n",
       "4   school_Intermediate School E    0.000476\n",
       "2     school_Elementary School E    0.000433"
      ]
     },
     "execution_count": 32,
     "metadata": {},
     "output_type": "execute_result"
    }
   ],
   "source": [
    "importance_dfRead.head(10)"
   ]
  },
  {
   "cell_type": "markdown",
   "metadata": {},
   "source": [
    "SHAP"
   ]
  },
  {
   "cell_type": "code",
   "execution_count": 33,
   "metadata": {},
   "outputs": [],
   "source": [
    "import shap"
   ]
  },
  {
   "cell_type": "code",
   "execution_count": 34,
   "metadata": {},
   "outputs": [
    {
     "ename": "ValueError",
     "evalue": "Index data must be 1-dimensional",
     "output_type": "error",
     "traceback": [
      "\u001b[1;31m---------------------------------------------------------------------------\u001b[0m",
      "\u001b[1;31mValueError\u001b[0m                                Traceback (most recent call last)",
      "File \u001b[1;32mc:\\Users\\lmmag\\AppData\\Local\\Programs\\Python\\Python39\\lib\\site-packages\\pandas\\core\\indexes\\base.py:565\u001b[0m, in \u001b[0;36mIndex.__new__\u001b[1;34m(cls, data, dtype, copy, name, tupleize_cols)\u001b[0m\n\u001b[0;32m    564\u001b[0m \u001b[38;5;28;01mtry\u001b[39;00m:\n\u001b[1;32m--> 565\u001b[0m     arr \u001b[38;5;241m=\u001b[39m \u001b[43msanitize_array\u001b[49m\u001b[43m(\u001b[49m\u001b[43mdata\u001b[49m\u001b[43m,\u001b[49m\u001b[43m \u001b[49m\u001b[38;5;28;43;01mNone\u001b[39;49;00m\u001b[43m,\u001b[49m\u001b[43m \u001b[49m\u001b[43mdtype\u001b[49m\u001b[38;5;241;43m=\u001b[39;49m\u001b[43mdtype\u001b[49m\u001b[43m,\u001b[49m\u001b[43m \u001b[49m\u001b[43mcopy\u001b[49m\u001b[38;5;241;43m=\u001b[39;49m\u001b[43mcopy\u001b[49m\u001b[43m)\u001b[49m\n\u001b[0;32m    566\u001b[0m \u001b[38;5;28;01mexcept\u001b[39;00m \u001b[38;5;167;01mValueError\u001b[39;00m \u001b[38;5;28;01mas\u001b[39;00m err:\n",
      "File \u001b[1;32mc:\\Users\\lmmag\\AppData\\Local\\Programs\\Python\\Python39\\lib\\site-packages\\pandas\\core\\construction.py:659\u001b[0m, in \u001b[0;36msanitize_array\u001b[1;34m(data, index, dtype, copy, allow_2d)\u001b[0m\n\u001b[0;32m    657\u001b[0m             subarr \u001b[38;5;241m=\u001b[39m maybe_infer_to_datetimelike(subarr)\n\u001b[1;32m--> 659\u001b[0m subarr \u001b[38;5;241m=\u001b[39m \u001b[43m_sanitize_ndim\u001b[49m\u001b[43m(\u001b[49m\u001b[43msubarr\u001b[49m\u001b[43m,\u001b[49m\u001b[43m \u001b[49m\u001b[43mdata\u001b[49m\u001b[43m,\u001b[49m\u001b[43m \u001b[49m\u001b[43mdtype\u001b[49m\u001b[43m,\u001b[49m\u001b[43m \u001b[49m\u001b[43mindex\u001b[49m\u001b[43m,\u001b[49m\u001b[43m \u001b[49m\u001b[43mallow_2d\u001b[49m\u001b[38;5;241;43m=\u001b[39;49m\u001b[43mallow_2d\u001b[49m\u001b[43m)\u001b[49m\n\u001b[0;32m    661\u001b[0m \u001b[38;5;28;01mif\u001b[39;00m \u001b[38;5;28misinstance\u001b[39m(subarr, np\u001b[38;5;241m.\u001b[39mndarray):\n\u001b[0;32m    662\u001b[0m     \u001b[38;5;66;03m# at this point we should have dtype be None or subarr.dtype == dtype\u001b[39;00m\n",
      "File \u001b[1;32mc:\\Users\\lmmag\\AppData\\Local\\Programs\\Python\\Python39\\lib\\site-packages\\pandas\\core\\construction.py:718\u001b[0m, in \u001b[0;36m_sanitize_ndim\u001b[1;34m(result, data, dtype, index, allow_2d)\u001b[0m\n\u001b[0;32m    717\u001b[0m         \u001b[38;5;28;01mreturn\u001b[39;00m result\n\u001b[1;32m--> 718\u001b[0m     \u001b[38;5;28;01mraise\u001b[39;00m \u001b[38;5;167;01mValueError\u001b[39;00m(\n\u001b[0;32m    719\u001b[0m         \u001b[38;5;124mf\u001b[39m\u001b[38;5;124m\"\u001b[39m\u001b[38;5;124mData must be 1-dimensional, got ndarray of shape \u001b[39m\u001b[38;5;132;01m{\u001b[39;00mdata\u001b[38;5;241m.\u001b[39mshape\u001b[38;5;132;01m}\u001b[39;00m\u001b[38;5;124m instead\u001b[39m\u001b[38;5;124m\"\u001b[39m\n\u001b[0;32m    720\u001b[0m     )\n\u001b[0;32m    721\u001b[0m \u001b[38;5;28;01mif\u001b[39;00m is_object_dtype(dtype) \u001b[38;5;129;01mand\u001b[39;00m \u001b[38;5;28misinstance\u001b[39m(dtype, ExtensionDtype):\n\u001b[0;32m    722\u001b[0m     \u001b[38;5;66;03m# i.e. NumpyEADtype(\"O\")\u001b[39;00m\n",
      "\u001b[1;31mValueError\u001b[0m: Data must be 1-dimensional, got ndarray of shape (4554, 21) instead",
      "\nThe above exception was the direct cause of the following exception:\n",
      "\u001b[1;31mValueError\u001b[0m                                Traceback (most recent call last)",
      "Cell \u001b[1;32mIn[34], line 3\u001b[0m\n\u001b[0;32m      1\u001b[0m explainer \u001b[38;5;241m=\u001b[39m shap\u001b[38;5;241m.\u001b[39mExplainer(dt_model_Read38En)\n\u001b[0;32m      2\u001b[0m shap_test \u001b[38;5;241m=\u001b[39m explainer(X_test_Read38En)\n\u001b[1;32m----> 3\u001b[0m shap_df \u001b[38;5;241m=\u001b[39m \u001b[43mpd\u001b[49m\u001b[38;5;241;43m.\u001b[39;49m\u001b[43mDataFrame\u001b[49m\u001b[43m(\u001b[49m\u001b[43mshap_test\u001b[49m\u001b[38;5;241;43m.\u001b[39;49m\u001b[43mvalues\u001b[49m\u001b[43m,\u001b[49m\u001b[43m \u001b[49m\u001b[43mcolumns\u001b[49m\u001b[38;5;241;43m=\u001b[39;49m\u001b[43mshap_test\u001b[49m\u001b[38;5;241;43m.\u001b[39;49m\u001b[43mfeature_names\u001b[49m\u001b[43m,\u001b[49m\n\u001b[0;32m      4\u001b[0m \u001b[43m  \u001b[49m\u001b[43mindex\u001b[49m\u001b[38;5;241;43m=\u001b[39;49m\u001b[43mX_test_Read38En\u001b[49m\u001b[43m)\u001b[49m\n\u001b[0;32m      5\u001b[0m \u001b[38;5;66;03m# Fetch the importances\u001b[39;00m\n\u001b[0;32m      6\u001b[0m shap_df \u001b[38;5;241m=\u001b[39m shap_df\u001b[38;5;241m.\u001b[39mapply(np\u001b[38;5;241m.\u001b[39mabs)\u001b[38;5;241m.\u001b[39mmean()\u001b[38;5;241m.\u001b[39msort_values(ascending\u001b[38;5;241m=\u001b[39m\u001b[38;5;28;01mFalse\u001b[39;00m)\n",
      "File \u001b[1;32mc:\\Users\\lmmag\\AppData\\Local\\Programs\\Python\\Python39\\lib\\site-packages\\pandas\\core\\frame.py:827\u001b[0m, in \u001b[0;36mDataFrame.__init__\u001b[1;34m(self, data, index, columns, dtype, copy)\u001b[0m\n\u001b[0;32m    816\u001b[0m         mgr \u001b[38;5;241m=\u001b[39m dict_to_mgr(\n\u001b[0;32m    817\u001b[0m             \u001b[38;5;66;03m# error: Item \"ndarray\" of \"Union[ndarray, Series, Index]\" has no\u001b[39;00m\n\u001b[0;32m    818\u001b[0m             \u001b[38;5;66;03m# attribute \"name\"\u001b[39;00m\n\u001b[1;32m   (...)\u001b[0m\n\u001b[0;32m    824\u001b[0m             copy\u001b[38;5;241m=\u001b[39m_copy,\n\u001b[0;32m    825\u001b[0m         )\n\u001b[0;32m    826\u001b[0m     \u001b[38;5;28;01melse\u001b[39;00m:\n\u001b[1;32m--> 827\u001b[0m         mgr \u001b[38;5;241m=\u001b[39m \u001b[43mndarray_to_mgr\u001b[49m\u001b[43m(\u001b[49m\n\u001b[0;32m    828\u001b[0m \u001b[43m            \u001b[49m\u001b[43mdata\u001b[49m\u001b[43m,\u001b[49m\n\u001b[0;32m    829\u001b[0m \u001b[43m            \u001b[49m\u001b[43mindex\u001b[49m\u001b[43m,\u001b[49m\n\u001b[0;32m    830\u001b[0m \u001b[43m            \u001b[49m\u001b[43mcolumns\u001b[49m\u001b[43m,\u001b[49m\n\u001b[0;32m    831\u001b[0m \u001b[43m            \u001b[49m\u001b[43mdtype\u001b[49m\u001b[38;5;241;43m=\u001b[39;49m\u001b[43mdtype\u001b[49m\u001b[43m,\u001b[49m\n\u001b[0;32m    832\u001b[0m \u001b[43m            \u001b[49m\u001b[43mcopy\u001b[49m\u001b[38;5;241;43m=\u001b[39;49m\u001b[43mcopy\u001b[49m\u001b[43m,\u001b[49m\n\u001b[0;32m    833\u001b[0m \u001b[43m            \u001b[49m\u001b[43mtyp\u001b[49m\u001b[38;5;241;43m=\u001b[39;49m\u001b[43mmanager\u001b[49m\u001b[43m,\u001b[49m\n\u001b[0;32m    834\u001b[0m \u001b[43m        \u001b[49m\u001b[43m)\u001b[49m\n\u001b[0;32m    836\u001b[0m \u001b[38;5;66;03m# For data is list-like, or Iterable (will consume into list)\u001b[39;00m\n\u001b[0;32m    837\u001b[0m \u001b[38;5;28;01melif\u001b[39;00m is_list_like(data):\n",
      "File \u001b[1;32mc:\\Users\\lmmag\\AppData\\Local\\Programs\\Python\\Python39\\lib\\site-packages\\pandas\\core\\internals\\construction.py:332\u001b[0m, in \u001b[0;36mndarray_to_mgr\u001b[1;34m(values, index, columns, dtype, copy, typ)\u001b[0m\n\u001b[0;32m    323\u001b[0m     values \u001b[38;5;241m=\u001b[39m sanitize_array(\n\u001b[0;32m    324\u001b[0m         values,\n\u001b[0;32m    325\u001b[0m         \u001b[38;5;28;01mNone\u001b[39;00m,\n\u001b[1;32m   (...)\u001b[0m\n\u001b[0;32m    328\u001b[0m         allow_2d\u001b[38;5;241m=\u001b[39m\u001b[38;5;28;01mTrue\u001b[39;00m,\n\u001b[0;32m    329\u001b[0m     )\n\u001b[0;32m    331\u001b[0m \u001b[38;5;66;03m# _prep_ndarraylike ensures that values.ndim == 2 at this point\u001b[39;00m\n\u001b[1;32m--> 332\u001b[0m index, columns \u001b[38;5;241m=\u001b[39m \u001b[43m_get_axes\u001b[49m\u001b[43m(\u001b[49m\n\u001b[0;32m    333\u001b[0m \u001b[43m    \u001b[49m\u001b[43mvalues\u001b[49m\u001b[38;5;241;43m.\u001b[39;49m\u001b[43mshape\u001b[49m\u001b[43m[\u001b[49m\u001b[38;5;241;43m0\u001b[39;49m\u001b[43m]\u001b[49m\u001b[43m,\u001b[49m\u001b[43m \u001b[49m\u001b[43mvalues\u001b[49m\u001b[38;5;241;43m.\u001b[39;49m\u001b[43mshape\u001b[49m\u001b[43m[\u001b[49m\u001b[38;5;241;43m1\u001b[39;49m\u001b[43m]\u001b[49m\u001b[43m,\u001b[49m\u001b[43m \u001b[49m\u001b[43mindex\u001b[49m\u001b[38;5;241;43m=\u001b[39;49m\u001b[43mindex\u001b[49m\u001b[43m,\u001b[49m\u001b[43m \u001b[49m\u001b[43mcolumns\u001b[49m\u001b[38;5;241;43m=\u001b[39;49m\u001b[43mcolumns\u001b[49m\n\u001b[0;32m    334\u001b[0m \u001b[43m\u001b[49m\u001b[43m)\u001b[49m\n\u001b[0;32m    336\u001b[0m _check_values_indices_shape_match(values, index, columns)\n\u001b[0;32m    338\u001b[0m \u001b[38;5;28;01mif\u001b[39;00m typ \u001b[38;5;241m==\u001b[39m \u001b[38;5;124m\"\u001b[39m\u001b[38;5;124marray\u001b[39m\u001b[38;5;124m\"\u001b[39m:\n",
      "File \u001b[1;32mc:\\Users\\lmmag\\AppData\\Local\\Programs\\Python\\Python39\\lib\\site-packages\\pandas\\core\\internals\\construction.py:751\u001b[0m, in \u001b[0;36m_get_axes\u001b[1;34m(N, K, index, columns)\u001b[0m\n\u001b[0;32m    749\u001b[0m     index \u001b[38;5;241m=\u001b[39m default_index(N)\n\u001b[0;32m    750\u001b[0m \u001b[38;5;28;01melse\u001b[39;00m:\n\u001b[1;32m--> 751\u001b[0m     index \u001b[38;5;241m=\u001b[39m \u001b[43mensure_index\u001b[49m\u001b[43m(\u001b[49m\u001b[43mindex\u001b[49m\u001b[43m)\u001b[49m\n\u001b[0;32m    753\u001b[0m \u001b[38;5;28;01mif\u001b[39;00m columns \u001b[38;5;129;01mis\u001b[39;00m \u001b[38;5;28;01mNone\u001b[39;00m:\n\u001b[0;32m    754\u001b[0m     columns \u001b[38;5;241m=\u001b[39m default_index(K)\n",
      "File \u001b[1;32mc:\\Users\\lmmag\\AppData\\Local\\Programs\\Python\\Python39\\lib\\site-packages\\pandas\\core\\indexes\\base.py:7649\u001b[0m, in \u001b[0;36mensure_index\u001b[1;34m(index_like, copy)\u001b[0m\n\u001b[0;32m   7647\u001b[0m         \u001b[38;5;28;01mreturn\u001b[39;00m Index(index_like, copy\u001b[38;5;241m=\u001b[39mcopy, tupleize_cols\u001b[38;5;241m=\u001b[39m\u001b[38;5;28;01mFalse\u001b[39;00m)\n\u001b[0;32m   7648\u001b[0m \u001b[38;5;28;01melse\u001b[39;00m:\n\u001b[1;32m-> 7649\u001b[0m     \u001b[38;5;28;01mreturn\u001b[39;00m \u001b[43mIndex\u001b[49m\u001b[43m(\u001b[49m\u001b[43mindex_like\u001b[49m\u001b[43m,\u001b[49m\u001b[43m \u001b[49m\u001b[43mcopy\u001b[49m\u001b[38;5;241;43m=\u001b[39;49m\u001b[43mcopy\u001b[49m\u001b[43m)\u001b[49m\n",
      "File \u001b[1;32mc:\\Users\\lmmag\\AppData\\Local\\Programs\\Python\\Python39\\lib\\site-packages\\pandas\\core\\indexes\\base.py:528\u001b[0m, in \u001b[0;36mIndex.__new__\u001b[1;34m(cls, data, dtype, copy, name, tupleize_cols)\u001b[0m\n\u001b[0;32m    526\u001b[0m     \u001b[38;5;28;01mraise\u001b[39;00m \u001b[38;5;28mcls\u001b[39m\u001b[38;5;241m.\u001b[39m_raise_scalar_data_error(data)\n\u001b[0;32m    527\u001b[0m \u001b[38;5;28;01melif\u001b[39;00m \u001b[38;5;28mhasattr\u001b[39m(data, \u001b[38;5;124m\"\u001b[39m\u001b[38;5;124m__array__\u001b[39m\u001b[38;5;124m\"\u001b[39m):\n\u001b[1;32m--> 528\u001b[0m     \u001b[38;5;28;01mreturn\u001b[39;00m \u001b[38;5;28;43mcls\u001b[39;49m\u001b[43m(\u001b[49m\u001b[43mnp\u001b[49m\u001b[38;5;241;43m.\u001b[39;49m\u001b[43masarray\u001b[49m\u001b[43m(\u001b[49m\u001b[43mdata\u001b[49m\u001b[43m)\u001b[49m\u001b[43m,\u001b[49m\u001b[43m \u001b[49m\u001b[43mdtype\u001b[49m\u001b[38;5;241;43m=\u001b[39;49m\u001b[43mdtype\u001b[49m\u001b[43m,\u001b[49m\u001b[43m \u001b[49m\u001b[43mcopy\u001b[49m\u001b[38;5;241;43m=\u001b[39;49m\u001b[43mcopy\u001b[49m\u001b[43m,\u001b[49m\u001b[43m \u001b[49m\u001b[43mname\u001b[49m\u001b[38;5;241;43m=\u001b[39;49m\u001b[43mname\u001b[49m\u001b[43m)\u001b[49m\n\u001b[0;32m    529\u001b[0m \u001b[38;5;28;01melif\u001b[39;00m \u001b[38;5;129;01mnot\u001b[39;00m is_list_like(data) \u001b[38;5;129;01mand\u001b[39;00m \u001b[38;5;129;01mnot\u001b[39;00m \u001b[38;5;28misinstance\u001b[39m(data, \u001b[38;5;28mmemoryview\u001b[39m):\n\u001b[0;32m    530\u001b[0m     \u001b[38;5;66;03m# 2022-11-16 the memoryview check is only necessary on some CI\u001b[39;00m\n\u001b[0;32m    531\u001b[0m     \u001b[38;5;66;03m#  builds, not clear why\u001b[39;00m\n\u001b[0;32m    532\u001b[0m     \u001b[38;5;28;01mraise\u001b[39;00m \u001b[38;5;28mcls\u001b[39m\u001b[38;5;241m.\u001b[39m_raise_scalar_data_error(data)\n",
      "File \u001b[1;32mc:\\Users\\lmmag\\AppData\\Local\\Programs\\Python\\Python39\\lib\\site-packages\\pandas\\core\\indexes\\base.py:570\u001b[0m, in \u001b[0;36mIndex.__new__\u001b[1;34m(cls, data, dtype, copy, name, tupleize_cols)\u001b[0m\n\u001b[0;32m    568\u001b[0m         \u001b[38;5;28;01mraise\u001b[39;00m \u001b[38;5;28mcls\u001b[39m\u001b[38;5;241m.\u001b[39m_raise_scalar_data_error(data) \u001b[38;5;28;01mfrom\u001b[39;00m \u001b[38;5;21;01merr\u001b[39;00m\n\u001b[0;32m    569\u001b[0m     \u001b[38;5;28;01mif\u001b[39;00m \u001b[38;5;124m\"\u001b[39m\u001b[38;5;124mData must be 1-dimensional\u001b[39m\u001b[38;5;124m\"\u001b[39m \u001b[38;5;129;01min\u001b[39;00m \u001b[38;5;28mstr\u001b[39m(err):\n\u001b[1;32m--> 570\u001b[0m         \u001b[38;5;28;01mraise\u001b[39;00m \u001b[38;5;167;01mValueError\u001b[39;00m(\u001b[38;5;124m\"\u001b[39m\u001b[38;5;124mIndex data must be 1-dimensional\u001b[39m\u001b[38;5;124m\"\u001b[39m) \u001b[38;5;28;01mfrom\u001b[39;00m \u001b[38;5;21;01merr\u001b[39;00m\n\u001b[0;32m    571\u001b[0m     \u001b[38;5;28;01mraise\u001b[39;00m\n\u001b[0;32m    572\u001b[0m arr \u001b[38;5;241m=\u001b[39m ensure_wrapped_if_datetimelike(arr)\n",
      "\u001b[1;31mValueError\u001b[0m: Index data must be 1-dimensional"
     ]
    }
   ],
   "source": [
    "explainer = shap.Explainer(dt_model_Read38En)\n",
    "shap_test = explainer(X_test_Read38En)\n",
    "shap_df = pd.DataFrame(shap_test.values, columns=shap_test.feature_names,\n",
    "  index=X_test_Read38En)\n",
    "# Fetch the importances\n",
    "shap_df = shap_df.apply(np.abs).mean().sort_values(ascending=False)\n",
    "print(shap_df)"
   ]
  },
  {
   "cell_type": "code",
   "execution_count": null,
   "metadata": {},
   "outputs": [],
   "source": [
    "shap_df.head(25).plot(kind='bar', title='Top 10 Important Features', figsize=(10, 6))\n"
   ]
  },
  {
   "cell_type": "markdown",
   "metadata": {},
   "source": [
    "w/o past_proficient "
   ]
  },
  {
   "cell_type": "code",
   "execution_count": null,
   "metadata": {},
   "outputs": [
    {
     "name": "stdout",
     "output_type": "stream",
     "text": [
      "Number of examples: 15180\n",
      "(10626, 20)\n",
      "(4554, 20)\n"
     ]
    }
   ],
   "source": [
    "y= scantron_reading38_encoded_df['proficient_score']\n",
    "X= scantron_reading38_encoded_df.drop(['proficient_score','is_proficient','studentId','dataSource','level','past_proficient_score'],  axis=1)\n",
    "print(\"Number of examples: \" + str(X.shape[0]))\n",
    "X_train,X_test, y_train,y_test = train_test_split(X,y, test_size=0.30, random_state=123)\n",
    "print(X_train.shape)\n",
    "print(X_test.shape)"
   ]
  },
  {
   "cell_type": "code",
   "execution_count": null,
   "metadata": {},
   "outputs": [
    {
     "name": "stdout",
     "output_type": "stream",
     "text": [
      "Running Grid Search\n",
      "Done\n"
     ]
    },
    {
     "data": {
      "text/plain": [
       "{'max_depth': 8, 'min_samples_leaf': 10}"
      ]
     },
     "execution_count": 15,
     "metadata": {},
     "output_type": "execute_result"
    }
   ],
   "source": [
    "#setting up the param grid, possible hyperparameter for max_depth and min_samples_leaf\n",
    "max_depth_values = [8,12,25,32]\n",
    "min_samples_leaf = [4,5,8,10]\n",
    "param_grid = {'max_depth' : list(max_depth_values), 'min_samples_leaf' : list(min_samples_leaf)}\n",
    "\n",
    "#Grid Search to find the best hyperparameters \n",
    "print(\"Running Grid Search\")\n",
    "dt_regressor = DecisionTreeRegressor()\n",
    "\n",
    "# will have a 3-fold cross validation \n",
    "dt_grid = GridSearchCV(dt_regressor, param_grid, cv=3, scoring='neg_root_mean_squared_error')\n",
    "dt_grid_search = dt_grid.fit(X_train, y_train)\n",
    "\n",
    "print(\"Done\")\n",
    "dt_best_params = dt_grid_search.best_params_\n",
    "\n",
    "dt_best_params_Read38En\n",
    "#{'max_depth': 8, 'min_samples_leaf': 10}"
   ]
  },
  {
   "cell_type": "code",
   "execution_count": null,
   "metadata": {},
   "outputs": [
    {
     "name": "stdout",
     "output_type": "stream",
     "text": [
      "threshold= 1\n",
      "\n",
      "Classification Report:\n",
      "              precision    recall  f1-score   support\n",
      "\n",
      "       False       0.61      1.00      0.76      2782\n",
      "        True       0.65      0.01      0.02      1772\n",
      "\n",
      "    accuracy                           0.61      4554\n",
      "   macro avg       0.63      0.50      0.39      4554\n",
      "weighted avg       0.63      0.61      0.47      4554\n",
      "\n",
      "[DT] Root Mean Squared Error: 0.11063940132889917\n",
      "[DT] R2: 0.006282455670397424\n"
     ]
    },
    {
     "name": "stderr",
     "output_type": "stream",
     "text": [
      "c:\\Users\\lmmag\\AppData\\Local\\Programs\\Python\\Python39\\lib\\site-packages\\sklearn\\metrics\\_regression.py:492: FutureWarning: 'squared' is deprecated in version 1.4 and will be removed in 1.6. To calculate the root mean squared error, use the function'root_mean_squared_error'.\n",
      "  warnings.warn(\n"
     ]
    }
   ],
   "source": [
    "dt_model = DecisionTreeRegressor(max_depth=8, min_samples_leaf=10)\n",
    "dt_model.fit(X_train,y_train)\n",
    "\n",
    "#testing model on the X_test\n",
    "y_dt_pred = dt_model.predict(X_test)\n",
    "dt_rmse = mean_squared_error(y_test,y_dt_pred,squared=False)\n",
    "dt_r2= r2_score(y_test,y_dt_pred)\n",
    "\n",
    "#trying to get f1 and accuracy score \n",
    "threshold = 1\n",
    "y_pred_bool = y_dt_pred >= threshold\n",
    "y_test_bool = y_test >= threshold\n",
    "\n",
    "print(\"threshold=\", threshold)\n",
    "# Print the classification report\n",
    "print(\"\\nClassification Report:\")\n",
    "print(classification_report(y_test_bool, y_pred_bool))\n",
    "\n",
    "print('[DT] Root Mean Squared Error: {0}'.format(dt_rmse))\n",
    "print('[DT] R2: {0}'.format(dt_r2))"
   ]
  },
  {
   "cell_type": "code",
   "execution_count": null,
   "metadata": {},
   "outputs": [
    {
     "name": "stdout",
     "output_type": "stream",
     "text": [
      "Micro F1 Score: 0.6128678085199825\n"
     ]
    }
   ],
   "source": [
    "#looking at the micro score\n",
    "micro_f1 = f1_score(y_test_bool, y_pred_bool, average='micro')\n",
    "\n",
    "print(\"Micro F1 Score:\", micro_f1)"
   ]
  },
  {
   "cell_type": "code",
   "execution_count": null,
   "metadata": {},
   "outputs": [
    {
     "name": "stdout",
     "output_type": "stream",
     "text": [
      "                         Feature  Importance\n",
      "9                    iready_math    0.221414\n",
      "15                 subject_music    0.128227\n",
      "5         school_Middle School A    0.126291\n",
      "2     school_Elementary School E    0.123212\n",
      "12               subject_reading    0.123032\n",
      "3     school_Elementary School F    0.095439\n",
      "14        subject_social-studies    0.059004\n",
      "7         school_Middle School D    0.042650\n",
      "8         school_Middle School F    0.036564\n",
      "18               subject_phys-ed    0.018193\n",
      "1     school_Elementary School B    0.011824\n",
      "6         school_Middle School C    0.009042\n",
      "13               subject_science    0.005109\n",
      "0            school_Elementary A    0.000000\n",
      "4   school_Intermediate School E    0.000000\n",
      "10                iready_reading    0.000000\n",
      "11                  subject_math    0.000000\n",
      "16                   subject_art    0.000000\n",
      "17       subject_performing-arts    0.000000\n",
      "19           subject_career-prep    0.000000\n"
     ]
    }
   ],
   "source": [
    "importances2 = dt_model.feature_importances_\n",
    "feature_names2 = X_train.columns\n",
    "\n",
    "# Combine names and importances, and sort\n",
    "importance_df = pd.DataFrame({'Feature': feature_names2, 'Importance': importances2})\n",
    "importance_df= importance_df.sort_values(by='Importance', ascending=False)\n",
    "\n",
    "# Display the sorted DataFrame\n",
    "print(importance_df)"
   ]
  }
 ],
 "metadata": {
  "kernelspec": {
   "display_name": "Python 3",
   "language": "python",
   "name": "python3"
  },
  "language_info": {
   "codemirror_mode": {
    "name": "ipython",
    "version": 3
   },
   "file_extension": ".py",
   "mimetype": "text/x-python",
   "name": "python",
   "nbconvert_exporter": "python",
   "pygments_lexer": "ipython3",
   "version": "3.9.0"
  }
 },
 "nbformat": 4,
 "nbformat_minor": 2
}
