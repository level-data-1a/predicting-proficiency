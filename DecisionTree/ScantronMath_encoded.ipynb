{
 "cells": [
  {
   "cell_type": "code",
   "execution_count": 21,
   "metadata": {},
   "outputs": [],
   "source": [
    "import pandas as pd\n",
    "import numpy as np\n",
    "import matplotlib.pyplot as plt\n",
    "import seaborn as sns\n",
    "import os\n",
    "\n",
    "from sklearn.model_selection import train_test_split, cross_val_score, GridSearchCV\n",
    "from sklearn.tree import DecisionTreeRegressor\n",
    "from sklearn.metrics import mean_squared_error, mean_absolute_error, r2_score, classification_report, confusion_matrix, f1_score\n",
    "from sklearn.ensemble import RandomForestRegressor, GradientBoostingRegressor"
   ]
  },
  {
   "cell_type": "code",
   "execution_count": 22,
   "metadata": {},
   "outputs": [],
   "source": [
    "pd.set_option('display.max_rows', None)\n",
    "pd.set_option('display.max_columns', None)\n",
    "scantronMath_38_encoded_df = pd.read_csv('../dataframes/scantronMath_38_encoded.csv')"
   ]
  },
  {
   "cell_type": "code",
   "execution_count": 23,
   "metadata": {},
   "outputs": [
    {
     "data": {
      "text/html": [
       "<div>\n",
       "<style scoped>\n",
       "    .dataframe tbody tr th:only-of-type {\n",
       "        vertical-align: middle;\n",
       "    }\n",
       "\n",
       "    .dataframe tbody tr th {\n",
       "        vertical-align: top;\n",
       "    }\n",
       "\n",
       "    .dataframe thead th {\n",
       "        text-align: right;\n",
       "    }\n",
       "</style>\n",
       "<table border=\"1\" class=\"dataframe\">\n",
       "  <thead>\n",
       "    <tr style=\"text-align: right;\">\n",
       "      <th></th>\n",
       "      <th>studentId</th>\n",
       "      <th>level</th>\n",
       "      <th>dataSource</th>\n",
       "      <th>is_proficient</th>\n",
       "      <th>proficient_score</th>\n",
       "      <th>school_Elementary A</th>\n",
       "      <th>school_Elementary School B</th>\n",
       "      <th>school_Elementary School E</th>\n",
       "      <th>school_Elementary School F</th>\n",
       "      <th>school_Intermediate School E</th>\n",
       "      <th>school_Middle School A</th>\n",
       "      <th>school_Middle School C</th>\n",
       "      <th>school_Middle School D</th>\n",
       "      <th>school_Middle School F</th>\n",
       "      <th>iready_math</th>\n",
       "      <th>iready_reading</th>\n",
       "      <th>past_proficient_score</th>\n",
       "      <th>subject_math</th>\n",
       "      <th>subject_reading</th>\n",
       "      <th>subject_science</th>\n",
       "      <th>subject_social-studies</th>\n",
       "      <th>subject_music</th>\n",
       "      <th>subject_art</th>\n",
       "      <th>subject_performing-arts</th>\n",
       "      <th>subject_phys-ed</th>\n",
       "      <th>subject_career-prep</th>\n",
       "    </tr>\n",
       "  </thead>\n",
       "  <tbody>\n",
       "    <tr>\n",
       "      <th>0</th>\n",
       "      <td>44777</td>\n",
       "      <td>7</td>\n",
       "      <td>value_scantronMath</td>\n",
       "      <td>False</td>\n",
       "      <td>0.935351</td>\n",
       "      <td>False</td>\n",
       "      <td>False</td>\n",
       "      <td>False</td>\n",
       "      <td>False</td>\n",
       "      <td>False</td>\n",
       "      <td>True</td>\n",
       "      <td>False</td>\n",
       "      <td>False</td>\n",
       "      <td>False</td>\n",
       "      <td>0</td>\n",
       "      <td>0</td>\n",
       "      <td>0.957757</td>\n",
       "      <td>2</td>\n",
       "      <td>2</td>\n",
       "      <td>2</td>\n",
       "      <td>2</td>\n",
       "      <td>1</td>\n",
       "      <td>0</td>\n",
       "      <td>0</td>\n",
       "      <td>0</td>\n",
       "      <td>0</td>\n",
       "    </tr>\n",
       "    <tr>\n",
       "      <th>1</th>\n",
       "      <td>44783</td>\n",
       "      <td>7</td>\n",
       "      <td>value_scantronMath</td>\n",
       "      <td>False</td>\n",
       "      <td>0.974724</td>\n",
       "      <td>False</td>\n",
       "      <td>False</td>\n",
       "      <td>False</td>\n",
       "      <td>False</td>\n",
       "      <td>False</td>\n",
       "      <td>True</td>\n",
       "      <td>False</td>\n",
       "      <td>False</td>\n",
       "      <td>False</td>\n",
       "      <td>0</td>\n",
       "      <td>0</td>\n",
       "      <td>0.949346</td>\n",
       "      <td>2</td>\n",
       "      <td>2</td>\n",
       "      <td>2</td>\n",
       "      <td>1</td>\n",
       "      <td>0</td>\n",
       "      <td>0</td>\n",
       "      <td>0</td>\n",
       "      <td>0</td>\n",
       "      <td>0</td>\n",
       "    </tr>\n",
       "    <tr>\n",
       "      <th>2</th>\n",
       "      <td>44784</td>\n",
       "      <td>6</td>\n",
       "      <td>value_scantronMath</td>\n",
       "      <td>True</td>\n",
       "      <td>1.021622</td>\n",
       "      <td>False</td>\n",
       "      <td>False</td>\n",
       "      <td>False</td>\n",
       "      <td>False</td>\n",
       "      <td>False</td>\n",
       "      <td>True</td>\n",
       "      <td>False</td>\n",
       "      <td>False</td>\n",
       "      <td>False</td>\n",
       "      <td>0</td>\n",
       "      <td>0</td>\n",
       "      <td>0.990132</td>\n",
       "      <td>2</td>\n",
       "      <td>2</td>\n",
       "      <td>2</td>\n",
       "      <td>2</td>\n",
       "      <td>1</td>\n",
       "      <td>0</td>\n",
       "      <td>0</td>\n",
       "      <td>0</td>\n",
       "      <td>0</td>\n",
       "    </tr>\n",
       "    <tr>\n",
       "      <th>3</th>\n",
       "      <td>44807</td>\n",
       "      <td>7</td>\n",
       "      <td>value_scantronMath</td>\n",
       "      <td>True</td>\n",
       "      <td>1.015190</td>\n",
       "      <td>False</td>\n",
       "      <td>False</td>\n",
       "      <td>False</td>\n",
       "      <td>False</td>\n",
       "      <td>False</td>\n",
       "      <td>True</td>\n",
       "      <td>False</td>\n",
       "      <td>False</td>\n",
       "      <td>False</td>\n",
       "      <td>0</td>\n",
       "      <td>0</td>\n",
       "      <td>1.035514</td>\n",
       "      <td>2</td>\n",
       "      <td>2</td>\n",
       "      <td>1</td>\n",
       "      <td>2</td>\n",
       "      <td>0</td>\n",
       "      <td>0</td>\n",
       "      <td>0</td>\n",
       "      <td>0</td>\n",
       "      <td>0</td>\n",
       "    </tr>\n",
       "    <tr>\n",
       "      <th>4</th>\n",
       "      <td>44809</td>\n",
       "      <td>7</td>\n",
       "      <td>value_scantronMath</td>\n",
       "      <td>False</td>\n",
       "      <td>0.921740</td>\n",
       "      <td>False</td>\n",
       "      <td>False</td>\n",
       "      <td>False</td>\n",
       "      <td>False</td>\n",
       "      <td>False</td>\n",
       "      <td>True</td>\n",
       "      <td>False</td>\n",
       "      <td>False</td>\n",
       "      <td>False</td>\n",
       "      <td>0</td>\n",
       "      <td>0</td>\n",
       "      <td>0.934393</td>\n",
       "      <td>2</td>\n",
       "      <td>2</td>\n",
       "      <td>2</td>\n",
       "      <td>2</td>\n",
       "      <td>1</td>\n",
       "      <td>0</td>\n",
       "      <td>0</td>\n",
       "      <td>0</td>\n",
       "      <td>0</td>\n",
       "    </tr>\n",
       "  </tbody>\n",
       "</table>\n",
       "</div>"
      ],
      "text/plain": [
       "   studentId  level          dataSource  is_proficient  proficient_score  \\\n",
       "0      44777      7  value_scantronMath          False          0.935351   \n",
       "1      44783      7  value_scantronMath          False          0.974724   \n",
       "2      44784      6  value_scantronMath           True          1.021622   \n",
       "3      44807      7  value_scantronMath           True          1.015190   \n",
       "4      44809      7  value_scantronMath          False          0.921740   \n",
       "\n",
       "   school_Elementary A  school_Elementary School B  \\\n",
       "0                False                       False   \n",
       "1                False                       False   \n",
       "2                False                       False   \n",
       "3                False                       False   \n",
       "4                False                       False   \n",
       "\n",
       "   school_Elementary School E  school_Elementary School F  \\\n",
       "0                       False                       False   \n",
       "1                       False                       False   \n",
       "2                       False                       False   \n",
       "3                       False                       False   \n",
       "4                       False                       False   \n",
       "\n",
       "   school_Intermediate School E  school_Middle School A  \\\n",
       "0                         False                    True   \n",
       "1                         False                    True   \n",
       "2                         False                    True   \n",
       "3                         False                    True   \n",
       "4                         False                    True   \n",
       "\n",
       "   school_Middle School C  school_Middle School D  school_Middle School F  \\\n",
       "0                   False                   False                   False   \n",
       "1                   False                   False                   False   \n",
       "2                   False                   False                   False   \n",
       "3                   False                   False                   False   \n",
       "4                   False                   False                   False   \n",
       "\n",
       "   iready_math  iready_reading  past_proficient_score  subject_math  \\\n",
       "0            0               0               0.957757             2   \n",
       "1            0               0               0.949346             2   \n",
       "2            0               0               0.990132             2   \n",
       "3            0               0               1.035514             2   \n",
       "4            0               0               0.934393             2   \n",
       "\n",
       "   subject_reading  subject_science  subject_social-studies  subject_music  \\\n",
       "0                2                2                       2              1   \n",
       "1                2                2                       1              0   \n",
       "2                2                2                       2              1   \n",
       "3                2                1                       2              0   \n",
       "4                2                2                       2              1   \n",
       "\n",
       "   subject_art  subject_performing-arts  subject_phys-ed  subject_career-prep  \n",
       "0            0                        0                0                    0  \n",
       "1            0                        0                0                    0  \n",
       "2            0                        0                0                    0  \n",
       "3            0                        0                0                    0  \n",
       "4            0                        0                0                    0  "
      ]
     },
     "execution_count": 23,
     "metadata": {},
     "output_type": "execute_result"
    }
   ],
   "source": [
    "scantronMath_38_encoded_df.head()"
   ]
  },
  {
   "cell_type": "code",
   "execution_count": 24,
   "metadata": {},
   "outputs": [
    {
     "data": {
      "text/plain": [
       "studentId                         int64\n",
       "level                             int64\n",
       "dataSource                       object\n",
       "is_proficient                      bool\n",
       "proficient_score                float64\n",
       "school_Elementary A                bool\n",
       "school_Elementary School B         bool\n",
       "school_Elementary School E         bool\n",
       "school_Elementary School F         bool\n",
       "school_Intermediate School E       bool\n",
       "school_Middle School A             bool\n",
       "school_Middle School C             bool\n",
       "school_Middle School D             bool\n",
       "school_Middle School F             bool\n",
       "iready_math                       int64\n",
       "iready_reading                    int64\n",
       "past_proficient_score           float64\n",
       "subject_math                      int64\n",
       "subject_reading                   int64\n",
       "subject_science                   int64\n",
       "subject_social-studies            int64\n",
       "subject_music                     int64\n",
       "subject_art                       int64\n",
       "subject_performing-arts           int64\n",
       "subject_phys-ed                   int64\n",
       "subject_career-prep               int64\n",
       "dtype: object"
      ]
     },
     "execution_count": 24,
     "metadata": {},
     "output_type": "execute_result"
    }
   ],
   "source": [
    "scantronMath_38_encoded_df.dtypes"
   ]
  },
  {
   "cell_type": "code",
   "execution_count": 25,
   "metadata": {},
   "outputs": [
    {
     "data": {
      "text/plain": [
       "studentId                         int64\n",
       "level                             int64\n",
       "dataSource                       object\n",
       "is_proficient                     int64\n",
       "proficient_score                float64\n",
       "school_Elementary A               int64\n",
       "school_Elementary School B        int64\n",
       "school_Elementary School E        int64\n",
       "school_Elementary School F        int64\n",
       "school_Intermediate School E      int64\n",
       "school_Middle School A            int64\n",
       "school_Middle School C            int64\n",
       "school_Middle School D            int64\n",
       "school_Middle School F            int64\n",
       "iready_math                       int64\n",
       "iready_reading                    int64\n",
       "past_proficient_score           float64\n",
       "subject_math                      int64\n",
       "subject_reading                   int64\n",
       "subject_science                   int64\n",
       "subject_social-studies            int64\n",
       "subject_music                     int64\n",
       "subject_art                       int64\n",
       "subject_performing-arts           int64\n",
       "subject_phys-ed                   int64\n",
       "subject_career-prep               int64\n",
       "dtype: object"
      ]
     },
     "execution_count": 25,
     "metadata": {},
     "output_type": "execute_result"
    }
   ],
   "source": [
    "#turning bools in one hot encoded rows to 0 and 1\n",
    "scantronMath_38_encoded_df[scantronMath_38_encoded_df.select_dtypes(include=['bool']).columns] = scantronMath_38_encoded_df.select_dtypes(include=['bool']).astype(int)\n",
    "scantronMath_38_encoded_df.dtypes"
   ]
  },
  {
   "cell_type": "code",
   "execution_count": 26,
   "metadata": {},
   "outputs": [
    {
     "data": {
      "text/plain": [
       "studentId                          0\n",
       "level                              0\n",
       "dataSource                         0\n",
       "is_proficient                      0\n",
       "proficient_score                   0\n",
       "school_Elementary A                0\n",
       "school_Elementary School B         0\n",
       "school_Elementary School E         0\n",
       "school_Elementary School F         0\n",
       "school_Intermediate School E       0\n",
       "school_Middle School A             0\n",
       "school_Middle School C             0\n",
       "school_Middle School D             0\n",
       "school_Middle School F             0\n",
       "iready_math                        0\n",
       "iready_reading                     0\n",
       "past_proficient_score           5422\n",
       "subject_math                       0\n",
       "subject_reading                    0\n",
       "subject_science                    0\n",
       "subject_social-studies             0\n",
       "subject_music                      0\n",
       "subject_art                        0\n",
       "subject_performing-arts            0\n",
       "subject_phys-ed                    0\n",
       "subject_career-prep                0\n",
       "dtype: int64"
      ]
     },
     "execution_count": 26,
     "metadata": {},
     "output_type": "execute_result"
    }
   ],
   "source": [
    "scantronMath_38_encoded_df.isnull().sum()"
   ]
  },
  {
   "cell_type": "code",
   "execution_count": 27,
   "metadata": {},
   "outputs": [
    {
     "name": "stdout",
     "output_type": "stream",
     "text": [
      "studentId                       0\n",
      "level                           0\n",
      "dataSource                      0\n",
      "is_proficient                   0\n",
      "proficient_score                0\n",
      "school_Elementary A             0\n",
      "school_Elementary School B      0\n",
      "school_Elementary School E      0\n",
      "school_Elementary School F      0\n",
      "school_Intermediate School E    0\n",
      "school_Middle School A          0\n",
      "school_Middle School C          0\n",
      "school_Middle School D          0\n",
      "school_Middle School F          0\n",
      "iready_math                     0\n",
      "iready_reading                  0\n",
      "past_proficient_score           0\n",
      "subject_math                    0\n",
      "subject_reading                 0\n",
      "subject_science                 0\n",
      "subject_social-studies          0\n",
      "subject_music                   0\n",
      "subject_art                     0\n",
      "subject_performing-arts         0\n",
      "subject_phys-ed                 0\n",
      "subject_career-prep             0\n",
      "dtype: int64\n"
     ]
    }
   ],
   "source": [
    "#dropping rows that are missing past proficient score\n",
    "scantronMath_38_encoded_df = scantronMath_38_encoded_df.dropna(subset=['past_proficient_score'])\n",
    "print(scantronMath_38_encoded_df.isnull().sum()) "
   ]
  },
  {
   "cell_type": "markdown",
   "metadata": {},
   "source": [
    "Training"
   ]
  },
  {
   "cell_type": "code",
   "execution_count": 28,
   "metadata": {},
   "outputs": [
    {
     "name": "stdout",
     "output_type": "stream",
     "text": [
      "Number of examples: 15149\n",
      "(11361, 21)\n",
      "(3788, 21)\n"
     ]
    }
   ],
   "source": [
    "y_Math = scantronMath_38_encoded_df['proficient_score']\n",
    "X_Math= scantronMath_38_encoded_df.drop(['proficient_score','is_proficient','studentId','dataSource','level'],  axis=1)\n",
    "print(\"Number of examples: \" + str(X_Math.shape[0]))\n",
    "X_train_Math,X_test_Math, y_train_Math,y_test_Math = train_test_split(X_Math,y_Math, test_size=0.25, random_state=123)\n",
    "print(X_train_Math.shape)\n",
    "print(X_test_Math.shape)"
   ]
  },
  {
   "cell_type": "code",
   "execution_count": 29,
   "metadata": {},
   "outputs": [
    {
     "name": "stdout",
     "output_type": "stream",
     "text": [
      "Running Grid Search\n",
      "Done\n"
     ]
    },
    {
     "data": {
      "text/plain": [
       "{'max_depth': 8, 'min_samples_leaf': 10}"
      ]
     },
     "execution_count": 29,
     "metadata": {},
     "output_type": "execute_result"
    }
   ],
   "source": [
    "#setting up the param grid, possible hyperparameter for max_depth and min_samples_leaf\n",
    "max_depth_values = [8,12,25,32]\n",
    "min_samples_leaf_values = [4,5,8,10]\n",
    "param_grid = {'max_depth' : list(max_depth_values), 'min_samples_leaf' : list(min_samples_leaf_values)}\n",
    "\n",
    "#Grid Search to find the best hyperparameters \n",
    "print(\"Running Grid Search\")\n",
    "dt_regressor_Math = DecisionTreeRegressor()\n",
    "\n",
    "# will have a 3-fold cross validation \n",
    "dt_grid_Math = GridSearchCV(dt_regressor_Math, param_grid, cv=3, scoring='neg_root_mean_squared_error')\n",
    "dt_grid_search_Math = dt_grid_Math.fit(X_train_Math, y_train_Math)\n",
    "\n",
    "print(\"Done\")\n",
    "dt_best_params_Math = dt_grid_search_Math.best_params_\n",
    "\n",
    "dt_best_params_Math"
   ]
  },
  {
   "cell_type": "code",
   "execution_count": 30,
   "metadata": {},
   "outputs": [
    {
     "name": "stdout",
     "output_type": "stream",
     "text": [
      "threshold= 1\n",
      "\n",
      "Classification Report:\n",
      "              precision    recall  f1-score   support\n",
      "\n",
      "       False       0.88      0.94      0.91      2594\n",
      "        True       0.84      0.72      0.78      1194\n",
      "\n",
      "    accuracy                           0.87      3788\n",
      "   macro avg       0.86      0.83      0.84      3788\n",
      "weighted avg       0.87      0.87      0.87      3788\n",
      "\n",
      "[DT] Root Mean Squared Error: 0.0500670101860033\n",
      "[DT] R2: 0.5674926903970963\n"
     ]
    },
    {
     "name": "stderr",
     "output_type": "stream",
     "text": [
      "c:\\Users\\lmmag\\AppData\\Local\\Programs\\Python\\Python39\\lib\\site-packages\\sklearn\\metrics\\_regression.py:492: FutureWarning: 'squared' is deprecated in version 1.4 and will be removed in 1.6. To calculate the root mean squared error, use the function'root_mean_squared_error'.\n",
      "  warnings.warn(\n"
     ]
    }
   ],
   "source": [
    "dt_model_Math = DecisionTreeRegressor(max_depth=8, min_samples_leaf=10)\n",
    "dt_model_Math.fit(X_train_Math,y_train_Math)\n",
    "\n",
    "#testing model on the X_test\n",
    "y_dt_pred_Math = dt_model_Math.predict(X_test_Math)\n",
    "dt_rmse_Math = mean_squared_error(y_test_Math,y_dt_pred_Math,squared=False)\n",
    "dt_r2_Math= r2_score(y_test_Math,y_dt_pred_Math)\n",
    "\n",
    "#trying to get f1 and accuracy score \n",
    "threshold = 1\n",
    "y_pred_Math_bool = y_dt_pred_Math >= threshold\n",
    "y_test_Math_bool = y_test_Math >= threshold\n",
    "\n",
    "print(\"threshold=\", threshold)\n",
    "# Print the classification report\n",
    "print(\"\\nClassification Report:\")\n",
    "print(classification_report(y_test_Math_bool, y_pred_Math_bool))\n",
    "\n",
    "print('[DT] Root Mean Squared Error: {0}'.format(dt_rmse_Math))\n",
    "print('[DT] R2: {0}'.format(dt_r2_Math))\n"
   ]
  },
  {
   "cell_type": "code",
   "execution_count": 31,
   "metadata": {},
   "outputs": [
    {
     "name": "stdout",
     "output_type": "stream",
     "text": [
      "Micro F1 Score: 0.8695881731784583\n"
     ]
    }
   ],
   "source": [
    "#looking at the micro score\n",
    "micro_f1 = f1_score(y_test_Math_bool, y_pred_Math_bool, average='micro')\n",
    "\n",
    "print(\"Micro F1 Score:\", micro_f1)"
   ]
  },
  {
   "cell_type": "markdown",
   "metadata": {},
   "source": [
    "Feature Importance "
   ]
  },
  {
   "cell_type": "code",
   "execution_count": 32,
   "metadata": {},
   "outputs": [
    {
     "name": "stdout",
     "output_type": "stream",
     "text": [
      "                         Feature  Importance\n",
      "11         past_proficient_score    0.973357\n",
      "19               subject_phys-ed    0.004578\n",
      "2     school_Elementary School E    0.004250\n",
      "12                  subject_math    0.003325\n",
      "15        subject_social-studies    0.003270\n",
      "7         school_Middle School D    0.003142\n",
      "3     school_Elementary School F    0.001638\n",
      "14               subject_science    0.001493\n",
      "0            school_Elementary A    0.001194\n",
      "6         school_Middle School C    0.001150\n",
      "16                 subject_music    0.000885\n",
      "9                    iready_math    0.000786\n",
      "8         school_Middle School F    0.000528\n",
      "13               subject_reading    0.000352\n",
      "5         school_Middle School A    0.000052\n",
      "4   school_Intermediate School E    0.000000\n",
      "1     school_Elementary School B    0.000000\n",
      "10                iready_reading    0.000000\n",
      "17                   subject_art    0.000000\n",
      "18       subject_performing-arts    0.000000\n",
      "20           subject_career-prep    0.000000\n"
     ]
    }
   ],
   "source": [
    "importances = dt_model_Math.feature_importances_\n",
    "feature_names = X_train_Math.columns\n",
    "\n",
    "# Combine names and importances, and sort\n",
    "importance_df = pd.DataFrame({'Feature': feature_names, 'Importance': importances})\n",
    "importance_df= importance_df.sort_values(by='Importance', ascending=False)\n",
    "\n",
    "# Display the sorted DataFrame\n",
    "print(importance_df)"
   ]
  },
  {
   "cell_type": "code",
   "execution_count": 37,
   "metadata": {},
   "outputs": [
    {
     "data": {
      "text/html": [
       "<div>\n",
       "<style scoped>\n",
       "    .dataframe tbody tr th:only-of-type {\n",
       "        vertical-align: middle;\n",
       "    }\n",
       "\n",
       "    .dataframe tbody tr th {\n",
       "        vertical-align: top;\n",
       "    }\n",
       "\n",
       "    .dataframe thead th {\n",
       "        text-align: right;\n",
       "    }\n",
       "</style>\n",
       "<table border=\"1\" class=\"dataframe\">\n",
       "  <thead>\n",
       "    <tr style=\"text-align: right;\">\n",
       "      <th></th>\n",
       "      <th>Feature</th>\n",
       "      <th>Importance</th>\n",
       "    </tr>\n",
       "  </thead>\n",
       "  <tbody>\n",
       "    <tr>\n",
       "      <th>11</th>\n",
       "      <td>past_proficient_score</td>\n",
       "      <td>0.973357</td>\n",
       "    </tr>\n",
       "    <tr>\n",
       "      <th>19</th>\n",
       "      <td>subject_phys-ed</td>\n",
       "      <td>0.004578</td>\n",
       "    </tr>\n",
       "    <tr>\n",
       "      <th>2</th>\n",
       "      <td>school_Elementary School E</td>\n",
       "      <td>0.004250</td>\n",
       "    </tr>\n",
       "    <tr>\n",
       "      <th>12</th>\n",
       "      <td>subject_math</td>\n",
       "      <td>0.003325</td>\n",
       "    </tr>\n",
       "    <tr>\n",
       "      <th>15</th>\n",
       "      <td>subject_social-studies</td>\n",
       "      <td>0.003270</td>\n",
       "    </tr>\n",
       "    <tr>\n",
       "      <th>7</th>\n",
       "      <td>school_Middle School D</td>\n",
       "      <td>0.003142</td>\n",
       "    </tr>\n",
       "    <tr>\n",
       "      <th>3</th>\n",
       "      <td>school_Elementary School F</td>\n",
       "      <td>0.001638</td>\n",
       "    </tr>\n",
       "    <tr>\n",
       "      <th>14</th>\n",
       "      <td>subject_science</td>\n",
       "      <td>0.001493</td>\n",
       "    </tr>\n",
       "    <tr>\n",
       "      <th>0</th>\n",
       "      <td>school_Elementary A</td>\n",
       "      <td>0.001194</td>\n",
       "    </tr>\n",
       "    <tr>\n",
       "      <th>6</th>\n",
       "      <td>school_Middle School C</td>\n",
       "      <td>0.001150</td>\n",
       "    </tr>\n",
       "  </tbody>\n",
       "</table>\n",
       "</div>"
      ],
      "text/plain": [
       "                       Feature  Importance\n",
       "11       past_proficient_score    0.973357\n",
       "19             subject_phys-ed    0.004578\n",
       "2   school_Elementary School E    0.004250\n",
       "12                subject_math    0.003325\n",
       "15      subject_social-studies    0.003270\n",
       "7       school_Middle School D    0.003142\n",
       "3   school_Elementary School F    0.001638\n",
       "14             subject_science    0.001493\n",
       "0          school_Elementary A    0.001194\n",
       "6       school_Middle School C    0.001150"
      ]
     },
     "execution_count": 37,
     "metadata": {},
     "output_type": "execute_result"
    }
   ],
   "source": [
    "#top ten features\n",
    "importance_df.head(10)"
   ]
  },
  {
   "cell_type": "markdown",
   "metadata": {},
   "source": [
    "w/o schools "
   ]
  },
  {
   "cell_type": "code",
   "execution_count": 33,
   "metadata": {},
   "outputs": [
    {
     "name": "stdout",
     "output_type": "stream",
     "text": [
      "Number of examples: 15149\n",
      "(11361, 12)\n",
      "(3788, 12)\n"
     ]
    }
   ],
   "source": [
    "y = scantronMath_38_encoded_df['proficient_score']\n",
    "X= scantronMath_38_encoded_df.drop(['proficient_score','is_proficient','studentId','dataSource','level','school_Elementary School E', 'school_Middle School D', 'school_Elementary School F', 'school_Elementary A', 'school_Middle School C','school_Middle School F', 'school_Middle School A', 'school_Elementary School B','school_Intermediate School E'],  axis=1)\n",
    "print(\"Number of examples: \" + str(X.shape[0]))\n",
    "X_train,X_test, y_train,y_test = train_test_split(X,y, test_size=0.25, random_state=123)\n",
    "print(X_train.shape)\n",
    "print(X_test.shape)"
   ]
  },
  {
   "cell_type": "code",
   "execution_count": 34,
   "metadata": {},
   "outputs": [
    {
     "name": "stdout",
     "output_type": "stream",
     "text": [
      "Running Grid Search\n",
      "Done\n"
     ]
    },
    {
     "data": {
      "text/plain": [
       "{'max_depth': 8, 'min_samples_leaf': 10}"
      ]
     },
     "execution_count": 34,
     "metadata": {},
     "output_type": "execute_result"
    }
   ],
   "source": [
    "#Grid Search to find the best hyperparameters \n",
    "print(\"Running Grid Search\")\n",
    "dt_regressor = DecisionTreeRegressor()\n",
    "\n",
    "# will have a 3-fold cross validation \n",
    "dt_grid = GridSearchCV(dt_regressor, param_grid, cv=3, scoring='neg_root_mean_squared_error')\n",
    "dt_grid_search = dt_grid.fit(X_train, y_train)\n",
    "\n",
    "print(\"Done\")\n",
    "dt_best_params = dt_grid_search.best_params_\n",
    "\n",
    "dt_best_params"
   ]
  },
  {
   "cell_type": "code",
   "execution_count": 35,
   "metadata": {},
   "outputs": [
    {
     "name": "stdout",
     "output_type": "stream",
     "text": [
      "threshold= 1\n",
      "\n",
      "Classification Report:\n",
      "              precision    recall  f1-score   support\n",
      "\n",
      "       False       0.88      0.94      0.91      2594\n",
      "        True       0.84      0.72      0.77      1194\n",
      "\n",
      "    accuracy                           0.87      3788\n",
      "   macro avg       0.86      0.83      0.84      3788\n",
      "weighted avg       0.87      0.87      0.86      3788\n",
      "\n",
      "[DT] Root Mean Squared Error: 0.05004259238218441\n",
      "[DT] R2: 0.5679144572776696\n"
     ]
    },
    {
     "name": "stderr",
     "output_type": "stream",
     "text": [
      "c:\\Users\\lmmag\\AppData\\Local\\Programs\\Python\\Python39\\lib\\site-packages\\sklearn\\metrics\\_regression.py:492: FutureWarning: 'squared' is deprecated in version 1.4 and will be removed in 1.6. To calculate the root mean squared error, use the function'root_mean_squared_error'.\n",
      "  warnings.warn(\n"
     ]
    }
   ],
   "source": [
    "dt_model = DecisionTreeRegressor(max_depth=8, min_samples_leaf=10)\n",
    "dt_model.fit(X_train,y_train)\n",
    "\n",
    "#testing model on the X_test\n",
    "y_dt_pred = dt_model.predict(X_test)\n",
    "dt_rmse = mean_squared_error(y_test,y_dt_pred,squared=False)\n",
    "dt_r2= r2_score(y_test,y_dt_pred)\n",
    "\n",
    "#trying to get f1 and accuracy score \n",
    "threshold = 1\n",
    "y_pred_bool = y_dt_pred>= threshold\n",
    "y_test_bool = y_test >= threshold\n",
    "\n",
    "print(\"threshold=\", threshold)\n",
    "# Print the classification report\n",
    "print(\"\\nClassification Report:\")\n",
    "print(classification_report(y_test_bool, y_pred_bool))\n",
    "\n",
    "print('[DT] Root Mean Squared Error: {0}'.format(dt_rmse))\n",
    "print('[DT] R2: {0}'.format(dt_r2))"
   ]
  },
  {
   "cell_type": "code",
   "execution_count": 36,
   "metadata": {},
   "outputs": [
    {
     "name": "stdout",
     "output_type": "stream",
     "text": [
      "                    Feature  Importance\n",
      "2     past_proficient_score    0.981391\n",
      "10          subject_phys-ed    0.005761\n",
      "6    subject_social-studies    0.005468\n",
      "3              subject_math    0.003672\n",
      "4           subject_reading    0.001687\n",
      "7             subject_music    0.000885\n",
      "1            iready_reading    0.000676\n",
      "5           subject_science    0.000353\n",
      "0               iready_math    0.000107\n",
      "8               subject_art    0.000000\n",
      "9   subject_performing-arts    0.000000\n",
      "11      subject_career-prep    0.000000\n"
     ]
    }
   ],
   "source": [
    "importances2 = dt_model.feature_importances_\n",
    "feature_names2 = X_train.columns\n",
    "\n",
    "# Combine names and importances, and sort\n",
    "importance_df2= pd.DataFrame({'Feature': feature_names2, 'Importance': importances2})\n",
    "importance_df2= importance_df2.sort_values(by='Importance', ascending=False)\n",
    "\n",
    "# Display the sorted DataFrame\n",
    "print(importance_df2)"
   ]
  }
 ],
 "metadata": {
  "kernelspec": {
   "display_name": "Python 3",
   "language": "python",
   "name": "python3"
  },
  "language_info": {
   "codemirror_mode": {
    "name": "ipython",
    "version": 3
   },
   "file_extension": ".py",
   "mimetype": "text/x-python",
   "name": "python",
   "nbconvert_exporter": "python",
   "pygments_lexer": "ipython3",
   "version": "3.9.0"
  }
 },
 "nbformat": 4,
 "nbformat_minor": 2
}
