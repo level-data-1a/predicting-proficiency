{
 "cells": [
  {
   "cell_type": "code",
   "execution_count": 10,
   "metadata": {},
   "outputs": [],
   "source": [
    "import pandas as pd\n",
    "import numpy as np\n",
    "import matplotlib.pyplot as plt\n",
    "import seaborn as sns\n",
    "import os\n",
    "\n",
    "from sklearn.model_selection import train_test_split, cross_val_score, GridSearchCV\n",
    "from sklearn.tree import DecisionTreeRegressor\n",
    "from sklearn.metrics import mean_squared_error, mean_absolute_error, r2_score, classification_report, confusion_matrix, f1_score\n",
    "from sklearn.ensemble import RandomForestRegressor, GradientBoostingRegressor\n"
   ]
  },
  {
   "cell_type": "markdown",
   "metadata": {},
   "source": [
    "Act Math encoded, label proficient score"
   ]
  },
  {
   "cell_type": "code",
   "execution_count": 11,
   "metadata": {},
   "outputs": [],
   "source": [
    "pd.set_option('display.max_rows', None)\n",
    "pd.set_option('display.max_columns', None)\n",
    "filename4 = os.path.join(os.getcwd(),\"dataframes\", \"actMath_11_encoded_df.csv\")\n",
    "actMath_11_encoded_df = pd.read_csv(filename4, header = 0)\n"
   ]
  },
  {
   "cell_type": "code",
   "execution_count": 12,
   "metadata": {},
   "outputs": [
    {
     "data": {
      "text/html": [
       "<div>\n",
       "<style scoped>\n",
       "    .dataframe tbody tr th:only-of-type {\n",
       "        vertical-align: middle;\n",
       "    }\n",
       "\n",
       "    .dataframe tbody tr th {\n",
       "        vertical-align: top;\n",
       "    }\n",
       "\n",
       "    .dataframe thead th {\n",
       "        text-align: right;\n",
       "    }\n",
       "</style>\n",
       "<table border=\"1\" class=\"dataframe\">\n",
       "  <thead>\n",
       "    <tr style=\"text-align: right;\">\n",
       "      <th></th>\n",
       "      <th>studentId</th>\n",
       "      <th>is_proficient</th>\n",
       "      <th>proficient_score</th>\n",
       "      <th>school_High School A</th>\n",
       "      <th>school_High School B</th>\n",
       "      <th>school_High School C</th>\n",
       "      <th>school_High School D</th>\n",
       "      <th>iready_math</th>\n",
       "      <th>iready_reading</th>\n",
       "      <th>bbb_literacy</th>\n",
       "      <th>category_MATHEMATICS</th>\n",
       "      <th>category_ENGLISH</th>\n",
       "      <th>category_SCIENCE</th>\n",
       "      <th>category_SOCIAL_STUDIES</th>\n",
       "      <th>category_FOREIGN_LANGUAGE</th>\n",
       "      <th>category_PERFORMING_ARTS</th>\n",
       "      <th>category_VISUAL_ARTS</th>\n",
       "      <th>category_TECHNOLOGY</th>\n",
       "      <th>category_BUSINESS</th>\n",
       "      <th>category_TRADES</th>\n",
       "      <th>category_AGRICULTURE</th>\n",
       "      <th>category_PHYSICAL_EDUCATION</th>\n",
       "      <th>category_HEALTH</th>\n",
       "      <th>category_CAREER_PREP</th>\n",
       "      <th>category_MILITARY_SCIENCE</th>\n",
       "    </tr>\n",
       "  </thead>\n",
       "  <tbody>\n",
       "    <tr>\n",
       "      <th>0</th>\n",
       "      <td>45054</td>\n",
       "      <td>False</td>\n",
       "      <td>0.264706</td>\n",
       "      <td>True</td>\n",
       "      <td>False</td>\n",
       "      <td>False</td>\n",
       "      <td>False</td>\n",
       "      <td>0</td>\n",
       "      <td>0</td>\n",
       "      <td>0</td>\n",
       "      <td>1</td>\n",
       "      <td>0</td>\n",
       "      <td>1</td>\n",
       "      <td>0</td>\n",
       "      <td>0</td>\n",
       "      <td>False</td>\n",
       "      <td>False</td>\n",
       "      <td>False</td>\n",
       "      <td>False</td>\n",
       "      <td>True</td>\n",
       "      <td>False</td>\n",
       "      <td>False</td>\n",
       "      <td>False</td>\n",
       "      <td>False</td>\n",
       "      <td>False</td>\n",
       "    </tr>\n",
       "    <tr>\n",
       "      <th>1</th>\n",
       "      <td>45054</td>\n",
       "      <td>False</td>\n",
       "      <td>0.264706</td>\n",
       "      <td>True</td>\n",
       "      <td>False</td>\n",
       "      <td>False</td>\n",
       "      <td>False</td>\n",
       "      <td>0</td>\n",
       "      <td>0</td>\n",
       "      <td>0</td>\n",
       "      <td>1</td>\n",
       "      <td>0</td>\n",
       "      <td>1</td>\n",
       "      <td>0</td>\n",
       "      <td>0</td>\n",
       "      <td>False</td>\n",
       "      <td>False</td>\n",
       "      <td>False</td>\n",
       "      <td>False</td>\n",
       "      <td>True</td>\n",
       "      <td>False</td>\n",
       "      <td>False</td>\n",
       "      <td>False</td>\n",
       "      <td>False</td>\n",
       "      <td>False</td>\n",
       "    </tr>\n",
       "    <tr>\n",
       "      <th>2</th>\n",
       "      <td>45440</td>\n",
       "      <td>False</td>\n",
       "      <td>0.941176</td>\n",
       "      <td>False</td>\n",
       "      <td>False</td>\n",
       "      <td>False</td>\n",
       "      <td>False</td>\n",
       "      <td>0</td>\n",
       "      <td>0</td>\n",
       "      <td>0</td>\n",
       "      <td>0</td>\n",
       "      <td>0</td>\n",
       "      <td>0</td>\n",
       "      <td>0</td>\n",
       "      <td>0</td>\n",
       "      <td>False</td>\n",
       "      <td>False</td>\n",
       "      <td>False</td>\n",
       "      <td>False</td>\n",
       "      <td>False</td>\n",
       "      <td>False</td>\n",
       "      <td>False</td>\n",
       "      <td>False</td>\n",
       "      <td>False</td>\n",
       "      <td>False</td>\n",
       "    </tr>\n",
       "    <tr>\n",
       "      <th>3</th>\n",
       "      <td>45440</td>\n",
       "      <td>False</td>\n",
       "      <td>0.941176</td>\n",
       "      <td>False</td>\n",
       "      <td>False</td>\n",
       "      <td>False</td>\n",
       "      <td>False</td>\n",
       "      <td>0</td>\n",
       "      <td>0</td>\n",
       "      <td>0</td>\n",
       "      <td>0</td>\n",
       "      <td>0</td>\n",
       "      <td>0</td>\n",
       "      <td>0</td>\n",
       "      <td>0</td>\n",
       "      <td>False</td>\n",
       "      <td>False</td>\n",
       "      <td>False</td>\n",
       "      <td>False</td>\n",
       "      <td>False</td>\n",
       "      <td>False</td>\n",
       "      <td>False</td>\n",
       "      <td>False</td>\n",
       "      <td>False</td>\n",
       "      <td>False</td>\n",
       "    </tr>\n",
       "    <tr>\n",
       "      <th>4</th>\n",
       "      <td>45440</td>\n",
       "      <td>False</td>\n",
       "      <td>0.941176</td>\n",
       "      <td>False</td>\n",
       "      <td>False</td>\n",
       "      <td>False</td>\n",
       "      <td>False</td>\n",
       "      <td>0</td>\n",
       "      <td>0</td>\n",
       "      <td>0</td>\n",
       "      <td>0</td>\n",
       "      <td>0</td>\n",
       "      <td>0</td>\n",
       "      <td>0</td>\n",
       "      <td>0</td>\n",
       "      <td>False</td>\n",
       "      <td>False</td>\n",
       "      <td>False</td>\n",
       "      <td>False</td>\n",
       "      <td>False</td>\n",
       "      <td>False</td>\n",
       "      <td>False</td>\n",
       "      <td>False</td>\n",
       "      <td>False</td>\n",
       "      <td>False</td>\n",
       "    </tr>\n",
       "  </tbody>\n",
       "</table>\n",
       "</div>"
      ],
      "text/plain": [
       "   studentId  is_proficient  proficient_score  school_High School A  \\\n",
       "0      45054          False          0.264706                  True   \n",
       "1      45054          False          0.264706                  True   \n",
       "2      45440          False          0.941176                 False   \n",
       "3      45440          False          0.941176                 False   \n",
       "4      45440          False          0.941176                 False   \n",
       "\n",
       "   school_High School B  school_High School C  school_High School D  \\\n",
       "0                 False                 False                 False   \n",
       "1                 False                 False                 False   \n",
       "2                 False                 False                 False   \n",
       "3                 False                 False                 False   \n",
       "4                 False                 False                 False   \n",
       "\n",
       "   iready_math  iready_reading  bbb_literacy  category_MATHEMATICS  \\\n",
       "0            0               0             0                     1   \n",
       "1            0               0             0                     1   \n",
       "2            0               0             0                     0   \n",
       "3            0               0             0                     0   \n",
       "4            0               0             0                     0   \n",
       "\n",
       "   category_ENGLISH  category_SCIENCE  category_SOCIAL_STUDIES  \\\n",
       "0                 0                 1                        0   \n",
       "1                 0                 1                        0   \n",
       "2                 0                 0                        0   \n",
       "3                 0                 0                        0   \n",
       "4                 0                 0                        0   \n",
       "\n",
       "   category_FOREIGN_LANGUAGE  category_PERFORMING_ARTS  category_VISUAL_ARTS  \\\n",
       "0                          0                     False                 False   \n",
       "1                          0                     False                 False   \n",
       "2                          0                     False                 False   \n",
       "3                          0                     False                 False   \n",
       "4                          0                     False                 False   \n",
       "\n",
       "   category_TECHNOLOGY  category_BUSINESS  category_TRADES  \\\n",
       "0                False              False             True   \n",
       "1                False              False             True   \n",
       "2                False              False            False   \n",
       "3                False              False            False   \n",
       "4                False              False            False   \n",
       "\n",
       "   category_AGRICULTURE  category_PHYSICAL_EDUCATION  category_HEALTH  \\\n",
       "0                 False                        False            False   \n",
       "1                 False                        False            False   \n",
       "2                 False                        False            False   \n",
       "3                 False                        False            False   \n",
       "4                 False                        False            False   \n",
       "\n",
       "   category_CAREER_PREP  category_MILITARY_SCIENCE  \n",
       "0                 False                      False  \n",
       "1                 False                      False  \n",
       "2                 False                      False  \n",
       "3                 False                      False  \n",
       "4                 False                      False  "
      ]
     },
     "execution_count": 12,
     "metadata": {},
     "output_type": "execute_result"
    }
   ],
   "source": [
    "actMath_11_encoded_df.head()"
   ]
  },
  {
   "cell_type": "code",
   "execution_count": 13,
   "metadata": {},
   "outputs": [
    {
     "data": {
      "text/plain": [
       "studentId                        int64\n",
       "is_proficient                     bool\n",
       "proficient_score               float64\n",
       "school_High School A              bool\n",
       "school_High School B              bool\n",
       "school_High School C              bool\n",
       "school_High School D              bool\n",
       "iready_math                      int64\n",
       "iready_reading                   int64\n",
       "bbb_literacy                     int64\n",
       "category_MATHEMATICS             int64\n",
       "category_ENGLISH                 int64\n",
       "category_SCIENCE                 int64\n",
       "category_SOCIAL_STUDIES          int64\n",
       "category_FOREIGN_LANGUAGE        int64\n",
       "category_PERFORMING_ARTS          bool\n",
       "category_VISUAL_ARTS              bool\n",
       "category_TECHNOLOGY               bool\n",
       "category_BUSINESS                 bool\n",
       "category_TRADES                   bool\n",
       "category_AGRICULTURE              bool\n",
       "category_PHYSICAL_EDUCATION       bool\n",
       "category_HEALTH                   bool\n",
       "category_CAREER_PREP              bool\n",
       "category_MILITARY_SCIENCE         bool\n",
       "dtype: object"
      ]
     },
     "execution_count": 13,
     "metadata": {},
     "output_type": "execute_result"
    }
   ],
   "source": [
    "actMath_11_encoded_df.dtypes"
   ]
  },
  {
   "cell_type": "code",
   "execution_count": 14,
   "metadata": {},
   "outputs": [
    {
     "name": "stdout",
     "output_type": "stream",
     "text": [
      "studentId                        int64\n",
      "is_proficient                    int32\n",
      "proficient_score               float64\n",
      "school_High School A             int32\n",
      "school_High School B             int32\n",
      "school_High School C             int32\n",
      "school_High School D             int32\n",
      "iready_math                      int64\n",
      "iready_reading                   int64\n",
      "bbb_literacy                     int64\n",
      "category_MATHEMATICS             int64\n",
      "category_ENGLISH                 int64\n",
      "category_SCIENCE                 int64\n",
      "category_SOCIAL_STUDIES          int64\n",
      "category_FOREIGN_LANGUAGE        int64\n",
      "category_PERFORMING_ARTS         int32\n",
      "category_VISUAL_ARTS             int32\n",
      "category_TECHNOLOGY              int32\n",
      "category_BUSINESS                int32\n",
      "category_TRADES                  int32\n",
      "category_AGRICULTURE             int32\n",
      "category_PHYSICAL_EDUCATION      int32\n",
      "category_HEALTH                  int32\n",
      "category_CAREER_PREP             int32\n",
      "category_MILITARY_SCIENCE        int32\n",
      "dtype: object\n"
     ]
    }
   ],
   "source": [
    "#changing every bool into intsa\n",
    "actMath_11_encoded_df[actMath_11_encoded_df.select_dtypes(include=['bool']).columns] = actMath_11_encoded_df.select_dtypes(include=['bool']).astype(int)\n",
    "print(actMath_11_encoded_df.dtypes)"
   ]
  },
  {
   "cell_type": "code",
   "execution_count": 15,
   "metadata": {},
   "outputs": [
    {
     "name": "stdout",
     "output_type": "stream",
     "text": [
      "Number of examples: 2580\n",
      "(1935, 22)\n",
      "(645, 22)\n"
     ]
    }
   ],
   "source": [
    "y = actMath_11_encoded_df['proficient_score']\n",
    "X= actMath_11_encoded_df.drop(['proficient_score', 'studentId', 'is_proficient'], axis=1)\n",
    "print(\"Number of examples: \" + str(X.shape[0]))\n",
    "X_train,X_test, y_train,y_test = train_test_split(X,y, test_size=0.25,stratify = actMath_11_encoded_df['is_proficient'],random_state=123)\n",
    "print(X_train.shape)\n",
    "print(X_test.shape)"
   ]
  },
  {
   "cell_type": "code",
   "execution_count": 16,
   "metadata": {},
   "outputs": [
    {
     "data": {
      "text/plain": [
       "Index(['school_High School A', 'school_High School B', 'school_High School C',\n",
       "       'school_High School D', 'iready_math', 'iready_reading', 'bbb_literacy',\n",
       "       'category_MATHEMATICS', 'category_ENGLISH', 'category_SCIENCE',\n",
       "       'category_SOCIAL_STUDIES', 'category_FOREIGN_LANGUAGE',\n",
       "       'category_PERFORMING_ARTS', 'category_VISUAL_ARTS',\n",
       "       'category_TECHNOLOGY', 'category_BUSINESS', 'category_TRADES',\n",
       "       'category_AGRICULTURE', 'category_PHYSICAL_EDUCATION',\n",
       "       'category_HEALTH', 'category_CAREER_PREP', 'category_MILITARY_SCIENCE'],\n",
       "      dtype='object')"
      ]
     },
     "execution_count": 16,
     "metadata": {},
     "output_type": "execute_result"
    }
   ],
   "source": [
    "X.columns"
   ]
  },
  {
   "cell_type": "code",
   "execution_count": null,
   "metadata": {},
   "outputs": [
    {
     "name": "stdout",
     "output_type": "stream",
     "text": [
      "Running Grid Search\n",
      "Done\n"
     ]
    },
    {
     "data": {
      "text/plain": [
       "{'max_depth': 12, 'min_samples_leaf': 10}"
      ]
     },
     "execution_count": 17,
     "metadata": {},
     "output_type": "execute_result"
    }
   ],
   "source": [
    "#possible hyperparameters\n",
    "max_depth_values= [8,12,25,32]\n",
    "min_samples_leaf_values = [4,5,8,10]\n",
    "param_grid = {'max_depth' : list(max_depth_values), 'min_samples_leaf' : list(min_samples_leaf_values)}\n",
    "\n",
    "\n",
    "#Grid Search to find the best hyperparameters \n",
    "print(\"Running Grid Search\")\n",
    "dt_regressorRead = DecisionTreeRegressor()\n",
    "\n",
    "# will have a 3-fold cross validation \n",
    "dt_grid = GridSearchCV(dt_regressorRead, param_grid, cv=3, scoring='neg_root_mean_squared_error')\n",
    "dt_grid_search = dt_grid.fit(X_train, y_train)\n",
    "\n",
    "print(\"Done\")\n",
    "dt_best_paramsRead = dt_grid_search.best_params_\n",
    "\n",
    "dt_best_paramsRead\n",
    "#{'max_depth': 12, 'min_samples_leaf': 10}"
   ]
  },
  {
   "cell_type": "code",
   "execution_count": 18,
   "metadata": {},
   "outputs": [
    {
     "name": "stdout",
     "output_type": "stream",
     "text": [
      "threshold= 1\n",
      "\n",
      "Classification Report:\n",
      "              precision    recall  f1-score   support\n",
      "\n",
      "       False       0.75      0.95      0.84       411\n",
      "        True       0.83      0.44      0.58       234\n",
      "\n",
      "    accuracy                           0.77       645\n",
      "   macro avg       0.79      0.70      0.71       645\n",
      "weighted avg       0.78      0.77      0.74       645\n",
      "\n",
      "[DT] Root Mean Squared Error: 0.2033324461738545\n",
      "[DT] R2: 0.22395083627777657\n"
     ]
    }
   ],
   "source": [
    "dt_model = DecisionTreeRegressor(max_depth=12, min_samples_leaf=10)\n",
    "dt_model.fit(X_train,y_train)\n",
    "\n",
    "#testing model on the X_test\n",
    "y_dt_pred = dt_model.predict(X_test)\n",
    "dt_rmse = mean_squared_error(y_test,y_dt_pred,squared=False)\n",
    "dt_r2 = r2_score(y_test,y_dt_pred)\n",
    "\n",
    "#trying to get f1 and accuracy score \n",
    "threshold = 1\n",
    "y_pred_bool = y_dt_pred >= threshold\n",
    "y_test_bool = y_test >= threshold\n",
    "\n",
    "print(\"threshold=\", threshold)\n",
    "# Print the classification report\n",
    "print(\"\\nClassification Report:\")\n",
    "print(classification_report(y_test_bool, y_pred_bool))\n",
    "\n",
    "print('[DT] Root Mean Squared Error: {0}'.format(dt_rmse))\n",
    "print('[DT] R2: {0}'.format(dt_r2))"
   ]
  },
  {
   "cell_type": "code",
   "execution_count": 19,
   "metadata": {},
   "outputs": [
    {
     "name": "stdout",
     "output_type": "stream",
     "text": [
      "Micro F1 Score: 0.7658914728682171\n"
     ]
    }
   ],
   "source": [
    "micro_f1 = f1_score(y_test_bool, y_pred_bool, average='micro')\n",
    "\n",
    "print(\"Micro F1 Score:\", micro_f1)\n"
   ]
  },
  {
   "cell_type": "code",
   "execution_count": 20,
   "metadata": {},
   "outputs": [
    {
     "name": "stdout",
     "output_type": "stream",
     "text": [
      "Confusion Matrix:\n",
      "[[390  21]\n",
      " [130 104]]\n"
     ]
    },
    {
     "data": {
      "image/png": "[encoded data removed]",
      "text/plain": [
       "<Figure size 640x480 with 2 Axes>"
      ]
     },
     "metadata": {},
     "output_type": "display_data"
    }
   ],
   "source": [
    "cm = confusion_matrix(y_test_bool, y_pred_bool)\n",
    "\n",
    "# Print the confusion matrix\n",
    "print(\"Confusion Matrix:\")\n",
    "print(cm)\n",
    "\n",
    "# Optionally, plot the confusion matrix using seaborn heatmap for better visualization\n",
    "sns.heatmap(cm, annot=True, fmt=\"d\", cmap=\"Blues\", xticklabels=[\"Not Proficient\", \"Proficient\"], yticklabels=[\"Not Proficient\", \"Proficient\"])\n",
    "plt.xlabel('Predicted')\n",
    "plt.ylabel('Actual')\n",
    "plt.title('Confusion Matrix')\n",
    "plt.show()"
   ]
  },
  {
   "cell_type": "markdown",
   "metadata": {},
   "source": [
    "Feature Importance"
   ]
  },
  {
   "cell_type": "code",
   "execution_count": 21,
   "metadata": {},
   "outputs": [
    {
     "name": "stdout",
     "output_type": "stream",
     "text": [
      "                        Feature  Importance\n",
      "8              category_ENGLISH    0.518861\n",
      "9              category_SCIENCE    0.169011\n",
      "10      category_SOCIAL_STUDIES    0.058471\n",
      "2          school_High School C    0.055545\n",
      "11    category_FOREIGN_LANGUAGE    0.031997\n",
      "18  category_PHYSICAL_EDUCATION    0.030535\n",
      "7          category_MATHEMATICS    0.029829\n",
      "17         category_AGRICULTURE    0.025789\n",
      "13         category_VISUAL_ARTS    0.013200\n",
      "16              category_TRADES    0.010887\n",
      "20         category_CAREER_PREP    0.008501\n",
      "0          school_High School A    0.008402\n",
      "12     category_PERFORMING_ARTS    0.008224\n",
      "1          school_High School B    0.005995\n",
      "21    category_MILITARY_SCIENCE    0.005838\n",
      "4                   iready_math    0.005306\n",
      "19              category_HEALTH    0.004596\n",
      "3          school_High School D    0.004443\n",
      "14          category_TECHNOLOGY    0.003790\n",
      "5                iready_reading    0.000779\n",
      "15            category_BUSINESS    0.000000\n",
      "6                  bbb_literacy    0.000000\n"
     ]
    }
   ],
   "source": [
    "importances = dt_model.feature_importances_\n",
    "feature_names = X_train.columns\n",
    "\n",
    "# Combine names and importances, and sort\n",
    "importance_df = pd.DataFrame({'Feature': feature_names, 'Importance': importances})\n",
    "importance_df= importance_df.sort_values(by='Importance', ascending=False)\n",
    "\n",
    "# Display the sorted DataFrame\n",
    "print(importance_df)"
   ]
  }
 ],
 "metadata": {
  "kernelspec": {
   "display_name": "Python 3",
   "language": "python",
   "name": "python3"
  },
  "language_info": {
   "codemirror_mode": {
    "name": "ipython",
    "version": 3
   },
   "file_extension": ".py",
   "mimetype": "text/x-python",
   "name": "python",
   "nbconvert_exporter": "python",
   "pygments_lexer": "ipython3",
   "version": "3.11.3"
  }
 },
 "nbformat": 4,
 "nbformat_minor": 2
}
