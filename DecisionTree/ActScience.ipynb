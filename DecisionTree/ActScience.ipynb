{
 "cells": [
  {
   "cell_type": "code",
   "execution_count": 1,
   "metadata": {},
   "outputs": [],
   "source": [
    "import pandas as pd\n",
    "import numpy as np\n",
    "import matplotlib.pyplot as plt\n",
    "import seaborn as sns\n",
    "import os\n",
    "\n",
    "from sklearn.model_selection import train_test_split, cross_val_score, GridSearchCV\n",
    "from sklearn.tree import DecisionTreeRegressor\n",
    "from sklearn.metrics import mean_squared_error, mean_absolute_error, r2_score, classification_report, confusion_matrix, f1_score\n",
    "from sklearn.decomposition import PCA\n",
    "from sklearn.preprocessing import StandardScaler"
   ]
  },
  {
   "cell_type": "code",
   "execution_count": 2,
   "metadata": {},
   "outputs": [],
   "source": [
    "actScience_11_df = pd.read_csv('../dataframes/actScience_11.csv')"
   ]
  },
  {
   "cell_type": "code",
   "execution_count": 3,
   "metadata": {},
   "outputs": [
    {
     "data": {
      "text/html": [
       "<div>\n",
       "<style scoped>\n",
       "    .dataframe tbody tr th:only-of-type {\n",
       "        vertical-align: middle;\n",
       "    }\n",
       "\n",
       "    .dataframe tbody tr th {\n",
       "        vertical-align: top;\n",
       "    }\n",
       "\n",
       "    .dataframe thead th {\n",
       "        text-align: right;\n",
       "    }\n",
       "</style>\n",
       "<table border=\"1\" class=\"dataframe\">\n",
       "  <thead>\n",
       "    <tr style=\"text-align: right;\">\n",
       "      <th></th>\n",
       "      <th>studentId</th>\n",
       "      <th>is_proficient</th>\n",
       "      <th>proficient_score</th>\n",
       "      <th>course_ACT Review</th>\n",
       "      <th>course_ACT/WK Rev.</th>\n",
       "      <th>course_ACTReview.5C</th>\n",
       "      <th>course_AG Communica</th>\n",
       "      <th>course_AIDE-ELEM</th>\n",
       "      <th>course_AIDE-LIB</th>\n",
       "      <th>course_ALG I B ACCE</th>\n",
       "      <th>...</th>\n",
       "      <th>course_YearbkII9-12</th>\n",
       "      <th>course_Yearbook9-12</th>\n",
       "      <th>course_YrbkIII9-12</th>\n",
       "      <th>school_High School A</th>\n",
       "      <th>school_High School B</th>\n",
       "      <th>school_High School C</th>\n",
       "      <th>school_High School D</th>\n",
       "      <th>iready_math</th>\n",
       "      <th>iready_reading</th>\n",
       "      <th>bbb_literacy</th>\n",
       "    </tr>\n",
       "  </thead>\n",
       "  <tbody>\n",
       "    <tr>\n",
       "      <th>0</th>\n",
       "      <td>45054</td>\n",
       "      <td>False</td>\n",
       "      <td>0.027778</td>\n",
       "      <td>False</td>\n",
       "      <td>False</td>\n",
       "      <td>False</td>\n",
       "      <td>False</td>\n",
       "      <td>False</td>\n",
       "      <td>False</td>\n",
       "      <td>False</td>\n",
       "      <td>...</td>\n",
       "      <td>False</td>\n",
       "      <td>False</td>\n",
       "      <td>False</td>\n",
       "      <td>True</td>\n",
       "      <td>False</td>\n",
       "      <td>False</td>\n",
       "      <td>False</td>\n",
       "      <td>0</td>\n",
       "      <td>0</td>\n",
       "      <td>0</td>\n",
       "    </tr>\n",
       "    <tr>\n",
       "      <th>1</th>\n",
       "      <td>45054</td>\n",
       "      <td>False</td>\n",
       "      <td>0.027778</td>\n",
       "      <td>False</td>\n",
       "      <td>False</td>\n",
       "      <td>False</td>\n",
       "      <td>False</td>\n",
       "      <td>False</td>\n",
       "      <td>False</td>\n",
       "      <td>False</td>\n",
       "      <td>...</td>\n",
       "      <td>False</td>\n",
       "      <td>False</td>\n",
       "      <td>False</td>\n",
       "      <td>True</td>\n",
       "      <td>False</td>\n",
       "      <td>False</td>\n",
       "      <td>False</td>\n",
       "      <td>0</td>\n",
       "      <td>0</td>\n",
       "      <td>0</td>\n",
       "    </tr>\n",
       "    <tr>\n",
       "      <th>2</th>\n",
       "      <td>45440</td>\n",
       "      <td>False</td>\n",
       "      <td>0.666667</td>\n",
       "      <td>False</td>\n",
       "      <td>False</td>\n",
       "      <td>False</td>\n",
       "      <td>False</td>\n",
       "      <td>False</td>\n",
       "      <td>False</td>\n",
       "      <td>False</td>\n",
       "      <td>...</td>\n",
       "      <td>False</td>\n",
       "      <td>False</td>\n",
       "      <td>False</td>\n",
       "      <td>False</td>\n",
       "      <td>False</td>\n",
       "      <td>False</td>\n",
       "      <td>False</td>\n",
       "      <td>0</td>\n",
       "      <td>0</td>\n",
       "      <td>0</td>\n",
       "    </tr>\n",
       "    <tr>\n",
       "      <th>3</th>\n",
       "      <td>45440</td>\n",
       "      <td>False</td>\n",
       "      <td>0.666667</td>\n",
       "      <td>False</td>\n",
       "      <td>False</td>\n",
       "      <td>False</td>\n",
       "      <td>False</td>\n",
       "      <td>False</td>\n",
       "      <td>False</td>\n",
       "      <td>False</td>\n",
       "      <td>...</td>\n",
       "      <td>False</td>\n",
       "      <td>False</td>\n",
       "      <td>False</td>\n",
       "      <td>False</td>\n",
       "      <td>False</td>\n",
       "      <td>False</td>\n",
       "      <td>False</td>\n",
       "      <td>0</td>\n",
       "      <td>0</td>\n",
       "      <td>0</td>\n",
       "    </tr>\n",
       "    <tr>\n",
       "      <th>4</th>\n",
       "      <td>45440</td>\n",
       "      <td>False</td>\n",
       "      <td>0.666667</td>\n",
       "      <td>False</td>\n",
       "      <td>False</td>\n",
       "      <td>False</td>\n",
       "      <td>False</td>\n",
       "      <td>False</td>\n",
       "      <td>False</td>\n",
       "      <td>False</td>\n",
       "      <td>...</td>\n",
       "      <td>False</td>\n",
       "      <td>False</td>\n",
       "      <td>False</td>\n",
       "      <td>False</td>\n",
       "      <td>False</td>\n",
       "      <td>False</td>\n",
       "      <td>False</td>\n",
       "      <td>0</td>\n",
       "      <td>0</td>\n",
       "      <td>0</td>\n",
       "    </tr>\n",
       "    <tr>\n",
       "      <th>5</th>\n",
       "      <td>45440</td>\n",
       "      <td>False</td>\n",
       "      <td>0.666667</td>\n",
       "      <td>False</td>\n",
       "      <td>False</td>\n",
       "      <td>False</td>\n",
       "      <td>False</td>\n",
       "      <td>False</td>\n",
       "      <td>False</td>\n",
       "      <td>False</td>\n",
       "      <td>...</td>\n",
       "      <td>False</td>\n",
       "      <td>False</td>\n",
       "      <td>False</td>\n",
       "      <td>False</td>\n",
       "      <td>False</td>\n",
       "      <td>False</td>\n",
       "      <td>False</td>\n",
       "      <td>0</td>\n",
       "      <td>0</td>\n",
       "      <td>0</td>\n",
       "    </tr>\n",
       "    <tr>\n",
       "      <th>6</th>\n",
       "      <td>45440</td>\n",
       "      <td>False</td>\n",
       "      <td>0.666667</td>\n",
       "      <td>False</td>\n",
       "      <td>False</td>\n",
       "      <td>False</td>\n",
       "      <td>False</td>\n",
       "      <td>False</td>\n",
       "      <td>False</td>\n",
       "      <td>False</td>\n",
       "      <td>...</td>\n",
       "      <td>False</td>\n",
       "      <td>False</td>\n",
       "      <td>False</td>\n",
       "      <td>False</td>\n",
       "      <td>False</td>\n",
       "      <td>False</td>\n",
       "      <td>False</td>\n",
       "      <td>0</td>\n",
       "      <td>0</td>\n",
       "      <td>0</td>\n",
       "    </tr>\n",
       "    <tr>\n",
       "      <th>7</th>\n",
       "      <td>45953</td>\n",
       "      <td>True</td>\n",
       "      <td>1.111111</td>\n",
       "      <td>False</td>\n",
       "      <td>False</td>\n",
       "      <td>False</td>\n",
       "      <td>False</td>\n",
       "      <td>False</td>\n",
       "      <td>False</td>\n",
       "      <td>False</td>\n",
       "      <td>...</td>\n",
       "      <td>False</td>\n",
       "      <td>False</td>\n",
       "      <td>False</td>\n",
       "      <td>False</td>\n",
       "      <td>False</td>\n",
       "      <td>False</td>\n",
       "      <td>False</td>\n",
       "      <td>0</td>\n",
       "      <td>0</td>\n",
       "      <td>0</td>\n",
       "    </tr>\n",
       "    <tr>\n",
       "      <th>8</th>\n",
       "      <td>46042</td>\n",
       "      <td>True</td>\n",
       "      <td>1.000000</td>\n",
       "      <td>False</td>\n",
       "      <td>False</td>\n",
       "      <td>False</td>\n",
       "      <td>False</td>\n",
       "      <td>False</td>\n",
       "      <td>False</td>\n",
       "      <td>False</td>\n",
       "      <td>...</td>\n",
       "      <td>False</td>\n",
       "      <td>False</td>\n",
       "      <td>False</td>\n",
       "      <td>True</td>\n",
       "      <td>False</td>\n",
       "      <td>False</td>\n",
       "      <td>False</td>\n",
       "      <td>0</td>\n",
       "      <td>0</td>\n",
       "      <td>0</td>\n",
       "    </tr>\n",
       "    <tr>\n",
       "      <th>9</th>\n",
       "      <td>46042</td>\n",
       "      <td>True</td>\n",
       "      <td>1.000000</td>\n",
       "      <td>False</td>\n",
       "      <td>False</td>\n",
       "      <td>False</td>\n",
       "      <td>False</td>\n",
       "      <td>False</td>\n",
       "      <td>False</td>\n",
       "      <td>False</td>\n",
       "      <td>...</td>\n",
       "      <td>False</td>\n",
       "      <td>False</td>\n",
       "      <td>False</td>\n",
       "      <td>True</td>\n",
       "      <td>False</td>\n",
       "      <td>False</td>\n",
       "      <td>False</td>\n",
       "      <td>0</td>\n",
       "      <td>0</td>\n",
       "      <td>0</td>\n",
       "    </tr>\n",
       "  </tbody>\n",
       "</table>\n",
       "<p>10 rows × 241 columns</p>\n",
       "</div>"
      ],
      "text/plain": [
       "   studentId  is_proficient  proficient_score  course_ACT Review  \\\n",
       "0      45054          False          0.027778              False   \n",
       "1      45054          False          0.027778              False   \n",
       "2      45440          False          0.666667              False   \n",
       "3      45440          False          0.666667              False   \n",
       "4      45440          False          0.666667              False   \n",
       "5      45440          False          0.666667              False   \n",
       "6      45440          False          0.666667              False   \n",
       "7      45953           True          1.111111              False   \n",
       "8      46042           True          1.000000              False   \n",
       "9      46042           True          1.000000              False   \n",
       "\n",
       "   course_ACT/WK Rev.  course_ACTReview.5C  course_AG Communica  \\\n",
       "0               False                False                False   \n",
       "1               False                False                False   \n",
       "2               False                False                False   \n",
       "3               False                False                False   \n",
       "4               False                False                False   \n",
       "5               False                False                False   \n",
       "6               False                False                False   \n",
       "7               False                False                False   \n",
       "8               False                False                False   \n",
       "9               False                False                False   \n",
       "\n",
       "   course_AIDE-ELEM  course_AIDE-LIB  course_ALG I B ACCE  ...  \\\n",
       "0             False            False                False  ...   \n",
       "1             False            False                False  ...   \n",
       "2             False            False                False  ...   \n",
       "3             False            False                False  ...   \n",
       "4             False            False                False  ...   \n",
       "5             False            False                False  ...   \n",
       "6             False            False                False  ...   \n",
       "7             False            False                False  ...   \n",
       "8             False            False                False  ...   \n",
       "9             False            False                False  ...   \n",
       "\n",
       "   course_YearbkII9-12  course_Yearbook9-12  course_YrbkIII9-12  \\\n",
       "0                False                False               False   \n",
       "1                False                False               False   \n",
       "2                False                False               False   \n",
       "3                False                False               False   \n",
       "4                False                False               False   \n",
       "5                False                False               False   \n",
       "6                False                False               False   \n",
       "7                False                False               False   \n",
       "8                False                False               False   \n",
       "9                False                False               False   \n",
       "\n",
       "   school_High School A  school_High School B  school_High School C  \\\n",
       "0                  True                 False                 False   \n",
       "1                  True                 False                 False   \n",
       "2                 False                 False                 False   \n",
       "3                 False                 False                 False   \n",
       "4                 False                 False                 False   \n",
       "5                 False                 False                 False   \n",
       "6                 False                 False                 False   \n",
       "7                 False                 False                 False   \n",
       "8                  True                 False                 False   \n",
       "9                  True                 False                 False   \n",
       "\n",
       "   school_High School D  iready_math  iready_reading  bbb_literacy  \n",
       "0                 False            0               0             0  \n",
       "1                 False            0               0             0  \n",
       "2                 False            0               0             0  \n",
       "3                 False            0               0             0  \n",
       "4                 False            0               0             0  \n",
       "5                 False            0               0             0  \n",
       "6                 False            0               0             0  \n",
       "7                 False            0               0             0  \n",
       "8                 False            0               0             0  \n",
       "9                 False            0               0             0  \n",
       "\n",
       "[10 rows x 241 columns]"
      ]
     },
     "execution_count": 3,
     "metadata": {},
     "output_type": "execute_result"
    }
   ],
   "source": [
    "actScience_11_df.head(10)"
   ]
  },
  {
   "cell_type": "markdown",
   "metadata": {},
   "source": [
    "Trying PCA"
   ]
  },
  {
   "cell_type": "code",
   "execution_count": 4,
   "metadata": {},
   "outputs": [
    {
     "name": "stdout",
     "output_type": "stream",
     "text": [
      "Number of components needed: 107\n",
      "Cumulative explained variance: 0.800801047343418\n"
     ]
    }
   ],
   "source": [
    "from sklearn.preprocessing import StandardScaler\n",
    "from sklearn.decomposition import PCA\n",
    "\n",
    "# Initialize scaler and scale the features\n",
    "scaler = StandardScaler()\n",
    "X_scaled = scaler.fit_transform(actScience_11_df.drop(['proficient_score', 'studentId', 'is_proficient'], axis=1))\n",
    "\n",
    "# Perform PCA\n",
    "pca = PCA()  # Initialize PCA without specifying components\n",
    "pca.fit(X_scaled)\n",
    "\n",
    "# Explained variance ratios\n",
    "explained_variance_ratio = pca.explained_variance_ratio_\n",
    "cumulative_sum = 0\n",
    "components = 0\n",
    "\n",
    "for variance in explained_variance_ratio:\n",
    "    cumulative_sum += variance\n",
    "    components += 1\n",
    "    if cumulative_sum >= 0.80:  # Adjust to your threshold (80%)\n",
    "        break\n",
    "\n",
    "print(f\"Number of components needed: {components}\")\n",
    "print(f\"Cumulative explained variance: {cumulative_sum}\")\n",
    "\n"
   ]
  },
  {
   "cell_type": "code",
   "execution_count": 5,
   "metadata": {},
   "outputs": [
    {
     "data": {
      "image/png": "[encoded data removed]",
      "text/plain": [
       "<Figure size 1000x600 with 1 Axes>"
      ]
     },
     "metadata": {},
     "output_type": "display_data"
    },
    {
     "name": "stdout",
     "output_type": "stream",
     "text": [
      "Number of components needed: 107\n"
     ]
    }
   ],
   "source": [
    "pca = PCA()  # Initialize PCA without specifying components\n",
    "pca.fit(X_scaled)\n",
    "\n",
    "# Explained variance ratios\n",
    "explained_variance_ratio = pca.explained_variance_ratio_\n",
    "cumulative_variance = np.cumsum(explained_variance_ratio)\n",
    "\n",
    "# Plotting the explained variance\n",
    "plt.figure(figsize=(10, 6))\n",
    "plt.plot(range(1, len(explained_variance_ratio) + 1), cumulative_variance, marker='o', label='Cumulative Explained Variance')\n",
    "plt.axhline(y=0.85, color='r', linestyle='--', label='80% Variance Threshold')\n",
    "plt.title('Explained Variance by PCA Components')\n",
    "plt.xlabel('Number of Components')\n",
    "plt.ylabel('Cumulative Explained Variance')\n",
    "plt.xticks(range(1, len(explained_variance_ratio) + 1))\n",
    "plt.legend()\n",
    "plt.grid()\n",
    "plt.show()\n",
    "\n",
    "# Calculate the number of components needed to explain at least 80% variance\n",
    "components = np.argmax(cumulative_variance >= 0.80) + 1  # Add 1 to get the count of components\n",
    "print(f\"Number of components needed: {components}\")"
   ]
  },
  {
   "cell_type": "code",
   "execution_count": 6,
   "metadata": {},
   "outputs": [],
   "source": [
    "X_pca = pca.transform(X_scaled)\n",
    "X_pca_df = pd.DataFrame(X_pca, columns=[f'PC{i+1}' for i in range(X_pca.shape[1])])\n",
    "first_108_pcs_df = X_pca_df.iloc[:, :108].copy()\n",
    "#first_108_pcs_df\n"
   ]
  },
  {
   "cell_type": "code",
   "execution_count": 7,
   "metadata": {},
   "outputs": [
    {
     "name": "stdout",
     "output_type": "stream",
     "text": [
      "(238, 238)\n",
      "Index(['studentId', 'is_proficient', 'proficient_score', 'course_ACT Review',\n",
      "       'course_ACT/WK Rev.', 'course_ACTReview.5C', 'course_AG Communica',\n",
      "       'course_AIDE-ELEM', 'course_AIDE-LIB', 'course_ALG I B ACCE',\n",
      "       ...\n",
      "       'course_YearbkII9-12', 'course_Yearbook9-12', 'course_YrbkIII9-12',\n",
      "       'school_High School A', 'school_High School B', 'school_High School C',\n",
      "       'school_High School D', 'iready_math', 'iready_reading',\n",
      "       'bbb_literacy'],\n",
      "      dtype='object', length=241)\n"
     ]
    }
   ],
   "source": [
    "print(pca.components_.shape)\n",
    "print(actScience_11_df.columns)\n",
    "\n",
    "cols_drop = ['studentId', 'is_proficient', 'proficient_score']\n",
    "columns_to_drop = [col for col in cols_drop if col in actScience_11_df.columns]\n",
    "feature_names = actScience_11_df.drop(columns=columns_to_drop).columns"
   ]
  },
  {
   "cell_type": "code",
   "execution_count": 8,
   "metadata": {},
   "outputs": [
    {
     "name": "stdout",
     "output_type": "stream",
     "text": [
      "    Principal Component           Top Feature\n",
      "0                   PC1    course_HEALTH 9-12\n",
      "1                   PC1     course_DRIVERS ED\n",
      "2                   PC1  school_High School B\n",
      "3                   PC1    course_D&TSafetyEd\n",
      "4                   PC1    course_Health 9-12\n",
      "..                  ...                   ...\n",
      "535               PC108     course_Accounting\n",
      "536               PC108   course_Food Nutritn\n",
      "537               PC108   course_AlgEnrichmet\n",
      "538               PC108    course_MARKET PRIN\n",
      "539               PC108      course_Vocal I 1\n",
      "\n",
      "[540 rows x 2 columns]\n"
     ]
    }
   ],
   "source": [
    "components = pca.components_[:108]  \n",
    "# Create a DataFrame for feature loadings\n",
    "# Rows correspond to features, and columns correspond to principal components\n",
    "feature_loadings_df = pd.DataFrame(\n",
    "    components.T,  # Transpose to match features as rows\n",
    "    columns=[f'PC{i+1}' for i in range(components.shape[0])],  # PC1, PC2, ..., PC108\n",
    "    index= feature_names  # Feature names\n",
    ")\n",
    "\n",
    "# Initialize a list to store the top features across all principal components\n",
    "all_top_features = []\n",
    "\n",
    "# For each principal component, find the top features\n",
    "for pc in feature_loadings_df.columns:\n",
    "    # Get the absolute values of the loadings and sort them\n",
    "    sorted_features = feature_loadings_df[pc].abs().sort_values(ascending=False)\n",
    "    # Get the top 5 features for the current principal component (adjustable)\n",
    "    top_features = sorted_features.head(5).index.tolist()\n",
    "    # Add the component and its top features to the list\n",
    "    for feature in top_features:\n",
    "        all_top_features.append((pc, feature))\n",
    "\n",
    "# Create a DataFrame to view all top features for each principal component\n",
    "top_features_df = pd.DataFrame(all_top_features, columns=['Principal Component', 'Top Feature'])\n",
    "\n",
    "# Display the DataFrame\n",
    "print(top_features_df)"
   ]
  },
  {
   "cell_type": "code",
   "execution_count": 9,
   "metadata": {},
   "outputs": [
    {
     "data": {
      "text/html": [
       "<div>\n",
       "<style scoped>\n",
       "    .dataframe tbody tr th:only-of-type {\n",
       "        vertical-align: middle;\n",
       "    }\n",
       "\n",
       "    .dataframe tbody tr th {\n",
       "        vertical-align: top;\n",
       "    }\n",
       "\n",
       "    .dataframe thead th {\n",
       "        text-align: right;\n",
       "    }\n",
       "</style>\n",
       "<table border=\"1\" class=\"dataframe\">\n",
       "  <thead>\n",
       "    <tr style=\"text-align: right;\">\n",
       "      <th></th>\n",
       "      <th>Principal Component</th>\n",
       "      <th>Top Feature</th>\n",
       "    </tr>\n",
       "  </thead>\n",
       "  <tbody>\n",
       "    <tr>\n",
       "      <th>0</th>\n",
       "      <td>PC1</td>\n",
       "      <td>course_HEALTH 9-12</td>\n",
       "    </tr>\n",
       "    <tr>\n",
       "      <th>1</th>\n",
       "      <td>PC1</td>\n",
       "      <td>course_DRIVERS ED</td>\n",
       "    </tr>\n",
       "    <tr>\n",
       "      <th>2</th>\n",
       "      <td>PC1</td>\n",
       "      <td>school_High School B</td>\n",
       "    </tr>\n",
       "    <tr>\n",
       "      <th>3</th>\n",
       "      <td>PC1</td>\n",
       "      <td>course_D&amp;TSafetyEd</td>\n",
       "    </tr>\n",
       "    <tr>\n",
       "      <th>4</th>\n",
       "      <td>PC1</td>\n",
       "      <td>course_Health 9-12</td>\n",
       "    </tr>\n",
       "    <tr>\n",
       "      <th>5</th>\n",
       "      <td>PC2</td>\n",
       "      <td>course_Physical Sci</td>\n",
       "    </tr>\n",
       "    <tr>\n",
       "      <th>6</th>\n",
       "      <td>PC2</td>\n",
       "      <td>course_English Gr10</td>\n",
       "    </tr>\n",
       "    <tr>\n",
       "      <th>7</th>\n",
       "      <td>PC2</td>\n",
       "      <td>course_Algebra I B</td>\n",
       "    </tr>\n",
       "    <tr>\n",
       "      <th>8</th>\n",
       "      <td>PC2</td>\n",
       "      <td>course_USHis I G10</td>\n",
       "    </tr>\n",
       "    <tr>\n",
       "      <th>9</th>\n",
       "      <td>PC2</td>\n",
       "      <td>course_US His-1877</td>\n",
       "    </tr>\n",
       "    <tr>\n",
       "      <th>10</th>\n",
       "      <td>PC3</td>\n",
       "      <td>course_Eng Gr10 Adv</td>\n",
       "    </tr>\n",
       "    <tr>\n",
       "      <th>11</th>\n",
       "      <td>PC3</td>\n",
       "      <td>course_ChemistryAdv</td>\n",
       "    </tr>\n",
       "    <tr>\n",
       "      <th>12</th>\n",
       "      <td>PC3</td>\n",
       "      <td>course_USHis I Adv</td>\n",
       "    </tr>\n",
       "    <tr>\n",
       "      <th>13</th>\n",
       "      <td>PC3</td>\n",
       "      <td>course_HS US 10 ADV</td>\n",
       "    </tr>\n",
       "    <tr>\n",
       "      <th>14</th>\n",
       "      <td>PC3</td>\n",
       "      <td>course_D&amp;TSafetyEd</td>\n",
       "    </tr>\n",
       "    <tr>\n",
       "      <th>15</th>\n",
       "      <td>PC4</td>\n",
       "      <td>course_Ess II:USHis</td>\n",
       "    </tr>\n",
       "    <tr>\n",
       "      <th>16</th>\n",
       "      <td>PC4</td>\n",
       "      <td>course_Ess: Phy Sci</td>\n",
       "    </tr>\n",
       "    <tr>\n",
       "      <th>17</th>\n",
       "      <td>PC4</td>\n",
       "      <td>course_Eng Ess 10</td>\n",
       "    </tr>\n",
       "  </tbody>\n",
       "</table>\n",
       "</div>"
      ],
      "text/plain": [
       "   Principal Component           Top Feature\n",
       "0                  PC1    course_HEALTH 9-12\n",
       "1                  PC1     course_DRIVERS ED\n",
       "2                  PC1  school_High School B\n",
       "3                  PC1    course_D&TSafetyEd\n",
       "4                  PC1    course_Health 9-12\n",
       "5                  PC2   course_Physical Sci\n",
       "6                  PC2   course_English Gr10\n",
       "7                  PC2    course_Algebra I B\n",
       "8                  PC2    course_USHis I G10\n",
       "9                  PC2    course_US His-1877\n",
       "10                 PC3   course_Eng Gr10 Adv\n",
       "11                 PC3   course_ChemistryAdv\n",
       "12                 PC3    course_USHis I Adv\n",
       "13                 PC3   course_HS US 10 ADV\n",
       "14                 PC3    course_D&TSafetyEd\n",
       "15                 PC4   course_Ess II:USHis\n",
       "16                 PC4   course_Ess: Phy Sci\n",
       "17                 PC4     course_Eng Ess 10"
      ]
     },
     "execution_count": 9,
     "metadata": {},
     "output_type": "execute_result"
    }
   ],
   "source": [
    "top_features_df.head(18)"
   ]
  },
  {
   "cell_type": "code",
   "execution_count": 10,
   "metadata": {},
   "outputs": [
    {
     "data": {
      "image/png": "[encoded data removed]",
      "text/plain": [
       "<Figure size 1000x600 with 1 Axes>"
      ]
     },
     "metadata": {},
     "output_type": "display_data"
    }
   ],
   "source": [
    "# Cumulative Explained Variance\n",
    "cumulative_explained_variance = np.cumsum(explained_variance_ratio)\n",
    "plt.figure(figsize=(10, 6))\n",
    "plt.plot(range(1, len(cumulative_explained_variance) + 1), cumulative_explained_variance, marker='o', linestyle='--')\n",
    "plt.axhline(y=0.80, color='r', linestyle='--', label='80% variance explained')  # Adjust threshold as needed\n",
    "plt.title('Cumulative Explained Variance')\n",
    "plt.xlabel('Number of Principal Components')\n",
    "plt.ylabel('Cumulative Explained Variance')\n",
    "plt.legend()\n",
    "plt.grid(True)\n",
    "plt.show()"
   ]
  },
  {
   "cell_type": "markdown",
   "metadata": {},
   "source": [
    "Training"
   ]
  },
  {
   "cell_type": "code",
   "execution_count": 11,
   "metadata": {},
   "outputs": [
    {
     "name": "stdout",
     "output_type": "stream",
     "text": [
      "(2064, 108)\n"
     ]
    }
   ],
   "source": [
    "X = first_108_pcs_df  # PCA-transformed features\n",
    "y = actScience_11_df['proficient_score']\n",
    "X_train, X_test, y_train, y_test = train_test_split(X, y, test_size=0.20, random_state=123)\n",
    "print(X_train.shape)"
   ]
  },
  {
   "cell_type": "code",
   "execution_count": 12,
   "metadata": {},
   "outputs": [
    {
     "data": {
      "text/plain": [
       "'\\nmax_depth_values= [8,12,25,32]\\nmin_samples_leaf_values = [4,5,8,10]\\nparam_grid = {\\'max_depth\\' : list(max_depth_values), \\'min_samples_leaf\\' : list(min_samples_leaf_values)}\\n\\n\\n#Grid Search to find the best hyperparameters \\nprint(\"Running Grid Search\")\\ndt_regressor = DecisionTreeRegressor()\\n\\n# will have a 3-fold cross validation \\ndt_grid = GridSearchCV(dt_regressor, param_grid, cv=3, scoring=\\'neg_root_mean_squared_error\\')\\ndt_grid_search = dt_grid.fit(X_train, y_train)\\n\\nprint(\"Done\")\\ndt_best_params = dt_grid_search.best_params_\\n\\ndt_best_params\\n'"
      ]
     },
     "execution_count": 12,
     "metadata": {},
     "output_type": "execute_result"
    }
   ],
   "source": [
    "#possible hyperparameters\n",
    "'''\n",
    "max_depth_values= [8,12,25,32]\n",
    "min_samples_leaf_values = [4,5,8,10]\n",
    "param_grid = {'max_depth' : list(max_depth_values), 'min_samples_leaf' : list(min_samples_leaf_values)}\n",
    "\n",
    "\n",
    "#Grid Search to find the best hyperparameters \n",
    "print(\"Running Grid Search\")\n",
    "dt_regressor = DecisionTreeRegressor()\n",
    "\n",
    "# will have a 3-fold cross validation \n",
    "dt_grid = GridSearchCV(dt_regressor, param_grid, cv=3, scoring='neg_root_mean_squared_error')\n",
    "dt_grid_search = dt_grid.fit(X_train, y_train)\n",
    "\n",
    "print(\"Done\")\n",
    "dt_best_params = dt_grid_search.best_params_\n",
    "\n",
    "dt_best_params\n",
    "'''\n",
    "#{'max_depth': 32, 'min_samples_leaf': 8}"
   ]
  },
  {
   "cell_type": "code",
   "execution_count": 13,
   "metadata": {},
   "outputs": [
    {
     "name": "stdout",
     "output_type": "stream",
     "text": [
      "threshold= 1\n",
      "\n",
      "Classification Report:\n",
      "              precision    recall  f1-score   support\n",
      "\n",
      "       False       0.68      0.93      0.78       282\n",
      "        True       0.84      0.46      0.60       234\n",
      "\n",
      "    accuracy                           0.72       516\n",
      "   macro avg       0.76      0.70      0.69       516\n",
      "weighted avg       0.75      0.72      0.70       516\n",
      "\n",
      "[DT] Root Mean Squared Error: 0.2115857377462214\n",
      "[DT] R2: 0.34406920298911625\n"
     ]
    },
    {
     "name": "stderr",
     "output_type": "stream",
     "text": [
      "c:\\Users\\lmmag\\AppData\\Local\\Programs\\Python\\Python39\\lib\\site-packages\\sklearn\\metrics\\_regression.py:492: FutureWarning: 'squared' is deprecated in version 1.4 and will be removed in 1.6. To calculate the root mean squared error, use the function'root_mean_squared_error'.\n",
      "  warnings.warn(\n"
     ]
    }
   ],
   "source": [
    "dt_model = DecisionTreeRegressor(max_depth=32, min_samples_leaf=8)\n",
    "dt_model.fit(X_train,y_train)\n",
    "\n",
    "#testing model on the X_test\n",
    "y_dt_pred = dt_model.predict(X_test)\n",
    "dt_rmse = mean_squared_error(y_test,y_dt_pred,squared=False)\n",
    "dt_r2 = r2_score(y_test,y_dt_pred)\n",
    "\n",
    "#trying to get f1 and accuracy score \n",
    "threshold = 1\n",
    "y_pred_bool = y_dt_pred >= threshold\n",
    "y_test_bool = y_test >= threshold\n",
    "\n",
    "print(\"threshold=\", threshold)\n",
    "# Print the classification report\n",
    "print(\"\\nClassification Report:\")\n",
    "print(classification_report(y_test_bool, y_pred_bool))\n",
    "\n",
    "print('[DT] Root Mean Squared Error: {0}'.format(dt_rmse))\n",
    "print('[DT] R2: {0}'.format(dt_r2))"
   ]
  },
  {
   "cell_type": "code",
   "execution_count": 14,
   "metadata": {},
   "outputs": [
    {
     "name": "stdout",
     "output_type": "stream",
     "text": [
      "Micro F1 Score: 0.7170542635658915\n"
     ]
    }
   ],
   "source": [
    "micro_f1 = f1_score(y_test_bool, y_pred_bool, average='micro')\n",
    "\n",
    "print(\"Micro F1 Score:\", micro_f1)"
   ]
  },
  {
   "cell_type": "markdown",
   "metadata": {},
   "source": [
    "no PCA"
   ]
  },
  {
   "cell_type": "code",
   "execution_count": 15,
   "metadata": {},
   "outputs": [
    {
     "name": "stdout",
     "output_type": "stream",
     "text": [
      "studentId                 int64\n",
      "is_proficient              bool\n",
      "proficient_score        float64\n",
      "course_ACT Review          bool\n",
      "course_ACT/WK Rev.         bool\n",
      "                         ...   \n",
      "school_High School C       bool\n",
      "school_High School D       bool\n",
      "iready_math               int64\n",
      "iready_reading            int64\n",
      "bbb_literacy              int64\n",
      "Length: 241, dtype: object\n"
     ]
    }
   ],
   "source": [
    "print(actScience_11_df.dtypes)"
   ]
  },
  {
   "cell_type": "code",
   "execution_count": 16,
   "metadata": {},
   "outputs": [
    {
     "data": {
      "text/plain": [
       "studentId                 int64\n",
       "is_proficient             int64\n",
       "proficient_score        float64\n",
       "course_ACT Review         int64\n",
       "course_ACT/WK Rev.        int64\n",
       "                         ...   \n",
       "school_High School C      int64\n",
       "school_High School D      int64\n",
       "iready_math               int64\n",
       "iready_reading            int64\n",
       "bbb_literacy              int64\n",
       "Length: 241, dtype: object"
      ]
     },
     "execution_count": 16,
     "metadata": {},
     "output_type": "execute_result"
    }
   ],
   "source": [
    "#changing all bools to ints 0 and 1 for the model\n",
    "actScience_11_df[actScience_11_df.select_dtypes(include=['bool']).columns] = actScience_11_df.select_dtypes(include=['bool']).astype(int)\n",
    "actScience_11_df.dtypes"
   ]
  },
  {
   "cell_type": "markdown",
   "metadata": {},
   "source": [
    "Training"
   ]
  },
  {
   "cell_type": "code",
   "execution_count": 17,
   "metadata": {},
   "outputs": [
    {
     "name": "stdout",
     "output_type": "stream",
     "text": [
      "Number of examples: 2580\n",
      "(2064, 238)\n",
      "(516, 238)\n"
     ]
    }
   ],
   "source": [
    "#Create Training and Test Data\n",
    "y_Science = actScience_11_df['proficient_score']\n",
    "X_Science= actScience_11_df.drop(['proficient_score','is_proficient', 'studentId'], axis=1)\n",
    "print(\"Number of examples: \" + str(X_Science.shape[0]))\n",
    "\n",
    "X_train_Science,X_test_Science, y_train_Science,y_test_Science = train_test_split(X_Science,y_Science, test_size=0.20,stratify = actScience_11_df['is_proficient'],random_state=123)\n",
    "print(X_train_Science.shape)\n",
    "print(X_test_Science.shape)\n",
    "\n",
    "#possible hyperparameters\n",
    "max_depth_values_Science = [8,12,25,32]\n",
    "min_samples_leaf_values_Science = [4,5,8,10]\n",
    "param_grid_Science = {'max_depth' : list(max_depth_values_Science), 'min_samples_leaf' : list(min_samples_leaf_values_Science)}"
   ]
  },
  {
   "cell_type": "code",
   "execution_count": 18,
   "metadata": {},
   "outputs": [
    {
     "name": "stdout",
     "output_type": "stream",
     "text": [
      "Running Grid Search\n",
      "Done\n"
     ]
    },
    {
     "data": {
      "text/plain": [
       "{'max_depth': 12, 'min_samples_leaf': 4}"
      ]
     },
     "execution_count": 18,
     "metadata": {},
     "output_type": "execute_result"
    }
   ],
   "source": [
    "#Grid Search to find the best hyperparameters \n",
    "print(\"Running Grid Search\")\n",
    "dt_regressorRead = DecisionTreeRegressor()\n",
    "\n",
    "# will have a 3-fold cross validation \n",
    "dt_grid_Science= GridSearchCV(dt_regressorRead, param_grid_Science, cv=3, scoring='neg_root_mean_squared_error')\n",
    "dt_grid_search_Science = dt_grid_Science.fit(X_train_Science, y_train_Science)\n",
    "\n",
    "print(\"Done\")\n",
    "dt_best_params_Science = dt_grid_search_Science.best_params_\n",
    "\n",
    "dt_best_params_Science\n",
    "#{'max_depth': 12, 'min_samples_leaf': 4}"
   ]
  },
  {
   "cell_type": "markdown",
   "metadata": {},
   "source": [
    "Metrics"
   ]
  },
  {
   "cell_type": "code",
   "execution_count": 19,
   "metadata": {},
   "outputs": [
    {
     "name": "stdout",
     "output_type": "stream",
     "text": [
      "threshold= 1\n",
      "\n",
      "Classification Report:\n",
      "              precision    recall  f1-score   support\n",
      "\n",
      "       False       0.66      0.92      0.77       293\n",
      "        True       0.78      0.39      0.52       223\n",
      "\n",
      "    accuracy                           0.69       516\n",
      "   macro avg       0.72      0.65      0.64       516\n",
      "weighted avg       0.71      0.69      0.66       516\n",
      "\n",
      "[DT] Root Mean Squared Error: 0.2264760557592268\n",
      "[DT] R2: 0.27986608469888685\n"
     ]
    },
    {
     "name": "stderr",
     "output_type": "stream",
     "text": [
      "c:\\Users\\lmmag\\AppData\\Local\\Programs\\Python\\Python39\\lib\\site-packages\\sklearn\\metrics\\_regression.py:492: FutureWarning: 'squared' is deprecated in version 1.4 and will be removed in 1.6. To calculate the root mean squared error, use the function'root_mean_squared_error'.\n",
      "  warnings.warn(\n"
     ]
    }
   ],
   "source": [
    "dt_model_Science= DecisionTreeRegressor(max_depth=12, min_samples_leaf=4)\n",
    "dt_model_Science.fit(X_train_Science,y_train_Science)\n",
    "\n",
    "#testing model on the X_test\n",
    "y_dt_pred_Science = dt_model_Science.predict(X_test_Science)\n",
    "dt_rmse_Science = mean_squared_error(y_test_Science,y_dt_pred_Science,squared=False)\n",
    "dt_r2_Science = r2_score(y_test_Science,y_dt_pred_Science)\n",
    "\n",
    "#trying to get f1 and accuracy score \n",
    "threshold = 1\n",
    "y_pred_Science_bool = y_dt_pred_Science >= threshold\n",
    "y_test_Science_bool = y_test_Science>= threshold\n",
    "\n",
    "print(\"threshold=\", threshold)\n",
    "# Print the classification report\n",
    "print(\"\\nClassification Report:\")\n",
    "print(classification_report(y_test_Science_bool, y_pred_Science_bool))\n",
    "\n",
    "print('[DT] Root Mean Squared Error: {0}'.format(dt_rmse_Science))\n",
    "print('[DT] R2: {0}'.format(dt_r2_Science))"
   ]
  },
  {
   "cell_type": "code",
   "execution_count": 20,
   "metadata": {},
   "outputs": [
    {
     "name": "stdout",
     "output_type": "stream",
     "text": [
      "Micro F1 Score: 0.687984496124031\n"
     ]
    }
   ],
   "source": [
    "#looking at the micro score\n",
    "micro_f1_2 = f1_score(y_test_Science_bool, y_pred_Science_bool, average='micro')\n",
    "\n",
    "print(\"Micro F1 Score:\", micro_f1_2)"
   ]
  },
  {
   "cell_type": "markdown",
   "metadata": {},
   "source": [
    "Feature Importance"
   ]
  },
  {
   "cell_type": "code",
   "execution_count": 21,
   "metadata": {},
   "outputs": [
    {
     "name": "stdout",
     "output_type": "stream",
     "text": [
      "                  Feature  Importance\n",
      "58    course_ChemistryAdv    0.414116\n",
      "84      course_Enviro Sci    0.097023\n",
      "29     course_Algebra I B    0.055305\n",
      "40    course_BandConcer.5    0.041733\n",
      "23    course_Alg Esntls B    0.027396\n",
      "..                    ...         ...\n",
      "230    course_YrbkIII9-12    0.000000\n",
      "233  school_High School C    0.000000\n",
      "232  school_High School B    0.000000\n",
      "231  school_High School A    0.000000\n",
      "237          bbb_literacy    0.000000\n",
      "\n",
      "[238 rows x 2 columns]\n"
     ]
    }
   ],
   "source": [
    "importances = dt_model_Science.feature_importances_\n",
    "feature_names = X_train_Science.columns\n",
    "\n",
    "# Combine names and importances, and sort\n",
    "importance_df_Science = pd.DataFrame({'Feature': feature_names, 'Importance': importances})\n",
    "importance_df_Science= importance_df_Science.sort_values(by='Importance', ascending=False)\n",
    "\n",
    "# Display the sorted DataFrame\n",
    "print(importance_df_Science)"
   ]
  },
  {
   "cell_type": "code",
   "execution_count": 22,
   "metadata": {},
   "outputs": [
    {
     "data": {
      "text/html": [
       "<div>\n",
       "<style scoped>\n",
       "    .dataframe tbody tr th:only-of-type {\n",
       "        vertical-align: middle;\n",
       "    }\n",
       "\n",
       "    .dataframe tbody tr th {\n",
       "        vertical-align: top;\n",
       "    }\n",
       "\n",
       "    .dataframe thead th {\n",
       "        text-align: right;\n",
       "    }\n",
       "</style>\n",
       "<table border=\"1\" class=\"dataframe\">\n",
       "  <thead>\n",
       "    <tr style=\"text-align: right;\">\n",
       "      <th></th>\n",
       "      <th>Feature</th>\n",
       "      <th>Importance</th>\n",
       "    </tr>\n",
       "  </thead>\n",
       "  <tbody>\n",
       "    <tr>\n",
       "      <th>58</th>\n",
       "      <td>course_ChemistryAdv</td>\n",
       "      <td>0.414116</td>\n",
       "    </tr>\n",
       "    <tr>\n",
       "      <th>84</th>\n",
       "      <td>course_Enviro Sci</td>\n",
       "      <td>0.097023</td>\n",
       "    </tr>\n",
       "    <tr>\n",
       "      <th>29</th>\n",
       "      <td>course_Algebra I B</td>\n",
       "      <td>0.055305</td>\n",
       "    </tr>\n",
       "    <tr>\n",
       "      <th>40</th>\n",
       "      <td>course_BandConcer.5</td>\n",
       "      <td>0.041733</td>\n",
       "    </tr>\n",
       "    <tr>\n",
       "      <th>23</th>\n",
       "      <td>course_Alg Esntls B</td>\n",
       "      <td>0.027396</td>\n",
       "    </tr>\n",
       "    <tr>\n",
       "      <th>156</th>\n",
       "      <td>course_Phy Sci Adv</td>\n",
       "      <td>0.024391</td>\n",
       "    </tr>\n",
       "    <tr>\n",
       "      <th>76</th>\n",
       "      <td>course_Eng Gr10 Adv</td>\n",
       "      <td>0.023094</td>\n",
       "    </tr>\n",
       "    <tr>\n",
       "      <th>208</th>\n",
       "      <td>course_VarFBI</td>\n",
       "      <td>0.021303</td>\n",
       "    </tr>\n",
       "    <tr>\n",
       "      <th>123</th>\n",
       "      <td>course_Intermed Agr</td>\n",
       "      <td>0.021121</td>\n",
       "    </tr>\n",
       "    <tr>\n",
       "      <th>198</th>\n",
       "      <td>course_USHis I Adv</td>\n",
       "      <td>0.018834</td>\n",
       "    </tr>\n",
       "  </tbody>\n",
       "</table>\n",
       "</div>"
      ],
      "text/plain": [
       "                 Feature  Importance\n",
       "58   course_ChemistryAdv    0.414116\n",
       "84     course_Enviro Sci    0.097023\n",
       "29    course_Algebra I B    0.055305\n",
       "40   course_BandConcer.5    0.041733\n",
       "23   course_Alg Esntls B    0.027396\n",
       "156   course_Phy Sci Adv    0.024391\n",
       "76   course_Eng Gr10 Adv    0.023094\n",
       "208        course_VarFBI    0.021303\n",
       "123  course_Intermed Agr    0.021121\n",
       "198   course_USHis I Adv    0.018834"
      ]
     },
     "execution_count": 22,
     "metadata": {},
     "output_type": "execute_result"
    }
   ],
   "source": [
    "importance_df_Science.head(10)"
   ]
  },
  {
   "cell_type": "markdown",
   "metadata": {},
   "source": [
    "SHAP"
   ]
  }
 ],
 "metadata": {
  "kernelspec": {
   "display_name": "Python 3",
   "language": "python",
   "name": "python3"
  },
  "language_info": {
   "codemirror_mode": {
    "name": "ipython",
    "version": 3
   },
   "file_extension": ".py",
   "mimetype": "text/x-python",
   "name": "python",
   "nbconvert_exporter": "python",
   "pygments_lexer": "ipython3",
   "version": "3.9.0"
  }
 },
 "nbformat": 4,
 "nbformat_minor": 2
}
